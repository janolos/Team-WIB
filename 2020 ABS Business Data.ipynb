{
 "cells": [
  {
   "cell_type": "code",
   "execution_count": 1,
   "id": "329eaec0",
   "metadata": {},
   "outputs": [],
   "source": [
    "import pandas as pd\n",
    "import numpy as np"
   ]
  },
  {
   "cell_type": "code",
   "execution_count": 37,
   "id": "7cb31700",
   "metadata": {},
   "outputs": [],
   "source": [
    "WBiz2020 = pd.read_csv('2020-2019 Census Business Data.csv')"
   ]
  },
  {
   "cell_type": "code",
   "execution_count": 38,
   "id": "c7cf79ad",
   "metadata": {},
   "outputs": [
    {
     "data": {
      "text/html": [
       "<div>\n",
       "<style scoped>\n",
       "    .dataframe tbody tr th:only-of-type {\n",
       "        vertical-align: middle;\n",
       "    }\n",
       "\n",
       "    .dataframe tbody tr th {\n",
       "        vertical-align: top;\n",
       "    }\n",
       "\n",
       "    .dataframe thead th {\n",
       "        text-align: right;\n",
       "    }\n",
       "</style>\n",
       "<table border=\"1\" class=\"dataframe\">\n",
       "  <thead>\n",
       "    <tr style=\"text-align: right;\">\n",
       "      <th></th>\n",
       "      <th>GEO_ID</th>\n",
       "      <th>GEO_ID_F</th>\n",
       "      <th>NAME</th>\n",
       "      <th>NAICS2017</th>\n",
       "      <th>NAICS2017_F</th>\n",
       "      <th>NAICS2017_LABEL</th>\n",
       "      <th>SEX</th>\n",
       "      <th>SEX_LABEL</th>\n",
       "      <th>ETH_GROUP</th>\n",
       "      <th>ETH_GROUP_LABEL</th>\n",
       "      <th>...</th>\n",
       "      <th>EMPSZFI_LABEL</th>\n",
       "      <th>YEAR</th>\n",
       "      <th>FIRMPDEMP</th>\n",
       "      <th>RCPPDEMP</th>\n",
       "      <th>EMP</th>\n",
       "      <th>PAYANN</th>\n",
       "      <th>FIRMPDEMP_S</th>\n",
       "      <th>RCPPDEMP_S</th>\n",
       "      <th>EMP_S</th>\n",
       "      <th>PAYANN_S</th>\n",
       "    </tr>\n",
       "  </thead>\n",
       "  <tbody>\n",
       "    <tr>\n",
       "      <th>0</th>\n",
       "      <td>id</td>\n",
       "      <td>Geo Footnote</td>\n",
       "      <td>Geographic Area Name</td>\n",
       "      <td>2017 NAICS code</td>\n",
       "      <td>2017 NAICS Footnote</td>\n",
       "      <td>Meaning of NAICS code</td>\n",
       "      <td>Sex code</td>\n",
       "      <td>Meaning of Sex code</td>\n",
       "      <td>Ethnicity code</td>\n",
       "      <td>Meaning of Ethnicity code</td>\n",
       "      <td>...</td>\n",
       "      <td>Meaning of Employment size of firms code</td>\n",
       "      <td>Year</td>\n",
       "      <td>Number of employer firms</td>\n",
       "      <td>Sales, value of shipments, or revenue of emplo...</td>\n",
       "      <td>Number of employees</td>\n",
       "      <td>Annual payroll ($1,000)</td>\n",
       "      <td>Relative standard error of employer firms (%)</td>\n",
       "      <td>Relative standard error of sales, value of shi...</td>\n",
       "      <td>Relative standard error of number of employees...</td>\n",
       "      <td>Relative standard error of annual payroll (%)</td>\n",
       "    </tr>\n",
       "    <tr>\n",
       "      <th>1</th>\n",
       "      <td>0100000US</td>\n",
       "      <td>NaN</td>\n",
       "      <td>United States</td>\n",
       "      <td>00</td>\n",
       "      <td>NaN</td>\n",
       "      <td>Total for all sectors</td>\n",
       "      <td>001</td>\n",
       "      <td>Total</td>\n",
       "      <td>001</td>\n",
       "      <td>Total</td>\n",
       "      <td>...</td>\n",
       "      <td>Firms with no employees</td>\n",
       "      <td>2019</td>\n",
       "      <td>730078</td>\n",
       "      <td>298164421</td>\n",
       "      <td>0</td>\n",
       "      <td>50074562</td>\n",
       "      <td>0.8</td>\n",
       "      <td>3.6</td>\n",
       "      <td>0.0</td>\n",
       "      <td>2.4</td>\n",
       "    </tr>\n",
       "    <tr>\n",
       "      <th>2</th>\n",
       "      <td>0100000US</td>\n",
       "      <td>NaN</td>\n",
       "      <td>United States</td>\n",
       "      <td>00</td>\n",
       "      <td>NaN</td>\n",
       "      <td>Total for all sectors</td>\n",
       "      <td>001</td>\n",
       "      <td>Total</td>\n",
       "      <td>001</td>\n",
       "      <td>Total</td>\n",
       "      <td>...</td>\n",
       "      <td>Firms with 1 to 4 employees</td>\n",
       "      <td>2019</td>\n",
       "      <td>2826849</td>\n",
       "      <td>1266736429</td>\n",
       "      <td>5632339</td>\n",
       "      <td>233431702</td>\n",
       "      <td>0.4</td>\n",
       "      <td>1.1</td>\n",
       "      <td>0.6</td>\n",
       "      <td>1.3</td>\n",
       "    </tr>\n",
       "    <tr>\n",
       "      <th>3</th>\n",
       "      <td>0100000US</td>\n",
       "      <td>NaN</td>\n",
       "      <td>United States</td>\n",
       "      <td>00</td>\n",
       "      <td>NaN</td>\n",
       "      <td>Total for all sectors</td>\n",
       "      <td>001</td>\n",
       "      <td>Total</td>\n",
       "      <td>001</td>\n",
       "      <td>Total</td>\n",
       "      <td>...</td>\n",
       "      <td>Firms with 5 to 9 employees</td>\n",
       "      <td>2019</td>\n",
       "      <td>959641</td>\n",
       "      <td>1142368704</td>\n",
       "      <td>6329828</td>\n",
       "      <td>257601290</td>\n",
       "      <td>1.0</td>\n",
       "      <td>1.5</td>\n",
       "      <td>0.9</td>\n",
       "      <td>1.1</td>\n",
       "    </tr>\n",
       "    <tr>\n",
       "      <th>4</th>\n",
       "      <td>0100000US</td>\n",
       "      <td>NaN</td>\n",
       "      <td>United States</td>\n",
       "      <td>00</td>\n",
       "      <td>NaN</td>\n",
       "      <td>Total for all sectors</td>\n",
       "      <td>001</td>\n",
       "      <td>Total</td>\n",
       "      <td>001</td>\n",
       "      <td>Total</td>\n",
       "      <td>...</td>\n",
       "      <td>Firms with 10 to 19 employees</td>\n",
       "      <td>2019</td>\n",
       "      <td>609335</td>\n",
       "      <td>1440258482</td>\n",
       "      <td>8211284</td>\n",
       "      <td>347772825</td>\n",
       "      <td>0.9</td>\n",
       "      <td>2.5</td>\n",
       "      <td>1.0</td>\n",
       "      <td>1.6</td>\n",
       "    </tr>\n",
       "  </tbody>\n",
       "</table>\n",
       "<p>5 rows × 25 columns</p>\n",
       "</div>"
      ],
      "text/plain": [
       "      GEO_ID      GEO_ID_F                  NAME        NAICS2017  \\\n",
       "0         id  Geo Footnote  Geographic Area Name  2017 NAICS code   \n",
       "1  0100000US           NaN         United States               00   \n",
       "2  0100000US           NaN         United States               00   \n",
       "3  0100000US           NaN         United States               00   \n",
       "4  0100000US           NaN         United States               00   \n",
       "\n",
       "           NAICS2017_F        NAICS2017_LABEL       SEX            SEX_LABEL  \\\n",
       "0  2017 NAICS Footnote  Meaning of NAICS code  Sex code  Meaning of Sex code   \n",
       "1                  NaN  Total for all sectors       001                Total   \n",
       "2                  NaN  Total for all sectors       001                Total   \n",
       "3                  NaN  Total for all sectors       001                Total   \n",
       "4                  NaN  Total for all sectors       001                Total   \n",
       "\n",
       "        ETH_GROUP            ETH_GROUP_LABEL  ...  \\\n",
       "0  Ethnicity code  Meaning of Ethnicity code  ...   \n",
       "1             001                      Total  ...   \n",
       "2             001                      Total  ...   \n",
       "3             001                      Total  ...   \n",
       "4             001                      Total  ...   \n",
       "\n",
       "                              EMPSZFI_LABEL  YEAR                 FIRMPDEMP  \\\n",
       "0  Meaning of Employment size of firms code  Year  Number of employer firms   \n",
       "1                   Firms with no employees  2019                    730078   \n",
       "2               Firms with 1 to 4 employees  2019                   2826849   \n",
       "3               Firms with 5 to 9 employees  2019                    959641   \n",
       "4             Firms with 10 to 19 employees  2019                    609335   \n",
       "\n",
       "                                            RCPPDEMP                  EMP  \\\n",
       "0  Sales, value of shipments, or revenue of emplo...  Number of employees   \n",
       "1                                          298164421                    0   \n",
       "2                                         1266736429              5632339   \n",
       "3                                         1142368704              6329828   \n",
       "4                                         1440258482              8211284   \n",
       "\n",
       "                    PAYANN                                    FIRMPDEMP_S  \\\n",
       "0  Annual payroll ($1,000)  Relative standard error of employer firms (%)   \n",
       "1                 50074562                                            0.8   \n",
       "2                233431702                                            0.4   \n",
       "3                257601290                                            1.0   \n",
       "4                347772825                                            0.9   \n",
       "\n",
       "                                          RCPPDEMP_S  \\\n",
       "0  Relative standard error of sales, value of shi...   \n",
       "1                                                3.6   \n",
       "2                                                1.1   \n",
       "3                                                1.5   \n",
       "4                                                2.5   \n",
       "\n",
       "                                               EMP_S  \\\n",
       "0  Relative standard error of number of employees...   \n",
       "1                                                0.0   \n",
       "2                                                0.6   \n",
       "3                                                0.9   \n",
       "4                                                1.0   \n",
       "\n",
       "                                        PAYANN_S  \n",
       "0  Relative standard error of annual payroll (%)  \n",
       "1                                            2.4  \n",
       "2                                            1.3  \n",
       "3                                            1.1  \n",
       "4                                            1.6  \n",
       "\n",
       "[5 rows x 25 columns]"
      ]
     },
     "execution_count": 38,
     "metadata": {},
     "output_type": "execute_result"
    }
   ],
   "source": [
    "WBiz2020.head()"
   ]
  },
  {
   "cell_type": "markdown",
   "id": "d26ed17f",
   "metadata": {},
   "source": [
    "## Rename Columns "
   ]
  },
  {
   "cell_type": "code",
   "execution_count": 50,
   "id": "db21bdea",
   "metadata": {},
   "outputs": [],
   "source": [
    "WBiz2020Sub = WBiz2020.rename(columns={'SEX':'Owners_Sex',\n",
    "                         'ETH_GROUP': 'Owners_Ethnicity', \n",
    "                         'RACE_GROUP':'Owners_Race', \n",
    "                         'VET_GROUP':'Vet_Status', \n",
    "                         'RCPPDEMP':'Sales', \n",
    "                         'EMP': 'Employees', \n",
    "                         'RCPPDEMP_S':'Sales_Std_Error', \n",
    "                         'EMP_S':'Employees_Std_Error'})"
   ]
  },
  {
   "cell_type": "markdown",
   "id": "012dd614",
   "metadata": {},
   "source": [
    "## Subset Dataset"
   ]
  },
  {
   "cell_type": "code",
   "execution_count": 51,
   "id": "17df4f93",
   "metadata": {},
   "outputs": [
    {
     "data": {
      "text/html": [
       "<div>\n",
       "<style scoped>\n",
       "    .dataframe tbody tr th:only-of-type {\n",
       "        vertical-align: middle;\n",
       "    }\n",
       "\n",
       "    .dataframe tbody tr th {\n",
       "        vertical-align: top;\n",
       "    }\n",
       "\n",
       "    .dataframe thead th {\n",
       "        text-align: right;\n",
       "    }\n",
       "</style>\n",
       "<table border=\"1\" class=\"dataframe\">\n",
       "  <thead>\n",
       "    <tr style=\"text-align: right;\">\n",
       "      <th></th>\n",
       "      <th>GEO_ID</th>\n",
       "      <th>GEO_ID_F</th>\n",
       "      <th>NAME</th>\n",
       "      <th>NAICS2017</th>\n",
       "      <th>NAICS2017_F</th>\n",
       "      <th>NAICS2017_LABEL</th>\n",
       "      <th>Owners_Sex</th>\n",
       "      <th>SEX_LABEL</th>\n",
       "      <th>Owners_Ethnicity</th>\n",
       "      <th>ETH_GROUP_LABEL</th>\n",
       "      <th>...</th>\n",
       "      <th>EMPSZFI_LABEL</th>\n",
       "      <th>YEAR</th>\n",
       "      <th>FIRMPDEMP</th>\n",
       "      <th>Sales</th>\n",
       "      <th>Employees</th>\n",
       "      <th>PAYANN</th>\n",
       "      <th>FIRMPDEMP_S</th>\n",
       "      <th>Sales_Std_Error</th>\n",
       "      <th>Employees_Std_Error</th>\n",
       "      <th>PAYANN_S</th>\n",
       "    </tr>\n",
       "  </thead>\n",
       "  <tbody>\n",
       "    <tr>\n",
       "      <th>0</th>\n",
       "      <td>id</td>\n",
       "      <td>Geo Footnote</td>\n",
       "      <td>Geographic Area Name</td>\n",
       "      <td>2017 NAICS code</td>\n",
       "      <td>2017 NAICS Footnote</td>\n",
       "      <td>Meaning of NAICS code</td>\n",
       "      <td>Sex code</td>\n",
       "      <td>Meaning of Sex code</td>\n",
       "      <td>Ethnicity code</td>\n",
       "      <td>Meaning of Ethnicity code</td>\n",
       "      <td>...</td>\n",
       "      <td>Meaning of Employment size of firms code</td>\n",
       "      <td>Year</td>\n",
       "      <td>Number of employer firms</td>\n",
       "      <td>Sales, value of shipments, or revenue of emplo...</td>\n",
       "      <td>Number of employees</td>\n",
       "      <td>Annual payroll ($1,000)</td>\n",
       "      <td>Relative standard error of employer firms (%)</td>\n",
       "      <td>Relative standard error of sales, value of shi...</td>\n",
       "      <td>Relative standard error of number of employees...</td>\n",
       "      <td>Relative standard error of annual payroll (%)</td>\n",
       "    </tr>\n",
       "    <tr>\n",
       "      <th>1</th>\n",
       "      <td>0100000US</td>\n",
       "      <td>NaN</td>\n",
       "      <td>United States</td>\n",
       "      <td>00</td>\n",
       "      <td>NaN</td>\n",
       "      <td>Total for all sectors</td>\n",
       "      <td>001</td>\n",
       "      <td>Total</td>\n",
       "      <td>001</td>\n",
       "      <td>Total</td>\n",
       "      <td>...</td>\n",
       "      <td>Firms with no employees</td>\n",
       "      <td>2019</td>\n",
       "      <td>730078</td>\n",
       "      <td>298164421</td>\n",
       "      <td>0</td>\n",
       "      <td>50074562</td>\n",
       "      <td>0.8</td>\n",
       "      <td>3.6</td>\n",
       "      <td>0.0</td>\n",
       "      <td>2.4</td>\n",
       "    </tr>\n",
       "    <tr>\n",
       "      <th>2</th>\n",
       "      <td>0100000US</td>\n",
       "      <td>NaN</td>\n",
       "      <td>United States</td>\n",
       "      <td>00</td>\n",
       "      <td>NaN</td>\n",
       "      <td>Total for all sectors</td>\n",
       "      <td>001</td>\n",
       "      <td>Total</td>\n",
       "      <td>001</td>\n",
       "      <td>Total</td>\n",
       "      <td>...</td>\n",
       "      <td>Firms with 1 to 4 employees</td>\n",
       "      <td>2019</td>\n",
       "      <td>2826849</td>\n",
       "      <td>1266736429</td>\n",
       "      <td>5632339</td>\n",
       "      <td>233431702</td>\n",
       "      <td>0.4</td>\n",
       "      <td>1.1</td>\n",
       "      <td>0.6</td>\n",
       "      <td>1.3</td>\n",
       "    </tr>\n",
       "    <tr>\n",
       "      <th>3</th>\n",
       "      <td>0100000US</td>\n",
       "      <td>NaN</td>\n",
       "      <td>United States</td>\n",
       "      <td>00</td>\n",
       "      <td>NaN</td>\n",
       "      <td>Total for all sectors</td>\n",
       "      <td>001</td>\n",
       "      <td>Total</td>\n",
       "      <td>001</td>\n",
       "      <td>Total</td>\n",
       "      <td>...</td>\n",
       "      <td>Firms with 5 to 9 employees</td>\n",
       "      <td>2019</td>\n",
       "      <td>959641</td>\n",
       "      <td>1142368704</td>\n",
       "      <td>6329828</td>\n",
       "      <td>257601290</td>\n",
       "      <td>1.0</td>\n",
       "      <td>1.5</td>\n",
       "      <td>0.9</td>\n",
       "      <td>1.1</td>\n",
       "    </tr>\n",
       "    <tr>\n",
       "      <th>4</th>\n",
       "      <td>0100000US</td>\n",
       "      <td>NaN</td>\n",
       "      <td>United States</td>\n",
       "      <td>00</td>\n",
       "      <td>NaN</td>\n",
       "      <td>Total for all sectors</td>\n",
       "      <td>001</td>\n",
       "      <td>Total</td>\n",
       "      <td>001</td>\n",
       "      <td>Total</td>\n",
       "      <td>...</td>\n",
       "      <td>Firms with 10 to 19 employees</td>\n",
       "      <td>2019</td>\n",
       "      <td>609335</td>\n",
       "      <td>1440258482</td>\n",
       "      <td>8211284</td>\n",
       "      <td>347772825</td>\n",
       "      <td>0.9</td>\n",
       "      <td>2.5</td>\n",
       "      <td>1.0</td>\n",
       "      <td>1.6</td>\n",
       "    </tr>\n",
       "  </tbody>\n",
       "</table>\n",
       "<p>5 rows × 25 columns</p>\n",
       "</div>"
      ],
      "text/plain": [
       "      GEO_ID      GEO_ID_F                  NAME        NAICS2017  \\\n",
       "0         id  Geo Footnote  Geographic Area Name  2017 NAICS code   \n",
       "1  0100000US           NaN         United States               00   \n",
       "2  0100000US           NaN         United States               00   \n",
       "3  0100000US           NaN         United States               00   \n",
       "4  0100000US           NaN         United States               00   \n",
       "\n",
       "           NAICS2017_F        NAICS2017_LABEL Owners_Sex            SEX_LABEL  \\\n",
       "0  2017 NAICS Footnote  Meaning of NAICS code   Sex code  Meaning of Sex code   \n",
       "1                  NaN  Total for all sectors        001                Total   \n",
       "2                  NaN  Total for all sectors        001                Total   \n",
       "3                  NaN  Total for all sectors        001                Total   \n",
       "4                  NaN  Total for all sectors        001                Total   \n",
       "\n",
       "  Owners_Ethnicity            ETH_GROUP_LABEL  ...  \\\n",
       "0   Ethnicity code  Meaning of Ethnicity code  ...   \n",
       "1              001                      Total  ...   \n",
       "2              001                      Total  ...   \n",
       "3              001                      Total  ...   \n",
       "4              001                      Total  ...   \n",
       "\n",
       "                              EMPSZFI_LABEL  YEAR                 FIRMPDEMP  \\\n",
       "0  Meaning of Employment size of firms code  Year  Number of employer firms   \n",
       "1                   Firms with no employees  2019                    730078   \n",
       "2               Firms with 1 to 4 employees  2019                   2826849   \n",
       "3               Firms with 5 to 9 employees  2019                    959641   \n",
       "4             Firms with 10 to 19 employees  2019                    609335   \n",
       "\n",
       "                                               Sales            Employees  \\\n",
       "0  Sales, value of shipments, or revenue of emplo...  Number of employees   \n",
       "1                                          298164421                    0   \n",
       "2                                         1266736429              5632339   \n",
       "3                                         1142368704              6329828   \n",
       "4                                         1440258482              8211284   \n",
       "\n",
       "                    PAYANN                                    FIRMPDEMP_S  \\\n",
       "0  Annual payroll ($1,000)  Relative standard error of employer firms (%)   \n",
       "1                 50074562                                            0.8   \n",
       "2                233431702                                            0.4   \n",
       "3                257601290                                            1.0   \n",
       "4                347772825                                            0.9   \n",
       "\n",
       "                                     Sales_Std_Error  \\\n",
       "0  Relative standard error of sales, value of shi...   \n",
       "1                                                3.6   \n",
       "2                                                1.1   \n",
       "3                                                1.5   \n",
       "4                                                2.5   \n",
       "\n",
       "                                 Employees_Std_Error  \\\n",
       "0  Relative standard error of number of employees...   \n",
       "1                                                0.0   \n",
       "2                                                0.6   \n",
       "3                                                0.9   \n",
       "4                                                1.0   \n",
       "\n",
       "                                        PAYANN_S  \n",
       "0  Relative standard error of annual payroll (%)  \n",
       "1                                            2.4  \n",
       "2                                            1.3  \n",
       "3                                            1.1  \n",
       "4                                            1.6  \n",
       "\n",
       "[5 rows x 25 columns]"
      ]
     },
     "execution_count": 51,
     "metadata": {},
     "output_type": "execute_result"
    }
   ],
   "source": [
    "WBiz2020Sub.head()"
   ]
  },
  {
   "cell_type": "code",
   "execution_count": 52,
   "id": "1ba6a61e",
   "metadata": {},
   "outputs": [],
   "source": [
    "WBiz2020Sub_2 = WBiz2020Sub[['Owners_Sex', 'Owners_Ethnicity', 'Owners_Race', 'Vet_Status', 'Sales', 'Employees', 'Sales_Std_Error', 'Employees_Std_Error']]"
   ]
  },
  {
   "cell_type": "code",
   "execution_count": 53,
   "id": "71284367",
   "metadata": {},
   "outputs": [
    {
     "data": {
      "text/html": [
       "<div>\n",
       "<style scoped>\n",
       "    .dataframe tbody tr th:only-of-type {\n",
       "        vertical-align: middle;\n",
       "    }\n",
       "\n",
       "    .dataframe tbody tr th {\n",
       "        vertical-align: top;\n",
       "    }\n",
       "\n",
       "    .dataframe thead th {\n",
       "        text-align: right;\n",
       "    }\n",
       "</style>\n",
       "<table border=\"1\" class=\"dataframe\">\n",
       "  <thead>\n",
       "    <tr style=\"text-align: right;\">\n",
       "      <th></th>\n",
       "      <th>Owners_Sex</th>\n",
       "      <th>Owners_Ethnicity</th>\n",
       "      <th>Owners_Race</th>\n",
       "      <th>Vet_Status</th>\n",
       "      <th>Sales</th>\n",
       "      <th>Employees</th>\n",
       "      <th>Sales_Std_Error</th>\n",
       "      <th>Employees_Std_Error</th>\n",
       "    </tr>\n",
       "  </thead>\n",
       "  <tbody>\n",
       "    <tr>\n",
       "      <th>0</th>\n",
       "      <td>Sex code</td>\n",
       "      <td>Ethnicity code</td>\n",
       "      <td>Race code</td>\n",
       "      <td>Veteran code</td>\n",
       "      <td>Sales, value of shipments, or revenue of emplo...</td>\n",
       "      <td>Number of employees</td>\n",
       "      <td>Relative standard error of sales, value of shi...</td>\n",
       "      <td>Relative standard error of number of employees...</td>\n",
       "    </tr>\n",
       "    <tr>\n",
       "      <th>1</th>\n",
       "      <td>001</td>\n",
       "      <td>001</td>\n",
       "      <td>00</td>\n",
       "      <td>001</td>\n",
       "      <td>298164421</td>\n",
       "      <td>0</td>\n",
       "      <td>3.6</td>\n",
       "      <td>0.0</td>\n",
       "    </tr>\n",
       "    <tr>\n",
       "      <th>2</th>\n",
       "      <td>001</td>\n",
       "      <td>001</td>\n",
       "      <td>00</td>\n",
       "      <td>001</td>\n",
       "      <td>1266736429</td>\n",
       "      <td>5632339</td>\n",
       "      <td>1.1</td>\n",
       "      <td>0.6</td>\n",
       "    </tr>\n",
       "    <tr>\n",
       "      <th>3</th>\n",
       "      <td>001</td>\n",
       "      <td>001</td>\n",
       "      <td>00</td>\n",
       "      <td>001</td>\n",
       "      <td>1142368704</td>\n",
       "      <td>6329828</td>\n",
       "      <td>1.5</td>\n",
       "      <td>0.9</td>\n",
       "    </tr>\n",
       "    <tr>\n",
       "      <th>4</th>\n",
       "      <td>001</td>\n",
       "      <td>001</td>\n",
       "      <td>00</td>\n",
       "      <td>001</td>\n",
       "      <td>1440258482</td>\n",
       "      <td>8211284</td>\n",
       "      <td>2.5</td>\n",
       "      <td>1.0</td>\n",
       "    </tr>\n",
       "  </tbody>\n",
       "</table>\n",
       "</div>"
      ],
      "text/plain": [
       "  Owners_Sex Owners_Ethnicity Owners_Race    Vet_Status  \\\n",
       "0   Sex code   Ethnicity code   Race code  Veteran code   \n",
       "1        001              001          00           001   \n",
       "2        001              001          00           001   \n",
       "3        001              001          00           001   \n",
       "4        001              001          00           001   \n",
       "\n",
       "                                               Sales            Employees  \\\n",
       "0  Sales, value of shipments, or revenue of emplo...  Number of employees   \n",
       "1                                          298164421                    0   \n",
       "2                                         1266736429              5632339   \n",
       "3                                         1142368704              6329828   \n",
       "4                                         1440258482              8211284   \n",
       "\n",
       "                                     Sales_Std_Error  \\\n",
       "0  Relative standard error of sales, value of shi...   \n",
       "1                                                3.6   \n",
       "2                                                1.1   \n",
       "3                                                1.5   \n",
       "4                                                2.5   \n",
       "\n",
       "                                 Employees_Std_Error  \n",
       "0  Relative standard error of number of employees...  \n",
       "1                                                0.0  \n",
       "2                                                0.6  \n",
       "3                                                0.9  \n",
       "4                                                1.0  "
      ]
     },
     "execution_count": 53,
     "metadata": {},
     "output_type": "execute_result"
    }
   ],
   "source": [
    "WBiz2020Sub_2.head()"
   ]
  },
  {
   "cell_type": "markdown",
   "id": "a622e809",
   "metadata": {},
   "source": [
    "## Convert datatype to integer "
   ]
  },
  {
   "cell_type": "code",
   "execution_count": 65,
   "id": "9944bea9",
   "metadata": {
    "scrolled": false
   },
   "outputs": [
    {
     "name": "stdout",
     "output_type": "stream",
     "text": [
      "<class 'pandas.core.frame.DataFrame'>\n",
      "RangeIndex: 15312 entries, 0 to 15311\n",
      "Data columns (total 8 columns):\n",
      " #   Column               Non-Null Count  Dtype \n",
      "---  ------               --------------  ----- \n",
      " 0   Owners_Sex           15312 non-null  object\n",
      " 1   Owners_Ethnicity     15312 non-null  object\n",
      " 2   Owners_Race          15312 non-null  object\n",
      " 3   Vet_Status           15312 non-null  object\n",
      " 4   Sales                15312 non-null  object\n",
      " 5   Employees            15312 non-null  object\n",
      " 6   Sales_Std_Error      15312 non-null  object\n",
      " 7   Employees_Std_Error  15312 non-null  object\n",
      "dtypes: object(8)\n",
      "memory usage: 957.1+ KB\n"
     ]
    }
   ],
   "source": [
    "WBiz2020Sub_2.info()"
   ]
  },
  {
   "cell_type": "code",
   "execution_count": 68,
   "id": "5dcf27e5",
   "metadata": {},
   "outputs": [],
   "source": [
    "WBiz2020Sub_2float = WBiz2020Sub_2.apply(pd.to_numeric, errors='coerce')"
   ]
  },
  {
   "cell_type": "code",
   "execution_count": 69,
   "id": "3876b320",
   "metadata": {
    "scrolled": true
   },
   "outputs": [
    {
     "name": "stdout",
     "output_type": "stream",
     "text": [
      "       Owners_Sex  Owners_Ethnicity  Owners_Race  Vet_Status         Sales  \\\n",
      "0             NaN               NaN          NaN         NaN           NaN   \n",
      "1             1.0               1.0          0.0         1.0  2.981644e+08   \n",
      "2             1.0               1.0          0.0         1.0  1.266736e+09   \n",
      "3             1.0               1.0          0.0         1.0  1.142369e+09   \n",
      "4             1.0               1.0          0.0         1.0  1.440258e+09   \n",
      "...           ...               ...          ...         ...           ...   \n",
      "15307        96.0              96.0         96.0        96.0           NaN   \n",
      "15308        98.0              98.0         98.0        98.0           NaN   \n",
      "15309        98.0              98.0         98.0        98.0           NaN   \n",
      "15310        98.0              98.0         98.0        98.0           NaN   \n",
      "15311        98.0              98.0         98.0        98.0           NaN   \n",
      "\n",
      "       Employees  Sales_Std_Error  Employees_Std_Error  \n",
      "0            NaN              NaN                  NaN  \n",
      "1            0.0              3.6                  0.0  \n",
      "2      5632339.0              1.1                  0.6  \n",
      "3      6329828.0              1.5                  0.9  \n",
      "4      8211284.0              2.5                  1.0  \n",
      "...          ...              ...                  ...  \n",
      "15307        NaN              NaN                  NaN  \n",
      "15308        NaN              NaN                  NaN  \n",
      "15309        NaN              NaN                  NaN  \n",
      "15310        NaN              NaN                  NaN  \n",
      "15311        NaN              NaN                  NaN  \n",
      "\n",
      "[15312 rows x 8 columns]\n"
     ]
    }
   ],
   "source": [
    "print(WBiz2020Sub_2float)"
   ]
  },
  {
   "cell_type": "code",
   "execution_count": 77,
   "id": "91fcf5ba",
   "metadata": {},
   "outputs": [
    {
     "name": "stdout",
     "output_type": "stream",
     "text": [
      "<class 'pandas.core.frame.DataFrame'>\n",
      "RangeIndex: 15312 entries, 0 to 15311\n",
      "Data columns (total 8 columns):\n",
      " #   Column               Non-Null Count  Dtype  \n",
      "---  ------               --------------  -----  \n",
      " 0   Owners_Sex           15311 non-null  float64\n",
      " 1   Owners_Ethnicity     15311 non-null  float64\n",
      " 2   Owners_Race          15311 non-null  float64\n",
      " 3   Vet_Status           15311 non-null  float64\n",
      " 4   Sales                769 non-null    float64\n",
      " 5   Employees            9166 non-null   float64\n",
      " 6   Sales_Std_Error      769 non-null    float64\n",
      " 7   Employees_Std_Error  9166 non-null   float64\n",
      "dtypes: float64(8)\n",
      "memory usage: 957.1 KB\n"
     ]
    }
   ],
   "source": [
    "WBiz2020Sub_2float.info()"
   ]
  },
  {
   "cell_type": "markdown",
   "id": "855cfd53",
   "metadata": {},
   "source": [
    "## Use Chi-Squares to determine if Owners_Sex depends on Sales"
   ]
  },
  {
   "cell_type": "markdown",
   "id": "694ace00",
   "metadata": {},
   "source": [
    "### Create a contingency table:"
   ]
  },
  {
   "cell_type": "code",
   "execution_count": 74,
   "id": "c9d28de7",
   "metadata": {},
   "outputs": [],
   "source": [
    "from scipy import stats"
   ]
  },
  {
   "cell_type": "code",
   "execution_count": 75,
   "id": "0c0ca134",
   "metadata": {},
   "outputs": [],
   "source": [
    "WB2020_crosstab = pd.crosstab(WBiz2020Sub_2float['Owners_Sex'], WBiz2020Sub_2float['Sales'])"
   ]
  },
  {
   "cell_type": "code",
   "execution_count": 76,
   "id": "bc6f8cb0",
   "metadata": {},
   "outputs": [
    {
     "data": {
      "text/plain": [
       "(3845.0,\n",
       " 0.4515703695462029,\n",
       " 3835,\n",
       " array([[0.54746424, 0.54746424, 0.54746424, ..., 0.54746424, 0.54746424,\n",
       "         0.54746424],\n",
       "        [0.13263979, 0.13263979, 0.13263979, ..., 0.13263979, 0.13263979,\n",
       "         0.13263979],\n",
       "        [0.16384915, 0.16384915, 0.16384915, ..., 0.16384915, 0.16384915,\n",
       "         0.16384915],\n",
       "        [0.13263979, 0.13263979, 0.13263979, ..., 0.13263979, 0.13263979,\n",
       "         0.13263979],\n",
       "        [0.01170351, 0.01170351, 0.01170351, ..., 0.01170351, 0.01170351,\n",
       "         0.01170351],\n",
       "        [0.01170351, 0.01170351, 0.01170351, ..., 0.01170351, 0.01170351,\n",
       "         0.01170351]]))"
      ]
     },
     "execution_count": 76,
     "metadata": {},
     "output_type": "execute_result"
    }
   ],
   "source": [
    "stats.chi2_contingency(WB2020_crosstab)"
   ]
  },
  {
   "cell_type": "markdown",
   "id": "2b5af84f",
   "metadata": {},
   "source": [
    "### p-value > 0.05, therefore there is not a significant relationship between owners_sex and the number of sales. The values in the array are less than 5 and therefore does not meet the assumption."
   ]
  },
  {
   "cell_type": "markdown",
   "id": "fdbb5026",
   "metadata": {},
   "source": [
    "## Run a correlation matrix"
   ]
  },
  {
   "cell_type": "code",
   "execution_count": 78,
   "id": "04850135",
   "metadata": {},
   "outputs": [],
   "source": [
    "import matplotlib.pyplot as plt\n",
    "import seaborn as sns"
   ]
  },
  {
   "cell_type": "code",
   "execution_count": 79,
   "id": "4ba5dd9e",
   "metadata": {
    "scrolled": true
   },
   "outputs": [
    {
     "data": {
      "text/html": [
       "<div>\n",
       "<style scoped>\n",
       "    .dataframe tbody tr th:only-of-type {\n",
       "        vertical-align: middle;\n",
       "    }\n",
       "\n",
       "    .dataframe tbody tr th {\n",
       "        vertical-align: top;\n",
       "    }\n",
       "\n",
       "    .dataframe thead th {\n",
       "        text-align: right;\n",
       "    }\n",
       "</style>\n",
       "<table border=\"1\" class=\"dataframe\">\n",
       "  <thead>\n",
       "    <tr style=\"text-align: right;\">\n",
       "      <th></th>\n",
       "      <th>Owners_Sex</th>\n",
       "      <th>Owners_Ethnicity</th>\n",
       "      <th>Owners_Race</th>\n",
       "      <th>Vet_Status</th>\n",
       "      <th>Sales</th>\n",
       "      <th>Employees</th>\n",
       "      <th>Sales_Std_Error</th>\n",
       "      <th>Employees_Std_Error</th>\n",
       "    </tr>\n",
       "  </thead>\n",
       "  <tbody>\n",
       "    <tr>\n",
       "      <th>Owners_Sex</th>\n",
       "      <td>1.000000</td>\n",
       "      <td>0.753591</td>\n",
       "      <td>0.238112</td>\n",
       "      <td>0.992299</td>\n",
       "      <td>0.209432</td>\n",
       "      <td>0.085663</td>\n",
       "      <td>-0.086640</td>\n",
       "      <td>-0.041955</td>\n",
       "    </tr>\n",
       "    <tr>\n",
       "      <th>Owners_Ethnicity</th>\n",
       "      <td>0.753591</td>\n",
       "      <td>1.000000</td>\n",
       "      <td>-0.082672</td>\n",
       "      <td>0.753093</td>\n",
       "      <td>0.157236</td>\n",
       "      <td>0.071619</td>\n",
       "      <td>-0.034370</td>\n",
       "      <td>-0.030201</td>\n",
       "    </tr>\n",
       "    <tr>\n",
       "      <th>Owners_Race</th>\n",
       "      <td>0.238112</td>\n",
       "      <td>-0.082672</td>\n",
       "      <td>1.000000</td>\n",
       "      <td>0.237380</td>\n",
       "      <td>-0.033301</td>\n",
       "      <td>-0.015535</td>\n",
       "      <td>0.036386</td>\n",
       "      <td>0.007422</td>\n",
       "    </tr>\n",
       "    <tr>\n",
       "      <th>Vet_Status</th>\n",
       "      <td>0.992299</td>\n",
       "      <td>0.753093</td>\n",
       "      <td>0.237380</td>\n",
       "      <td>1.000000</td>\n",
       "      <td>0.214319</td>\n",
       "      <td>0.088727</td>\n",
       "      <td>-0.084184</td>\n",
       "      <td>-0.042779</td>\n",
       "    </tr>\n",
       "    <tr>\n",
       "      <th>Sales</th>\n",
       "      <td>0.209432</td>\n",
       "      <td>0.157236</td>\n",
       "      <td>-0.033301</td>\n",
       "      <td>0.214319</td>\n",
       "      <td>1.000000</td>\n",
       "      <td>0.972994</td>\n",
       "      <td>-0.206713</td>\n",
       "      <td>-0.152227</td>\n",
       "    </tr>\n",
       "    <tr>\n",
       "      <th>Employees</th>\n",
       "      <td>0.085663</td>\n",
       "      <td>0.071619</td>\n",
       "      <td>-0.015535</td>\n",
       "      <td>0.088727</td>\n",
       "      <td>0.972994</td>\n",
       "      <td>1.000000</td>\n",
       "      <td>-0.272793</td>\n",
       "      <td>-0.092197</td>\n",
       "    </tr>\n",
       "    <tr>\n",
       "      <th>Sales_Std_Error</th>\n",
       "      <td>-0.086640</td>\n",
       "      <td>-0.034370</td>\n",
       "      <td>0.036386</td>\n",
       "      <td>-0.084184</td>\n",
       "      <td>-0.206713</td>\n",
       "      <td>-0.272793</td>\n",
       "      <td>1.000000</td>\n",
       "      <td>0.666435</td>\n",
       "    </tr>\n",
       "    <tr>\n",
       "      <th>Employees_Std_Error</th>\n",
       "      <td>-0.041955</td>\n",
       "      <td>-0.030201</td>\n",
       "      <td>0.007422</td>\n",
       "      <td>-0.042779</td>\n",
       "      <td>-0.152227</td>\n",
       "      <td>-0.092197</td>\n",
       "      <td>0.666435</td>\n",
       "      <td>1.000000</td>\n",
       "    </tr>\n",
       "  </tbody>\n",
       "</table>\n",
       "</div>"
      ],
      "text/plain": [
       "                     Owners_Sex  Owners_Ethnicity  Owners_Race  Vet_Status  \\\n",
       "Owners_Sex             1.000000          0.753591     0.238112    0.992299   \n",
       "Owners_Ethnicity       0.753591          1.000000    -0.082672    0.753093   \n",
       "Owners_Race            0.238112         -0.082672     1.000000    0.237380   \n",
       "Vet_Status             0.992299          0.753093     0.237380    1.000000   \n",
       "Sales                  0.209432          0.157236    -0.033301    0.214319   \n",
       "Employees              0.085663          0.071619    -0.015535    0.088727   \n",
       "Sales_Std_Error       -0.086640         -0.034370     0.036386   -0.084184   \n",
       "Employees_Std_Error   -0.041955         -0.030201     0.007422   -0.042779   \n",
       "\n",
       "                        Sales  Employees  Sales_Std_Error  Employees_Std_Error  \n",
       "Owners_Sex           0.209432   0.085663        -0.086640            -0.041955  \n",
       "Owners_Ethnicity     0.157236   0.071619        -0.034370            -0.030201  \n",
       "Owners_Race         -0.033301  -0.015535         0.036386             0.007422  \n",
       "Vet_Status           0.214319   0.088727        -0.084184            -0.042779  \n",
       "Sales                1.000000   0.972994        -0.206713            -0.152227  \n",
       "Employees            0.972994   1.000000        -0.272793            -0.092197  \n",
       "Sales_Std_Error     -0.206713  -0.272793         1.000000             0.666435  \n",
       "Employees_Std_Error -0.152227  -0.092197         0.666435             1.000000  "
      ]
     },
     "execution_count": 79,
     "metadata": {},
     "output_type": "execute_result"
    }
   ],
   "source": [
    "WBiz2020Sub_2float.corr(method='pearson')"
   ]
  },
  {
   "cell_type": "code",
   "execution_count": 80,
   "id": "e3039a22",
   "metadata": {
    "scrolled": true
   },
   "outputs": [
    {
     "data": {
      "text/plain": [
       "<AxesSubplot:>"
      ]
     },
     "execution_count": 80,
     "metadata": {},
     "output_type": "execute_result"
    },
    {
     "data": {
      "image/png": "[encoded data removed]",
      "text/plain": [
       "<Figure size 432x288 with 2 Axes>"
      ]
     },
     "metadata": {
      "needs_background": "light"
     },
     "output_type": "display_data"
    }
   ],
   "source": [
    "sns.heatmap(WBiz2020Sub_2float.corr(), annot=True)"
   ]
  },
  {
   "cell_type": "markdown",
   "id": "df74b27c",
   "metadata": {},
   "source": [
    "### Strong, positive correlations between owners_sex, owners_ethnicity, & vet_status. "
   ]
  },
  {
   "cell_type": "markdown",
   "id": "4a41be68",
   "metadata": {},
   "source": [
    "## Determine Dependent t-Test"
   ]
  },
  {
   "cell_type": "code",
   "execution_count": 81,
   "id": "2ccdbf4b",
   "metadata": {},
   "outputs": [],
   "source": [
    "from scipy import stats"
   ]
  },
  {
   "cell_type": "markdown",
   "id": "28b6e61e",
   "metadata": {},
   "source": [
    "### Test assumptions:"
   ]
  },
  {
   "cell_type": "code",
   "execution_count": 83,
   "id": "391a6d98",
   "metadata": {},
   "outputs": [
    {
     "data": {
      "text/plain": [
       "<AxesSubplot:>"
      ]
     },
     "execution_count": 83,
     "metadata": {},
     "output_type": "execute_result"
    },
    {
     "data": {
      "image/png": "[encoded data removed]",
      "text/plain": [
       "<Figure size 432x288 with 1 Axes>"
      ]
     },
     "metadata": {
      "needs_background": "light"
     },
     "output_type": "display_data"
    }
   ],
   "source": [
    "WBiz2020Sub_2float['Owners_Sex'].hist()"
   ]
  },
  {
   "cell_type": "code",
   "execution_count": 84,
   "id": "1d1ce516",
   "metadata": {},
   "outputs": [
    {
     "data": {
      "text/plain": [
       "<AxesSubplot:>"
      ]
     },
     "execution_count": 84,
     "metadata": {},
     "output_type": "execute_result"
    },
    {
     "data": {
      "image/png": "[encoded data removed]",
      "text/plain": [
       "<Figure size 432x288 with 1 Axes>"
      ]
     },
     "metadata": {
      "needs_background": "light"
     },
     "output_type": "display_data"
    }
   ],
   "source": [
    "WBiz2020Sub_2float['Owners_Ethnicity'].hist()"
   ]
  },
  {
   "cell_type": "code",
   "execution_count": 85,
   "id": "1f578f1e",
   "metadata": {},
   "outputs": [
    {
     "data": {
      "text/plain": [
       "<AxesSubplot:>"
      ]
     },
     "execution_count": 85,
     "metadata": {},
     "output_type": "execute_result"
    },
    {
     "data": {
      "image/png": "[encoded data removed]",
      "text/plain": [
       "<Figure size 432x288 with 1 Axes>"
      ]
     },
     "metadata": {
      "needs_background": "light"
     },
     "output_type": "display_data"
    }
   ],
   "source": [
    "WBiz2020Sub_2float['Vet_Status'].hist()"
   ]
  },
  {
   "cell_type": "code",
   "execution_count": 86,
   "id": "ea7b88fa",
   "metadata": {},
   "outputs": [
    {
     "data": {
      "text/plain": [
       "<AxesSubplot:>"
      ]
     },
     "execution_count": 86,
     "metadata": {},
     "output_type": "execute_result"
    },
    {
     "data": {
      "image/png": "[encoded data removed]",
      "text/plain": [
       "<Figure size 432x288 with 1 Axes>"
      ]
     },
     "metadata": {
      "needs_background": "light"
     },
     "output_type": "display_data"
    }
   ],
   "source": [
    "WBiz2020Sub_2float['Sales'].hist()"
   ]
  },
  {
   "cell_type": "markdown",
   "id": "d0be3310",
   "metadata": {},
   "source": [
    "### Data is not normally distributed and therefore violates assumptions."
   ]
  },
  {
   "cell_type": "markdown",
   "id": "791c7e77",
   "metadata": {},
   "source": [
    "## Determine MANOVA on R."
   ]
  },
  {
   "cell_type": "code",
   "execution_count": null,
   "id": "c257c93f",
   "metadata": {},
   "outputs": [],
   "source": []
  }
 ],
 "metadata": {
  "kernelspec": {
   "display_name": "Python 3",
   "language": "python",
   "name": "python3"
  },
  "language_info": {
   "codemirror_mode": {
    "name": "ipython",
    "version": 3
   },
   "file_extension": ".py",
   "mimetype": "text/x-python",
   "name": "python",
   "nbconvert_exporter": "python",
   "pygments_lexer": "ipython3",
   "version": "3.8.8"
  }
 },
 "nbformat": 4,
 "nbformat_minor": 5
}
