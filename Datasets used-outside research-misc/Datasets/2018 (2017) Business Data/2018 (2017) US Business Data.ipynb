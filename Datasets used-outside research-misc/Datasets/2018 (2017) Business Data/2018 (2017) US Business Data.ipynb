{
 "cells": [
  {
   "cell_type": "markdown",
   "id": "9d7cb592",
   "metadata": {},
   "source": [
    "# Load Libraries"
   ]
  },
  {
   "cell_type": "code",
   "execution_count": 20,
   "id": "ba5dc1ae",
   "metadata": {},
   "outputs": [],
   "source": [
    "import pandas as pd\n",
    "import numpy as np"
   ]
  },
  {
   "cell_type": "markdown",
   "id": "198ba7e5",
   "metadata": {},
   "source": [
    "# Load Data & View Data"
   ]
  },
  {
   "cell_type": "code",
   "execution_count": 21,
   "id": "d3b7b311",
   "metadata": {},
   "outputs": [
    {
     "name": "stderr",
     "output_type": "stream",
     "text": [
      "C:\\Users\\nbroo\\anaconda3\\lib\\site-packages\\IPython\\core\\interactiveshell.py:3165: DtypeWarning: Columns (2,3,4,5,6,7,8,10,12,14,16,22) have mixed types.Specify dtype option on import or set low_memory=False.\n",
      "  has_raised = await self.run_ast_nodes(code_ast.body, cell_name,\n"
     ]
    }
   ],
   "source": [
    "WBiz2018 = pd.read_csv(r\"C:\\Users\\nbroo\\OneDrive\\Documents\\Data Science Final Group Project\\Women In Business Before And After The Pandemic\\2018 (2017) Census Business Data.csv\")"
   ]
  },
  {
   "cell_type": "code",
   "execution_count": 22,
   "id": "8dea2c45",
   "metadata": {},
   "outputs": [
    {
     "data": {
      "text/html": [
       "<div>\n",
       "<style scoped>\n",
       "    .dataframe tbody tr th:only-of-type {\n",
       "        vertical-align: middle;\n",
       "    }\n",
       "\n",
       "    .dataframe tbody tr th {\n",
       "        vertical-align: top;\n",
       "    }\n",
       "\n",
       "    .dataframe thead th {\n",
       "        text-align: right;\n",
       "    }\n",
       "</style>\n",
       "<table border=\"1\" class=\"dataframe\">\n",
       "  <thead>\n",
       "    <tr style=\"text-align: right;\">\n",
       "      <th></th>\n",
       "      <th>GEO_ID</th>\n",
       "      <th>NAME</th>\n",
       "      <th>GEO_ID_F</th>\n",
       "      <th>NAICS2017</th>\n",
       "      <th>NAICS2017_F</th>\n",
       "      <th>SUBSECTOR</th>\n",
       "      <th>INDGROUP</th>\n",
       "      <th>INDLEVEL</th>\n",
       "      <th>SECTOR</th>\n",
       "      <th>NAICS2017_LABEL</th>\n",
       "      <th>...</th>\n",
       "      <th>PAYANN</th>\n",
       "      <th>PAYANN_PCT</th>\n",
       "      <th>FIRMPDEMP_S</th>\n",
       "      <th>FIRMPDEMP_PCT_S</th>\n",
       "      <th>RCPPDEMP_S</th>\n",
       "      <th>RCPPDEMP_PCT_S</th>\n",
       "      <th>EMP_S</th>\n",
       "      <th>EMP_PCT_S</th>\n",
       "      <th>PAYANN_S</th>\n",
       "      <th>PAYANN_PCT_S</th>\n",
       "    </tr>\n",
       "  </thead>\n",
       "  <tbody>\n",
       "    <tr>\n",
       "      <th>0</th>\n",
       "      <td>id</td>\n",
       "      <td>Geographic Area Name</td>\n",
       "      <td>Geo Footnote</td>\n",
       "      <td>2017 NAICS code</td>\n",
       "      <td>2017 NAICS Footnote</td>\n",
       "      <td>SUBSECTOR</td>\n",
       "      <td>Industry group</td>\n",
       "      <td>Industry level</td>\n",
       "      <td>NAICS economic sector</td>\n",
       "      <td>Meaning of NAICS code</td>\n",
       "      <td>...</td>\n",
       "      <td>Annual payroll ($1,000)</td>\n",
       "      <td>Percent of annual payroll (%)</td>\n",
       "      <td>Relative standard error of employer firms (%)</td>\n",
       "      <td>Standard error of percent of employer firms (%)</td>\n",
       "      <td>Relative standard error of sales, value of shi...</td>\n",
       "      <td>Standard error of percent of sales, value of s...</td>\n",
       "      <td>Relative standard error of number of employees...</td>\n",
       "      <td>Standard error of percent of employees (%)</td>\n",
       "      <td>Relative standard error of annual payroll (%)</td>\n",
       "      <td>Standard error of percent of annual payroll (%)</td>\n",
       "    </tr>\n",
       "    <tr>\n",
       "      <th>1</th>\n",
       "      <td>0100000US</td>\n",
       "      <td>United States</td>\n",
       "      <td>NaN</td>\n",
       "      <td>00</td>\n",
       "      <td>NaN</td>\n",
       "      <td>NaN</td>\n",
       "      <td>NaN</td>\n",
       "      <td>2</td>\n",
       "      <td>00</td>\n",
       "      <td>Total for all sectors</td>\n",
       "      <td>...</td>\n",
       "      <td>6534271084</td>\n",
       "      <td>X</td>\n",
       "      <td>0.0</td>\n",
       "      <td>X</td>\n",
       "      <td>0.3</td>\n",
       "      <td>X</td>\n",
       "      <td>0.2</td>\n",
       "      <td>X</td>\n",
       "      <td>0.2</td>\n",
       "      <td>X</td>\n",
       "    </tr>\n",
       "    <tr>\n",
       "      <th>2</th>\n",
       "      <td>0100000US</td>\n",
       "      <td>United States</td>\n",
       "      <td>NaN</td>\n",
       "      <td>00</td>\n",
       "      <td>NaN</td>\n",
       "      <td>NaN</td>\n",
       "      <td>NaN</td>\n",
       "      <td>2</td>\n",
       "      <td>00</td>\n",
       "      <td>Total for all sectors</td>\n",
       "      <td>...</td>\n",
       "      <td>590367610</td>\n",
       "      <td>17.1</td>\n",
       "      <td>0.1</td>\n",
       "      <td>2.9</td>\n",
       "      <td>0.8</td>\n",
       "      <td>64.7</td>\n",
       "      <td>0.3</td>\n",
       "      <td>55.0</td>\n",
       "      <td>0.7</td>\n",
       "      <td>60.9</td>\n",
       "    </tr>\n",
       "    <tr>\n",
       "      <th>3</th>\n",
       "      <td>0100000US</td>\n",
       "      <td>United States</td>\n",
       "      <td>NaN</td>\n",
       "      <td>00</td>\n",
       "      <td>NaN</td>\n",
       "      <td>NaN</td>\n",
       "      <td>NaN</td>\n",
       "      <td>2</td>\n",
       "      <td>00</td>\n",
       "      <td>Total for all sectors</td>\n",
       "      <td>...</td>\n",
       "      <td>658070063</td>\n",
       "      <td>19.0</td>\n",
       "      <td>0.2</td>\n",
       "      <td>0.7</td>\n",
       "      <td>0.6</td>\n",
       "      <td>67.5</td>\n",
       "      <td>0.4</td>\n",
       "      <td>51.9</td>\n",
       "      <td>0.4</td>\n",
       "      <td>59.2</td>\n",
       "    </tr>\n",
       "    <tr>\n",
       "      <th>4</th>\n",
       "      <td>0100000US</td>\n",
       "      <td>United States</td>\n",
       "      <td>NaN</td>\n",
       "      <td>00</td>\n",
       "      <td>NaN</td>\n",
       "      <td>NaN</td>\n",
       "      <td>NaN</td>\n",
       "      <td>2</td>\n",
       "      <td>00</td>\n",
       "      <td>Total for all sectors</td>\n",
       "      <td>...</td>\n",
       "      <td>134944004</td>\n",
       "      <td>3.9</td>\n",
       "      <td>1.3</td>\n",
       "      <td>0.6</td>\n",
       "      <td>1.5</td>\n",
       "      <td>6.6</td>\n",
       "      <td>1.0</td>\n",
       "      <td>2.2</td>\n",
       "      <td>1.0</td>\n",
       "      <td>5.3</td>\n",
       "    </tr>\n",
       "  </tbody>\n",
       "</table>\n",
       "<p>5 rows × 39 columns</p>\n",
       "</div>"
      ],
      "text/plain": [
       "      GEO_ID                  NAME      GEO_ID_F        NAICS2017  \\\n",
       "0         id  Geographic Area Name  Geo Footnote  2017 NAICS code   \n",
       "1  0100000US         United States           NaN               00   \n",
       "2  0100000US         United States           NaN               00   \n",
       "3  0100000US         United States           NaN               00   \n",
       "4  0100000US         United States           NaN               00   \n",
       "\n",
       "           NAICS2017_F  SUBSECTOR        INDGROUP        INDLEVEL  \\\n",
       "0  2017 NAICS Footnote  SUBSECTOR  Industry group  Industry level   \n",
       "1                  NaN        NaN             NaN               2   \n",
       "2                  NaN        NaN             NaN               2   \n",
       "3                  NaN        NaN             NaN               2   \n",
       "4                  NaN        NaN             NaN               2   \n",
       "\n",
       "                   SECTOR        NAICS2017_LABEL  ...  \\\n",
       "0  NAICS economic sector   Meaning of NAICS code  ...   \n",
       "1                      00  Total for all sectors  ...   \n",
       "2                      00  Total for all sectors  ...   \n",
       "3                      00  Total for all sectors  ...   \n",
       "4                      00  Total for all sectors  ...   \n",
       "\n",
       "                    PAYANN                     PAYANN_PCT  \\\n",
       "0  Annual payroll ($1,000)  Percent of annual payroll (%)   \n",
       "1               6534271084                              X   \n",
       "2                590367610                           17.1   \n",
       "3                658070063                           19.0   \n",
       "4                134944004                            3.9   \n",
       "\n",
       "                                     FIRMPDEMP_S  \\\n",
       "0  Relative standard error of employer firms (%)   \n",
       "1                                            0.0   \n",
       "2                                            0.1   \n",
       "3                                            0.2   \n",
       "4                                            1.3   \n",
       "\n",
       "                                   FIRMPDEMP_PCT_S  \\\n",
       "0  Standard error of percent of employer firms (%)   \n",
       "1                                                X   \n",
       "2                                              2.9   \n",
       "3                                              0.7   \n",
       "4                                              0.6   \n",
       "\n",
       "                                          RCPPDEMP_S  \\\n",
       "0  Relative standard error of sales, value of shi...   \n",
       "1                                                0.3   \n",
       "2                                                0.8   \n",
       "3                                                0.6   \n",
       "4                                                1.5   \n",
       "\n",
       "                                      RCPPDEMP_PCT_S  \\\n",
       "0  Standard error of percent of sales, value of s...   \n",
       "1                                                  X   \n",
       "2                                               64.7   \n",
       "3                                               67.5   \n",
       "4                                                6.6   \n",
       "\n",
       "                                               EMP_S  \\\n",
       "0  Relative standard error of number of employees...   \n",
       "1                                                0.2   \n",
       "2                                                0.3   \n",
       "3                                                0.4   \n",
       "4                                                1.0   \n",
       "\n",
       "                                    EMP_PCT_S  \\\n",
       "0  Standard error of percent of employees (%)   \n",
       "1                                           X   \n",
       "2                                        55.0   \n",
       "3                                        51.9   \n",
       "4                                         2.2   \n",
       "\n",
       "                                        PAYANN_S  \\\n",
       "0  Relative standard error of annual payroll (%)   \n",
       "1                                            0.2   \n",
       "2                                            0.7   \n",
       "3                                            0.4   \n",
       "4                                            1.0   \n",
       "\n",
       "                                      PAYANN_PCT_S  \n",
       "0  Standard error of percent of annual payroll (%)  \n",
       "1                                                X  \n",
       "2                                             60.9  \n",
       "3                                             59.2  \n",
       "4                                              5.3  \n",
       "\n",
       "[5 rows x 39 columns]"
      ]
     },
     "execution_count": 22,
     "metadata": {},
     "output_type": "execute_result"
    }
   ],
   "source": [
    "WBiz2018.head()"
   ]
  },
  {
   "cell_type": "markdown",
   "id": "b086cbac",
   "metadata": {},
   "source": [
    "# Rename Columns"
   ]
  },
  {
   "cell_type": "code",
   "execution_count": 23,
   "id": "a9a0e712",
   "metadata": {},
   "outputs": [],
   "source": [
    "WBiz2018.rename(columns={'NAICS2017' : 'NAICS', 'SEX' : 'Owners_Sex', 'ETH_GROUP' : 'Owners_Ethnicity', 'RACE_GROUP' : 'Owners_Race', 'VET_GROUP' : 'Vet_Status', 'RCPPDEMP' : 'Sales', 'EMP' : 'Employees', 'RCPPDEMP_PCT_S' : 'Sales_Std_Error', 'EMP_S' : 'Employees_Std_Error'}, inplace=True)"
   ]
  },
  {
   "cell_type": "code",
   "execution_count": 24,
   "id": "93c6f8c7",
   "metadata": {},
   "outputs": [
    {
     "data": {
      "text/html": [
       "<div>\n",
       "<style scoped>\n",
       "    .dataframe tbody tr th:only-of-type {\n",
       "        vertical-align: middle;\n",
       "    }\n",
       "\n",
       "    .dataframe tbody tr th {\n",
       "        vertical-align: top;\n",
       "    }\n",
       "\n",
       "    .dataframe thead th {\n",
       "        text-align: right;\n",
       "    }\n",
       "</style>\n",
       "<table border=\"1\" class=\"dataframe\">\n",
       "  <thead>\n",
       "    <tr style=\"text-align: right;\">\n",
       "      <th></th>\n",
       "      <th>GEO_ID</th>\n",
       "      <th>NAME</th>\n",
       "      <th>GEO_ID_F</th>\n",
       "      <th>NAICS</th>\n",
       "      <th>NAICS2017_F</th>\n",
       "      <th>SUBSECTOR</th>\n",
       "      <th>INDGROUP</th>\n",
       "      <th>INDLEVEL</th>\n",
       "      <th>SECTOR</th>\n",
       "      <th>NAICS2017_LABEL</th>\n",
       "      <th>...</th>\n",
       "      <th>PAYANN</th>\n",
       "      <th>PAYANN_PCT</th>\n",
       "      <th>FIRMPDEMP_S</th>\n",
       "      <th>FIRMPDEMP_PCT_S</th>\n",
       "      <th>RCPPDEMP_S</th>\n",
       "      <th>Sales_Std_Error</th>\n",
       "      <th>Employees_Std_Error</th>\n",
       "      <th>EMP_PCT_S</th>\n",
       "      <th>PAYANN_S</th>\n",
       "      <th>PAYANN_PCT_S</th>\n",
       "    </tr>\n",
       "  </thead>\n",
       "  <tbody>\n",
       "    <tr>\n",
       "      <th>0</th>\n",
       "      <td>id</td>\n",
       "      <td>Geographic Area Name</td>\n",
       "      <td>Geo Footnote</td>\n",
       "      <td>2017 NAICS code</td>\n",
       "      <td>2017 NAICS Footnote</td>\n",
       "      <td>SUBSECTOR</td>\n",
       "      <td>Industry group</td>\n",
       "      <td>Industry level</td>\n",
       "      <td>NAICS economic sector</td>\n",
       "      <td>Meaning of NAICS code</td>\n",
       "      <td>...</td>\n",
       "      <td>Annual payroll ($1,000)</td>\n",
       "      <td>Percent of annual payroll (%)</td>\n",
       "      <td>Relative standard error of employer firms (%)</td>\n",
       "      <td>Standard error of percent of employer firms (%)</td>\n",
       "      <td>Relative standard error of sales, value of shi...</td>\n",
       "      <td>Standard error of percent of sales, value of s...</td>\n",
       "      <td>Relative standard error of number of employees...</td>\n",
       "      <td>Standard error of percent of employees (%)</td>\n",
       "      <td>Relative standard error of annual payroll (%)</td>\n",
       "      <td>Standard error of percent of annual payroll (%)</td>\n",
       "    </tr>\n",
       "    <tr>\n",
       "      <th>1</th>\n",
       "      <td>0100000US</td>\n",
       "      <td>United States</td>\n",
       "      <td>NaN</td>\n",
       "      <td>00</td>\n",
       "      <td>NaN</td>\n",
       "      <td>NaN</td>\n",
       "      <td>NaN</td>\n",
       "      <td>2</td>\n",
       "      <td>00</td>\n",
       "      <td>Total for all sectors</td>\n",
       "      <td>...</td>\n",
       "      <td>6534271084</td>\n",
       "      <td>X</td>\n",
       "      <td>0.0</td>\n",
       "      <td>X</td>\n",
       "      <td>0.3</td>\n",
       "      <td>X</td>\n",
       "      <td>0.2</td>\n",
       "      <td>X</td>\n",
       "      <td>0.2</td>\n",
       "      <td>X</td>\n",
       "    </tr>\n",
       "    <tr>\n",
       "      <th>2</th>\n",
       "      <td>0100000US</td>\n",
       "      <td>United States</td>\n",
       "      <td>NaN</td>\n",
       "      <td>00</td>\n",
       "      <td>NaN</td>\n",
       "      <td>NaN</td>\n",
       "      <td>NaN</td>\n",
       "      <td>2</td>\n",
       "      <td>00</td>\n",
       "      <td>Total for all sectors</td>\n",
       "      <td>...</td>\n",
       "      <td>590367610</td>\n",
       "      <td>17.1</td>\n",
       "      <td>0.1</td>\n",
       "      <td>2.9</td>\n",
       "      <td>0.8</td>\n",
       "      <td>64.7</td>\n",
       "      <td>0.3</td>\n",
       "      <td>55.0</td>\n",
       "      <td>0.7</td>\n",
       "      <td>60.9</td>\n",
       "    </tr>\n",
       "    <tr>\n",
       "      <th>3</th>\n",
       "      <td>0100000US</td>\n",
       "      <td>United States</td>\n",
       "      <td>NaN</td>\n",
       "      <td>00</td>\n",
       "      <td>NaN</td>\n",
       "      <td>NaN</td>\n",
       "      <td>NaN</td>\n",
       "      <td>2</td>\n",
       "      <td>00</td>\n",
       "      <td>Total for all sectors</td>\n",
       "      <td>...</td>\n",
       "      <td>658070063</td>\n",
       "      <td>19.0</td>\n",
       "      <td>0.2</td>\n",
       "      <td>0.7</td>\n",
       "      <td>0.6</td>\n",
       "      <td>67.5</td>\n",
       "      <td>0.4</td>\n",
       "      <td>51.9</td>\n",
       "      <td>0.4</td>\n",
       "      <td>59.2</td>\n",
       "    </tr>\n",
       "    <tr>\n",
       "      <th>4</th>\n",
       "      <td>0100000US</td>\n",
       "      <td>United States</td>\n",
       "      <td>NaN</td>\n",
       "      <td>00</td>\n",
       "      <td>NaN</td>\n",
       "      <td>NaN</td>\n",
       "      <td>NaN</td>\n",
       "      <td>2</td>\n",
       "      <td>00</td>\n",
       "      <td>Total for all sectors</td>\n",
       "      <td>...</td>\n",
       "      <td>134944004</td>\n",
       "      <td>3.9</td>\n",
       "      <td>1.3</td>\n",
       "      <td>0.6</td>\n",
       "      <td>1.5</td>\n",
       "      <td>6.6</td>\n",
       "      <td>1.0</td>\n",
       "      <td>2.2</td>\n",
       "      <td>1.0</td>\n",
       "      <td>5.3</td>\n",
       "    </tr>\n",
       "  </tbody>\n",
       "</table>\n",
       "<p>5 rows × 39 columns</p>\n",
       "</div>"
      ],
      "text/plain": [
       "      GEO_ID                  NAME      GEO_ID_F            NAICS  \\\n",
       "0         id  Geographic Area Name  Geo Footnote  2017 NAICS code   \n",
       "1  0100000US         United States           NaN               00   \n",
       "2  0100000US         United States           NaN               00   \n",
       "3  0100000US         United States           NaN               00   \n",
       "4  0100000US         United States           NaN               00   \n",
       "\n",
       "           NAICS2017_F  SUBSECTOR        INDGROUP        INDLEVEL  \\\n",
       "0  2017 NAICS Footnote  SUBSECTOR  Industry group  Industry level   \n",
       "1                  NaN        NaN             NaN               2   \n",
       "2                  NaN        NaN             NaN               2   \n",
       "3                  NaN        NaN             NaN               2   \n",
       "4                  NaN        NaN             NaN               2   \n",
       "\n",
       "                   SECTOR        NAICS2017_LABEL  ...  \\\n",
       "0  NAICS economic sector   Meaning of NAICS code  ...   \n",
       "1                      00  Total for all sectors  ...   \n",
       "2                      00  Total for all sectors  ...   \n",
       "3                      00  Total for all sectors  ...   \n",
       "4                      00  Total for all sectors  ...   \n",
       "\n",
       "                    PAYANN                     PAYANN_PCT  \\\n",
       "0  Annual payroll ($1,000)  Percent of annual payroll (%)   \n",
       "1               6534271084                              X   \n",
       "2                590367610                           17.1   \n",
       "3                658070063                           19.0   \n",
       "4                134944004                            3.9   \n",
       "\n",
       "                                     FIRMPDEMP_S  \\\n",
       "0  Relative standard error of employer firms (%)   \n",
       "1                                            0.0   \n",
       "2                                            0.1   \n",
       "3                                            0.2   \n",
       "4                                            1.3   \n",
       "\n",
       "                                   FIRMPDEMP_PCT_S  \\\n",
       "0  Standard error of percent of employer firms (%)   \n",
       "1                                                X   \n",
       "2                                              2.9   \n",
       "3                                              0.7   \n",
       "4                                              0.6   \n",
       "\n",
       "                                          RCPPDEMP_S  \\\n",
       "0  Relative standard error of sales, value of shi...   \n",
       "1                                                0.3   \n",
       "2                                                0.8   \n",
       "3                                                0.6   \n",
       "4                                                1.5   \n",
       "\n",
       "                                     Sales_Std_Error  \\\n",
       "0  Standard error of percent of sales, value of s...   \n",
       "1                                                  X   \n",
       "2                                               64.7   \n",
       "3                                               67.5   \n",
       "4                                                6.6   \n",
       "\n",
       "                                 Employees_Std_Error  \\\n",
       "0  Relative standard error of number of employees...   \n",
       "1                                                0.2   \n",
       "2                                                0.3   \n",
       "3                                                0.4   \n",
       "4                                                1.0   \n",
       "\n",
       "                                    EMP_PCT_S  \\\n",
       "0  Standard error of percent of employees (%)   \n",
       "1                                           X   \n",
       "2                                        55.0   \n",
       "3                                        51.9   \n",
       "4                                         2.2   \n",
       "\n",
       "                                        PAYANN_S  \\\n",
       "0  Relative standard error of annual payroll (%)   \n",
       "1                                            0.2   \n",
       "2                                            0.7   \n",
       "3                                            0.4   \n",
       "4                                            1.0   \n",
       "\n",
       "                                      PAYANN_PCT_S  \n",
       "0  Standard error of percent of annual payroll (%)  \n",
       "1                                                X  \n",
       "2                                             60.9  \n",
       "3                                             59.2  \n",
       "4                                              5.3  \n",
       "\n",
       "[5 rows x 39 columns]"
      ]
     },
     "execution_count": 24,
     "metadata": {},
     "output_type": "execute_result"
    }
   ],
   "source": [
    "WBiz2018.head()"
   ]
  },
  {
   "cell_type": "markdown",
   "id": "b9116bcc",
   "metadata": {},
   "source": [
    "# Clean Dataset"
   ]
  },
  {
   "cell_type": "markdown",
   "id": "afd5e3cf",
   "metadata": {},
   "source": [
    "## Drop Columns"
   ]
  },
  {
   "cell_type": "code",
   "execution_count": 25,
   "id": "22266f02",
   "metadata": {},
   "outputs": [],
   "source": [
    "WBiz2018 = WBiz2018.drop(labels=0, axis=0)"
   ]
  },
  {
   "cell_type": "code",
   "execution_count": 26,
   "id": "a1fade40",
   "metadata": {
    "scrolled": true
   },
   "outputs": [
    {
     "data": {
      "text/html": [
       "<div>\n",
       "<style scoped>\n",
       "    .dataframe tbody tr th:only-of-type {\n",
       "        vertical-align: middle;\n",
       "    }\n",
       "\n",
       "    .dataframe tbody tr th {\n",
       "        vertical-align: top;\n",
       "    }\n",
       "\n",
       "    .dataframe thead th {\n",
       "        text-align: right;\n",
       "    }\n",
       "</style>\n",
       "<table border=\"1\" class=\"dataframe\">\n",
       "  <thead>\n",
       "    <tr style=\"text-align: right;\">\n",
       "      <th></th>\n",
       "      <th>GEO_ID</th>\n",
       "      <th>NAME</th>\n",
       "      <th>GEO_ID_F</th>\n",
       "      <th>NAICS</th>\n",
       "      <th>NAICS2017_F</th>\n",
       "      <th>SUBSECTOR</th>\n",
       "      <th>INDGROUP</th>\n",
       "      <th>INDLEVEL</th>\n",
       "      <th>SECTOR</th>\n",
       "      <th>NAICS2017_LABEL</th>\n",
       "      <th>...</th>\n",
       "      <th>PAYANN</th>\n",
       "      <th>PAYANN_PCT</th>\n",
       "      <th>FIRMPDEMP_S</th>\n",
       "      <th>FIRMPDEMP_PCT_S</th>\n",
       "      <th>RCPPDEMP_S</th>\n",
       "      <th>Sales_Std_Error</th>\n",
       "      <th>Employees_Std_Error</th>\n",
       "      <th>EMP_PCT_S</th>\n",
       "      <th>PAYANN_S</th>\n",
       "      <th>PAYANN_PCT_S</th>\n",
       "    </tr>\n",
       "  </thead>\n",
       "  <tbody>\n",
       "    <tr>\n",
       "      <th>1</th>\n",
       "      <td>0100000US</td>\n",
       "      <td>United States</td>\n",
       "      <td>NaN</td>\n",
       "      <td>00</td>\n",
       "      <td>NaN</td>\n",
       "      <td>NaN</td>\n",
       "      <td>NaN</td>\n",
       "      <td>2</td>\n",
       "      <td>00</td>\n",
       "      <td>Total for all sectors</td>\n",
       "      <td>...</td>\n",
       "      <td>6534271084</td>\n",
       "      <td>X</td>\n",
       "      <td>0.0</td>\n",
       "      <td>X</td>\n",
       "      <td>0.3</td>\n",
       "      <td>X</td>\n",
       "      <td>0.2</td>\n",
       "      <td>X</td>\n",
       "      <td>0.2</td>\n",
       "      <td>X</td>\n",
       "    </tr>\n",
       "    <tr>\n",
       "      <th>2</th>\n",
       "      <td>0100000US</td>\n",
       "      <td>United States</td>\n",
       "      <td>NaN</td>\n",
       "      <td>00</td>\n",
       "      <td>NaN</td>\n",
       "      <td>NaN</td>\n",
       "      <td>NaN</td>\n",
       "      <td>2</td>\n",
       "      <td>00</td>\n",
       "      <td>Total for all sectors</td>\n",
       "      <td>...</td>\n",
       "      <td>590367610</td>\n",
       "      <td>17.1</td>\n",
       "      <td>0.1</td>\n",
       "      <td>2.9</td>\n",
       "      <td>0.8</td>\n",
       "      <td>64.7</td>\n",
       "      <td>0.3</td>\n",
       "      <td>55.0</td>\n",
       "      <td>0.7</td>\n",
       "      <td>60.9</td>\n",
       "    </tr>\n",
       "    <tr>\n",
       "      <th>3</th>\n",
       "      <td>0100000US</td>\n",
       "      <td>United States</td>\n",
       "      <td>NaN</td>\n",
       "      <td>00</td>\n",
       "      <td>NaN</td>\n",
       "      <td>NaN</td>\n",
       "      <td>NaN</td>\n",
       "      <td>2</td>\n",
       "      <td>00</td>\n",
       "      <td>Total for all sectors</td>\n",
       "      <td>...</td>\n",
       "      <td>658070063</td>\n",
       "      <td>19.0</td>\n",
       "      <td>0.2</td>\n",
       "      <td>0.7</td>\n",
       "      <td>0.6</td>\n",
       "      <td>67.5</td>\n",
       "      <td>0.4</td>\n",
       "      <td>51.9</td>\n",
       "      <td>0.4</td>\n",
       "      <td>59.2</td>\n",
       "    </tr>\n",
       "    <tr>\n",
       "      <th>4</th>\n",
       "      <td>0100000US</td>\n",
       "      <td>United States</td>\n",
       "      <td>NaN</td>\n",
       "      <td>00</td>\n",
       "      <td>NaN</td>\n",
       "      <td>NaN</td>\n",
       "      <td>NaN</td>\n",
       "      <td>2</td>\n",
       "      <td>00</td>\n",
       "      <td>Total for all sectors</td>\n",
       "      <td>...</td>\n",
       "      <td>134944004</td>\n",
       "      <td>3.9</td>\n",
       "      <td>1.3</td>\n",
       "      <td>0.6</td>\n",
       "      <td>1.5</td>\n",
       "      <td>6.6</td>\n",
       "      <td>1.0</td>\n",
       "      <td>2.2</td>\n",
       "      <td>1.0</td>\n",
       "      <td>5.3</td>\n",
       "    </tr>\n",
       "    <tr>\n",
       "      <th>5</th>\n",
       "      <td>0100000US</td>\n",
       "      <td>United States</td>\n",
       "      <td>NaN</td>\n",
       "      <td>00</td>\n",
       "      <td>NaN</td>\n",
       "      <td>NaN</td>\n",
       "      <td>NaN</td>\n",
       "      <td>2</td>\n",
       "      <td>00</td>\n",
       "      <td>Total for all sectors</td>\n",
       "      <td>...</td>\n",
       "      <td>793210594</td>\n",
       "      <td>22.9</td>\n",
       "      <td>0.8</td>\n",
       "      <td>0.6</td>\n",
       "      <td>0.5</td>\n",
       "      <td>45.2</td>\n",
       "      <td>0.3</td>\n",
       "      <td>34.0</td>\n",
       "      <td>0.3</td>\n",
       "      <td>39.3</td>\n",
       "    </tr>\n",
       "  </tbody>\n",
       "</table>\n",
       "<p>5 rows × 39 columns</p>\n",
       "</div>"
      ],
      "text/plain": [
       "      GEO_ID           NAME GEO_ID_F NAICS NAICS2017_F SUBSECTOR INDGROUP  \\\n",
       "1  0100000US  United States      NaN    00         NaN       NaN      NaN   \n",
       "2  0100000US  United States      NaN    00         NaN       NaN      NaN   \n",
       "3  0100000US  United States      NaN    00         NaN       NaN      NaN   \n",
       "4  0100000US  United States      NaN    00         NaN       NaN      NaN   \n",
       "5  0100000US  United States      NaN    00         NaN       NaN      NaN   \n",
       "\n",
       "  INDLEVEL SECTOR        NAICS2017_LABEL  ...      PAYANN PAYANN_PCT  \\\n",
       "1        2     00  Total for all sectors  ...  6534271084          X   \n",
       "2        2     00  Total for all sectors  ...   590367610       17.1   \n",
       "3        2     00  Total for all sectors  ...   658070063       19.0   \n",
       "4        2     00  Total for all sectors  ...   134944004        3.9   \n",
       "5        2     00  Total for all sectors  ...   793210594       22.9   \n",
       "\n",
       "  FIRMPDEMP_S FIRMPDEMP_PCT_S RCPPDEMP_S Sales_Std_Error Employees_Std_Error  \\\n",
       "1         0.0               X        0.3               X                 0.2   \n",
       "2         0.1             2.9        0.8            64.7                 0.3   \n",
       "3         0.2             0.7        0.6            67.5                 0.4   \n",
       "4         1.3             0.6        1.5             6.6                 1.0   \n",
       "5         0.8             0.6        0.5            45.2                 0.3   \n",
       "\n",
       "  EMP_PCT_S PAYANN_S PAYANN_PCT_S  \n",
       "1         X      0.2            X  \n",
       "2      55.0      0.7         60.9  \n",
       "3      51.9      0.4         59.2  \n",
       "4       2.2      1.0          5.3  \n",
       "5      34.0      0.3         39.3  \n",
       "\n",
       "[5 rows x 39 columns]"
      ]
     },
     "execution_count": 26,
     "metadata": {},
     "output_type": "execute_result"
    }
   ],
   "source": [
    "WBiz2018.head()"
   ]
  },
  {
   "cell_type": "markdown",
   "id": "22e2c332",
   "metadata": {},
   "source": [
    "# Subset Data"
   ]
  },
  {
   "cell_type": "code",
   "execution_count": 27,
   "id": "7aafbb4f",
   "metadata": {},
   "outputs": [],
   "source": [
    "WBiz2018Sub = WBiz2018[['NAICS','Owners_Sex', 'Owners_Ethnicity', 'Owners_Race', 'Vet_Status', 'Sales', 'Employees', 'Sales_Std_Error', 'Employees_Std_Error']]\n"
   ]
  },
  {
   "cell_type": "code",
   "execution_count": 28,
   "id": "441fe9db",
   "metadata": {},
   "outputs": [
    {
     "data": {
      "text/html": [
       "<div>\n",
       "<style scoped>\n",
       "    .dataframe tbody tr th:only-of-type {\n",
       "        vertical-align: middle;\n",
       "    }\n",
       "\n",
       "    .dataframe tbody tr th {\n",
       "        vertical-align: top;\n",
       "    }\n",
       "\n",
       "    .dataframe thead th {\n",
       "        text-align: right;\n",
       "    }\n",
       "</style>\n",
       "<table border=\"1\" class=\"dataframe\">\n",
       "  <thead>\n",
       "    <tr style=\"text-align: right;\">\n",
       "      <th></th>\n",
       "      <th>NAICS</th>\n",
       "      <th>Owners_Sex</th>\n",
       "      <th>Owners_Ethnicity</th>\n",
       "      <th>Owners_Race</th>\n",
       "      <th>Vet_Status</th>\n",
       "      <th>Sales</th>\n",
       "      <th>Employees</th>\n",
       "      <th>Sales_Std_Error</th>\n",
       "      <th>Employees_Std_Error</th>\n",
       "    </tr>\n",
       "  </thead>\n",
       "  <tbody>\n",
       "    <tr>\n",
       "      <th>1</th>\n",
       "      <td>00</td>\n",
       "      <td>001</td>\n",
       "      <td>001</td>\n",
       "      <td>00</td>\n",
       "      <td>001</td>\n",
       "      <td>36579575617</td>\n",
       "      <td>127738274</td>\n",
       "      <td>X</td>\n",
       "      <td>0.2</td>\n",
       "    </tr>\n",
       "    <tr>\n",
       "      <th>2</th>\n",
       "      <td>00</td>\n",
       "      <td>001</td>\n",
       "      <td>001</td>\n",
       "      <td>00</td>\n",
       "      <td>001</td>\n",
       "      <td>2771935768</td>\n",
       "      <td>14625860</td>\n",
       "      <td>64.7</td>\n",
       "      <td>0.3</td>\n",
       "    </tr>\n",
       "    <tr>\n",
       "      <th>3</th>\n",
       "      <td>00</td>\n",
       "      <td>001</td>\n",
       "      <td>001</td>\n",
       "      <td>00</td>\n",
       "      <td>001</td>\n",
       "      <td>3174568654</td>\n",
       "      <td>16355409</td>\n",
       "      <td>67.5</td>\n",
       "      <td>0.4</td>\n",
       "    </tr>\n",
       "    <tr>\n",
       "      <th>4</th>\n",
       "      <td>00</td>\n",
       "      <td>001</td>\n",
       "      <td>001</td>\n",
       "      <td>00</td>\n",
       "      <td>001</td>\n",
       "      <td>703731293</td>\n",
       "      <td>2656817</td>\n",
       "      <td>6.6</td>\n",
       "      <td>1.0</td>\n",
       "    </tr>\n",
       "    <tr>\n",
       "      <th>5</th>\n",
       "      <td>00</td>\n",
       "      <td>001</td>\n",
       "      <td>001</td>\n",
       "      <td>00</td>\n",
       "      <td>001</td>\n",
       "      <td>5218656357</td>\n",
       "      <td>12066379</td>\n",
       "      <td>45.2</td>\n",
       "      <td>0.3</td>\n",
       "    </tr>\n",
       "  </tbody>\n",
       "</table>\n",
       "</div>"
      ],
      "text/plain": [
       "  NAICS Owners_Sex Owners_Ethnicity Owners_Race Vet_Status        Sales  \\\n",
       "1    00        001              001          00        001  36579575617   \n",
       "2    00        001              001          00        001   2771935768   \n",
       "3    00        001              001          00        001   3174568654   \n",
       "4    00        001              001          00        001    703731293   \n",
       "5    00        001              001          00        001   5218656357   \n",
       "\n",
       "   Employees Sales_Std_Error Employees_Std_Error  \n",
       "1  127738274               X                 0.2  \n",
       "2   14625860            64.7                 0.3  \n",
       "3   16355409            67.5                 0.4  \n",
       "4    2656817             6.6                 1.0  \n",
       "5   12066379            45.2                 0.3  "
      ]
     },
     "execution_count": 28,
     "metadata": {},
     "output_type": "execute_result"
    }
   ],
   "source": [
    "WBiz2018Sub.head()"
   ]
  },
  {
   "cell_type": "markdown",
   "id": "d579174d",
   "metadata": {},
   "source": [
    "# Recode Data"
   ]
  },
  {
   "cell_type": "markdown",
   "id": "21d07e4c",
   "metadata": {},
   "source": [
    "## About Dataset"
   ]
  },
  {
   "cell_type": "code",
   "execution_count": 29,
   "id": "d79a2ce0",
   "metadata": {},
   "outputs": [
    {
     "name": "stdout",
     "output_type": "stream",
     "text": [
      "<class 'pandas.core.frame.DataFrame'>\n",
      "Int64Index: 216323 entries, 1 to 216323\n",
      "Data columns (total 9 columns):\n",
      " #   Column               Non-Null Count   Dtype \n",
      "---  ------               --------------   ----- \n",
      " 0   NAICS                216323 non-null  object\n",
      " 1   Owners_Sex           216323 non-null  object\n",
      " 2   Owners_Ethnicity     216323 non-null  object\n",
      " 3   Owners_Race          216323 non-null  object\n",
      " 4   Vet_Status           216323 non-null  object\n",
      " 5   Sales                216323 non-null  object\n",
      " 6   Employees            216323 non-null  object\n",
      " 7   Sales_Std_Error      216323 non-null  object\n",
      " 8   Employees_Std_Error  216323 non-null  object\n",
      "dtypes: object(9)\n",
      "memory usage: 16.5+ MB\n"
     ]
    }
   ],
   "source": [
    "WBiz2018Sub.info()"
   ]
  },
  {
   "cell_type": "markdown",
   "id": "8b2788a1",
   "metadata": {},
   "source": [
    "## Change From Objects To Float"
   ]
  },
  {
   "cell_type": "code",
   "execution_count": 46,
   "id": "4b0d20c3",
   "metadata": {},
   "outputs": [
    {
     "name": "stdout",
     "output_type": "stream",
     "text": [
      "<class 'pandas.core.frame.DataFrame'>\n",
      "Int64Index: 216323 entries, 1 to 216323\n",
      "Data columns (total 9 columns):\n",
      " #   Column               Non-Null Count   Dtype  \n",
      "---  ------               --------------   -----  \n",
      " 0   NAICS                153787 non-null  float64\n",
      " 1   Owners_Sex           216323 non-null  int64  \n",
      " 2   Owners_Ethnicity     216323 non-null  int64  \n",
      " 3   Owners_Race          216323 non-null  int64  \n",
      " 4   Vet_Status           216323 non-null  int64  \n",
      " 5   Sales                175649 non-null  float64\n",
      " 6   Employees            175649 non-null  float64\n",
      " 7   Sales_Std_Error      141504 non-null  float64\n",
      " 8   Employees_Std_Error  175649 non-null  float64\n",
      "dtypes: float64(5), int64(4)\n",
      "memory usage: 16.5 MB\n",
      "None\n"
     ]
    }
   ],
   "source": [
    "WBiz2018Sub = WBiz2018Sub.apply (pd.to_numeric, errors='coerce')\n",
    "\n",
    "print(WBiz2018Sub.info())"
   ]
  },
  {
   "cell_type": "markdown",
   "id": "dca1490f",
   "metadata": {},
   "source": [
    "# Use Chi-Squares to determine if Owners_Sex depends on Sales"
   ]
  },
  {
   "cell_type": "code",
   "execution_count": 47,
   "id": "2e56af51",
   "metadata": {},
   "outputs": [],
   "source": [
    "from scipy import stats"
   ]
  },
  {
   "cell_type": "markdown",
   "id": "9253b282",
   "metadata": {},
   "source": [
    "## Subset For Relevant Data"
   ]
  },
  {
   "cell_type": "code",
   "execution_count": 32,
   "id": "38065441",
   "metadata": {},
   "outputs": [],
   "source": [
    "WBiz2018Sub2 = WBiz2018Sub [['Owners_Sex', 'Owners_Ethnicity', 'Owners_Race', 'Vet_Status', 'Sales', 'Employees', 'Sales_Std_Error', 'Employees_Std_Error']]"
   ]
  },
  {
   "cell_type": "code",
   "execution_count": 33,
   "id": "96bc0899",
   "metadata": {},
   "outputs": [
    {
     "name": "stdout",
     "output_type": "stream",
     "text": [
      "<class 'pandas.core.frame.DataFrame'>\n",
      "Int64Index: 216323 entries, 1 to 216323\n",
      "Data columns (total 8 columns):\n",
      " #   Column               Non-Null Count   Dtype  \n",
      "---  ------               --------------   -----  \n",
      " 0   Owners_Sex           216323 non-null  int64  \n",
      " 1   Owners_Ethnicity     216323 non-null  int64  \n",
      " 2   Owners_Race          216323 non-null  int64  \n",
      " 3   Vet_Status           216323 non-null  int64  \n",
      " 4   Sales                175649 non-null  float64\n",
      " 5   Employees            175649 non-null  float64\n",
      " 6   Sales_Std_Error      141504 non-null  float64\n",
      " 7   Employees_Std_Error  175649 non-null  float64\n",
      "dtypes: float64(4), int64(4)\n",
      "memory usage: 14.9 MB\n"
     ]
    }
   ],
   "source": [
    "WBiz2018Sub2.info()"
   ]
  },
  {
   "cell_type": "markdown",
   "id": "dbd455ae",
   "metadata": {},
   "source": [
    "## Create a contingency table:"
   ]
  },
  {
   "cell_type": "code",
   "execution_count": 34,
   "id": "8d90fd84",
   "metadata": {},
   "outputs": [],
   "source": [
    "from scipy import stats"
   ]
  },
  {
   "cell_type": "code",
   "execution_count": 35,
   "id": "c52fd044",
   "metadata": {},
   "outputs": [],
   "source": [
    "WB2018_crosstab = pd.crosstab(WBiz2018Sub2['Owners_Sex'], WBiz2018Sub2['Sales'])"
   ]
  },
  {
   "cell_type": "code",
   "execution_count": 36,
   "id": "c364f354",
   "metadata": {},
   "outputs": [
    {
     "data": {
      "text/plain": [
       "(812533.5129809569,\n",
       " 0.0,\n",
       " 604090,\n",
       " array([[2.71257465e+03, 1.40443954e+01, 4.01268439e+00, ...,\n",
       "         5.01585548e-01, 8.52695432e+00, 8.52695432e+00],\n",
       "        [7.23595443e+02, 3.74642611e+00, 1.07040746e+00, ...,\n",
       "         1.33800933e-01, 2.27461585e+00, 2.27461585e+00],\n",
       "        [9.35944936e+02, 4.84586875e+00, 1.38453393e+00, ...,\n",
       "         1.73066741e-01, 2.94213460e+00, 2.94213460e+00],\n",
       "        [8.23166019e+02, 4.26195424e+00, 1.21770121e+00, ...,\n",
       "         1.52212651e-01, 2.58761507e+00, 2.58761507e+00],\n",
       "        [1.14472294e+02, 5.92681996e-01, 1.69337713e-01, ...,\n",
       "         2.11672142e-02, 3.59842641e-01, 3.59842641e-01],\n",
       "        [9.82466624e+01, 5.08673548e-01, 1.45335299e-01, ...,\n",
       "         1.81669124e-02, 3.08837511e-01, 3.08837511e-01]]))"
      ]
     },
     "execution_count": 36,
     "metadata": {},
     "output_type": "execute_result"
    }
   ],
   "source": [
    "stats.chi2_contingency(WB2018_crosstab)"
   ]
  },
  {
   "cell_type": "markdown",
   "id": "0baaa9d0",
   "metadata": {},
   "source": [
    "### p-value < 0.05, therefore there is a significant relationship between owners_sex and the number of sales. The values in the array are more than 5 and therefore meet the assumption."
   ]
  },
  {
   "cell_type": "markdown",
   "id": "b08d8042",
   "metadata": {},
   "source": [
    "##  Run a correlation matrix"
   ]
  },
  {
   "cell_type": "code",
   "execution_count": 37,
   "id": "71a302d2",
   "metadata": {},
   "outputs": [],
   "source": [
    "import matplotlib.pyplot as plt\n",
    "import seaborn as sns"
   ]
  },
  {
   "cell_type": "code",
   "execution_count": 38,
   "id": "ec00106f",
   "metadata": {},
   "outputs": [
    {
     "data": {
      "text/html": [
       "<div>\n",
       "<style scoped>\n",
       "    .dataframe tbody tr th:only-of-type {\n",
       "        vertical-align: middle;\n",
       "    }\n",
       "\n",
       "    .dataframe tbody tr th {\n",
       "        vertical-align: top;\n",
       "    }\n",
       "\n",
       "    .dataframe thead th {\n",
       "        text-align: right;\n",
       "    }\n",
       "</style>\n",
       "<table border=\"1\" class=\"dataframe\">\n",
       "  <thead>\n",
       "    <tr style=\"text-align: right;\">\n",
       "      <th></th>\n",
       "      <th>Owners_Sex</th>\n",
       "      <th>Owners_Ethnicity</th>\n",
       "      <th>Owners_Race</th>\n",
       "      <th>Vet_Status</th>\n",
       "      <th>Sales</th>\n",
       "      <th>Employees</th>\n",
       "      <th>Sales_Std_Error</th>\n",
       "      <th>Employees_Std_Error</th>\n",
       "    </tr>\n",
       "  </thead>\n",
       "  <tbody>\n",
       "    <tr>\n",
       "      <th>Owners_Sex</th>\n",
       "      <td>1.000000</td>\n",
       "      <td>0.811591</td>\n",
       "      <td>0.255730</td>\n",
       "      <td>0.994512</td>\n",
       "      <td>0.088641</td>\n",
       "      <td>0.069031</td>\n",
       "      <td>0.008795</td>\n",
       "      <td>-0.096565</td>\n",
       "    </tr>\n",
       "    <tr>\n",
       "      <th>Owners_Ethnicity</th>\n",
       "      <td>0.811591</td>\n",
       "      <td>1.000000</td>\n",
       "      <td>-0.088355</td>\n",
       "      <td>0.811127</td>\n",
       "      <td>0.068352</td>\n",
       "      <td>0.053153</td>\n",
       "      <td>0.006776</td>\n",
       "      <td>-0.055596</td>\n",
       "    </tr>\n",
       "    <tr>\n",
       "      <th>Owners_Race</th>\n",
       "      <td>0.255730</td>\n",
       "      <td>-0.088355</td>\n",
       "      <td>1.000000</td>\n",
       "      <td>0.254996</td>\n",
       "      <td>-0.000427</td>\n",
       "      <td>-0.005526</td>\n",
       "      <td>0.013392</td>\n",
       "      <td>-0.014176</td>\n",
       "    </tr>\n",
       "    <tr>\n",
       "      <th>Vet_Status</th>\n",
       "      <td>0.994512</td>\n",
       "      <td>0.811127</td>\n",
       "      <td>0.254996</td>\n",
       "      <td>1.000000</td>\n",
       "      <td>0.090337</td>\n",
       "      <td>0.071227</td>\n",
       "      <td>0.011500</td>\n",
       "      <td>-0.098277</td>\n",
       "    </tr>\n",
       "    <tr>\n",
       "      <th>Sales</th>\n",
       "      <td>0.088641</td>\n",
       "      <td>0.068352</td>\n",
       "      <td>-0.000427</td>\n",
       "      <td>0.090337</td>\n",
       "      <td>1.000000</td>\n",
       "      <td>0.947763</td>\n",
       "      <td>0.017686</td>\n",
       "      <td>-0.119342</td>\n",
       "    </tr>\n",
       "    <tr>\n",
       "      <th>Employees</th>\n",
       "      <td>0.069031</td>\n",
       "      <td>0.053153</td>\n",
       "      <td>-0.005526</td>\n",
       "      <td>0.071227</td>\n",
       "      <td>0.947763</td>\n",
       "      <td>1.000000</td>\n",
       "      <td>0.003052</td>\n",
       "      <td>-0.134068</td>\n",
       "    </tr>\n",
       "    <tr>\n",
       "      <th>Sales_Std_Error</th>\n",
       "      <td>0.008795</td>\n",
       "      <td>0.006776</td>\n",
       "      <td>0.013392</td>\n",
       "      <td>0.011500</td>\n",
       "      <td>0.017686</td>\n",
       "      <td>0.003052</td>\n",
       "      <td>1.000000</td>\n",
       "      <td>-0.052065</td>\n",
       "    </tr>\n",
       "    <tr>\n",
       "      <th>Employees_Std_Error</th>\n",
       "      <td>-0.096565</td>\n",
       "      <td>-0.055596</td>\n",
       "      <td>-0.014176</td>\n",
       "      <td>-0.098277</td>\n",
       "      <td>-0.119342</td>\n",
       "      <td>-0.134068</td>\n",
       "      <td>-0.052065</td>\n",
       "      <td>1.000000</td>\n",
       "    </tr>\n",
       "  </tbody>\n",
       "</table>\n",
       "</div>"
      ],
      "text/plain": [
       "                     Owners_Sex  Owners_Ethnicity  Owners_Race  Vet_Status  \\\n",
       "Owners_Sex             1.000000          0.811591     0.255730    0.994512   \n",
       "Owners_Ethnicity       0.811591          1.000000    -0.088355    0.811127   \n",
       "Owners_Race            0.255730         -0.088355     1.000000    0.254996   \n",
       "Vet_Status             0.994512          0.811127     0.254996    1.000000   \n",
       "Sales                  0.088641          0.068352    -0.000427    0.090337   \n",
       "Employees              0.069031          0.053153    -0.005526    0.071227   \n",
       "Sales_Std_Error        0.008795          0.006776     0.013392    0.011500   \n",
       "Employees_Std_Error   -0.096565         -0.055596    -0.014176   -0.098277   \n",
       "\n",
       "                        Sales  Employees  Sales_Std_Error  Employees_Std_Error  \n",
       "Owners_Sex           0.088641   0.069031         0.008795            -0.096565  \n",
       "Owners_Ethnicity     0.068352   0.053153         0.006776            -0.055596  \n",
       "Owners_Race         -0.000427  -0.005526         0.013392            -0.014176  \n",
       "Vet_Status           0.090337   0.071227         0.011500            -0.098277  \n",
       "Sales                1.000000   0.947763         0.017686            -0.119342  \n",
       "Employees            0.947763   1.000000         0.003052            -0.134068  \n",
       "Sales_Std_Error      0.017686   0.003052         1.000000            -0.052065  \n",
       "Employees_Std_Error -0.119342  -0.134068        -0.052065             1.000000  "
      ]
     },
     "execution_count": 38,
     "metadata": {},
     "output_type": "execute_result"
    }
   ],
   "source": [
    "WBiz2018Sub2.corr(method='pearson')"
   ]
  },
  {
   "cell_type": "code",
   "execution_count": 40,
   "id": "44dd9ad7",
   "metadata": {},
   "outputs": [
    {
     "data": {
      "text/plain": [
       "<AxesSubplot:>"
      ]
     },
     "execution_count": 40,
     "metadata": {},
     "output_type": "execute_result"
    },
    {
     "data": {
      "image/png": "[encoded data removed]",
      "text/plain": [
       "<Figure size 432x288 with 2 Axes>"
      ]
     },
     "metadata": {
      "needs_background": "light"
     },
     "output_type": "display_data"
    }
   ],
   "source": [
    "sns.heatmap(WBiz2018Sub2.corr(), annot=True)"
   ]
  },
  {
   "cell_type": "markdown",
   "id": "e080b866",
   "metadata": {},
   "source": [
    "### Strong, positive correlations between owners_sex, owners_ethnicity, & vet_status."
   ]
  },
  {
   "cell_type": "markdown",
   "id": "13d9b6a9",
   "metadata": {},
   "source": [
    "# Determine Dependent t-Test"
   ]
  },
  {
   "cell_type": "code",
   "execution_count": 41,
   "id": "a2016771",
   "metadata": {},
   "outputs": [],
   "source": [
    "from scipy import stats"
   ]
  },
  {
   "cell_type": "markdown",
   "id": "28318580",
   "metadata": {},
   "source": [
    "## Test assumptions:"
   ]
  },
  {
   "cell_type": "code",
   "execution_count": 42,
   "id": "8ff41d89",
   "metadata": {},
   "outputs": [
    {
     "data": {
      "text/plain": [
       "<AxesSubplot:>"
      ]
     },
     "execution_count": 42,
     "metadata": {},
     "output_type": "execute_result"
    },
    {
     "data": {
      "image/png": "[encoded data removed]",
      "text/plain": [
       "<Figure size 432x288 with 1 Axes>"
      ]
     },
     "metadata": {
      "needs_background": "light"
     },
     "output_type": "display_data"
    }
   ],
   "source": [
    "WBiz2018Sub2['Owners_Sex'].hist()"
   ]
  },
  {
   "cell_type": "code",
   "execution_count": 43,
   "id": "4192a85f",
   "metadata": {},
   "outputs": [
    {
     "data": {
      "text/plain": [
       "<AxesSubplot:>"
      ]
     },
     "execution_count": 43,
     "metadata": {},
     "output_type": "execute_result"
    },
    {
     "data": {
      "image/png": "[encoded data removed]",
      "text/plain": [
       "<Figure size 432x288 with 1 Axes>"
      ]
     },
     "metadata": {
      "needs_background": "light"
     },
     "output_type": "display_data"
    }
   ],
   "source": [
    "WBiz2018Sub2['Owners_Ethnicity'].hist()"
   ]
  },
  {
   "cell_type": "code",
   "execution_count": 44,
   "id": "aecf90b0",
   "metadata": {},
   "outputs": [
    {
     "data": {
      "text/plain": [
       "<AxesSubplot:>"
      ]
     },
     "execution_count": 44,
     "metadata": {},
     "output_type": "execute_result"
    },
    {
     "data": {
      "image/png": "[encoded data removed]",
      "text/plain": [
       "<Figure size 432x288 with 1 Axes>"
      ]
     },
     "metadata": {
      "needs_background": "light"
     },
     "output_type": "display_data"
    }
   ],
   "source": [
    "WBiz2018Sub2['Vet_Status'].hist()\n"
   ]
  },
  {
   "cell_type": "code",
   "execution_count": 45,
   "id": "6a98043e",
   "metadata": {},
   "outputs": [
    {
     "data": {
      "text/plain": [
       "<AxesSubplot:>"
      ]
     },
     "execution_count": 45,
     "metadata": {},
     "output_type": "execute_result"
    },
    {
     "data": {
      "image/png": "[encoded data removed]",
      "text/plain": [
       "<Figure size 432x288 with 1 Axes>"
      ]
     },
     "metadata": {
      "needs_background": "light"
     },
     "output_type": "display_data"
    }
   ],
   "source": [
    "WBiz2018Sub2['Sales'].hist()"
   ]
  },
  {
   "cell_type": "markdown",
   "id": "ee4464ca",
   "metadata": {},
   "source": [
    "### Data is not normally distributed and therefore violates assumptions."
   ]
  },
  {
   "cell_type": "code",
   "execution_count": null,
   "id": "e95a7d08",
   "metadata": {},
   "outputs": [],
   "source": []
  }
 ],
 "metadata": {
  "kernelspec": {
   "display_name": "Python 3",
   "language": "python",
   "name": "python3"
  },
  "language_info": {
   "codemirror_mode": {
    "name": "ipython",
    "version": 3
   },
   "file_extension": ".py",
   "mimetype": "text/x-python",
   "name": "python",
   "nbconvert_exporter": "python",
   "pygments_lexer": "ipython3",
   "version": "3.8.8"
  }
 },
 "nbformat": 4,
 "nbformat_minor": 5
}
