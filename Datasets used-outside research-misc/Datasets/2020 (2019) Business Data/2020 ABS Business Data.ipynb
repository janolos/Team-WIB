{
 "cells": [
  {
   "cell_type": "code",
   "execution_count": 1,
   "id": "329eaec0",
   "metadata": {},
   "outputs": [],
   "source": [
    "import pandas as pd\n",
    "import numpy as np"
   ]
  },
  {
   "cell_type": "code",
   "execution_count": 2,
   "id": "7cb31700",
   "metadata": {},
   "outputs": [],
   "source": [
    "WBiz2020 = pd.read_csv('2020-2019 Census Business Data.csv')"
   ]
  },
  {
   "cell_type": "code",
   "execution_count": 3,
   "id": "c7cf79ad",
   "metadata": {},
   "outputs": [
    {
     "data": {
      "text/html": [
       "<div>\n",
       "<style scoped>\n",
       "    .dataframe tbody tr th:only-of-type {\n",
       "        vertical-align: middle;\n",
       "    }\n",
       "\n",
       "    .dataframe tbody tr th {\n",
       "        vertical-align: top;\n",
       "    }\n",
       "\n",
       "    .dataframe thead th {\n",
       "        text-align: right;\n",
       "    }\n",
       "</style>\n",
       "<table border=\"1\" class=\"dataframe\">\n",
       "  <thead>\n",
       "    <tr style=\"text-align: right;\">\n",
       "      <th></th>\n",
       "      <th>GEO_ID</th>\n",
       "      <th>GEO_ID_F</th>\n",
       "      <th>NAME</th>\n",
       "      <th>NAICS2017</th>\n",
       "      <th>NAICS2017_F</th>\n",
       "      <th>NAICS2017_LABEL</th>\n",
       "      <th>SEX</th>\n",
       "      <th>SEX_LABEL</th>\n",
       "      <th>ETH_GROUP</th>\n",
       "      <th>ETH_GROUP_LABEL</th>\n",
       "      <th>...</th>\n",
       "      <th>EMPSZFI_LABEL</th>\n",
       "      <th>YEAR</th>\n",
       "      <th>FIRMPDEMP</th>\n",
       "      <th>RCPPDEMP</th>\n",
       "      <th>EMP</th>\n",
       "      <th>PAYANN</th>\n",
       "      <th>FIRMPDEMP_S</th>\n",
       "      <th>RCPPDEMP_S</th>\n",
       "      <th>EMP_S</th>\n",
       "      <th>PAYANN_S</th>\n",
       "    </tr>\n",
       "  </thead>\n",
       "  <tbody>\n",
       "    <tr>\n",
       "      <th>0</th>\n",
       "      <td>id</td>\n",
       "      <td>Geo Footnote</td>\n",
       "      <td>Geographic Area Name</td>\n",
       "      <td>2017 NAICS code</td>\n",
       "      <td>2017 NAICS Footnote</td>\n",
       "      <td>Meaning of NAICS code</td>\n",
       "      <td>Sex code</td>\n",
       "      <td>Meaning of Sex code</td>\n",
       "      <td>Ethnicity code</td>\n",
       "      <td>Meaning of Ethnicity code</td>\n",
       "      <td>...</td>\n",
       "      <td>Meaning of Employment size of firms code</td>\n",
       "      <td>Year</td>\n",
       "      <td>Number of employer firms</td>\n",
       "      <td>Sales, value of shipments, or revenue of emplo...</td>\n",
       "      <td>Number of employees</td>\n",
       "      <td>Annual payroll ($1,000)</td>\n",
       "      <td>Relative standard error of employer firms (%)</td>\n",
       "      <td>Relative standard error of sales, value of shi...</td>\n",
       "      <td>Relative standard error of number of employees...</td>\n",
       "      <td>Relative standard error of annual payroll (%)</td>\n",
       "    </tr>\n",
       "    <tr>\n",
       "      <th>1</th>\n",
       "      <td>0100000US</td>\n",
       "      <td>NaN</td>\n",
       "      <td>United States</td>\n",
       "      <td>00</td>\n",
       "      <td>NaN</td>\n",
       "      <td>Total for all sectors</td>\n",
       "      <td>001</td>\n",
       "      <td>Total</td>\n",
       "      <td>001</td>\n",
       "      <td>Total</td>\n",
       "      <td>...</td>\n",
       "      <td>Firms with no employees</td>\n",
       "      <td>2019</td>\n",
       "      <td>730078</td>\n",
       "      <td>298164421</td>\n",
       "      <td>0</td>\n",
       "      <td>50074562</td>\n",
       "      <td>0.8</td>\n",
       "      <td>3.6</td>\n",
       "      <td>0.0</td>\n",
       "      <td>2.4</td>\n",
       "    </tr>\n",
       "    <tr>\n",
       "      <th>2</th>\n",
       "      <td>0100000US</td>\n",
       "      <td>NaN</td>\n",
       "      <td>United States</td>\n",
       "      <td>00</td>\n",
       "      <td>NaN</td>\n",
       "      <td>Total for all sectors</td>\n",
       "      <td>001</td>\n",
       "      <td>Total</td>\n",
       "      <td>001</td>\n",
       "      <td>Total</td>\n",
       "      <td>...</td>\n",
       "      <td>Firms with 1 to 4 employees</td>\n",
       "      <td>2019</td>\n",
       "      <td>2826849</td>\n",
       "      <td>1266736429</td>\n",
       "      <td>5632339</td>\n",
       "      <td>233431702</td>\n",
       "      <td>0.4</td>\n",
       "      <td>1.1</td>\n",
       "      <td>0.6</td>\n",
       "      <td>1.3</td>\n",
       "    </tr>\n",
       "    <tr>\n",
       "      <th>3</th>\n",
       "      <td>0100000US</td>\n",
       "      <td>NaN</td>\n",
       "      <td>United States</td>\n",
       "      <td>00</td>\n",
       "      <td>NaN</td>\n",
       "      <td>Total for all sectors</td>\n",
       "      <td>001</td>\n",
       "      <td>Total</td>\n",
       "      <td>001</td>\n",
       "      <td>Total</td>\n",
       "      <td>...</td>\n",
       "      <td>Firms with 5 to 9 employees</td>\n",
       "      <td>2019</td>\n",
       "      <td>959641</td>\n",
       "      <td>1142368704</td>\n",
       "      <td>6329828</td>\n",
       "      <td>257601290</td>\n",
       "      <td>1.0</td>\n",
       "      <td>1.5</td>\n",
       "      <td>0.9</td>\n",
       "      <td>1.1</td>\n",
       "    </tr>\n",
       "    <tr>\n",
       "      <th>4</th>\n",
       "      <td>0100000US</td>\n",
       "      <td>NaN</td>\n",
       "      <td>United States</td>\n",
       "      <td>00</td>\n",
       "      <td>NaN</td>\n",
       "      <td>Total for all sectors</td>\n",
       "      <td>001</td>\n",
       "      <td>Total</td>\n",
       "      <td>001</td>\n",
       "      <td>Total</td>\n",
       "      <td>...</td>\n",
       "      <td>Firms with 10 to 19 employees</td>\n",
       "      <td>2019</td>\n",
       "      <td>609335</td>\n",
       "      <td>1440258482</td>\n",
       "      <td>8211284</td>\n",
       "      <td>347772825</td>\n",
       "      <td>0.9</td>\n",
       "      <td>2.5</td>\n",
       "      <td>1.0</td>\n",
       "      <td>1.6</td>\n",
       "    </tr>\n",
       "  </tbody>\n",
       "</table>\n",
       "<p>5 rows × 25 columns</p>\n",
       "</div>"
      ],
      "text/plain": [
       "      GEO_ID      GEO_ID_F                  NAME        NAICS2017  \\\n",
       "0         id  Geo Footnote  Geographic Area Name  2017 NAICS code   \n",
       "1  0100000US           NaN         United States               00   \n",
       "2  0100000US           NaN         United States               00   \n",
       "3  0100000US           NaN         United States               00   \n",
       "4  0100000US           NaN         United States               00   \n",
       "\n",
       "           NAICS2017_F        NAICS2017_LABEL       SEX            SEX_LABEL  \\\n",
       "0  2017 NAICS Footnote  Meaning of NAICS code  Sex code  Meaning of Sex code   \n",
       "1                  NaN  Total for all sectors       001                Total   \n",
       "2                  NaN  Total for all sectors       001                Total   \n",
       "3                  NaN  Total for all sectors       001                Total   \n",
       "4                  NaN  Total for all sectors       001                Total   \n",
       "\n",
       "        ETH_GROUP            ETH_GROUP_LABEL  ...  \\\n",
       "0  Ethnicity code  Meaning of Ethnicity code  ...   \n",
       "1             001                      Total  ...   \n",
       "2             001                      Total  ...   \n",
       "3             001                      Total  ...   \n",
       "4             001                      Total  ...   \n",
       "\n",
       "                              EMPSZFI_LABEL  YEAR                 FIRMPDEMP  \\\n",
       "0  Meaning of Employment size of firms code  Year  Number of employer firms   \n",
       "1                   Firms with no employees  2019                    730078   \n",
       "2               Firms with 1 to 4 employees  2019                   2826849   \n",
       "3               Firms with 5 to 9 employees  2019                    959641   \n",
       "4             Firms with 10 to 19 employees  2019                    609335   \n",
       "\n",
       "                                            RCPPDEMP                  EMP  \\\n",
       "0  Sales, value of shipments, or revenue of emplo...  Number of employees   \n",
       "1                                          298164421                    0   \n",
       "2                                         1266736429              5632339   \n",
       "3                                         1142368704              6329828   \n",
       "4                                         1440258482              8211284   \n",
       "\n",
       "                    PAYANN                                    FIRMPDEMP_S  \\\n",
       "0  Annual payroll ($1,000)  Relative standard error of employer firms (%)   \n",
       "1                 50074562                                            0.8   \n",
       "2                233431702                                            0.4   \n",
       "3                257601290                                            1.0   \n",
       "4                347772825                                            0.9   \n",
       "\n",
       "                                          RCPPDEMP_S  \\\n",
       "0  Relative standard error of sales, value of shi...   \n",
       "1                                                3.6   \n",
       "2                                                1.1   \n",
       "3                                                1.5   \n",
       "4                                                2.5   \n",
       "\n",
       "                                               EMP_S  \\\n",
       "0  Relative standard error of number of employees...   \n",
       "1                                                0.0   \n",
       "2                                                0.6   \n",
       "3                                                0.9   \n",
       "4                                                1.0   \n",
       "\n",
       "                                        PAYANN_S  \n",
       "0  Relative standard error of annual payroll (%)  \n",
       "1                                            2.4  \n",
       "2                                            1.3  \n",
       "3                                            1.1  \n",
       "4                                            1.6  \n",
       "\n",
       "[5 rows x 25 columns]"
      ]
     },
     "execution_count": 3,
     "metadata": {},
     "output_type": "execute_result"
    }
   ],
   "source": [
    "WBiz2020.head()"
   ]
  },
  {
   "cell_type": "markdown",
   "id": "d26ed17f",
   "metadata": {},
   "source": [
    "## Rename Columns "
   ]
  },
  {
   "cell_type": "code",
   "execution_count": 4,
   "id": "db21bdea",
   "metadata": {},
   "outputs": [],
   "source": [
    "WB2020_1 = WBiz2020.rename(columns={'NAICS2017':'NAICS',\n",
    "                                       'SEX':'Owners_Sex',\n",
    "                                       'ETH_GROUP': 'Owners_Ethnicity', \n",
    "                                       'RACE_GROUP':'Owners_Race', \n",
    "                                       'VET_GROUP':'Vet_Status', \n",
    "                                       'RCPPDEMP':'Sales', \n",
    "                                       'EMP': 'Employees', \n",
    "                                       'RCPPDEMP_S':'Sales_Std_Error', \n",
    "                                       'EMP_S':'Employees_Std_Error'})"
   ]
  },
  {
   "cell_type": "markdown",
   "id": "012dd614",
   "metadata": {},
   "source": [
    "## Subset Dataset"
   ]
  },
  {
   "cell_type": "code",
   "execution_count": 6,
   "id": "17df4f93",
   "metadata": {},
   "outputs": [
    {
     "data": {
      "text/html": [
       "<div>\n",
       "<style scoped>\n",
       "    .dataframe tbody tr th:only-of-type {\n",
       "        vertical-align: middle;\n",
       "    }\n",
       "\n",
       "    .dataframe tbody tr th {\n",
       "        vertical-align: top;\n",
       "    }\n",
       "\n",
       "    .dataframe thead th {\n",
       "        text-align: right;\n",
       "    }\n",
       "</style>\n",
       "<table border=\"1\" class=\"dataframe\">\n",
       "  <thead>\n",
       "    <tr style=\"text-align: right;\">\n",
       "      <th></th>\n",
       "      <th>GEO_ID</th>\n",
       "      <th>GEO_ID_F</th>\n",
       "      <th>NAME</th>\n",
       "      <th>NAICS</th>\n",
       "      <th>NAICS2017_F</th>\n",
       "      <th>NAICS2017_LABEL</th>\n",
       "      <th>Owners_Sex</th>\n",
       "      <th>SEX_LABEL</th>\n",
       "      <th>Owners_Ethnicity</th>\n",
       "      <th>ETH_GROUP_LABEL</th>\n",
       "      <th>...</th>\n",
       "      <th>EMPSZFI_LABEL</th>\n",
       "      <th>YEAR</th>\n",
       "      <th>FIRMPDEMP</th>\n",
       "      <th>Sales</th>\n",
       "      <th>Employees</th>\n",
       "      <th>PAYANN</th>\n",
       "      <th>FIRMPDEMP_S</th>\n",
       "      <th>Sales_Std_Error</th>\n",
       "      <th>Employees_Std_Error</th>\n",
       "      <th>PAYANN_S</th>\n",
       "    </tr>\n",
       "  </thead>\n",
       "  <tbody>\n",
       "    <tr>\n",
       "      <th>0</th>\n",
       "      <td>id</td>\n",
       "      <td>Geo Footnote</td>\n",
       "      <td>Geographic Area Name</td>\n",
       "      <td>2017 NAICS code</td>\n",
       "      <td>2017 NAICS Footnote</td>\n",
       "      <td>Meaning of NAICS code</td>\n",
       "      <td>Sex code</td>\n",
       "      <td>Meaning of Sex code</td>\n",
       "      <td>Ethnicity code</td>\n",
       "      <td>Meaning of Ethnicity code</td>\n",
       "      <td>...</td>\n",
       "      <td>Meaning of Employment size of firms code</td>\n",
       "      <td>Year</td>\n",
       "      <td>Number of employer firms</td>\n",
       "      <td>Sales, value of shipments, or revenue of emplo...</td>\n",
       "      <td>Number of employees</td>\n",
       "      <td>Annual payroll ($1,000)</td>\n",
       "      <td>Relative standard error of employer firms (%)</td>\n",
       "      <td>Relative standard error of sales, value of shi...</td>\n",
       "      <td>Relative standard error of number of employees...</td>\n",
       "      <td>Relative standard error of annual payroll (%)</td>\n",
       "    </tr>\n",
       "    <tr>\n",
       "      <th>1</th>\n",
       "      <td>0100000US</td>\n",
       "      <td>NaN</td>\n",
       "      <td>United States</td>\n",
       "      <td>00</td>\n",
       "      <td>NaN</td>\n",
       "      <td>Total for all sectors</td>\n",
       "      <td>001</td>\n",
       "      <td>Total</td>\n",
       "      <td>001</td>\n",
       "      <td>Total</td>\n",
       "      <td>...</td>\n",
       "      <td>Firms with no employees</td>\n",
       "      <td>2019</td>\n",
       "      <td>730078</td>\n",
       "      <td>298164421</td>\n",
       "      <td>0</td>\n",
       "      <td>50074562</td>\n",
       "      <td>0.8</td>\n",
       "      <td>3.6</td>\n",
       "      <td>0.0</td>\n",
       "      <td>2.4</td>\n",
       "    </tr>\n",
       "    <tr>\n",
       "      <th>2</th>\n",
       "      <td>0100000US</td>\n",
       "      <td>NaN</td>\n",
       "      <td>United States</td>\n",
       "      <td>00</td>\n",
       "      <td>NaN</td>\n",
       "      <td>Total for all sectors</td>\n",
       "      <td>001</td>\n",
       "      <td>Total</td>\n",
       "      <td>001</td>\n",
       "      <td>Total</td>\n",
       "      <td>...</td>\n",
       "      <td>Firms with 1 to 4 employees</td>\n",
       "      <td>2019</td>\n",
       "      <td>2826849</td>\n",
       "      <td>1266736429</td>\n",
       "      <td>5632339</td>\n",
       "      <td>233431702</td>\n",
       "      <td>0.4</td>\n",
       "      <td>1.1</td>\n",
       "      <td>0.6</td>\n",
       "      <td>1.3</td>\n",
       "    </tr>\n",
       "    <tr>\n",
       "      <th>3</th>\n",
       "      <td>0100000US</td>\n",
       "      <td>NaN</td>\n",
       "      <td>United States</td>\n",
       "      <td>00</td>\n",
       "      <td>NaN</td>\n",
       "      <td>Total for all sectors</td>\n",
       "      <td>001</td>\n",
       "      <td>Total</td>\n",
       "      <td>001</td>\n",
       "      <td>Total</td>\n",
       "      <td>...</td>\n",
       "      <td>Firms with 5 to 9 employees</td>\n",
       "      <td>2019</td>\n",
       "      <td>959641</td>\n",
       "      <td>1142368704</td>\n",
       "      <td>6329828</td>\n",
       "      <td>257601290</td>\n",
       "      <td>1.0</td>\n",
       "      <td>1.5</td>\n",
       "      <td>0.9</td>\n",
       "      <td>1.1</td>\n",
       "    </tr>\n",
       "    <tr>\n",
       "      <th>4</th>\n",
       "      <td>0100000US</td>\n",
       "      <td>NaN</td>\n",
       "      <td>United States</td>\n",
       "      <td>00</td>\n",
       "      <td>NaN</td>\n",
       "      <td>Total for all sectors</td>\n",
       "      <td>001</td>\n",
       "      <td>Total</td>\n",
       "      <td>001</td>\n",
       "      <td>Total</td>\n",
       "      <td>...</td>\n",
       "      <td>Firms with 10 to 19 employees</td>\n",
       "      <td>2019</td>\n",
       "      <td>609335</td>\n",
       "      <td>1440258482</td>\n",
       "      <td>8211284</td>\n",
       "      <td>347772825</td>\n",
       "      <td>0.9</td>\n",
       "      <td>2.5</td>\n",
       "      <td>1.0</td>\n",
       "      <td>1.6</td>\n",
       "    </tr>\n",
       "  </tbody>\n",
       "</table>\n",
       "<p>5 rows × 25 columns</p>\n",
       "</div>"
      ],
      "text/plain": [
       "      GEO_ID      GEO_ID_F                  NAME            NAICS  \\\n",
       "0         id  Geo Footnote  Geographic Area Name  2017 NAICS code   \n",
       "1  0100000US           NaN         United States               00   \n",
       "2  0100000US           NaN         United States               00   \n",
       "3  0100000US           NaN         United States               00   \n",
       "4  0100000US           NaN         United States               00   \n",
       "\n",
       "           NAICS2017_F        NAICS2017_LABEL Owners_Sex            SEX_LABEL  \\\n",
       "0  2017 NAICS Footnote  Meaning of NAICS code   Sex code  Meaning of Sex code   \n",
       "1                  NaN  Total for all sectors        001                Total   \n",
       "2                  NaN  Total for all sectors        001                Total   \n",
       "3                  NaN  Total for all sectors        001                Total   \n",
       "4                  NaN  Total for all sectors        001                Total   \n",
       "\n",
       "  Owners_Ethnicity            ETH_GROUP_LABEL  ...  \\\n",
       "0   Ethnicity code  Meaning of Ethnicity code  ...   \n",
       "1              001                      Total  ...   \n",
       "2              001                      Total  ...   \n",
       "3              001                      Total  ...   \n",
       "4              001                      Total  ...   \n",
       "\n",
       "                              EMPSZFI_LABEL  YEAR                 FIRMPDEMP  \\\n",
       "0  Meaning of Employment size of firms code  Year  Number of employer firms   \n",
       "1                   Firms with no employees  2019                    730078   \n",
       "2               Firms with 1 to 4 employees  2019                   2826849   \n",
       "3               Firms with 5 to 9 employees  2019                    959641   \n",
       "4             Firms with 10 to 19 employees  2019                    609335   \n",
       "\n",
       "                                               Sales            Employees  \\\n",
       "0  Sales, value of shipments, or revenue of emplo...  Number of employees   \n",
       "1                                          298164421                    0   \n",
       "2                                         1266736429              5632339   \n",
       "3                                         1142368704              6329828   \n",
       "4                                         1440258482              8211284   \n",
       "\n",
       "                    PAYANN                                    FIRMPDEMP_S  \\\n",
       "0  Annual payroll ($1,000)  Relative standard error of employer firms (%)   \n",
       "1                 50074562                                            0.8   \n",
       "2                233431702                                            0.4   \n",
       "3                257601290                                            1.0   \n",
       "4                347772825                                            0.9   \n",
       "\n",
       "                                     Sales_Std_Error  \\\n",
       "0  Relative standard error of sales, value of shi...   \n",
       "1                                                3.6   \n",
       "2                                                1.1   \n",
       "3                                                1.5   \n",
       "4                                                2.5   \n",
       "\n",
       "                                 Employees_Std_Error  \\\n",
       "0  Relative standard error of number of employees...   \n",
       "1                                                0.0   \n",
       "2                                                0.6   \n",
       "3                                                0.9   \n",
       "4                                                1.0   \n",
       "\n",
       "                                        PAYANN_S  \n",
       "0  Relative standard error of annual payroll (%)  \n",
       "1                                            2.4  \n",
       "2                                            1.3  \n",
       "3                                            1.1  \n",
       "4                                            1.6  \n",
       "\n",
       "[5 rows x 25 columns]"
      ]
     },
     "execution_count": 6,
     "metadata": {},
     "output_type": "execute_result"
    }
   ],
   "source": [
    "WB2020_1.head()"
   ]
  },
  {
   "cell_type": "code",
   "execution_count": 7,
   "id": "1ba6a61e",
   "metadata": {},
   "outputs": [],
   "source": [
    "WB2020_2 = WB2020_1[['NAICS', 'Owners_Sex', 'Owners_Ethnicity', 'Owners_Race', 'Vet_Status', 'Sales', 'Employees', 'Sales_Std_Error', 'Employees_Std_Error']]"
   ]
  },
  {
   "cell_type": "code",
   "execution_count": 8,
   "id": "71284367",
   "metadata": {},
   "outputs": [
    {
     "data": {
      "text/html": [
       "<div>\n",
       "<style scoped>\n",
       "    .dataframe tbody tr th:only-of-type {\n",
       "        vertical-align: middle;\n",
       "    }\n",
       "\n",
       "    .dataframe tbody tr th {\n",
       "        vertical-align: top;\n",
       "    }\n",
       "\n",
       "    .dataframe thead th {\n",
       "        text-align: right;\n",
       "    }\n",
       "</style>\n",
       "<table border=\"1\" class=\"dataframe\">\n",
       "  <thead>\n",
       "    <tr style=\"text-align: right;\">\n",
       "      <th></th>\n",
       "      <th>NAICS</th>\n",
       "      <th>Owners_Sex</th>\n",
       "      <th>Owners_Ethnicity</th>\n",
       "      <th>Owners_Race</th>\n",
       "      <th>Vet_Status</th>\n",
       "      <th>Sales</th>\n",
       "      <th>Employees</th>\n",
       "      <th>Sales_Std_Error</th>\n",
       "      <th>Employees_Std_Error</th>\n",
       "    </tr>\n",
       "  </thead>\n",
       "  <tbody>\n",
       "    <tr>\n",
       "      <th>0</th>\n",
       "      <td>2017 NAICS code</td>\n",
       "      <td>Sex code</td>\n",
       "      <td>Ethnicity code</td>\n",
       "      <td>Race code</td>\n",
       "      <td>Veteran code</td>\n",
       "      <td>Sales, value of shipments, or revenue of emplo...</td>\n",
       "      <td>Number of employees</td>\n",
       "      <td>Relative standard error of sales, value of shi...</td>\n",
       "      <td>Relative standard error of number of employees...</td>\n",
       "    </tr>\n",
       "    <tr>\n",
       "      <th>1</th>\n",
       "      <td>00</td>\n",
       "      <td>001</td>\n",
       "      <td>001</td>\n",
       "      <td>00</td>\n",
       "      <td>001</td>\n",
       "      <td>298164421</td>\n",
       "      <td>0</td>\n",
       "      <td>3.6</td>\n",
       "      <td>0.0</td>\n",
       "    </tr>\n",
       "    <tr>\n",
       "      <th>2</th>\n",
       "      <td>00</td>\n",
       "      <td>001</td>\n",
       "      <td>001</td>\n",
       "      <td>00</td>\n",
       "      <td>001</td>\n",
       "      <td>1266736429</td>\n",
       "      <td>5632339</td>\n",
       "      <td>1.1</td>\n",
       "      <td>0.6</td>\n",
       "    </tr>\n",
       "    <tr>\n",
       "      <th>3</th>\n",
       "      <td>00</td>\n",
       "      <td>001</td>\n",
       "      <td>001</td>\n",
       "      <td>00</td>\n",
       "      <td>001</td>\n",
       "      <td>1142368704</td>\n",
       "      <td>6329828</td>\n",
       "      <td>1.5</td>\n",
       "      <td>0.9</td>\n",
       "    </tr>\n",
       "    <tr>\n",
       "      <th>4</th>\n",
       "      <td>00</td>\n",
       "      <td>001</td>\n",
       "      <td>001</td>\n",
       "      <td>00</td>\n",
       "      <td>001</td>\n",
       "      <td>1440258482</td>\n",
       "      <td>8211284</td>\n",
       "      <td>2.5</td>\n",
       "      <td>1.0</td>\n",
       "    </tr>\n",
       "  </tbody>\n",
       "</table>\n",
       "</div>"
      ],
      "text/plain": [
       "             NAICS Owners_Sex Owners_Ethnicity Owners_Race    Vet_Status  \\\n",
       "0  2017 NAICS code   Sex code   Ethnicity code   Race code  Veteran code   \n",
       "1               00        001              001          00           001   \n",
       "2               00        001              001          00           001   \n",
       "3               00        001              001          00           001   \n",
       "4               00        001              001          00           001   \n",
       "\n",
       "                                               Sales            Employees  \\\n",
       "0  Sales, value of shipments, or revenue of emplo...  Number of employees   \n",
       "1                                          298164421                    0   \n",
       "2                                         1266736429              5632339   \n",
       "3                                         1142368704              6329828   \n",
       "4                                         1440258482              8211284   \n",
       "\n",
       "                                     Sales_Std_Error  \\\n",
       "0  Relative standard error of sales, value of shi...   \n",
       "1                                                3.6   \n",
       "2                                                1.1   \n",
       "3                                                1.5   \n",
       "4                                                2.5   \n",
       "\n",
       "                                 Employees_Std_Error  \n",
       "0  Relative standard error of number of employees...  \n",
       "1                                                0.0  \n",
       "2                                                0.6  \n",
       "3                                                0.9  \n",
       "4                                                1.0  "
      ]
     },
     "execution_count": 8,
     "metadata": {},
     "output_type": "execute_result"
    }
   ],
   "source": [
    "WB2020_2.head()"
   ]
  },
  {
   "cell_type": "markdown",
   "id": "a622e809",
   "metadata": {},
   "source": [
    "## Convert datatype to integer "
   ]
  },
  {
   "cell_type": "code",
   "execution_count": 9,
   "id": "9944bea9",
   "metadata": {
    "scrolled": false
   },
   "outputs": [
    {
     "name": "stdout",
     "output_type": "stream",
     "text": [
      "<class 'pandas.core.frame.DataFrame'>\n",
      "RangeIndex: 15312 entries, 0 to 15311\n",
      "Data columns (total 9 columns):\n",
      " #   Column               Non-Null Count  Dtype \n",
      "---  ------               --------------  ----- \n",
      " 0   NAICS                15312 non-null  object\n",
      " 1   Owners_Sex           15312 non-null  object\n",
      " 2   Owners_Ethnicity     15312 non-null  object\n",
      " 3   Owners_Race          15312 non-null  object\n",
      " 4   Vet_Status           15312 non-null  object\n",
      " 5   Sales                15312 non-null  object\n",
      " 6   Employees            15312 non-null  object\n",
      " 7   Sales_Std_Error      15312 non-null  object\n",
      " 8   Employees_Std_Error  15312 non-null  object\n",
      "dtypes: object(9)\n",
      "memory usage: 1.1+ MB\n"
     ]
    }
   ],
   "source": [
    "WB2020_2.info()"
   ]
  },
  {
   "cell_type": "code",
   "execution_count": 10,
   "id": "5dcf27e5",
   "metadata": {},
   "outputs": [],
   "source": [
    "WB2020_3 = WB2020_2.apply(pd.to_numeric, errors='coerce')"
   ]
  },
  {
   "cell_type": "code",
   "execution_count": 11,
   "id": "3876b320",
   "metadata": {
    "scrolled": true
   },
   "outputs": [
    {
     "name": "stdout",
     "output_type": "stream",
     "text": [
      "       NAICS  Owners_Sex  Owners_Ethnicity  Owners_Race  Vet_Status  \\\n",
      "0        NaN         NaN               NaN          NaN         NaN   \n",
      "1        0.0         1.0               1.0          0.0         1.0   \n",
      "2        0.0         1.0               1.0          0.0         1.0   \n",
      "3        0.0         1.0               1.0          0.0         1.0   \n",
      "4        0.0         1.0               1.0          0.0         1.0   \n",
      "...      ...         ...               ...          ...         ...   \n",
      "15307   99.0        96.0              96.0         96.0        96.0   \n",
      "15308   99.0        98.0              98.0         98.0        98.0   \n",
      "15309   99.0        98.0              98.0         98.0        98.0   \n",
      "15310   99.0        98.0              98.0         98.0        98.0   \n",
      "15311   99.0        98.0              98.0         98.0        98.0   \n",
      "\n",
      "              Sales  Employees  Sales_Std_Error  Employees_Std_Error  \n",
      "0               NaN        NaN              NaN                  NaN  \n",
      "1      2.981644e+08        0.0              3.6                  0.0  \n",
      "2      1.266736e+09  5632339.0              1.1                  0.6  \n",
      "3      1.142369e+09  6329828.0              1.5                  0.9  \n",
      "4      1.440258e+09  8211284.0              2.5                  1.0  \n",
      "...             ...        ...              ...                  ...  \n",
      "15307           NaN        NaN              NaN                  NaN  \n",
      "15308           NaN        NaN              NaN                  NaN  \n",
      "15309           NaN        NaN              NaN                  NaN  \n",
      "15310           NaN        NaN              NaN                  NaN  \n",
      "15311           NaN        NaN              NaN                  NaN  \n",
      "\n",
      "[15312 rows x 9 columns]\n"
     ]
    }
   ],
   "source": [
    "print(WB2020_3)"
   ]
  },
  {
   "cell_type": "code",
   "execution_count": 12,
   "id": "91fcf5ba",
   "metadata": {},
   "outputs": [
    {
     "name": "stdout",
     "output_type": "stream",
     "text": [
      "<class 'pandas.core.frame.DataFrame'>\n",
      "RangeIndex: 15312 entries, 0 to 15311\n",
      "Data columns (total 9 columns):\n",
      " #   Column               Non-Null Count  Dtype  \n",
      "---  ------               --------------  -----  \n",
      " 0   NAICS                10839 non-null  float64\n",
      " 1   Owners_Sex           15311 non-null  float64\n",
      " 2   Owners_Ethnicity     15311 non-null  float64\n",
      " 3   Owners_Race          15311 non-null  float64\n",
      " 4   Vet_Status           15311 non-null  float64\n",
      " 5   Sales                769 non-null    float64\n",
      " 6   Employees            9166 non-null   float64\n",
      " 7   Sales_Std_Error      769 non-null    float64\n",
      " 8   Employees_Std_Error  9166 non-null   float64\n",
      "dtypes: float64(9)\n",
      "memory usage: 1.1 MB\n"
     ]
    }
   ],
   "source": [
    "WB2020_3.info()"
   ]
  },
  {
   "cell_type": "markdown",
   "id": "855cfd53",
   "metadata": {},
   "source": [
    "## Use Chi-Squares to determine if Owners_Sex depends on Sales"
   ]
  },
  {
   "cell_type": "markdown",
   "id": "694ace00",
   "metadata": {},
   "source": [
    "### Create a contingency table:"
   ]
  },
  {
   "cell_type": "code",
   "execution_count": 13,
   "id": "c9d28de7",
   "metadata": {},
   "outputs": [],
   "source": [
    "from scipy import stats"
   ]
  },
  {
   "cell_type": "code",
   "execution_count": 14,
   "id": "0c0ca134",
   "metadata": {},
   "outputs": [],
   "source": [
    "WB2020_crosstab = pd.crosstab(WB2020_3['Owners_Sex'], WB2020_3['Sales'])"
   ]
  },
  {
   "cell_type": "code",
   "execution_count": 15,
   "id": "bc6f8cb0",
   "metadata": {},
   "outputs": [
    {
     "data": {
      "text/plain": [
       "(3845.0,\n",
       " 0.4515703695462029,\n",
       " 3835,\n",
       " array([[0.54746424, 0.54746424, 0.54746424, ..., 0.54746424, 0.54746424,\n",
       "         0.54746424],\n",
       "        [0.13263979, 0.13263979, 0.13263979, ..., 0.13263979, 0.13263979,\n",
       "         0.13263979],\n",
       "        [0.16384915, 0.16384915, 0.16384915, ..., 0.16384915, 0.16384915,\n",
       "         0.16384915],\n",
       "        [0.13263979, 0.13263979, 0.13263979, ..., 0.13263979, 0.13263979,\n",
       "         0.13263979],\n",
       "        [0.01170351, 0.01170351, 0.01170351, ..., 0.01170351, 0.01170351,\n",
       "         0.01170351],\n",
       "        [0.01170351, 0.01170351, 0.01170351, ..., 0.01170351, 0.01170351,\n",
       "         0.01170351]]))"
      ]
     },
     "execution_count": 15,
     "metadata": {},
     "output_type": "execute_result"
    }
   ],
   "source": [
    "stats.chi2_contingency(WB2020_crosstab)"
   ]
  },
  {
   "cell_type": "markdown",
   "id": "2b5af84f",
   "metadata": {},
   "source": [
    "### p-value > 0.05, therefore there is not a significant relationship between owners_sex and the number of sales. The values in the array are less than 5 and therefore does not meet the assumption."
   ]
  },
  {
   "cell_type": "markdown",
   "id": "3eded752",
   "metadata": {},
   "source": [
    "## Determine if Owners_Sex depends on NAICS"
   ]
  },
  {
   "cell_type": "code",
   "execution_count": 16,
   "id": "b842db94",
   "metadata": {},
   "outputs": [],
   "source": [
    "WB2020_crosstab2 = pd.crosstab(WB2020_3['Owners_Sex'], WB2020_3['NAICS'])"
   ]
  },
  {
   "cell_type": "code",
   "execution_count": 17,
   "id": "84b3a8ba",
   "metadata": {},
   "outputs": [
    {
     "data": {
      "text/plain": [
       "(29.815394956158208,\n",
       " 0.9999935782021401,\n",
       " 70,\n",
       " array([[509.88984224, 319.63243842, 258.75006919, 435.41765846,\n",
       "         418.02269582, 404.97647384, 370.73014116, 465.31525048,\n",
       "         366.92499308, 450.63825076, 359.85828951, 453.89980626,\n",
       "         367.46858566, 460.42291724, 250.05258788],\n",
       "        [124.7032014 ,  78.1721561 ,  63.28222161, 106.48962081,\n",
       "         102.23535381,  99.04465357,  90.66906541, 113.80164222,\n",
       "          89.73844451, 110.21210444,  88.01014854, 111.0097795 ,\n",
       "          89.87139035, 112.60512962,  61.15508811],\n",
       "        [153.08810776,  95.96567949,  77.68650244, 130.72875727,\n",
       "         125.50613525, 121.58916874, 111.30713165, 139.70513885,\n",
       "         110.16468309, 135.29855153, 108.0429929 , 136.27779315,\n",
       "         110.32789003, 138.23627641,  75.07519144],\n",
       "        [127.38592121,  79.85386106,  64.64360181, 108.78051481,\n",
       "         104.43472645, 101.17538518,  92.61961436, 116.24983855,\n",
       "          91.66897315, 112.58307962,  89.90349663, 113.39791494,\n",
       "          91.80477904, 115.02758557,  62.47070763],\n",
       "        [ 11.68281207,   7.32355383,   5.9285912 ,   9.97647384,\n",
       "           9.57791309,   9.27899253,   8.49432604,  10.66150014,\n",
       "           8.40714088,  10.3252145 ,   8.24522557,  10.39994464,\n",
       "           8.4195959 ,  10.54940493,   5.72931082],\n",
       "        [ 11.25011532,   7.0523111 ,   5.70901375,   9.60697481,\n",
       "           9.22317557,   8.93532614,   8.17972138,  10.26662976,\n",
       "           8.09576529,   9.94279915,   7.93984685,  10.01476151,\n",
       "           8.10775902,  10.15868623,   5.51711412]]))"
      ]
     },
     "execution_count": 17,
     "metadata": {},
     "output_type": "execute_result"
    }
   ],
   "source": [
    "stats.chi2_contingency(WB2020_crosstab2)"
   ]
  },
  {
   "cell_type": "markdown",
   "id": "6db983de",
   "metadata": {},
   "source": [
    "### p-value > 0.05, therefore not a significant relationship between owner's sex and NAICS codes. The values in the array are more than 5 and it does meet the assumption."
   ]
  },
  {
   "cell_type": "markdown",
   "id": "fdbb5026",
   "metadata": {},
   "source": [
    "## Run a correlation matrix"
   ]
  },
  {
   "cell_type": "code",
   "execution_count": 18,
   "id": "04850135",
   "metadata": {},
   "outputs": [],
   "source": [
    "import matplotlib.pyplot as plt\n",
    "import seaborn as sns"
   ]
  },
  {
   "cell_type": "code",
   "execution_count": 19,
   "id": "4ba5dd9e",
   "metadata": {
    "scrolled": true
   },
   "outputs": [
    {
     "data": {
      "text/html": [
       "<div>\n",
       "<style scoped>\n",
       "    .dataframe tbody tr th:only-of-type {\n",
       "        vertical-align: middle;\n",
       "    }\n",
       "\n",
       "    .dataframe tbody tr th {\n",
       "        vertical-align: top;\n",
       "    }\n",
       "\n",
       "    .dataframe thead th {\n",
       "        text-align: right;\n",
       "    }\n",
       "</style>\n",
       "<table border=\"1\" class=\"dataframe\">\n",
       "  <thead>\n",
       "    <tr style=\"text-align: right;\">\n",
       "      <th></th>\n",
       "      <th>NAICS</th>\n",
       "      <th>Owners_Sex</th>\n",
       "      <th>Owners_Ethnicity</th>\n",
       "      <th>Owners_Race</th>\n",
       "      <th>Vet_Status</th>\n",
       "      <th>Sales</th>\n",
       "      <th>Employees</th>\n",
       "      <th>Sales_Std_Error</th>\n",
       "      <th>Employees_Std_Error</th>\n",
       "    </tr>\n",
       "  </thead>\n",
       "  <tbody>\n",
       "    <tr>\n",
       "      <th>NAICS</th>\n",
       "      <td>1.000000</td>\n",
       "      <td>0.001687</td>\n",
       "      <td>-0.002251</td>\n",
       "      <td>-0.003212</td>\n",
       "      <td>0.001183</td>\n",
       "      <td>NaN</td>\n",
       "      <td>-0.188514</td>\n",
       "      <td>NaN</td>\n",
       "      <td>0.035193</td>\n",
       "    </tr>\n",
       "    <tr>\n",
       "      <th>Owners_Sex</th>\n",
       "      <td>0.001687</td>\n",
       "      <td>1.000000</td>\n",
       "      <td>0.753591</td>\n",
       "      <td>0.238112</td>\n",
       "      <td>0.992299</td>\n",
       "      <td>0.209432</td>\n",
       "      <td>0.085663</td>\n",
       "      <td>-0.086640</td>\n",
       "      <td>-0.041955</td>\n",
       "    </tr>\n",
       "    <tr>\n",
       "      <th>Owners_Ethnicity</th>\n",
       "      <td>-0.002251</td>\n",
       "      <td>0.753591</td>\n",
       "      <td>1.000000</td>\n",
       "      <td>-0.082672</td>\n",
       "      <td>0.753093</td>\n",
       "      <td>0.157236</td>\n",
       "      <td>0.071619</td>\n",
       "      <td>-0.034370</td>\n",
       "      <td>-0.030201</td>\n",
       "    </tr>\n",
       "    <tr>\n",
       "      <th>Owners_Race</th>\n",
       "      <td>-0.003212</td>\n",
       "      <td>0.238112</td>\n",
       "      <td>-0.082672</td>\n",
       "      <td>1.000000</td>\n",
       "      <td>0.237380</td>\n",
       "      <td>-0.033301</td>\n",
       "      <td>-0.015535</td>\n",
       "      <td>0.036386</td>\n",
       "      <td>0.007422</td>\n",
       "    </tr>\n",
       "    <tr>\n",
       "      <th>Vet_Status</th>\n",
       "      <td>0.001183</td>\n",
       "      <td>0.992299</td>\n",
       "      <td>0.753093</td>\n",
       "      <td>0.237380</td>\n",
       "      <td>1.000000</td>\n",
       "      <td>0.214319</td>\n",
       "      <td>0.088727</td>\n",
       "      <td>-0.084184</td>\n",
       "      <td>-0.042779</td>\n",
       "    </tr>\n",
       "    <tr>\n",
       "      <th>Sales</th>\n",
       "      <td>NaN</td>\n",
       "      <td>0.209432</td>\n",
       "      <td>0.157236</td>\n",
       "      <td>-0.033301</td>\n",
       "      <td>0.214319</td>\n",
       "      <td>1.000000</td>\n",
       "      <td>0.972994</td>\n",
       "      <td>-0.206713</td>\n",
       "      <td>-0.152227</td>\n",
       "    </tr>\n",
       "    <tr>\n",
       "      <th>Employees</th>\n",
       "      <td>-0.188514</td>\n",
       "      <td>0.085663</td>\n",
       "      <td>0.071619</td>\n",
       "      <td>-0.015535</td>\n",
       "      <td>0.088727</td>\n",
       "      <td>0.972994</td>\n",
       "      <td>1.000000</td>\n",
       "      <td>-0.272793</td>\n",
       "      <td>-0.092197</td>\n",
       "    </tr>\n",
       "    <tr>\n",
       "      <th>Sales_Std_Error</th>\n",
       "      <td>NaN</td>\n",
       "      <td>-0.086640</td>\n",
       "      <td>-0.034370</td>\n",
       "      <td>0.036386</td>\n",
       "      <td>-0.084184</td>\n",
       "      <td>-0.206713</td>\n",
       "      <td>-0.272793</td>\n",
       "      <td>1.000000</td>\n",
       "      <td>0.666435</td>\n",
       "    </tr>\n",
       "    <tr>\n",
       "      <th>Employees_Std_Error</th>\n",
       "      <td>0.035193</td>\n",
       "      <td>-0.041955</td>\n",
       "      <td>-0.030201</td>\n",
       "      <td>0.007422</td>\n",
       "      <td>-0.042779</td>\n",
       "      <td>-0.152227</td>\n",
       "      <td>-0.092197</td>\n",
       "      <td>0.666435</td>\n",
       "      <td>1.000000</td>\n",
       "    </tr>\n",
       "  </tbody>\n",
       "</table>\n",
       "</div>"
      ],
      "text/plain": [
       "                        NAICS  Owners_Sex  Owners_Ethnicity  Owners_Race  \\\n",
       "NAICS                1.000000    0.001687         -0.002251    -0.003212   \n",
       "Owners_Sex           0.001687    1.000000          0.753591     0.238112   \n",
       "Owners_Ethnicity    -0.002251    0.753591          1.000000    -0.082672   \n",
       "Owners_Race         -0.003212    0.238112         -0.082672     1.000000   \n",
       "Vet_Status           0.001183    0.992299          0.753093     0.237380   \n",
       "Sales                     NaN    0.209432          0.157236    -0.033301   \n",
       "Employees           -0.188514    0.085663          0.071619    -0.015535   \n",
       "Sales_Std_Error           NaN   -0.086640         -0.034370     0.036386   \n",
       "Employees_Std_Error  0.035193   -0.041955         -0.030201     0.007422   \n",
       "\n",
       "                     Vet_Status     Sales  Employees  Sales_Std_Error  \\\n",
       "NAICS                  0.001183       NaN  -0.188514              NaN   \n",
       "Owners_Sex             0.992299  0.209432   0.085663        -0.086640   \n",
       "Owners_Ethnicity       0.753093  0.157236   0.071619        -0.034370   \n",
       "Owners_Race            0.237380 -0.033301  -0.015535         0.036386   \n",
       "Vet_Status             1.000000  0.214319   0.088727        -0.084184   \n",
       "Sales                  0.214319  1.000000   0.972994        -0.206713   \n",
       "Employees              0.088727  0.972994   1.000000        -0.272793   \n",
       "Sales_Std_Error       -0.084184 -0.206713  -0.272793         1.000000   \n",
       "Employees_Std_Error   -0.042779 -0.152227  -0.092197         0.666435   \n",
       "\n",
       "                     Employees_Std_Error  \n",
       "NAICS                           0.035193  \n",
       "Owners_Sex                     -0.041955  \n",
       "Owners_Ethnicity               -0.030201  \n",
       "Owners_Race                     0.007422  \n",
       "Vet_Status                     -0.042779  \n",
       "Sales                          -0.152227  \n",
       "Employees                      -0.092197  \n",
       "Sales_Std_Error                 0.666435  \n",
       "Employees_Std_Error             1.000000  "
      ]
     },
     "execution_count": 19,
     "metadata": {},
     "output_type": "execute_result"
    }
   ],
   "source": [
    "WB2020_3.corr(method='pearson')"
   ]
  },
  {
   "cell_type": "code",
   "execution_count": 21,
   "id": "e3039a22",
   "metadata": {
    "scrolled": true
   },
   "outputs": [
    {
     "data": {
      "text/plain": [
       "<AxesSubplot:>"
      ]
     },
     "execution_count": 21,
     "metadata": {},
     "output_type": "execute_result"
    },
    {
     "data": {
      "image/png": "[encoded data removed]",
      "text/plain": [
       "<Figure size 432x288 with 2 Axes>"
      ]
     },
     "metadata": {
      "needs_background": "light"
     },
     "output_type": "display_data"
    }
   ],
   "source": [
    "sns.heatmap(WB2020_3.corr(), annot=True)"
   ]
  },
  {
   "cell_type": "markdown",
   "id": "df74b27c",
   "metadata": {},
   "source": [
    "### Strong, positive correlations between owners_sex, owners_ethnicity, & vet_status. "
   ]
  },
  {
   "cell_type": "markdown",
   "id": "4a41be68",
   "metadata": {},
   "source": [
    "## Determine Dependent t-Test"
   ]
  },
  {
   "cell_type": "code",
   "execution_count": 81,
   "id": "2ccdbf4b",
   "metadata": {},
   "outputs": [],
   "source": [
    "from scipy import stats"
   ]
  },
  {
   "cell_type": "markdown",
   "id": "28b6e61e",
   "metadata": {},
   "source": [
    "### Test assumptions:"
   ]
  },
  {
   "cell_type": "code",
   "execution_count": 22,
   "id": "391a6d98",
   "metadata": {},
   "outputs": [
    {
     "data": {
      "text/plain": [
       "<AxesSubplot:>"
      ]
     },
     "execution_count": 22,
     "metadata": {},
     "output_type": "execute_result"
    },
    {
     "data": {
      "image/png": "[encoded data removed]",
      "text/plain": [
       "<Figure size 432x288 with 1 Axes>"
      ]
     },
     "metadata": {
      "needs_background": "light"
     },
     "output_type": "display_data"
    }
   ],
   "source": [
    "WB2020_3['Owners_Sex'].hist()"
   ]
  },
  {
   "cell_type": "code",
   "execution_count": 24,
   "id": "1d1ce516",
   "metadata": {},
   "outputs": [
    {
     "data": {
      "text/plain": [
       "<AxesSubplot:>"
      ]
     },
     "execution_count": 24,
     "metadata": {},
     "output_type": "execute_result"
    },
    {
     "data": {
      "image/png": "[encoded data removed]",
      "text/plain": [
       "<Figure size 432x288 with 1 Axes>"
      ]
     },
     "metadata": {
      "needs_background": "light"
     },
     "output_type": "display_data"
    }
   ],
   "source": [
    "WB2020_3['Owners_Ethnicity'].hist()"
   ]
  },
  {
   "cell_type": "code",
   "execution_count": 85,
   "id": "1f578f1e",
   "metadata": {},
   "outputs": [
    {
     "data": {
      "text/plain": [
       "<AxesSubplot:>"
      ]
     },
     "execution_count": 85,
     "metadata": {},
     "output_type": "execute_result"
    },
    {
     "data": {
      "image/png": "[encoded data removed]",
      "text/plain": [
       "<Figure size 432x288 with 1 Axes>"
      ]
     },
     "metadata": {
      "needs_background": "light"
     },
     "output_type": "display_data"
    }
   ],
   "source": [
    "WBiz2020Sub_2float['Vet_Status'].hist()"
   ]
  },
  {
   "cell_type": "code",
   "execution_count": 25,
   "id": "ea7b88fa",
   "metadata": {},
   "outputs": [
    {
     "data": {
      "text/plain": [
       "<AxesSubplot:>"
      ]
     },
     "execution_count": 25,
     "metadata": {},
     "output_type": "execute_result"
    },
    {
     "data": {
      "image/png": "[encoded data removed]",
      "text/plain": [
       "<Figure size 432x288 with 1 Axes>"
      ]
     },
     "metadata": {
      "needs_background": "light"
     },
     "output_type": "display_data"
    }
   ],
   "source": [
    "WB2020_3['Sales'].hist()"
   ]
  },
  {
   "cell_type": "code",
   "execution_count": 26,
   "id": "ea089501",
   "metadata": {},
   "outputs": [
    {
     "data": {
      "text/plain": [
       "<AxesSubplot:>"
      ]
     },
     "execution_count": 26,
     "metadata": {},
     "output_type": "execute_result"
    },
    {
     "data": {
      "image/png": "[encoded data removed]",
      "text/plain": [
       "<Figure size 432x288 with 1 Axes>"
      ]
     },
     "metadata": {
      "needs_background": "light"
     },
     "output_type": "display_data"
    }
   ],
   "source": [
    "WB2020_3['NAICS'].hist()"
   ]
  },
  {
   "cell_type": "markdown",
   "id": "d0be3310",
   "metadata": {},
   "source": [
    "### Data is not normally distributed and therefore violates assumptions."
   ]
  },
  {
   "cell_type": "markdown",
   "id": "791c7e77",
   "metadata": {},
   "source": [
    "## Determine MANOVA on R."
   ]
  }
 ],
 "metadata": {
  "kernelspec": {
   "display_name": "Python 3",
   "language": "python",
   "name": "python3"
  },
  "language_info": {
   "codemirror_mode": {
    "name": "ipython",
    "version": 3
   },
   "file_extension": ".py",
   "mimetype": "text/x-python",
   "name": "python",
   "nbconvert_exporter": "python",
   "pygments_lexer": "ipython3",
   "version": "3.8.8"
  }
 },
 "nbformat": 4,
 "nbformat_minor": 5
}
