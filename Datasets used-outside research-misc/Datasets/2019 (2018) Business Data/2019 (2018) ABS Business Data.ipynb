{
 "cells": [
  {
   "cell_type": "markdown",
   "id": "ba6381c4",
   "metadata": {},
   "source": [
    "# Load Libraries"
   ]
  },
  {
   "cell_type": "code",
   "execution_count": 53,
   "id": "2524a3e9",
   "metadata": {},
   "outputs": [],
   "source": [
    "import pandas as pd\n",
    "import numpy as np"
   ]
  },
  {
   "cell_type": "markdown",
   "id": "83a80078",
   "metadata": {},
   "source": [
    "# Load Data & View Data"
   ]
  },
  {
   "cell_type": "code",
   "execution_count": 54,
   "id": "6ae8d382",
   "metadata": {},
   "outputs": [],
   "source": [
    "WBiz2019 = pd.read_csv (r\"C:\\Users\\nbroo\\OneDrive\\Documents\\Data Science Final Group Project\\Women In Business Before And After The Pandemic\\2019 (2018) Census Business Data.csv\")"
   ]
  },
  {
   "cell_type": "code",
   "execution_count": 55,
   "id": "d5841d8f",
   "metadata": {},
   "outputs": [
    {
     "data": {
      "text/html": [
       "<div>\n",
       "<style scoped>\n",
       "    .dataframe tbody tr th:only-of-type {\n",
       "        vertical-align: middle;\n",
       "    }\n",
       "\n",
       "    .dataframe tbody tr th {\n",
       "        vertical-align: top;\n",
       "    }\n",
       "\n",
       "    .dataframe thead th {\n",
       "        text-align: right;\n",
       "    }\n",
       "</style>\n",
       "<table border=\"1\" class=\"dataframe\">\n",
       "  <thead>\n",
       "    <tr style=\"text-align: right;\">\n",
       "      <th></th>\n",
       "      <th>GEO_ID</th>\n",
       "      <th>GEO_ID_F</th>\n",
       "      <th>NAME</th>\n",
       "      <th>NAICS2017</th>\n",
       "      <th>NAICS2017_F</th>\n",
       "      <th>INDLEVEL</th>\n",
       "      <th>NAICS2017_LABEL</th>\n",
       "      <th>INDGROUP</th>\n",
       "      <th>SECTOR</th>\n",
       "      <th>SUBSECTOR</th>\n",
       "      <th>...</th>\n",
       "      <th>PAYANN</th>\n",
       "      <th>PAYANN_PCT</th>\n",
       "      <th>FIRMPDEMP_S</th>\n",
       "      <th>FIRMPDEMP_PCT_S</th>\n",
       "      <th>RCPPDEMP_S</th>\n",
       "      <th>RCPPDEMP_PCT_S</th>\n",
       "      <th>EMP_S</th>\n",
       "      <th>EMP_PCT_S</th>\n",
       "      <th>PAYANN_S</th>\n",
       "      <th>PAYANN_PCT_S</th>\n",
       "    </tr>\n",
       "  </thead>\n",
       "  <tbody>\n",
       "    <tr>\n",
       "      <th>0</th>\n",
       "      <td>id</td>\n",
       "      <td>Geo Footnote</td>\n",
       "      <td>Geographic Area Name</td>\n",
       "      <td>2017 NAICS code</td>\n",
       "      <td>2017 NAICS Footnote</td>\n",
       "      <td>Industry level</td>\n",
       "      <td>Meaning of NAICS code</td>\n",
       "      <td>Industry group</td>\n",
       "      <td>NAICS economic sector</td>\n",
       "      <td>SUBSECTOR</td>\n",
       "      <td>...</td>\n",
       "      <td>Annual payroll ($1,000)</td>\n",
       "      <td>Percent of annual payroll (%)</td>\n",
       "      <td>Relative standard error of employer firms (%)</td>\n",
       "      <td>Standard error of percent of employer firms (%)</td>\n",
       "      <td>Relative standard error of sales, value of shi...</td>\n",
       "      <td>Standard error of percent of sales, value of s...</td>\n",
       "      <td>Relative standard error of number of employees...</td>\n",
       "      <td>Standard error of percent of employees (%)</td>\n",
       "      <td>Relative standard error of annual payroll (%)</td>\n",
       "      <td>Standard error of percent of annual payroll (%)</td>\n",
       "    </tr>\n",
       "    <tr>\n",
       "      <th>1</th>\n",
       "      <td>0100000US</td>\n",
       "      <td>NaN</td>\n",
       "      <td>United States</td>\n",
       "      <td>0</td>\n",
       "      <td>NaN</td>\n",
       "      <td>2</td>\n",
       "      <td>Total for all sectors</td>\n",
       "      <td>NaN</td>\n",
       "      <td>0</td>\n",
       "      <td>NaN</td>\n",
       "      <td>...</td>\n",
       "      <td>49465824</td>\n",
       "      <td>X</td>\n",
       "      <td>0.8</td>\n",
       "      <td>X</td>\n",
       "      <td>4.4</td>\n",
       "      <td>X</td>\n",
       "      <td>0</td>\n",
       "      <td>X</td>\n",
       "      <td>2.8</td>\n",
       "      <td>X</td>\n",
       "    </tr>\n",
       "    <tr>\n",
       "      <th>2</th>\n",
       "      <td>0100000US</td>\n",
       "      <td>NaN</td>\n",
       "      <td>United States</td>\n",
       "      <td>0</td>\n",
       "      <td>NaN</td>\n",
       "      <td>2</td>\n",
       "      <td>Total for all sectors</td>\n",
       "      <td>NaN</td>\n",
       "      <td>0</td>\n",
       "      <td>NaN</td>\n",
       "      <td>...</td>\n",
       "      <td>8190124</td>\n",
       "      <td>70.3</td>\n",
       "      <td>1.5</td>\n",
       "      <td>0.5</td>\n",
       "      <td>3.8</td>\n",
       "      <td>4.3</td>\n",
       "      <td>0</td>\n",
       "      <td>0</td>\n",
       "      <td>5.4</td>\n",
       "      <td>2.5</td>\n",
       "    </tr>\n",
       "    <tr>\n",
       "      <th>3</th>\n",
       "      <td>0100000US</td>\n",
       "      <td>NaN</td>\n",
       "      <td>United States</td>\n",
       "      <td>0</td>\n",
       "      <td>NaN</td>\n",
       "      <td>2</td>\n",
       "      <td>Total for all sectors</td>\n",
       "      <td>NaN</td>\n",
       "      <td>0</td>\n",
       "      <td>NaN</td>\n",
       "      <td>...</td>\n",
       "      <td>3129307</td>\n",
       "      <td>26.9</td>\n",
       "      <td>2.1</td>\n",
       "      <td>0.5</td>\n",
       "      <td>10.1</td>\n",
       "      <td>2.2</td>\n",
       "      <td>0</td>\n",
       "      <td>0</td>\n",
       "      <td>6.2</td>\n",
       "      <td>1.8</td>\n",
       "    </tr>\n",
       "    <tr>\n",
       "      <th>4</th>\n",
       "      <td>0100000US</td>\n",
       "      <td>NaN</td>\n",
       "      <td>United States</td>\n",
       "      <td>0</td>\n",
       "      <td>NaN</td>\n",
       "      <td>2</td>\n",
       "      <td>Total for all sectors</td>\n",
       "      <td>NaN</td>\n",
       "      <td>0</td>\n",
       "      <td>NaN</td>\n",
       "      <td>...</td>\n",
       "      <td>53725</td>\n",
       "      <td>0.5</td>\n",
       "      <td>11.6</td>\n",
       "      <td>0.1</td>\n",
       "      <td>22.2</td>\n",
       "      <td>0.5</td>\n",
       "      <td>0</td>\n",
       "      <td>0</td>\n",
       "      <td>29.4</td>\n",
       "      <td>0.1</td>\n",
       "    </tr>\n",
       "  </tbody>\n",
       "</table>\n",
       "<p>5 rows × 41 columns</p>\n",
       "</div>"
      ],
      "text/plain": [
       "      GEO_ID      GEO_ID_F                  NAME        NAICS2017  \\\n",
       "0         id  Geo Footnote  Geographic Area Name  2017 NAICS code   \n",
       "1  0100000US           NaN         United States                0   \n",
       "2  0100000US           NaN         United States                0   \n",
       "3  0100000US           NaN         United States                0   \n",
       "4  0100000US           NaN         United States                0   \n",
       "\n",
       "           NAICS2017_F        INDLEVEL        NAICS2017_LABEL        INDGROUP  \\\n",
       "0  2017 NAICS Footnote  Industry level  Meaning of NAICS code  Industry group   \n",
       "1                  NaN               2  Total for all sectors             NaN   \n",
       "2                  NaN               2  Total for all sectors             NaN   \n",
       "3                  NaN               2  Total for all sectors             NaN   \n",
       "4                  NaN               2  Total for all sectors             NaN   \n",
       "\n",
       "                   SECTOR  SUBSECTOR  ...                   PAYANN  \\\n",
       "0  NAICS economic sector   SUBSECTOR  ...  Annual payroll ($1,000)   \n",
       "1                       0        NaN  ...                 49465824   \n",
       "2                       0        NaN  ...                  8190124   \n",
       "3                       0        NaN  ...                  3129307   \n",
       "4                       0        NaN  ...                    53725   \n",
       "\n",
       "                      PAYANN_PCT  \\\n",
       "0  Percent of annual payroll (%)   \n",
       "1                              X   \n",
       "2                           70.3   \n",
       "3                           26.9   \n",
       "4                            0.5   \n",
       "\n",
       "                                     FIRMPDEMP_S  \\\n",
       "0  Relative standard error of employer firms (%)   \n",
       "1                                            0.8   \n",
       "2                                            1.5   \n",
       "3                                            2.1   \n",
       "4                                           11.6   \n",
       "\n",
       "                                   FIRMPDEMP_PCT_S  \\\n",
       "0  Standard error of percent of employer firms (%)   \n",
       "1                                                X   \n",
       "2                                              0.5   \n",
       "3                                              0.5   \n",
       "4                                              0.1   \n",
       "\n",
       "                                          RCPPDEMP_S  \\\n",
       "0  Relative standard error of sales, value of shi...   \n",
       "1                                                4.4   \n",
       "2                                                3.8   \n",
       "3                                               10.1   \n",
       "4                                               22.2   \n",
       "\n",
       "                                      RCPPDEMP_PCT_S  \\\n",
       "0  Standard error of percent of sales, value of s...   \n",
       "1                                                  X   \n",
       "2                                                4.3   \n",
       "3                                                2.2   \n",
       "4                                                0.5   \n",
       "\n",
       "                                               EMP_S  \\\n",
       "0  Relative standard error of number of employees...   \n",
       "1                                                  0   \n",
       "2                                                  0   \n",
       "3                                                  0   \n",
       "4                                                  0   \n",
       "\n",
       "                                    EMP_PCT_S  \\\n",
       "0  Standard error of percent of employees (%)   \n",
       "1                                           X   \n",
       "2                                           0   \n",
       "3                                           0   \n",
       "4                                           0   \n",
       "\n",
       "                                        PAYANN_S  \\\n",
       "0  Relative standard error of annual payroll (%)   \n",
       "1                                            2.8   \n",
       "2                                            5.4   \n",
       "3                                            6.2   \n",
       "4                                           29.4   \n",
       "\n",
       "                                      PAYANN_PCT_S  \n",
       "0  Standard error of percent of annual payroll (%)  \n",
       "1                                                X  \n",
       "2                                              2.5  \n",
       "3                                              1.8  \n",
       "4                                              0.1  \n",
       "\n",
       "[5 rows x 41 columns]"
      ]
     },
     "execution_count": 55,
     "metadata": {},
     "output_type": "execute_result"
    }
   ],
   "source": [
    "WBiz2019.head()"
   ]
  },
  {
   "cell_type": "markdown",
   "id": "f6c215dd",
   "metadata": {},
   "source": [
    "# Rename Columns"
   ]
  },
  {
   "cell_type": "code",
   "execution_count": 29,
   "id": "5ba1a9f6",
   "metadata": {},
   "outputs": [],
   "source": [
    "WBiz2019.rename(columns={'NAICS2017' : 'NAICS', 'SEX' : 'Owners_Sex', 'ETH_GROUP' : 'Owners_Ethnicity', 'RACE_GROUP' : 'Owners_Race', 'VET_GROUP' : 'Vet_Status', 'RCPPDEMP' : 'Sales', 'EMP' : 'Employees', 'RCPPDEMP_PCT_S' : 'Sales_Std_Error', 'EMP_S' : 'Employees_Std_Error'}, inplace=True)"
   ]
  },
  {
   "cell_type": "code",
   "execution_count": 5,
   "id": "1da968e5",
   "metadata": {},
   "outputs": [
    {
     "data": {
      "text/html": [
       "<div>\n",
       "<style scoped>\n",
       "    .dataframe tbody tr th:only-of-type {\n",
       "        vertical-align: middle;\n",
       "    }\n",
       "\n",
       "    .dataframe tbody tr th {\n",
       "        vertical-align: top;\n",
       "    }\n",
       "\n",
       "    .dataframe thead th {\n",
       "        text-align: right;\n",
       "    }\n",
       "</style>\n",
       "<table border=\"1\" class=\"dataframe\">\n",
       "  <thead>\n",
       "    <tr style=\"text-align: right;\">\n",
       "      <th></th>\n",
       "      <th>GEO_ID</th>\n",
       "      <th>GEO_ID_F</th>\n",
       "      <th>NAME</th>\n",
       "      <th>NAICS</th>\n",
       "      <th>NAICS2017_F</th>\n",
       "      <th>INDLEVEL</th>\n",
       "      <th>NAICS2017_LABEL</th>\n",
       "      <th>INDGROUP</th>\n",
       "      <th>SECTOR</th>\n",
       "      <th>SUBSECTOR</th>\n",
       "      <th>...</th>\n",
       "      <th>PAYANN</th>\n",
       "      <th>PAYANN_PCT</th>\n",
       "      <th>FIRMPDEMP_S</th>\n",
       "      <th>FIRMPDEMP_PCT_S</th>\n",
       "      <th>RCPPDEMP_S</th>\n",
       "      <th>Sales_Std_Error</th>\n",
       "      <th>Employees_Std_Error</th>\n",
       "      <th>EMP_PCT_S</th>\n",
       "      <th>PAYANN_S</th>\n",
       "      <th>PAYANN_PCT_S</th>\n",
       "    </tr>\n",
       "  </thead>\n",
       "  <tbody>\n",
       "    <tr>\n",
       "      <th>0</th>\n",
       "      <td>id</td>\n",
       "      <td>Geo Footnote</td>\n",
       "      <td>Geographic Area Name</td>\n",
       "      <td>2017 NAICS code</td>\n",
       "      <td>2017 NAICS Footnote</td>\n",
       "      <td>Industry level</td>\n",
       "      <td>Meaning of NAICS code</td>\n",
       "      <td>Industry group</td>\n",
       "      <td>NAICS economic sector</td>\n",
       "      <td>SUBSECTOR</td>\n",
       "      <td>...</td>\n",
       "      <td>Annual payroll ($1,000)</td>\n",
       "      <td>Percent of annual payroll (%)</td>\n",
       "      <td>Relative standard error of employer firms (%)</td>\n",
       "      <td>Standard error of percent of employer firms (%)</td>\n",
       "      <td>Relative standard error of sales, value of shi...</td>\n",
       "      <td>Standard error of percent of sales, value of s...</td>\n",
       "      <td>Relative standard error of number of employees...</td>\n",
       "      <td>Standard error of percent of employees (%)</td>\n",
       "      <td>Relative standard error of annual payroll (%)</td>\n",
       "      <td>Standard error of percent of annual payroll (%)</td>\n",
       "    </tr>\n",
       "    <tr>\n",
       "      <th>1</th>\n",
       "      <td>0100000US</td>\n",
       "      <td>NaN</td>\n",
       "      <td>United States</td>\n",
       "      <td>0</td>\n",
       "      <td>NaN</td>\n",
       "      <td>2</td>\n",
       "      <td>Total for all sectors</td>\n",
       "      <td>NaN</td>\n",
       "      <td>0</td>\n",
       "      <td>NaN</td>\n",
       "      <td>...</td>\n",
       "      <td>49465824</td>\n",
       "      <td>X</td>\n",
       "      <td>0.8</td>\n",
       "      <td>X</td>\n",
       "      <td>4.4</td>\n",
       "      <td>X</td>\n",
       "      <td>0</td>\n",
       "      <td>X</td>\n",
       "      <td>2.8</td>\n",
       "      <td>X</td>\n",
       "    </tr>\n",
       "    <tr>\n",
       "      <th>2</th>\n",
       "      <td>0100000US</td>\n",
       "      <td>NaN</td>\n",
       "      <td>United States</td>\n",
       "      <td>0</td>\n",
       "      <td>NaN</td>\n",
       "      <td>2</td>\n",
       "      <td>Total for all sectors</td>\n",
       "      <td>NaN</td>\n",
       "      <td>0</td>\n",
       "      <td>NaN</td>\n",
       "      <td>...</td>\n",
       "      <td>8190124</td>\n",
       "      <td>70.3</td>\n",
       "      <td>1.5</td>\n",
       "      <td>0.5</td>\n",
       "      <td>3.8</td>\n",
       "      <td>4.3</td>\n",
       "      <td>0</td>\n",
       "      <td>0</td>\n",
       "      <td>5.4</td>\n",
       "      <td>2.5</td>\n",
       "    </tr>\n",
       "    <tr>\n",
       "      <th>3</th>\n",
       "      <td>0100000US</td>\n",
       "      <td>NaN</td>\n",
       "      <td>United States</td>\n",
       "      <td>0</td>\n",
       "      <td>NaN</td>\n",
       "      <td>2</td>\n",
       "      <td>Total for all sectors</td>\n",
       "      <td>NaN</td>\n",
       "      <td>0</td>\n",
       "      <td>NaN</td>\n",
       "      <td>...</td>\n",
       "      <td>3129307</td>\n",
       "      <td>26.9</td>\n",
       "      <td>2.1</td>\n",
       "      <td>0.5</td>\n",
       "      <td>10.1</td>\n",
       "      <td>2.2</td>\n",
       "      <td>0</td>\n",
       "      <td>0</td>\n",
       "      <td>6.2</td>\n",
       "      <td>1.8</td>\n",
       "    </tr>\n",
       "    <tr>\n",
       "      <th>4</th>\n",
       "      <td>0100000US</td>\n",
       "      <td>NaN</td>\n",
       "      <td>United States</td>\n",
       "      <td>0</td>\n",
       "      <td>NaN</td>\n",
       "      <td>2</td>\n",
       "      <td>Total for all sectors</td>\n",
       "      <td>NaN</td>\n",
       "      <td>0</td>\n",
       "      <td>NaN</td>\n",
       "      <td>...</td>\n",
       "      <td>53725</td>\n",
       "      <td>0.5</td>\n",
       "      <td>11.6</td>\n",
       "      <td>0.1</td>\n",
       "      <td>22.2</td>\n",
       "      <td>0.5</td>\n",
       "      <td>0</td>\n",
       "      <td>0</td>\n",
       "      <td>29.4</td>\n",
       "      <td>0.1</td>\n",
       "    </tr>\n",
       "  </tbody>\n",
       "</table>\n",
       "<p>5 rows × 41 columns</p>\n",
       "</div>"
      ],
      "text/plain": [
       "      GEO_ID      GEO_ID_F                  NAME            NAICS  \\\n",
       "0         id  Geo Footnote  Geographic Area Name  2017 NAICS code   \n",
       "1  0100000US           NaN         United States                0   \n",
       "2  0100000US           NaN         United States                0   \n",
       "3  0100000US           NaN         United States                0   \n",
       "4  0100000US           NaN         United States                0   \n",
       "\n",
       "           NAICS2017_F        INDLEVEL        NAICS2017_LABEL        INDGROUP  \\\n",
       "0  2017 NAICS Footnote  Industry level  Meaning of NAICS code  Industry group   \n",
       "1                  NaN               2  Total for all sectors             NaN   \n",
       "2                  NaN               2  Total for all sectors             NaN   \n",
       "3                  NaN               2  Total for all sectors             NaN   \n",
       "4                  NaN               2  Total for all sectors             NaN   \n",
       "\n",
       "                   SECTOR  SUBSECTOR  ...                   PAYANN  \\\n",
       "0  NAICS economic sector   SUBSECTOR  ...  Annual payroll ($1,000)   \n",
       "1                       0        NaN  ...                 49465824   \n",
       "2                       0        NaN  ...                  8190124   \n",
       "3                       0        NaN  ...                  3129307   \n",
       "4                       0        NaN  ...                    53725   \n",
       "\n",
       "                      PAYANN_PCT  \\\n",
       "0  Percent of annual payroll (%)   \n",
       "1                              X   \n",
       "2                           70.3   \n",
       "3                           26.9   \n",
       "4                            0.5   \n",
       "\n",
       "                                     FIRMPDEMP_S  \\\n",
       "0  Relative standard error of employer firms (%)   \n",
       "1                                            0.8   \n",
       "2                                            1.5   \n",
       "3                                            2.1   \n",
       "4                                           11.6   \n",
       "\n",
       "                                   FIRMPDEMP_PCT_S  \\\n",
       "0  Standard error of percent of employer firms (%)   \n",
       "1                                                X   \n",
       "2                                              0.5   \n",
       "3                                              0.5   \n",
       "4                                              0.1   \n",
       "\n",
       "                                          RCPPDEMP_S  \\\n",
       "0  Relative standard error of sales, value of shi...   \n",
       "1                                                4.4   \n",
       "2                                                3.8   \n",
       "3                                               10.1   \n",
       "4                                               22.2   \n",
       "\n",
       "                                     Sales_Std_Error  \\\n",
       "0  Standard error of percent of sales, value of s...   \n",
       "1                                                  X   \n",
       "2                                                4.3   \n",
       "3                                                2.2   \n",
       "4                                                0.5   \n",
       "\n",
       "                                 Employees_Std_Error  \\\n",
       "0  Relative standard error of number of employees...   \n",
       "1                                                  0   \n",
       "2                                                  0   \n",
       "3                                                  0   \n",
       "4                                                  0   \n",
       "\n",
       "                                    EMP_PCT_S  \\\n",
       "0  Standard error of percent of employees (%)   \n",
       "1                                           X   \n",
       "2                                           0   \n",
       "3                                           0   \n",
       "4                                           0   \n",
       "\n",
       "                                        PAYANN_S  \\\n",
       "0  Relative standard error of annual payroll (%)   \n",
       "1                                            2.8   \n",
       "2                                            5.4   \n",
       "3                                            6.2   \n",
       "4                                           29.4   \n",
       "\n",
       "                                      PAYANN_PCT_S  \n",
       "0  Standard error of percent of annual payroll (%)  \n",
       "1                                                X  \n",
       "2                                              2.5  \n",
       "3                                              1.8  \n",
       "4                                              0.1  \n",
       "\n",
       "[5 rows x 41 columns]"
      ]
     },
     "execution_count": 5,
     "metadata": {},
     "output_type": "execute_result"
    }
   ],
   "source": [
    "WBiz2019.head()"
   ]
  },
  {
   "cell_type": "markdown",
   "id": "2c5c782e",
   "metadata": {},
   "source": [
    "# Clean Dataset"
   ]
  },
  {
   "cell_type": "markdown",
   "id": "1b2890d1",
   "metadata": {},
   "source": [
    "## Drop Columns"
   ]
  },
  {
   "cell_type": "code",
   "execution_count": 6,
   "id": "2cd25c1d",
   "metadata": {},
   "outputs": [],
   "source": [
    "WBiz2019 = WBiz2019.drop(labels=0, axis=0)"
   ]
  },
  {
   "cell_type": "code",
   "execution_count": 7,
   "id": "009dfe59",
   "metadata": {},
   "outputs": [
    {
     "data": {
      "text/html": [
       "<div>\n",
       "<style scoped>\n",
       "    .dataframe tbody tr th:only-of-type {\n",
       "        vertical-align: middle;\n",
       "    }\n",
       "\n",
       "    .dataframe tbody tr th {\n",
       "        vertical-align: top;\n",
       "    }\n",
       "\n",
       "    .dataframe thead th {\n",
       "        text-align: right;\n",
       "    }\n",
       "</style>\n",
       "<table border=\"1\" class=\"dataframe\">\n",
       "  <thead>\n",
       "    <tr style=\"text-align: right;\">\n",
       "      <th></th>\n",
       "      <th>GEO_ID</th>\n",
       "      <th>GEO_ID_F</th>\n",
       "      <th>NAME</th>\n",
       "      <th>NAICS</th>\n",
       "      <th>NAICS2017_F</th>\n",
       "      <th>INDLEVEL</th>\n",
       "      <th>NAICS2017_LABEL</th>\n",
       "      <th>INDGROUP</th>\n",
       "      <th>SECTOR</th>\n",
       "      <th>SUBSECTOR</th>\n",
       "      <th>...</th>\n",
       "      <th>PAYANN</th>\n",
       "      <th>PAYANN_PCT</th>\n",
       "      <th>FIRMPDEMP_S</th>\n",
       "      <th>FIRMPDEMP_PCT_S</th>\n",
       "      <th>RCPPDEMP_S</th>\n",
       "      <th>Sales_Std_Error</th>\n",
       "      <th>Employees_Std_Error</th>\n",
       "      <th>EMP_PCT_S</th>\n",
       "      <th>PAYANN_S</th>\n",
       "      <th>PAYANN_PCT_S</th>\n",
       "    </tr>\n",
       "  </thead>\n",
       "  <tbody>\n",
       "    <tr>\n",
       "      <th>1</th>\n",
       "      <td>0100000US</td>\n",
       "      <td>NaN</td>\n",
       "      <td>United States</td>\n",
       "      <td>0</td>\n",
       "      <td>NaN</td>\n",
       "      <td>2</td>\n",
       "      <td>Total for all sectors</td>\n",
       "      <td>NaN</td>\n",
       "      <td>0</td>\n",
       "      <td>NaN</td>\n",
       "      <td>...</td>\n",
       "      <td>49465824</td>\n",
       "      <td>X</td>\n",
       "      <td>0.8</td>\n",
       "      <td>X</td>\n",
       "      <td>4.4</td>\n",
       "      <td>X</td>\n",
       "      <td>0</td>\n",
       "      <td>X</td>\n",
       "      <td>2.8</td>\n",
       "      <td>X</td>\n",
       "    </tr>\n",
       "    <tr>\n",
       "      <th>2</th>\n",
       "      <td>0100000US</td>\n",
       "      <td>NaN</td>\n",
       "      <td>United States</td>\n",
       "      <td>0</td>\n",
       "      <td>NaN</td>\n",
       "      <td>2</td>\n",
       "      <td>Total for all sectors</td>\n",
       "      <td>NaN</td>\n",
       "      <td>0</td>\n",
       "      <td>NaN</td>\n",
       "      <td>...</td>\n",
       "      <td>8190124</td>\n",
       "      <td>70.3</td>\n",
       "      <td>1.5</td>\n",
       "      <td>0.5</td>\n",
       "      <td>3.8</td>\n",
       "      <td>4.3</td>\n",
       "      <td>0</td>\n",
       "      <td>0</td>\n",
       "      <td>5.4</td>\n",
       "      <td>2.5</td>\n",
       "    </tr>\n",
       "    <tr>\n",
       "      <th>3</th>\n",
       "      <td>0100000US</td>\n",
       "      <td>NaN</td>\n",
       "      <td>United States</td>\n",
       "      <td>0</td>\n",
       "      <td>NaN</td>\n",
       "      <td>2</td>\n",
       "      <td>Total for all sectors</td>\n",
       "      <td>NaN</td>\n",
       "      <td>0</td>\n",
       "      <td>NaN</td>\n",
       "      <td>...</td>\n",
       "      <td>3129307</td>\n",
       "      <td>26.9</td>\n",
       "      <td>2.1</td>\n",
       "      <td>0.5</td>\n",
       "      <td>10.1</td>\n",
       "      <td>2.2</td>\n",
       "      <td>0</td>\n",
       "      <td>0</td>\n",
       "      <td>6.2</td>\n",
       "      <td>1.8</td>\n",
       "    </tr>\n",
       "    <tr>\n",
       "      <th>4</th>\n",
       "      <td>0100000US</td>\n",
       "      <td>NaN</td>\n",
       "      <td>United States</td>\n",
       "      <td>0</td>\n",
       "      <td>NaN</td>\n",
       "      <td>2</td>\n",
       "      <td>Total for all sectors</td>\n",
       "      <td>NaN</td>\n",
       "      <td>0</td>\n",
       "      <td>NaN</td>\n",
       "      <td>...</td>\n",
       "      <td>53725</td>\n",
       "      <td>0.5</td>\n",
       "      <td>11.6</td>\n",
       "      <td>0.1</td>\n",
       "      <td>22.2</td>\n",
       "      <td>0.5</td>\n",
       "      <td>0</td>\n",
       "      <td>0</td>\n",
       "      <td>29.4</td>\n",
       "      <td>0.1</td>\n",
       "    </tr>\n",
       "    <tr>\n",
       "      <th>5</th>\n",
       "      <td>0100000US</td>\n",
       "      <td>NaN</td>\n",
       "      <td>United States</td>\n",
       "      <td>0</td>\n",
       "      <td>NaN</td>\n",
       "      <td>2</td>\n",
       "      <td>Total for all sectors</td>\n",
       "      <td>NaN</td>\n",
       "      <td>0</td>\n",
       "      <td>NaN</td>\n",
       "      <td>...</td>\n",
       "      <td>257135</td>\n",
       "      <td>2.2</td>\n",
       "      <td>25.2</td>\n",
       "      <td>0.1</td>\n",
       "      <td>48.5</td>\n",
       "      <td>4.1</td>\n",
       "      <td>0</td>\n",
       "      <td>0</td>\n",
       "      <td>56.5</td>\n",
       "      <td>1.6</td>\n",
       "    </tr>\n",
       "  </tbody>\n",
       "</table>\n",
       "<p>5 rows × 41 columns</p>\n",
       "</div>"
      ],
      "text/plain": [
       "      GEO_ID GEO_ID_F           NAME NAICS NAICS2017_F INDLEVEL  \\\n",
       "1  0100000US      NaN  United States     0         NaN        2   \n",
       "2  0100000US      NaN  United States     0         NaN        2   \n",
       "3  0100000US      NaN  United States     0         NaN        2   \n",
       "4  0100000US      NaN  United States     0         NaN        2   \n",
       "5  0100000US      NaN  United States     0         NaN        2   \n",
       "\n",
       "         NAICS2017_LABEL INDGROUP SECTOR SUBSECTOR  ...    PAYANN PAYANN_PCT  \\\n",
       "1  Total for all sectors      NaN      0       NaN  ...  49465824          X   \n",
       "2  Total for all sectors      NaN      0       NaN  ...   8190124       70.3   \n",
       "3  Total for all sectors      NaN      0       NaN  ...   3129307       26.9   \n",
       "4  Total for all sectors      NaN      0       NaN  ...     53725        0.5   \n",
       "5  Total for all sectors      NaN      0       NaN  ...    257135        2.2   \n",
       "\n",
       "  FIRMPDEMP_S FIRMPDEMP_PCT_S RCPPDEMP_S Sales_Std_Error Employees_Std_Error  \\\n",
       "1         0.8               X        4.4               X                   0   \n",
       "2         1.5             0.5        3.8             4.3                   0   \n",
       "3         2.1             0.5       10.1             2.2                   0   \n",
       "4        11.6             0.1       22.2             0.5                   0   \n",
       "5        25.2             0.1       48.5             4.1                   0   \n",
       "\n",
       "  EMP_PCT_S PAYANN_S PAYANN_PCT_S  \n",
       "1         X      2.8            X  \n",
       "2         0      5.4          2.5  \n",
       "3         0      6.2          1.8  \n",
       "4         0     29.4          0.1  \n",
       "5         0     56.5          1.6  \n",
       "\n",
       "[5 rows x 41 columns]"
      ]
     },
     "execution_count": 7,
     "metadata": {},
     "output_type": "execute_result"
    }
   ],
   "source": [
    "WBiz2019.head()"
   ]
  },
  {
   "cell_type": "markdown",
   "id": "e4b88f5b",
   "metadata": {},
   "source": [
    "# Subset Dataset"
   ]
  },
  {
   "cell_type": "code",
   "execution_count": 8,
   "id": "a499c06e",
   "metadata": {},
   "outputs": [],
   "source": [
    "WBiz2019Sub = WBiz2019[['NAICS', 'Owners_Sex', 'Owners_Ethnicity', 'Owners_Race', 'Vet_Status', 'Sales', 'Employees', 'Sales_Std_Error', 'Employees_Std_Error']]"
   ]
  },
  {
   "cell_type": "code",
   "execution_count": 9,
   "id": "0ccc3960",
   "metadata": {
    "scrolled": true
   },
   "outputs": [
    {
     "data": {
      "text/html": [
       "<div>\n",
       "<style scoped>\n",
       "    .dataframe tbody tr th:only-of-type {\n",
       "        vertical-align: middle;\n",
       "    }\n",
       "\n",
       "    .dataframe tbody tr th {\n",
       "        vertical-align: top;\n",
       "    }\n",
       "\n",
       "    .dataframe thead th {\n",
       "        text-align: right;\n",
       "    }\n",
       "</style>\n",
       "<table border=\"1\" class=\"dataframe\">\n",
       "  <thead>\n",
       "    <tr style=\"text-align: right;\">\n",
       "      <th></th>\n",
       "      <th>NAICS</th>\n",
       "      <th>Owners_Sex</th>\n",
       "      <th>Owners_Ethnicity</th>\n",
       "      <th>Owners_Race</th>\n",
       "      <th>Vet_Status</th>\n",
       "      <th>Sales</th>\n",
       "      <th>Employees</th>\n",
       "      <th>Sales_Std_Error</th>\n",
       "      <th>Employees_Std_Error</th>\n",
       "    </tr>\n",
       "  </thead>\n",
       "  <tbody>\n",
       "    <tr>\n",
       "      <th>1</th>\n",
       "      <td>0</td>\n",
       "      <td>1</td>\n",
       "      <td>1</td>\n",
       "      <td>0</td>\n",
       "      <td>1</td>\n",
       "      <td>325046053</td>\n",
       "      <td>0</td>\n",
       "      <td>X</td>\n",
       "      <td>0</td>\n",
       "    </tr>\n",
       "    <tr>\n",
       "      <th>2</th>\n",
       "      <td>0</td>\n",
       "      <td>1</td>\n",
       "      <td>1</td>\n",
       "      <td>0</td>\n",
       "      <td>1</td>\n",
       "      <td>46260619</td>\n",
       "      <td>0</td>\n",
       "      <td>4.3</td>\n",
       "      <td>0</td>\n",
       "    </tr>\n",
       "    <tr>\n",
       "      <th>3</th>\n",
       "      <td>0</td>\n",
       "      <td>1</td>\n",
       "      <td>1</td>\n",
       "      <td>0</td>\n",
       "      <td>1</td>\n",
       "      <td>32178385</td>\n",
       "      <td>0</td>\n",
       "      <td>2.2</td>\n",
       "      <td>0</td>\n",
       "    </tr>\n",
       "    <tr>\n",
       "      <th>4</th>\n",
       "      <td>0</td>\n",
       "      <td>1</td>\n",
       "      <td>1</td>\n",
       "      <td>0</td>\n",
       "      <td>1</td>\n",
       "      <td>1240683</td>\n",
       "      <td>0</td>\n",
       "      <td>0.5</td>\n",
       "      <td>0</td>\n",
       "    </tr>\n",
       "    <tr>\n",
       "      <th>5</th>\n",
       "      <td>0</td>\n",
       "      <td>1</td>\n",
       "      <td>1</td>\n",
       "      <td>0</td>\n",
       "      <td>1</td>\n",
       "      <td>3726025</td>\n",
       "      <td>0</td>\n",
       "      <td>4.1</td>\n",
       "      <td>0</td>\n",
       "    </tr>\n",
       "  </tbody>\n",
       "</table>\n",
       "</div>"
      ],
      "text/plain": [
       "  NAICS Owners_Sex Owners_Ethnicity Owners_Race Vet_Status      Sales  \\\n",
       "1     0          1                1           0          1  325046053   \n",
       "2     0          1                1           0          1   46260619   \n",
       "3     0          1                1           0          1   32178385   \n",
       "4     0          1                1           0          1    1240683   \n",
       "5     0          1                1           0          1    3726025   \n",
       "\n",
       "  Employees Sales_Std_Error Employees_Std_Error  \n",
       "1         0               X                   0  \n",
       "2         0             4.3                   0  \n",
       "3         0             2.2                   0  \n",
       "4         0             0.5                   0  \n",
       "5         0             4.1                   0  "
      ]
     },
     "execution_count": 9,
     "metadata": {},
     "output_type": "execute_result"
    }
   ],
   "source": [
    "WBiz2019Sub.head()"
   ]
  },
  {
   "cell_type": "markdown",
   "id": "79de4cdb",
   "metadata": {},
   "source": [
    "# Recode Dataset"
   ]
  },
  {
   "cell_type": "markdown",
   "id": "d8c89c27",
   "metadata": {},
   "source": [
    "## About Dataset"
   ]
  },
  {
   "cell_type": "code",
   "execution_count": 10,
   "id": "28895226",
   "metadata": {},
   "outputs": [
    {
     "name": "stdout",
     "output_type": "stream",
     "text": [
      "<class 'pandas.core.frame.DataFrame'>\n",
      "Int64Index: 7071 entries, 1 to 7071\n",
      "Data columns (total 9 columns):\n",
      " #   Column               Non-Null Count  Dtype \n",
      "---  ------               --------------  ----- \n",
      " 0   NAICS                7071 non-null   object\n",
      " 1   Owners_Sex           7071 non-null   object\n",
      " 2   Owners_Ethnicity     7071 non-null   object\n",
      " 3   Owners_Race          7071 non-null   object\n",
      " 4   Vet_Status           7071 non-null   object\n",
      " 5   Sales                7071 non-null   object\n",
      " 6   Employees            7071 non-null   object\n",
      " 7   Sales_Std_Error      7071 non-null   object\n",
      " 8   Employees_Std_Error  7071 non-null   object\n",
      "dtypes: object(9)\n",
      "memory usage: 552.4+ KB\n"
     ]
    }
   ],
   "source": [
    "WBiz2019Sub.info()"
   ]
  },
  {
   "cell_type": "markdown",
   "id": "8833891c",
   "metadata": {},
   "source": [
    "# Change From Objects To Float"
   ]
  },
  {
   "cell_type": "code",
   "execution_count": 11,
   "id": "02ec9b05",
   "metadata": {
    "scrolled": true
   },
   "outputs": [
    {
     "name": "stdout",
     "output_type": "stream",
     "text": [
      "<class 'pandas.core.frame.DataFrame'>\n",
      "Int64Index: 7071 entries, 1 to 7071\n",
      "Data columns (total 9 columns):\n",
      " #   Column               Non-Null Count  Dtype  \n",
      "---  ------               --------------  -----  \n",
      " 0   NAICS                7071 non-null   int64  \n",
      " 1   Owners_Sex           7071 non-null   int64  \n",
      " 2   Owners_Ethnicity     7071 non-null   int64  \n",
      " 3   Owners_Race          7071 non-null   int64  \n",
      " 4   Vet_Status           7071 non-null   int64  \n",
      " 5   Sales                5786 non-null   float64\n",
      " 6   Employees            5786 non-null   float64\n",
      " 7   Sales_Std_Error      3991 non-null   float64\n",
      " 8   Employees_Std_Error  5786 non-null   float64\n",
      "dtypes: float64(4), int64(5)\n",
      "memory usage: 552.4 KB\n",
      "None\n"
     ]
    }
   ],
   "source": [
    "WBiz2019Sub = WBiz2019Sub.apply(pd.to_numeric, errors='coerce')\n",
    "print(WBiz2019Sub.info())"
   ]
  },
  {
   "cell_type": "markdown",
   "id": "61fc0cfa",
   "metadata": {},
   "source": [
    "# Use Chi-Squares to determine if Owners_Sex depends on Sales\n"
   ]
  },
  {
   "cell_type": "markdown",
   "id": "a7ec9dfc",
   "metadata": {},
   "source": [
    "## Subset For Relevant Data"
   ]
  },
  {
   "cell_type": "code",
   "execution_count": 40,
   "id": "20590696",
   "metadata": {},
   "outputs": [],
   "source": [
    "WBiz2019Sub2 = WBiz2019Sub [['Owners_Sex', 'Owners_Ethnicity', 'Owners_Race', 'Vet_Status', 'Sales', 'Employees', 'Sales_Std_Error', 'Employees_Std_Error']]"
   ]
  },
  {
   "cell_type": "code",
   "execution_count": 41,
   "id": "230436d6",
   "metadata": {},
   "outputs": [
    {
     "name": "stdout",
     "output_type": "stream",
     "text": [
      "<class 'pandas.core.frame.DataFrame'>\n",
      "Int64Index: 7071 entries, 1 to 7071\n",
      "Data columns (total 8 columns):\n",
      " #   Column               Non-Null Count  Dtype  \n",
      "---  ------               --------------  -----  \n",
      " 0   Owners_Sex           7071 non-null   int64  \n",
      " 1   Owners_Ethnicity     7071 non-null   int64  \n",
      " 2   Owners_Race          7071 non-null   int64  \n",
      " 3   Vet_Status           7071 non-null   int64  \n",
      " 4   Sales                5786 non-null   float64\n",
      " 5   Employees            5786 non-null   float64\n",
      " 6   Sales_Std_Error      3991 non-null   float64\n",
      " 7   Employees_Std_Error  5786 non-null   float64\n",
      "dtypes: float64(4), int64(4)\n",
      "memory usage: 497.2 KB\n"
     ]
    }
   ],
   "source": [
    "WBiz2019Sub2.info()"
   ]
  },
  {
   "cell_type": "markdown",
   "id": "e99a48df",
   "metadata": {},
   "source": [
    "## Create a contingency table:\n"
   ]
  },
  {
   "cell_type": "code",
   "execution_count": 42,
   "id": "269921b1",
   "metadata": {},
   "outputs": [],
   "source": [
    "from scipy import stats"
   ]
  },
  {
   "cell_type": "code",
   "execution_count": 43,
   "id": "75e4ded0",
   "metadata": {},
   "outputs": [],
   "source": [
    "WB2019_crosstab = pd.crosstab(WBiz2019Sub2['Owners_Sex'], WBiz2019Sub2['Sales'])"
   ]
  },
  {
   "cell_type": "code",
   "execution_count": 16,
   "id": "393a22fd",
   "metadata": {
    "scrolled": true
   },
   "outputs": [
    {
     "data": {
      "text/plain": [
       "(27702.490504821584,\n",
       " 2.703477620129978e-91,\n",
       " 23080,\n",
       " array([[0.72105081, 0.72105081, 0.72105081, ..., 2.88420325, 4.32630487,\n",
       "         4.32630487],\n",
       "        [0.05651573, 0.05651573, 0.05651573, ..., 0.22606291, 0.33909437,\n",
       "         0.33909437],\n",
       "        [0.06239198, 0.06239198, 0.06239198, ..., 0.24956792, 0.37435188,\n",
       "         0.37435188],\n",
       "        [0.0485655 , 0.0485655 , 0.0485655 , ..., 0.19426201, 0.29139302,\n",
       "         0.29139302],\n",
       "        [0.06394746, 0.06394746, 0.06394746, ..., 0.25578984, 0.38368476,\n",
       "         0.38368476],\n",
       "        [0.04752852, 0.04752852, 0.04752852, ..., 0.19011407, 0.2851711 ,\n",
       "         0.2851711 ]]))"
      ]
     },
     "execution_count": 16,
     "metadata": {},
     "output_type": "execute_result"
    }
   ],
   "source": [
    "stats.chi2_contingency(WB2019_crosstab)\n"
   ]
  },
  {
   "cell_type": "markdown",
   "id": "8e255cab",
   "metadata": {},
   "source": [
    "### p-value > 0.05, therefore there is not a significant relationship between owners_sex and the number of sales. The values in the array are less than 5 and therefore does not meet the assumption."
   ]
  },
  {
   "cell_type": "markdown",
   "id": "bbf3f4ba",
   "metadata": {},
   "source": [
    "##  Run a correlation matrix"
   ]
  },
  {
   "cell_type": "code",
   "execution_count": 44,
   "id": "87f1125b",
   "metadata": {},
   "outputs": [],
   "source": [
    "import matplotlib.pyplot as plt\n",
    "import seaborn as sns"
   ]
  },
  {
   "cell_type": "code",
   "execution_count": 45,
   "id": "2fd1b3e6",
   "metadata": {
    "scrolled": true
   },
   "outputs": [
    {
     "data": {
      "text/html": [
       "<div>\n",
       "<style scoped>\n",
       "    .dataframe tbody tr th:only-of-type {\n",
       "        vertical-align: middle;\n",
       "    }\n",
       "\n",
       "    .dataframe tbody tr th {\n",
       "        vertical-align: top;\n",
       "    }\n",
       "\n",
       "    .dataframe thead th {\n",
       "        text-align: right;\n",
       "    }\n",
       "</style>\n",
       "<table border=\"1\" class=\"dataframe\">\n",
       "  <thead>\n",
       "    <tr style=\"text-align: right;\">\n",
       "      <th></th>\n",
       "      <th>Owners_Sex</th>\n",
       "      <th>Owners_Ethnicity</th>\n",
       "      <th>Owners_Race</th>\n",
       "      <th>Vet_Status</th>\n",
       "      <th>Sales</th>\n",
       "      <th>Employees</th>\n",
       "      <th>Sales_Std_Error</th>\n",
       "      <th>Employees_Std_Error</th>\n",
       "    </tr>\n",
       "  </thead>\n",
       "  <tbody>\n",
       "    <tr>\n",
       "      <th>Owners_Sex</th>\n",
       "      <td>1.000000</td>\n",
       "      <td>0.949931</td>\n",
       "      <td>0.512423</td>\n",
       "      <td>0.999104</td>\n",
       "      <td>0.120045</td>\n",
       "      <td>0.115124</td>\n",
       "      <td>0.006260</td>\n",
       "      <td>-0.038714</td>\n",
       "    </tr>\n",
       "    <tr>\n",
       "      <th>Owners_Ethnicity</th>\n",
       "      <td>0.949931</td>\n",
       "      <td>1.000000</td>\n",
       "      <td>0.406200</td>\n",
       "      <td>0.949967</td>\n",
       "      <td>0.112185</td>\n",
       "      <td>0.109457</td>\n",
       "      <td>0.002931</td>\n",
       "      <td>-0.036349</td>\n",
       "    </tr>\n",
       "    <tr>\n",
       "      <th>Owners_Race</th>\n",
       "      <td>0.512423</td>\n",
       "      <td>0.406200</td>\n",
       "      <td>1.000000</td>\n",
       "      <td>0.512603</td>\n",
       "      <td>0.024231</td>\n",
       "      <td>0.015669</td>\n",
       "      <td>0.018203</td>\n",
       "      <td>0.035159</td>\n",
       "    </tr>\n",
       "    <tr>\n",
       "      <th>Vet_Status</th>\n",
       "      <td>0.999104</td>\n",
       "      <td>0.949967</td>\n",
       "      <td>0.512603</td>\n",
       "      <td>1.000000</td>\n",
       "      <td>0.120605</td>\n",
       "      <td>0.116055</td>\n",
       "      <td>0.006823</td>\n",
       "      <td>-0.038683</td>\n",
       "    </tr>\n",
       "    <tr>\n",
       "      <th>Sales</th>\n",
       "      <td>0.120045</td>\n",
       "      <td>0.112185</td>\n",
       "      <td>0.024231</td>\n",
       "      <td>0.120605</td>\n",
       "      <td>1.000000</td>\n",
       "      <td>0.974077</td>\n",
       "      <td>-0.001867</td>\n",
       "      <td>-0.128817</td>\n",
       "    </tr>\n",
       "    <tr>\n",
       "      <th>Employees</th>\n",
       "      <td>0.115124</td>\n",
       "      <td>0.109457</td>\n",
       "      <td>0.015669</td>\n",
       "      <td>0.116055</td>\n",
       "      <td>0.974077</td>\n",
       "      <td>1.000000</td>\n",
       "      <td>-0.028023</td>\n",
       "      <td>-0.166802</td>\n",
       "    </tr>\n",
       "    <tr>\n",
       "      <th>Sales_Std_Error</th>\n",
       "      <td>0.006260</td>\n",
       "      <td>0.002931</td>\n",
       "      <td>0.018203</td>\n",
       "      <td>0.006823</td>\n",
       "      <td>-0.001867</td>\n",
       "      <td>-0.028023</td>\n",
       "      <td>1.000000</td>\n",
       "      <td>0.342267</td>\n",
       "    </tr>\n",
       "    <tr>\n",
       "      <th>Employees_Std_Error</th>\n",
       "      <td>-0.038714</td>\n",
       "      <td>-0.036349</td>\n",
       "      <td>0.035159</td>\n",
       "      <td>-0.038683</td>\n",
       "      <td>-0.128817</td>\n",
       "      <td>-0.166802</td>\n",
       "      <td>0.342267</td>\n",
       "      <td>1.000000</td>\n",
       "    </tr>\n",
       "  </tbody>\n",
       "</table>\n",
       "</div>"
      ],
      "text/plain": [
       "                     Owners_Sex  Owners_Ethnicity  Owners_Race  Vet_Status  \\\n",
       "Owners_Sex             1.000000          0.949931     0.512423    0.999104   \n",
       "Owners_Ethnicity       0.949931          1.000000     0.406200    0.949967   \n",
       "Owners_Race            0.512423          0.406200     1.000000    0.512603   \n",
       "Vet_Status             0.999104          0.949967     0.512603    1.000000   \n",
       "Sales                  0.120045          0.112185     0.024231    0.120605   \n",
       "Employees              0.115124          0.109457     0.015669    0.116055   \n",
       "Sales_Std_Error        0.006260          0.002931     0.018203    0.006823   \n",
       "Employees_Std_Error   -0.038714         -0.036349     0.035159   -0.038683   \n",
       "\n",
       "                        Sales  Employees  Sales_Std_Error  Employees_Std_Error  \n",
       "Owners_Sex           0.120045   0.115124         0.006260            -0.038714  \n",
       "Owners_Ethnicity     0.112185   0.109457         0.002931            -0.036349  \n",
       "Owners_Race          0.024231   0.015669         0.018203             0.035159  \n",
       "Vet_Status           0.120605   0.116055         0.006823            -0.038683  \n",
       "Sales                1.000000   0.974077        -0.001867            -0.128817  \n",
       "Employees            0.974077   1.000000        -0.028023            -0.166802  \n",
       "Sales_Std_Error     -0.001867  -0.028023         1.000000             0.342267  \n",
       "Employees_Std_Error -0.128817  -0.166802         0.342267             1.000000  "
      ]
     },
     "execution_count": 45,
     "metadata": {},
     "output_type": "execute_result"
    }
   ],
   "source": [
    "WBiz2019Sub2.corr(method='pearson')"
   ]
  },
  {
   "cell_type": "code",
   "execution_count": 47,
   "id": "04f614eb",
   "metadata": {},
   "outputs": [
    {
     "data": {
      "text/plain": [
       "<AxesSubplot:>"
      ]
     },
     "execution_count": 47,
     "metadata": {},
     "output_type": "execute_result"
    },
    {
     "data": {
      "image/png": "[encoded data removed]",
      "text/plain": [
       "<Figure size 432x288 with 2 Axes>"
      ]
     },
     "metadata": {
      "needs_background": "light"
     },
     "output_type": "display_data"
    }
   ],
   "source": [
    "sns.heatmap(WBiz2019Sub2.corr(), annot=True)"
   ]
  },
  {
   "cell_type": "markdown",
   "id": "676e46fd",
   "metadata": {},
   "source": [
    "### Strong, positive correlations between owners_sex, owners_ethnicity, & vet_status."
   ]
  },
  {
   "cell_type": "markdown",
   "id": "263a2a64",
   "metadata": {},
   "source": [
    "# Determine Dependent t-Test"
   ]
  },
  {
   "cell_type": "code",
   "execution_count": 48,
   "id": "9a853699",
   "metadata": {},
   "outputs": [],
   "source": [
    "from scipy import stats"
   ]
  },
  {
   "cell_type": "markdown",
   "id": "b5797514",
   "metadata": {},
   "source": [
    "## Test assumptions:"
   ]
  },
  {
   "cell_type": "code",
   "execution_count": 49,
   "id": "d172883d",
   "metadata": {},
   "outputs": [
    {
     "data": {
      "text/plain": [
       "<AxesSubplot:>"
      ]
     },
     "execution_count": 49,
     "metadata": {},
     "output_type": "execute_result"
    },
    {
     "data": {
      "image/png": "[encoded data removed]",
      "text/plain": [
       "<Figure size 432x288 with 1 Axes>"
      ]
     },
     "metadata": {
      "needs_background": "light"
     },
     "output_type": "display_data"
    }
   ],
   "source": [
    "WBiz2019Sub2['Owners_Sex'].hist()"
   ]
  },
  {
   "cell_type": "code",
   "execution_count": 50,
   "id": "e5269918",
   "metadata": {},
   "outputs": [
    {
     "data": {
      "text/plain": [
       "<AxesSubplot:>"
      ]
     },
     "execution_count": 50,
     "metadata": {},
     "output_type": "execute_result"
    },
    {
     "data": {
      "image/png": "[encoded data removed]",
      "text/plain": [
       "<Figure size 432x288 with 1 Axes>"
      ]
     },
     "metadata": {
      "needs_background": "light"
     },
     "output_type": "display_data"
    }
   ],
   "source": [
    "WBiz2019Sub2['Owners_Ethnicity'].hist()"
   ]
  },
  {
   "cell_type": "code",
   "execution_count": 51,
   "id": "1e91ac99",
   "metadata": {},
   "outputs": [
    {
     "data": {
      "text/plain": [
       "<AxesSubplot:>"
      ]
     },
     "execution_count": 51,
     "metadata": {},
     "output_type": "execute_result"
    },
    {
     "data": {
      "image/png": "[encoded data removed]",
      "text/plain": [
       "<Figure size 432x288 with 1 Axes>"
      ]
     },
     "metadata": {
      "needs_background": "light"
     },
     "output_type": "display_data"
    }
   ],
   "source": [
    "WBiz2019Sub2['Vet_Status'].hist()\n"
   ]
  },
  {
   "cell_type": "code",
   "execution_count": 52,
   "id": "cc10f3a0",
   "metadata": {
    "scrolled": true
   },
   "outputs": [
    {
     "data": {
      "text/plain": [
       "<AxesSubplot:>"
      ]
     },
     "execution_count": 52,
     "metadata": {},
     "output_type": "execute_result"
    },
    {
     "data": {
      "image/png": "[encoded data removed]",
      "text/plain": [
       "<Figure size 432x288 with 1 Axes>"
      ]
     },
     "metadata": {
      "needs_background": "light"
     },
     "output_type": "display_data"
    }
   ],
   "source": [
    "WBiz2019Sub2['Sales'].hist()"
   ]
  },
  {
   "cell_type": "markdown",
   "id": "be515c77",
   "metadata": {},
   "source": [
    "### Data is not normally distributed and therefore violates assumptions.\n"
   ]
  },
  {
   "cell_type": "markdown",
   "id": "5af6f4e0",
   "metadata": {},
   "source": [
    "# Determine MANOVA on R."
   ]
  },
  {
   "cell_type": "code",
   "execution_count": null,
   "id": "a1b492ed",
   "metadata": {},
   "outputs": [],
   "source": []
  }
 ],
 "metadata": {
  "kernelspec": {
   "display_name": "Python 3",
   "language": "python",
   "name": "python3"
  },
  "language_info": {
   "codemirror_mode": {
    "name": "ipython",
    "version": 3
   },
   "file_extension": ".py",
   "mimetype": "text/x-python",
   "name": "python",
   "nbconvert_exporter": "python",
   "pygments_lexer": "ipython3",
   "version": "3.8.8"
  }
 },
 "nbformat": 4,
 "nbformat_minor": 5
}
