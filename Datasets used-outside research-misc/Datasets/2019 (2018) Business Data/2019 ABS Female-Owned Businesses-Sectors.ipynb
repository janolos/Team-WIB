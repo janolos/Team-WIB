{
 "cells": [
  {
   "cell_type": "markdown",
   "id": "29faba1f-c08e-404e-b33d-56d99cfe3e6e",
   "metadata": {
    "tags": []
   },
   "source": [
    "## Import Packages"
   ]
  },
  {
   "cell_type": "code",
   "execution_count": 1,
   "id": "db91d8a0-5322-45a9-91f4-0d526cca9219",
   "metadata": {},
   "outputs": [],
   "source": [
    "import pandas as pd\n",
    "import numpy as np"
   ]
  },
  {
   "cell_type": "markdown",
   "id": "d8a8f7bc-85d3-4bdd-8d9a-daff6d40d494",
   "metadata": {},
   "source": [
    "## Read in Data"
   ]
  },
  {
   "cell_type": "code",
   "execution_count": 2,
   "id": "20d5c7e9-02fe-40c5-807a-694fc80fdd83",
   "metadata": {},
   "outputs": [
    {
     "name": "stderr",
     "output_type": "stream",
     "text": [
      "C:\\Users\\nbroo\\anaconda3\\lib\\site-packages\\IPython\\core\\interactiveshell.py:3165: DtypeWarning: Columns (1,3,4,5,7,8,9,10,12,14,16,22) have mixed types.Specify dtype option on import or set low_memory=False.\n",
      "  has_raised = await self.run_ast_nodes(code_ast.body, cell_name,\n"
     ]
    },
    {
     "data": {
      "text/html": [
       "<div>\n",
       "<style scoped>\n",
       "    .dataframe tbody tr th:only-of-type {\n",
       "        vertical-align: middle;\n",
       "    }\n",
       "\n",
       "    .dataframe tbody tr th {\n",
       "        vertical-align: top;\n",
       "    }\n",
       "\n",
       "    .dataframe thead th {\n",
       "        text-align: right;\n",
       "    }\n",
       "</style>\n",
       "<table border=\"1\" class=\"dataframe\">\n",
       "  <thead>\n",
       "    <tr style=\"text-align: right;\">\n",
       "      <th></th>\n",
       "      <th>GEO_ID</th>\n",
       "      <th>GEO_ID_F</th>\n",
       "      <th>NAME</th>\n",
       "      <th>NAICS2017</th>\n",
       "      <th>NAICS2017_F</th>\n",
       "      <th>INDLEVEL</th>\n",
       "      <th>NAICS2017_LABEL</th>\n",
       "      <th>INDGROUP</th>\n",
       "      <th>SECTOR</th>\n",
       "      <th>SUBSECTOR</th>\n",
       "      <th>...</th>\n",
       "      <th>PAYANN</th>\n",
       "      <th>PAYANN_PCT</th>\n",
       "      <th>FIRMPDEMP_S</th>\n",
       "      <th>FIRMPDEMP_PCT_S</th>\n",
       "      <th>RCPPDEMP_S</th>\n",
       "      <th>RCPPDEMP_PCT_S</th>\n",
       "      <th>EMP_S</th>\n",
       "      <th>EMP_PCT_S</th>\n",
       "      <th>PAYANN_S</th>\n",
       "      <th>PAYANN_PCT_S</th>\n",
       "    </tr>\n",
       "  </thead>\n",
       "  <tbody>\n",
       "    <tr>\n",
       "      <th>0</th>\n",
       "      <td>id</td>\n",
       "      <td>Geo Footnote</td>\n",
       "      <td>Geographic Area Name</td>\n",
       "      <td>2017 NAICS code</td>\n",
       "      <td>2017 NAICS Footnote</td>\n",
       "      <td>Industry level</td>\n",
       "      <td>Meaning of NAICS code</td>\n",
       "      <td>Industry group</td>\n",
       "      <td>NAICS economic sector</td>\n",
       "      <td>SUBSECTOR</td>\n",
       "      <td>...</td>\n",
       "      <td>Annual payroll ($1,000)</td>\n",
       "      <td>Percent of annual payroll (%)</td>\n",
       "      <td>Relative standard error of employer firms (%)</td>\n",
       "      <td>Standard error of percent of employer firms (%)</td>\n",
       "      <td>Relative standard error of sales, value of shi...</td>\n",
       "      <td>Standard error of percent of sales, value of s...</td>\n",
       "      <td>Relative standard error of number of employees...</td>\n",
       "      <td>Standard error of percent of employees (%)</td>\n",
       "      <td>Relative standard error of annual payroll (%)</td>\n",
       "      <td>Standard error of percent of annual payroll (%)</td>\n",
       "    </tr>\n",
       "    <tr>\n",
       "      <th>1</th>\n",
       "      <td>0100000US</td>\n",
       "      <td>NaN</td>\n",
       "      <td>United States</td>\n",
       "      <td>0</td>\n",
       "      <td>NaN</td>\n",
       "      <td>2</td>\n",
       "      <td>Total for all sectors</td>\n",
       "      <td>NaN</td>\n",
       "      <td>0</td>\n",
       "      <td>NaN</td>\n",
       "      <td>...</td>\n",
       "      <td>6937240308</td>\n",
       "      <td>X</td>\n",
       "      <td>0</td>\n",
       "      <td>X</td>\n",
       "      <td>1.2</td>\n",
       "      <td>X</td>\n",
       "      <td>0.5</td>\n",
       "      <td>X</td>\n",
       "      <td>0.5</td>\n",
       "      <td>X</td>\n",
       "    </tr>\n",
       "    <tr>\n",
       "      <th>2</th>\n",
       "      <td>0100000US</td>\n",
       "      <td>NaN</td>\n",
       "      <td>United States</td>\n",
       "      <td>0</td>\n",
       "      <td>NaN</td>\n",
       "      <td>2</td>\n",
       "      <td>Total for all sectors</td>\n",
       "      <td>NaN</td>\n",
       "      <td>0</td>\n",
       "      <td>NaN</td>\n",
       "      <td>...</td>\n",
       "      <td>454218390</td>\n",
       "      <td>14.2</td>\n",
       "      <td>0.4</td>\n",
       "      <td>0.6</td>\n",
       "      <td>1.3</td>\n",
       "      <td>66.8</td>\n",
       "      <td>1.1</td>\n",
       "      <td>61.6</td>\n",
       "      <td>1.3</td>\n",
       "      <td>67.2</td>\n",
       "    </tr>\n",
       "    <tr>\n",
       "      <th>3</th>\n",
       "      <td>0100000US</td>\n",
       "      <td>NaN</td>\n",
       "      <td>United States</td>\n",
       "      <td>0</td>\n",
       "      <td>NaN</td>\n",
       "      <td>2</td>\n",
       "      <td>Total for all sectors</td>\n",
       "      <td>NaN</td>\n",
       "      <td>0</td>\n",
       "      <td>NaN</td>\n",
       "      <td>...</td>\n",
       "      <td>478308387</td>\n",
       "      <td>15</td>\n",
       "      <td>0.6</td>\n",
       "      <td>0.3</td>\n",
       "      <td>3</td>\n",
       "      <td>87</td>\n",
       "      <td>1.5</td>\n",
       "      <td>68.9</td>\n",
       "      <td>2.7</td>\n",
       "      <td>77.9</td>\n",
       "    </tr>\n",
       "    <tr>\n",
       "      <th>4</th>\n",
       "      <td>0100000US</td>\n",
       "      <td>NaN</td>\n",
       "      <td>United States</td>\n",
       "      <td>0</td>\n",
       "      <td>NaN</td>\n",
       "      <td>2</td>\n",
       "      <td>Total for all sectors</td>\n",
       "      <td>NaN</td>\n",
       "      <td>0</td>\n",
       "      <td>NaN</td>\n",
       "      <td>...</td>\n",
       "      <td>75150602</td>\n",
       "      <td>2.4</td>\n",
       "      <td>2.5</td>\n",
       "      <td>0.1</td>\n",
       "      <td>7.8</td>\n",
       "      <td>12.4</td>\n",
       "      <td>4.8</td>\n",
       "      <td>7</td>\n",
       "      <td>4.2</td>\n",
       "      <td>10.1</td>\n",
       "    </tr>\n",
       "  </tbody>\n",
       "</table>\n",
       "<p>5 rows × 39 columns</p>\n",
       "</div>"
      ],
      "text/plain": [
       "      GEO_ID      GEO_ID_F                  NAME        NAICS2017  \\\n",
       "0         id  Geo Footnote  Geographic Area Name  2017 NAICS code   \n",
       "1  0100000US           NaN         United States                0   \n",
       "2  0100000US           NaN         United States                0   \n",
       "3  0100000US           NaN         United States                0   \n",
       "4  0100000US           NaN         United States                0   \n",
       "\n",
       "           NAICS2017_F        INDLEVEL        NAICS2017_LABEL        INDGROUP  \\\n",
       "0  2017 NAICS Footnote  Industry level  Meaning of NAICS code  Industry group   \n",
       "1                  NaN               2  Total for all sectors             NaN   \n",
       "2                  NaN               2  Total for all sectors             NaN   \n",
       "3                  NaN               2  Total for all sectors             NaN   \n",
       "4                  NaN               2  Total for all sectors             NaN   \n",
       "\n",
       "                   SECTOR  SUBSECTOR  ...                   PAYANN  \\\n",
       "0  NAICS economic sector   SUBSECTOR  ...  Annual payroll ($1,000)   \n",
       "1                       0        NaN  ...               6937240308   \n",
       "2                       0        NaN  ...                454218390   \n",
       "3                       0        NaN  ...                478308387   \n",
       "4                       0        NaN  ...                 75150602   \n",
       "\n",
       "                      PAYANN_PCT  \\\n",
       "0  Percent of annual payroll (%)   \n",
       "1                              X   \n",
       "2                           14.2   \n",
       "3                             15   \n",
       "4                            2.4   \n",
       "\n",
       "                                     FIRMPDEMP_S  \\\n",
       "0  Relative standard error of employer firms (%)   \n",
       "1                                              0   \n",
       "2                                            0.4   \n",
       "3                                            0.6   \n",
       "4                                            2.5   \n",
       "\n",
       "                                   FIRMPDEMP_PCT_S  \\\n",
       "0  Standard error of percent of employer firms (%)   \n",
       "1                                                X   \n",
       "2                                              0.6   \n",
       "3                                              0.3   \n",
       "4                                              0.1   \n",
       "\n",
       "                                          RCPPDEMP_S  \\\n",
       "0  Relative standard error of sales, value of shi...   \n",
       "1                                                1.2   \n",
       "2                                                1.3   \n",
       "3                                                  3   \n",
       "4                                                7.8   \n",
       "\n",
       "                                      RCPPDEMP_PCT_S  \\\n",
       "0  Standard error of percent of sales, value of s...   \n",
       "1                                                  X   \n",
       "2                                               66.8   \n",
       "3                                                 87   \n",
       "4                                               12.4   \n",
       "\n",
       "                                               EMP_S  \\\n",
       "0  Relative standard error of number of employees...   \n",
       "1                                                0.5   \n",
       "2                                                1.1   \n",
       "3                                                1.5   \n",
       "4                                                4.8   \n",
       "\n",
       "                                    EMP_PCT_S  \\\n",
       "0  Standard error of percent of employees (%)   \n",
       "1                                           X   \n",
       "2                                        61.6   \n",
       "3                                        68.9   \n",
       "4                                           7   \n",
       "\n",
       "                                        PAYANN_S  \\\n",
       "0  Relative standard error of annual payroll (%)   \n",
       "1                                            0.5   \n",
       "2                                            1.3   \n",
       "3                                            2.7   \n",
       "4                                            4.2   \n",
       "\n",
       "                                      PAYANN_PCT_S  \n",
       "0  Standard error of percent of annual payroll (%)  \n",
       "1                                                X  \n",
       "2                                             67.2  \n",
       "3                                             77.9  \n",
       "4                                             10.1  \n",
       "\n",
       "[5 rows x 39 columns]"
      ]
     },
     "execution_count": 2,
     "metadata": {},
     "output_type": "execute_result"
    }
   ],
   "source": [
    "WB2019=pd.read_csv(r\"C:\\Users\\nbroo\\OneDrive\\Documents\\Data Science Final Group Project\\Women In Business Before And After The Pandemic\\2019 (2018) Census Business Data-2.csv\")\n",
    "WB2019.head()"
   ]
  },
  {
   "cell_type": "markdown",
   "id": "b0ef5fba-176c-4251-907e-7bfc7849dea9",
   "metadata": {},
   "source": [
    "## Drop Unwanted Columns"
   ]
  },
  {
   "cell_type": "code",
   "execution_count": 3,
   "id": "99eefa35-2a49-476a-9745-37204854bca6",
   "metadata": {},
   "outputs": [
    {
     "data": {
      "text/html": [
       "<div>\n",
       "<style scoped>\n",
       "    .dataframe tbody tr th:only-of-type {\n",
       "        vertical-align: middle;\n",
       "    }\n",
       "\n",
       "    .dataframe tbody tr th {\n",
       "        vertical-align: top;\n",
       "    }\n",
       "\n",
       "    .dataframe thead th {\n",
       "        text-align: right;\n",
       "    }\n",
       "</style>\n",
       "<table border=\"1\" class=\"dataframe\">\n",
       "  <thead>\n",
       "    <tr style=\"text-align: right;\">\n",
       "      <th></th>\n",
       "      <th>NAICS2017</th>\n",
       "      <th>SEX</th>\n",
       "      <th>ETH_GROUP</th>\n",
       "      <th>RACE_GROUP</th>\n",
       "      <th>VET_GROUP</th>\n",
       "      <th>RCPPDEMP</th>\n",
       "      <th>EMP</th>\n",
       "      <th>RCPPDEMP_S</th>\n",
       "      <th>EMP_S</th>\n",
       "    </tr>\n",
       "  </thead>\n",
       "  <tbody>\n",
       "    <tr>\n",
       "      <th>0</th>\n",
       "      <td>2017 NAICS code</td>\n",
       "      <td>Sex code</td>\n",
       "      <td>Ethnicity code</td>\n",
       "      <td>Race code</td>\n",
       "      <td>Veteran code</td>\n",
       "      <td>Sales, value of shipments, or revenue of emplo...</td>\n",
       "      <td>Number of employees</td>\n",
       "      <td>Relative standard error of sales, value of shi...</td>\n",
       "      <td>Relative standard error of number of employees...</td>\n",
       "    </tr>\n",
       "    <tr>\n",
       "      <th>1</th>\n",
       "      <td>0</td>\n",
       "      <td>1</td>\n",
       "      <td>1</td>\n",
       "      <td>0</td>\n",
       "      <td>1</td>\n",
       "      <td>38405539368</td>\n",
       "      <td>128196406</td>\n",
       "      <td>1.2</td>\n",
       "      <td>0.5</td>\n",
       "    </tr>\n",
       "    <tr>\n",
       "      <th>2</th>\n",
       "      <td>0</td>\n",
       "      <td>1</td>\n",
       "      <td>1</td>\n",
       "      <td>0</td>\n",
       "      <td>1</td>\n",
       "      <td>2270021185</td>\n",
       "      <td>10991334</td>\n",
       "      <td>1.3</td>\n",
       "      <td>1.1</td>\n",
       "    </tr>\n",
       "    <tr>\n",
       "      <th>3</th>\n",
       "      <td>0</td>\n",
       "      <td>1</td>\n",
       "      <td>1</td>\n",
       "      <td>0</td>\n",
       "      <td>1</td>\n",
       "      <td>2462681905</td>\n",
       "      <td>11240900</td>\n",
       "      <td>3</td>\n",
       "      <td>1.5</td>\n",
       "    </tr>\n",
       "    <tr>\n",
       "      <th>4</th>\n",
       "      <td>0</td>\n",
       "      <td>1</td>\n",
       "      <td>1</td>\n",
       "      <td>0</td>\n",
       "      <td>1</td>\n",
       "      <td>413777541</td>\n",
       "      <td>1423837</td>\n",
       "      <td>7.8</td>\n",
       "      <td>4.8</td>\n",
       "    </tr>\n",
       "  </tbody>\n",
       "</table>\n",
       "</div>"
      ],
      "text/plain": [
       "         NAICS2017       SEX       ETH_GROUP RACE_GROUP     VET_GROUP  \\\n",
       "0  2017 NAICS code  Sex code  Ethnicity code  Race code  Veteran code   \n",
       "1                0         1               1          0             1   \n",
       "2                0         1               1          0             1   \n",
       "3                0         1               1          0             1   \n",
       "4                0         1               1          0             1   \n",
       "\n",
       "                                            RCPPDEMP                  EMP  \\\n",
       "0  Sales, value of shipments, or revenue of emplo...  Number of employees   \n",
       "1                                        38405539368            128196406   \n",
       "2                                         2270021185             10991334   \n",
       "3                                         2462681905             11240900   \n",
       "4                                          413777541              1423837   \n",
       "\n",
       "                                          RCPPDEMP_S  \\\n",
       "0  Relative standard error of sales, value of shi...   \n",
       "1                                                1.2   \n",
       "2                                                1.3   \n",
       "3                                                  3   \n",
       "4                                                7.8   \n",
       "\n",
       "                                               EMP_S  \n",
       "0  Relative standard error of number of employees...  \n",
       "1                                                0.5  \n",
       "2                                                1.1  \n",
       "3                                                1.5  \n",
       "4                                                4.8  "
      ]
     },
     "execution_count": 3,
     "metadata": {},
     "output_type": "execute_result"
    }
   ],
   "source": [
    "WB2019.drop(['GEO_ID', 'GEO_ID_F', 'NAME', 'NAICS2017_F', 'INDLEVEL', 'NAICS2017_LABEL', 'INDGROUP', 'SECTOR', 'SUBSECTOR', 'SEX_LABEL', 'ETH_GROUP_LABEL', 'RACE_GROUP_LABEL', 'VET_GROUP_LABEL', 'QDESC','QDESC_LABEL', 'BUSCHAR', 'BUSCHAR_LABEL', 'YEAR', 'FIRMPDEMP','FIRMPDEMP_PCT', 'EMP_PCT', 'PAYANN','RCPPDEMP_PCT', 'PAYANN_PCT', 'FIRMPDEMP_S', 'FIRMPDEMP_PCT_S','RCPPDEMP_PCT_S', 'EMP_PCT_S', 'PAYANN_S', 'PAYANN_PCT_S'], axis = 1, inplace = True)\n",
    "WB2019.head()"
   ]
  },
  {
   "cell_type": "markdown",
   "id": "4cbd9b1c-21ff-4a37-8f4c-53a3a699796d",
   "metadata": {},
   "source": [
    "## Get Unique Values of Sex Column"
   ]
  },
  {
   "cell_type": "code",
   "execution_count": 4,
   "id": "37fb3c51-552f-45c2-b34c-5d2e4a343f75",
   "metadata": {},
   "outputs": [
    {
     "data": {
      "text/plain": [
       "array(['Sex code', '1', '2', '3', '4', '96', '98', 2, 3, 4, 1, 96, 98],\n",
       "      dtype=object)"
      ]
     },
     "execution_count": 4,
     "metadata": {},
     "output_type": "execute_result"
    }
   ],
   "source": [
    "WB2019['SEX'].unique()"
   ]
  },
  {
   "cell_type": "markdown",
   "id": "602b3784-cc76-4985-ae29-e06cce97a5a1",
   "metadata": {},
   "source": [
    "### Looks like we have two types of \"2\". Going to view the count of each"
   ]
  },
  {
   "cell_type": "code",
   "execution_count": 5,
   "id": "caff40da-1e61-4c4a-b98e-76e7e4ada4eb",
   "metadata": {},
   "outputs": [
    {
     "data": {
      "text/plain": [
       "1           16380\n",
       "1            8224\n",
       "3            5285\n",
       "4            5036\n",
       "2            4564\n",
       "3            2764\n",
       "4            2587\n",
       "2            2273\n",
       "96            607\n",
       "98            482\n",
       "96            295\n",
       "98            240\n",
       "Sex code        1\n",
       "Name: SEX, dtype: int64"
      ]
     },
     "execution_count": 5,
     "metadata": {},
     "output_type": "execute_result"
    }
   ],
   "source": [
    "WB2019.SEX.value_counts()"
   ]
  },
  {
   "cell_type": "markdown",
   "id": "b74fbf2e-a4c2-49ec-8c5d-b7f0bf225d23",
   "metadata": {},
   "source": [
    "### Now adding them together."
   ]
  },
  {
   "cell_type": "code",
   "execution_count": 6,
   "id": "2d6a47f3-4ec3-483c-bc06-b771a817f2bb",
   "metadata": {},
   "outputs": [
    {
     "data": {
      "text/plain": [
       "48738"
      ]
     },
     "execution_count": 6,
     "metadata": {},
     "output_type": "execute_result"
    }
   ],
   "source": [
    "WB2019.SEX.value_counts().sum()"
   ]
  },
  {
   "cell_type": "markdown",
   "id": "0f2684a6-97e3-4191-b14f-67c5b53956cf",
   "metadata": {},
   "source": [
    "## Select only rows with the value of 2"
   ]
  },
  {
   "cell_type": "code",
   "execution_count": 7,
   "id": "db4969d4-8545-4a31-9a7d-f323b092568a",
   "metadata": {},
   "outputs": [],
   "source": [
    "WB2019 = WB2019[(WB2019['SEX'].isin(['2', 2]))]"
   ]
  },
  {
   "cell_type": "markdown",
   "id": "e6615398-7723-4113-9c82-f4839ae6df3b",
   "metadata": {},
   "source": [
    "## Confirm that we have the correct number of rows"
   ]
  },
  {
   "cell_type": "code",
   "execution_count": 8,
   "id": "6e9b7a7f-ab4b-4427-bba6-7ccd6894546f",
   "metadata": {},
   "outputs": [
    {
     "data": {
      "text/plain": [
       "(6837, 9)"
      ]
     },
     "execution_count": 8,
     "metadata": {},
     "output_type": "execute_result"
    }
   ],
   "source": [
    "WB2019.shape"
   ]
  },
  {
   "cell_type": "markdown",
   "id": "5c26d5a3-627f-4dbf-b050-e0ba31e160a2",
   "metadata": {},
   "source": [
    "# Rename Columns"
   ]
  },
  {
   "cell_type": "code",
   "execution_count": 9,
   "id": "1065cc79-75bc-4487-8cc8-09da49a021db",
   "metadata": {},
   "outputs": [],
   "source": [
    "WB2019_1 = WB2019.rename(columns={'NAICS2017':'NAICS',\n",
    "                                       'SEX':'Owners_Sex',\n",
    "                                       'ETH_GROUP': 'Owners_Ethnicity', \n",
    "                                       'RACE_GROUP':'Owners_Race', \n",
    "                                       'VET_GROUP':'Vet_Status', \n",
    "                                       'RCPPDEMP':'Sales', \n",
    "                                       'EMP': 'Employees', \n",
    "                                       'RCPPDEMP_S':'Sales_Std_Error', \n",
    "                                       'EMP_S':'Employees_Std_Error'})"
   ]
  },
  {
   "cell_type": "code",
   "execution_count": 10,
   "id": "6e2b1cb9-c0aa-47ea-bbfa-9914528f09fd",
   "metadata": {},
   "outputs": [
    {
     "data": {
      "text/html": [
       "<div>\n",
       "<style scoped>\n",
       "    .dataframe tbody tr th:only-of-type {\n",
       "        vertical-align: middle;\n",
       "    }\n",
       "\n",
       "    .dataframe tbody tr th {\n",
       "        vertical-align: top;\n",
       "    }\n",
       "\n",
       "    .dataframe thead th {\n",
       "        text-align: right;\n",
       "    }\n",
       "</style>\n",
       "<table border=\"1\" class=\"dataframe\">\n",
       "  <thead>\n",
       "    <tr style=\"text-align: right;\">\n",
       "      <th></th>\n",
       "      <th>NAICS</th>\n",
       "      <th>Owners_Sex</th>\n",
       "      <th>Owners_Ethnicity</th>\n",
       "      <th>Owners_Race</th>\n",
       "      <th>Vet_Status</th>\n",
       "      <th>Sales</th>\n",
       "      <th>Employees</th>\n",
       "      <th>Sales_Std_Error</th>\n",
       "      <th>Employees_Std_Error</th>\n",
       "    </tr>\n",
       "  </thead>\n",
       "  <tbody>\n",
       "    <tr>\n",
       "      <th>9</th>\n",
       "      <td>0</td>\n",
       "      <td>2</td>\n",
       "      <td>1</td>\n",
       "      <td>0</td>\n",
       "      <td>1</td>\n",
       "      <td>1776835350</td>\n",
       "      <td>10149257</td>\n",
       "      <td>4.5</td>\n",
       "      <td>1.9</td>\n",
       "    </tr>\n",
       "    <tr>\n",
       "      <th>10</th>\n",
       "      <td>0</td>\n",
       "      <td>2</td>\n",
       "      <td>1</td>\n",
       "      <td>0</td>\n",
       "      <td>1</td>\n",
       "      <td>282385501</td>\n",
       "      <td>2150147</td>\n",
       "      <td>6.1</td>\n",
       "      <td>3</td>\n",
       "    </tr>\n",
       "    <tr>\n",
       "      <th>11</th>\n",
       "      <td>0</td>\n",
       "      <td>2</td>\n",
       "      <td>1</td>\n",
       "      <td>0</td>\n",
       "      <td>1</td>\n",
       "      <td>267427453</td>\n",
       "      <td>1499541</td>\n",
       "      <td>8.2</td>\n",
       "      <td>2.8</td>\n",
       "    </tr>\n",
       "    <tr>\n",
       "      <th>12</th>\n",
       "      <td>0</td>\n",
       "      <td>2</td>\n",
       "      <td>1</td>\n",
       "      <td>0</td>\n",
       "      <td>1</td>\n",
       "      <td>31555727</td>\n",
       "      <td>127916</td>\n",
       "      <td>22.3</td>\n",
       "      <td>18.4</td>\n",
       "    </tr>\n",
       "    <tr>\n",
       "      <th>13</th>\n",
       "      <td>0</td>\n",
       "      <td>2</td>\n",
       "      <td>1</td>\n",
       "      <td>0</td>\n",
       "      <td>1</td>\n",
       "      <td>S</td>\n",
       "      <td>25,000 to 49,999 employees</td>\n",
       "      <td>S</td>\n",
       "      <td>S</td>\n",
       "    </tr>\n",
       "  </tbody>\n",
       "</table>\n",
       "</div>"
      ],
      "text/plain": [
       "   NAICS Owners_Sex Owners_Ethnicity Owners_Race Vet_Status       Sales  \\\n",
       "9      0          2                1           0          1  1776835350   \n",
       "10     0          2                1           0          1   282385501   \n",
       "11     0          2                1           0          1   267427453   \n",
       "12     0          2                1           0          1    31555727   \n",
       "13     0          2                1           0          1           S   \n",
       "\n",
       "                     Employees Sales_Std_Error Employees_Std_Error  \n",
       "9                     10149257             4.5                 1.9  \n",
       "10                     2150147             6.1                   3  \n",
       "11                     1499541             8.2                 2.8  \n",
       "12                      127916            22.3                18.4  \n",
       "13  25,000 to 49,999 employees               S                   S  "
      ]
     },
     "execution_count": 10,
     "metadata": {},
     "output_type": "execute_result"
    }
   ],
   "source": [
    "WB2019_1.head()"
   ]
  },
  {
   "cell_type": "markdown",
   "id": "f83e0c8b",
   "metadata": {},
   "source": [
    "# Convert datatype to integer"
   ]
  },
  {
   "cell_type": "code",
   "execution_count": 11,
   "id": "3d0ba483",
   "metadata": {},
   "outputs": [
    {
     "name": "stdout",
     "output_type": "stream",
     "text": [
      "<class 'pandas.core.frame.DataFrame'>\n",
      "Int64Index: 6837 entries, 9 to 48692\n",
      "Data columns (total 9 columns):\n",
      " #   Column               Non-Null Count  Dtype \n",
      "---  ------               --------------  ----- \n",
      " 0   NAICS                6837 non-null   object\n",
      " 1   Owners_Sex           6837 non-null   object\n",
      " 2   Owners_Ethnicity     6837 non-null   object\n",
      " 3   Owners_Race          6837 non-null   object\n",
      " 4   Vet_Status           6837 non-null   object\n",
      " 5   Sales                6837 non-null   object\n",
      " 6   Employees            6837 non-null   object\n",
      " 7   Sales_Std_Error      6837 non-null   object\n",
      " 8   Employees_Std_Error  6837 non-null   object\n",
      "dtypes: object(9)\n",
      "memory usage: 534.1+ KB\n"
     ]
    }
   ],
   "source": [
    "WB2019_1.info()"
   ]
  },
  {
   "cell_type": "code",
   "execution_count": 12,
   "id": "2e663122",
   "metadata": {},
   "outputs": [],
   "source": [
    "WB2019_2 = WB2019_1.apply(pd.to_numeric, errors='coerce')"
   ]
  },
  {
   "cell_type": "code",
   "execution_count": 13,
   "id": "55d25754",
   "metadata": {},
   "outputs": [
    {
     "name": "stdout",
     "output_type": "stream",
     "text": [
      "       NAICS  Owners_Sex  Owners_Ethnicity  Owners_Race  Vet_Status  \\\n",
      "9          0           2                 1            0           1   \n",
      "10         0           2                 1            0           1   \n",
      "11         0           2                 1            0           1   \n",
      "12         0           2                 1            0           1   \n",
      "13         0           2                 1            0           1   \n",
      "...      ...         ...               ...          ...         ...   \n",
      "48688     99           2                 1            0           4   \n",
      "48689     99           2                 1            0           4   \n",
      "48690     99           2                 1            0           4   \n",
      "48691     99           2                 1            0           4   \n",
      "48692     99           2                 1            0           4   \n",
      "\n",
      "              Sales   Employees  Sales_Std_Error  Employees_Std_Error  \n",
      "9      1.776835e+09  10149257.0              4.5                  1.9  \n",
      "10     2.823855e+08   2150147.0              6.1                  3.0  \n",
      "11     2.674275e+08   1499541.0              8.2                  2.8  \n",
      "12     3.155573e+07    127916.0             22.3                 18.4  \n",
      "13              NaN         NaN              NaN                  NaN  \n",
      "...             ...         ...              ...                  ...  \n",
      "48688           NaN     13805.0              NaN                  5.7  \n",
      "48689           NaN       974.0              NaN                 14.1  \n",
      "48690           NaN       103.0              NaN                 30.4  \n",
      "48691           NaN      1077.0              NaN                 11.8  \n",
      "48692           NaN         NaN              NaN                  NaN  \n",
      "\n",
      "[6837 rows x 9 columns]\n"
     ]
    }
   ],
   "source": [
    "print(WB2019_2)"
   ]
  },
  {
   "cell_type": "code",
   "execution_count": 14,
   "id": "1377980e",
   "metadata": {},
   "outputs": [
    {
     "name": "stdout",
     "output_type": "stream",
     "text": [
      "<class 'pandas.core.frame.DataFrame'>\n",
      "Int64Index: 6837 entries, 9 to 48692\n",
      "Data columns (total 9 columns):\n",
      " #   Column               Non-Null Count  Dtype  \n",
      "---  ------               --------------  -----  \n",
      " 0   NAICS                6837 non-null   int64  \n",
      " 1   Owners_Sex           6837 non-null   int64  \n",
      " 2   Owners_Ethnicity     6837 non-null   int64  \n",
      " 3   Owners_Race          6837 non-null   int64  \n",
      " 4   Vet_Status           6837 non-null   int64  \n",
      " 5   Sales                379 non-null    float64\n",
      " 6   Employees            4470 non-null   float64\n",
      " 7   Sales_Std_Error      379 non-null    float64\n",
      " 8   Employees_Std_Error  4470 non-null   float64\n",
      "dtypes: float64(4), int64(5)\n",
      "memory usage: 534.1 KB\n"
     ]
    }
   ],
   "source": [
    "WB2019_2.info()"
   ]
  },
  {
   "cell_type": "markdown",
   "id": "b3188912",
   "metadata": {},
   "source": [
    "# Determine which sectors were predominantly female-owned:\n"
   ]
  },
  {
   "cell_type": "code",
   "execution_count": 15,
   "id": "fcd9b3a9",
   "metadata": {},
   "outputs": [
    {
     "data": {
      "text/plain": [
       "0     613\n",
       "54    380\n",
       "31    376\n",
       "62    374\n",
       "44    366\n",
       "56    365\n",
       "42    351\n",
       "81    349\n",
       "72    343\n",
       "61    336\n",
       "48    319\n",
       "52    317\n",
       "71    312\n",
       "23    303\n",
       "53    299\n",
       "51    299\n",
       "55    254\n",
       "21    242\n",
       "99    235\n",
       "22    206\n",
       "11    198\n",
       "Name: NAICS, dtype: int64"
      ]
     },
     "execution_count": 15,
     "metadata": {},
     "output_type": "execute_result"
    }
   ],
   "source": [
    "WB2019_2.NAICS.value_counts()"
   ]
  },
  {
   "cell_type": "markdown",
   "id": "0fc8778f",
   "metadata": {},
   "source": [
    "## The following sectors were top 5 in 2019: (1) Professional/Scientific/Technical Services; (2)Manufacturing; (3) Healthcare and Social Assistance (4) Retail Trade; and (5) Administrative and Support and Waste Management and Remediation Services."
   ]
  },
  {
   "cell_type": "code",
   "execution_count": null,
   "id": "6e79eb8a",
   "metadata": {},
   "outputs": [],
   "source": []
  }
 ],
 "metadata": {
  "kernelspec": {
   "display_name": "Python 3",
   "language": "python",
   "name": "python3"
  },
  "language_info": {
   "codemirror_mode": {
    "name": "ipython",
    "version": 3
   },
   "file_extension": ".py",
   "mimetype": "text/x-python",
   "name": "python",
   "nbconvert_exporter": "python",
   "pygments_lexer": "ipython3",
   "version": "3.8.8"
  }
 },
 "nbformat": 4,
 "nbformat_minor": 5
}
