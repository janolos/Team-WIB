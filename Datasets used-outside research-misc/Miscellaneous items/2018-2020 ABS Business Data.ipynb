{
 "cells": [
  {
   "cell_type": "markdown",
   "id": "2b69e15d",
   "metadata": {},
   "source": [
    "# Load Libraries"
   ]
  },
  {
   "cell_type": "code",
   "execution_count": 99,
   "id": "48e6e50b",
   "metadata": {},
   "outputs": [],
   "source": [
    "import pandas as pd\n",
    "import matplotlib.pyplot as plt\n",
    "import scipy\n",
    "import numpy as np\n",
    "import seaborn as sns\n",
    "import statsmodels\n",
    "import sklearn"
   ]
  },
  {
   "cell_type": "markdown",
   "id": "74419a7f",
   "metadata": {},
   "source": [
    "# Import Data"
   ]
  },
  {
   "cell_type": "code",
   "execution_count": 100,
   "id": "d6dad2e4",
   "metadata": {},
   "outputs": [
    {
     "data": {
      "text/html": [
       "<div>\n",
       "<style scoped>\n",
       "    .dataframe tbody tr th:only-of-type {\n",
       "        vertical-align: middle;\n",
       "    }\n",
       "\n",
       "    .dataframe tbody tr th {\n",
       "        vertical-align: top;\n",
       "    }\n",
       "\n",
       "    .dataframe thead th {\n",
       "        text-align: right;\n",
       "    }\n",
       "</style>\n",
       "<table border=\"1\" class=\"dataframe\">\n",
       "  <thead>\n",
       "    <tr style=\"text-align: right;\">\n",
       "      <th></th>\n",
       "      <th>GEO_ID</th>\n",
       "      <th>GEO_ID_F</th>\n",
       "      <th>NAME</th>\n",
       "      <th>NAICS2017</th>\n",
       "      <th>NAICS2017_LABEL</th>\n",
       "      <th>INDLEVEL</th>\n",
       "      <th>INDGROUP</th>\n",
       "      <th>SUBSECTOR</th>\n",
       "      <th>NAICS2017_F</th>\n",
       "      <th>SECTOR</th>\n",
       "      <th>...</th>\n",
       "      <th>EMPSZFI_LABEL</th>\n",
       "      <th>YEAR</th>\n",
       "      <th>FIRMPDEMP</th>\n",
       "      <th>RCPPDEMP</th>\n",
       "      <th>EMP</th>\n",
       "      <th>PAYANN</th>\n",
       "      <th>FIRMPDEMP_S</th>\n",
       "      <th>RCPPDEMP_S</th>\n",
       "      <th>EMP_S</th>\n",
       "      <th>PAYANN_S</th>\n",
       "    </tr>\n",
       "  </thead>\n",
       "  <tbody>\n",
       "    <tr>\n",
       "      <th>0</th>\n",
       "      <td>id</td>\n",
       "      <td>Geo Footnote</td>\n",
       "      <td>Geographic Area Name</td>\n",
       "      <td>2017 NAICS code</td>\n",
       "      <td>Meaning of NAICS code</td>\n",
       "      <td>Industry level</td>\n",
       "      <td>Industry group</td>\n",
       "      <td>SUBSECTOR</td>\n",
       "      <td>2017 NAICS Footnote</td>\n",
       "      <td>NAICS economic sector</td>\n",
       "      <td>...</td>\n",
       "      <td>Meaning of Employment size of firms code</td>\n",
       "      <td>Year</td>\n",
       "      <td>Number of employer firms</td>\n",
       "      <td>Sales, value of shipments, or revenue of emplo...</td>\n",
       "      <td>Number of employees</td>\n",
       "      <td>Annual payroll ($1,000)</td>\n",
       "      <td>Relative standard error of employer firms (%)</td>\n",
       "      <td>Relative standard error of sales, value of shi...</td>\n",
       "      <td>Relative standard error of number of employees...</td>\n",
       "      <td>Relative standard error of annual payroll (%)</td>\n",
       "    </tr>\n",
       "    <tr>\n",
       "      <th>1</th>\n",
       "      <td>0100000US</td>\n",
       "      <td>NaN</td>\n",
       "      <td>United States</td>\n",
       "      <td>0</td>\n",
       "      <td>Total for all sectors</td>\n",
       "      <td>2</td>\n",
       "      <td>NaN</td>\n",
       "      <td>NaN</td>\n",
       "      <td>NaN</td>\n",
       "      <td>0</td>\n",
       "      <td>...</td>\n",
       "      <td>Firms with no employees</td>\n",
       "      <td>2017</td>\n",
       "      <td>591329</td>\n",
       "      <td>246491573</td>\n",
       "      <td>0</td>\n",
       "      <td>32263065</td>\n",
       "      <td>0.3</td>\n",
       "      <td>11.6</td>\n",
       "      <td>0</td>\n",
       "      <td>1.9</td>\n",
       "    </tr>\n",
       "    <tr>\n",
       "      <th>2</th>\n",
       "      <td>0100000US</td>\n",
       "      <td>NaN</td>\n",
       "      <td>United States</td>\n",
       "      <td>0</td>\n",
       "      <td>Total for all sectors</td>\n",
       "      <td>2</td>\n",
       "      <td>NaN</td>\n",
       "      <td>NaN</td>\n",
       "      <td>NaN</td>\n",
       "      <td>0</td>\n",
       "      <td>...</td>\n",
       "      <td>Firms with 1 to 4 employees</td>\n",
       "      <td>2017</td>\n",
       "      <td>2934409</td>\n",
       "      <td>1246892073</td>\n",
       "      <td>5737290</td>\n",
       "      <td>210401495</td>\n",
       "      <td>0.1</td>\n",
       "      <td>1.1</td>\n",
       "      <td>0.2</td>\n",
       "      <td>0.2</td>\n",
       "    </tr>\n",
       "    <tr>\n",
       "      <th>3</th>\n",
       "      <td>0100000US</td>\n",
       "      <td>NaN</td>\n",
       "      <td>United States</td>\n",
       "      <td>0</td>\n",
       "      <td>Total for all sectors</td>\n",
       "      <td>2</td>\n",
       "      <td>NaN</td>\n",
       "      <td>NaN</td>\n",
       "      <td>NaN</td>\n",
       "      <td>0</td>\n",
       "      <td>...</td>\n",
       "      <td>Firms with 5 to 9 employees</td>\n",
       "      <td>2017</td>\n",
       "      <td>956312</td>\n",
       "      <td>1227385543</td>\n",
       "      <td>6299539</td>\n",
       "      <td>238563912</td>\n",
       "      <td>0.4</td>\n",
       "      <td>0.6</td>\n",
       "      <td>0.4</td>\n",
       "      <td>0.5</td>\n",
       "    </tr>\n",
       "    <tr>\n",
       "      <th>4</th>\n",
       "      <td>0100000US</td>\n",
       "      <td>NaN</td>\n",
       "      <td>United States</td>\n",
       "      <td>0</td>\n",
       "      <td>Total for all sectors</td>\n",
       "      <td>2</td>\n",
       "      <td>NaN</td>\n",
       "      <td>NaN</td>\n",
       "      <td>NaN</td>\n",
       "      <td>0</td>\n",
       "      <td>...</td>\n",
       "      <td>Firms with 10 to 19 employees</td>\n",
       "      <td>2017</td>\n",
       "      <td>611858</td>\n",
       "      <td>1526806215</td>\n",
       "      <td>8228901</td>\n",
       "      <td>319998091</td>\n",
       "      <td>0.4</td>\n",
       "      <td>2.3</td>\n",
       "      <td>0.4</td>\n",
       "      <td>0.4</td>\n",
       "    </tr>\n",
       "  </tbody>\n",
       "</table>\n",
       "<p>5 rows × 29 columns</p>\n",
       "</div>"
      ],
      "text/plain": [
       "      GEO_ID      GEO_ID_F                  NAME        NAICS2017  \\\n",
       "0         id  Geo Footnote  Geographic Area Name  2017 NAICS code   \n",
       "1  0100000US           NaN         United States                0   \n",
       "2  0100000US           NaN         United States                0   \n",
       "3  0100000US           NaN         United States                0   \n",
       "4  0100000US           NaN         United States                0   \n",
       "\n",
       "         NAICS2017_LABEL        INDLEVEL        INDGROUP  SUBSECTOR  \\\n",
       "0  Meaning of NAICS code  Industry level  Industry group  SUBSECTOR   \n",
       "1  Total for all sectors               2             NaN        NaN   \n",
       "2  Total for all sectors               2             NaN        NaN   \n",
       "3  Total for all sectors               2             NaN        NaN   \n",
       "4  Total for all sectors               2             NaN        NaN   \n",
       "\n",
       "           NAICS2017_F                  SECTOR  ...  \\\n",
       "0  2017 NAICS Footnote  NAICS economic sector   ...   \n",
       "1                  NaN                       0  ...   \n",
       "2                  NaN                       0  ...   \n",
       "3                  NaN                       0  ...   \n",
       "4                  NaN                       0  ...   \n",
       "\n",
       "                              EMPSZFI_LABEL  YEAR                 FIRMPDEMP  \\\n",
       "0  Meaning of Employment size of firms code  Year  Number of employer firms   \n",
       "1                   Firms with no employees  2017                    591329   \n",
       "2               Firms with 1 to 4 employees  2017                   2934409   \n",
       "3               Firms with 5 to 9 employees  2017                    956312   \n",
       "4             Firms with 10 to 19 employees  2017                    611858   \n",
       "\n",
       "                                            RCPPDEMP                  EMP  \\\n",
       "0  Sales, value of shipments, or revenue of emplo...  Number of employees   \n",
       "1                                          246491573                    0   \n",
       "2                                         1246892073              5737290   \n",
       "3                                         1227385543              6299539   \n",
       "4                                         1526806215              8228901   \n",
       "\n",
       "                    PAYANN                                    FIRMPDEMP_S  \\\n",
       "0  Annual payroll ($1,000)  Relative standard error of employer firms (%)   \n",
       "1                 32263065                                            0.3   \n",
       "2                210401495                                            0.1   \n",
       "3                238563912                                            0.4   \n",
       "4                319998091                                            0.4   \n",
       "\n",
       "                                          RCPPDEMP_S  \\\n",
       "0  Relative standard error of sales, value of shi...   \n",
       "1                                               11.6   \n",
       "2                                                1.1   \n",
       "3                                                0.6   \n",
       "4                                                2.3   \n",
       "\n",
       "                                               EMP_S  \\\n",
       "0  Relative standard error of number of employees...   \n",
       "1                                                  0   \n",
       "2                                                0.2   \n",
       "3                                                0.4   \n",
       "4                                                0.4   \n",
       "\n",
       "                                        PAYANN_S  \n",
       "0  Relative standard error of annual payroll (%)  \n",
       "1                                            1.9  \n",
       "2                                            0.2  \n",
       "3                                            0.5  \n",
       "4                                            0.4  \n",
       "\n",
       "[5 rows x 29 columns]"
      ]
     },
     "execution_count": 100,
     "metadata": {},
     "output_type": "execute_result"
    }
   ],
   "source": [
    "B2018=pd.read_csv(r\"C:\\Users\\nbroo\\OneDrive\\Documents\\Data Science Final Group Project\\Women In Business Before And After The Pandemic\\2018 (2017) Census Business Data-2.csv\")\n",
    "B2018.head()"
   ]
  },
  {
   "cell_type": "code",
   "execution_count": 101,
   "id": "d6f0d236",
   "metadata": {},
   "outputs": [
    {
     "name": "stderr",
     "output_type": "stream",
     "text": [
      "C:\\Users\\nbroo\\anaconda3\\lib\\site-packages\\IPython\\core\\interactiveshell.py:3165: DtypeWarning: Columns (1,3,4,5,7,8,9,10,12,14,16,22) have mixed types.Specify dtype option on import or set low_memory=False.\n",
      "  has_raised = await self.run_ast_nodes(code_ast.body, cell_name,\n"
     ]
    },
    {
     "data": {
      "text/html": [
       "<div>\n",
       "<style scoped>\n",
       "    .dataframe tbody tr th:only-of-type {\n",
       "        vertical-align: middle;\n",
       "    }\n",
       "\n",
       "    .dataframe tbody tr th {\n",
       "        vertical-align: top;\n",
       "    }\n",
       "\n",
       "    .dataframe thead th {\n",
       "        text-align: right;\n",
       "    }\n",
       "</style>\n",
       "<table border=\"1\" class=\"dataframe\">\n",
       "  <thead>\n",
       "    <tr style=\"text-align: right;\">\n",
       "      <th></th>\n",
       "      <th>GEO_ID</th>\n",
       "      <th>GEO_ID_F</th>\n",
       "      <th>NAME</th>\n",
       "      <th>NAICS2017</th>\n",
       "      <th>NAICS2017_F</th>\n",
       "      <th>INDLEVEL</th>\n",
       "      <th>NAICS2017_LABEL</th>\n",
       "      <th>INDGROUP</th>\n",
       "      <th>SECTOR</th>\n",
       "      <th>SUBSECTOR</th>\n",
       "      <th>...</th>\n",
       "      <th>PAYANN</th>\n",
       "      <th>PAYANN_PCT</th>\n",
       "      <th>FIRMPDEMP_S</th>\n",
       "      <th>FIRMPDEMP_PCT_S</th>\n",
       "      <th>RCPPDEMP_S</th>\n",
       "      <th>RCPPDEMP_PCT_S</th>\n",
       "      <th>EMP_S</th>\n",
       "      <th>EMP_PCT_S</th>\n",
       "      <th>PAYANN_S</th>\n",
       "      <th>PAYANN_PCT_S</th>\n",
       "    </tr>\n",
       "  </thead>\n",
       "  <tbody>\n",
       "    <tr>\n",
       "      <th>0</th>\n",
       "      <td>id</td>\n",
       "      <td>Geo Footnote</td>\n",
       "      <td>Geographic Area Name</td>\n",
       "      <td>2017 NAICS code</td>\n",
       "      <td>2017 NAICS Footnote</td>\n",
       "      <td>Industry level</td>\n",
       "      <td>Meaning of NAICS code</td>\n",
       "      <td>Industry group</td>\n",
       "      <td>NAICS economic sector</td>\n",
       "      <td>SUBSECTOR</td>\n",
       "      <td>...</td>\n",
       "      <td>Annual payroll ($1,000)</td>\n",
       "      <td>Percent of annual payroll (%)</td>\n",
       "      <td>Relative standard error of employer firms (%)</td>\n",
       "      <td>Standard error of percent of employer firms (%)</td>\n",
       "      <td>Relative standard error of sales, value of shi...</td>\n",
       "      <td>Standard error of percent of sales, value of s...</td>\n",
       "      <td>Relative standard error of number of employees...</td>\n",
       "      <td>Standard error of percent of employees (%)</td>\n",
       "      <td>Relative standard error of annual payroll (%)</td>\n",
       "      <td>Standard error of percent of annual payroll (%)</td>\n",
       "    </tr>\n",
       "    <tr>\n",
       "      <th>1</th>\n",
       "      <td>0100000US</td>\n",
       "      <td>NaN</td>\n",
       "      <td>United States</td>\n",
       "      <td>0</td>\n",
       "      <td>NaN</td>\n",
       "      <td>2</td>\n",
       "      <td>Total for all sectors</td>\n",
       "      <td>NaN</td>\n",
       "      <td>0</td>\n",
       "      <td>NaN</td>\n",
       "      <td>...</td>\n",
       "      <td>6937240308</td>\n",
       "      <td>X</td>\n",
       "      <td>0</td>\n",
       "      <td>X</td>\n",
       "      <td>1.2</td>\n",
       "      <td>X</td>\n",
       "      <td>0.5</td>\n",
       "      <td>X</td>\n",
       "      <td>0.5</td>\n",
       "      <td>X</td>\n",
       "    </tr>\n",
       "    <tr>\n",
       "      <th>2</th>\n",
       "      <td>0100000US</td>\n",
       "      <td>NaN</td>\n",
       "      <td>United States</td>\n",
       "      <td>0</td>\n",
       "      <td>NaN</td>\n",
       "      <td>2</td>\n",
       "      <td>Total for all sectors</td>\n",
       "      <td>NaN</td>\n",
       "      <td>0</td>\n",
       "      <td>NaN</td>\n",
       "      <td>...</td>\n",
       "      <td>454218390</td>\n",
       "      <td>14.2</td>\n",
       "      <td>0.4</td>\n",
       "      <td>0.6</td>\n",
       "      <td>1.3</td>\n",
       "      <td>66.8</td>\n",
       "      <td>1.1</td>\n",
       "      <td>61.6</td>\n",
       "      <td>1.3</td>\n",
       "      <td>67.2</td>\n",
       "    </tr>\n",
       "    <tr>\n",
       "      <th>3</th>\n",
       "      <td>0100000US</td>\n",
       "      <td>NaN</td>\n",
       "      <td>United States</td>\n",
       "      <td>0</td>\n",
       "      <td>NaN</td>\n",
       "      <td>2</td>\n",
       "      <td>Total for all sectors</td>\n",
       "      <td>NaN</td>\n",
       "      <td>0</td>\n",
       "      <td>NaN</td>\n",
       "      <td>...</td>\n",
       "      <td>478308387</td>\n",
       "      <td>15</td>\n",
       "      <td>0.6</td>\n",
       "      <td>0.3</td>\n",
       "      <td>3</td>\n",
       "      <td>87</td>\n",
       "      <td>1.5</td>\n",
       "      <td>68.9</td>\n",
       "      <td>2.7</td>\n",
       "      <td>77.9</td>\n",
       "    </tr>\n",
       "    <tr>\n",
       "      <th>4</th>\n",
       "      <td>0100000US</td>\n",
       "      <td>NaN</td>\n",
       "      <td>United States</td>\n",
       "      <td>0</td>\n",
       "      <td>NaN</td>\n",
       "      <td>2</td>\n",
       "      <td>Total for all sectors</td>\n",
       "      <td>NaN</td>\n",
       "      <td>0</td>\n",
       "      <td>NaN</td>\n",
       "      <td>...</td>\n",
       "      <td>75150602</td>\n",
       "      <td>2.4</td>\n",
       "      <td>2.5</td>\n",
       "      <td>0.1</td>\n",
       "      <td>7.8</td>\n",
       "      <td>12.4</td>\n",
       "      <td>4.8</td>\n",
       "      <td>7</td>\n",
       "      <td>4.2</td>\n",
       "      <td>10.1</td>\n",
       "    </tr>\n",
       "  </tbody>\n",
       "</table>\n",
       "<p>5 rows × 39 columns</p>\n",
       "</div>"
      ],
      "text/plain": [
       "      GEO_ID      GEO_ID_F                  NAME        NAICS2017  \\\n",
       "0         id  Geo Footnote  Geographic Area Name  2017 NAICS code   \n",
       "1  0100000US           NaN         United States                0   \n",
       "2  0100000US           NaN         United States                0   \n",
       "3  0100000US           NaN         United States                0   \n",
       "4  0100000US           NaN         United States                0   \n",
       "\n",
       "           NAICS2017_F        INDLEVEL        NAICS2017_LABEL        INDGROUP  \\\n",
       "0  2017 NAICS Footnote  Industry level  Meaning of NAICS code  Industry group   \n",
       "1                  NaN               2  Total for all sectors             NaN   \n",
       "2                  NaN               2  Total for all sectors             NaN   \n",
       "3                  NaN               2  Total for all sectors             NaN   \n",
       "4                  NaN               2  Total for all sectors             NaN   \n",
       "\n",
       "                   SECTOR  SUBSECTOR  ...                   PAYANN  \\\n",
       "0  NAICS economic sector   SUBSECTOR  ...  Annual payroll ($1,000)   \n",
       "1                       0        NaN  ...               6937240308   \n",
       "2                       0        NaN  ...                454218390   \n",
       "3                       0        NaN  ...                478308387   \n",
       "4                       0        NaN  ...                 75150602   \n",
       "\n",
       "                      PAYANN_PCT  \\\n",
       "0  Percent of annual payroll (%)   \n",
       "1                              X   \n",
       "2                           14.2   \n",
       "3                             15   \n",
       "4                            2.4   \n",
       "\n",
       "                                     FIRMPDEMP_S  \\\n",
       "0  Relative standard error of employer firms (%)   \n",
       "1                                              0   \n",
       "2                                            0.4   \n",
       "3                                            0.6   \n",
       "4                                            2.5   \n",
       "\n",
       "                                   FIRMPDEMP_PCT_S  \\\n",
       "0  Standard error of percent of employer firms (%)   \n",
       "1                                                X   \n",
       "2                                              0.6   \n",
       "3                                              0.3   \n",
       "4                                              0.1   \n",
       "\n",
       "                                          RCPPDEMP_S  \\\n",
       "0  Relative standard error of sales, value of shi...   \n",
       "1                                                1.2   \n",
       "2                                                1.3   \n",
       "3                                                  3   \n",
       "4                                                7.8   \n",
       "\n",
       "                                      RCPPDEMP_PCT_S  \\\n",
       "0  Standard error of percent of sales, value of s...   \n",
       "1                                                  X   \n",
       "2                                               66.8   \n",
       "3                                                 87   \n",
       "4                                               12.4   \n",
       "\n",
       "                                               EMP_S  \\\n",
       "0  Relative standard error of number of employees...   \n",
       "1                                                0.5   \n",
       "2                                                1.1   \n",
       "3                                                1.5   \n",
       "4                                                4.8   \n",
       "\n",
       "                                    EMP_PCT_S  \\\n",
       "0  Standard error of percent of employees (%)   \n",
       "1                                           X   \n",
       "2                                        61.6   \n",
       "3                                        68.9   \n",
       "4                                           7   \n",
       "\n",
       "                                        PAYANN_S  \\\n",
       "0  Relative standard error of annual payroll (%)   \n",
       "1                                            0.5   \n",
       "2                                            1.3   \n",
       "3                                            2.7   \n",
       "4                                            4.2   \n",
       "\n",
       "                                      PAYANN_PCT_S  \n",
       "0  Standard error of percent of annual payroll (%)  \n",
       "1                                                X  \n",
       "2                                             67.2  \n",
       "3                                             77.9  \n",
       "4                                             10.1  \n",
       "\n",
       "[5 rows x 39 columns]"
      ]
     },
     "execution_count": 101,
     "metadata": {},
     "output_type": "execute_result"
    }
   ],
   "source": [
    "B2019=pd.read_csv(r\"C:\\Users\\nbroo\\OneDrive\\Documents\\Data Science Final Group Project\\Women In Business Before And After The Pandemic\\2019 (2018) Census Business Data-2.csv\")\n",
    "B2019.head()"
   ]
  },
  {
   "cell_type": "code",
   "execution_count": 102,
   "id": "c33a3c3d",
   "metadata": {
    "scrolled": true
   },
   "outputs": [
    {
     "data": {
      "text/html": [
       "<div>\n",
       "<style scoped>\n",
       "    .dataframe tbody tr th:only-of-type {\n",
       "        vertical-align: middle;\n",
       "    }\n",
       "\n",
       "    .dataframe tbody tr th {\n",
       "        vertical-align: top;\n",
       "    }\n",
       "\n",
       "    .dataframe thead th {\n",
       "        text-align: right;\n",
       "    }\n",
       "</style>\n",
       "<table border=\"1\" class=\"dataframe\">\n",
       "  <thead>\n",
       "    <tr style=\"text-align: right;\">\n",
       "      <th></th>\n",
       "      <th>GEO_ID</th>\n",
       "      <th>GEO_ID_F</th>\n",
       "      <th>NAME</th>\n",
       "      <th>NAICS2017</th>\n",
       "      <th>NAICS2017_F</th>\n",
       "      <th>NAICS2017_LABEL</th>\n",
       "      <th>SEX</th>\n",
       "      <th>SEX_LABEL</th>\n",
       "      <th>ETH_GROUP</th>\n",
       "      <th>ETH_GROUP_LABEL</th>\n",
       "      <th>...</th>\n",
       "      <th>EMPSZFI_LABEL</th>\n",
       "      <th>YEAR</th>\n",
       "      <th>FIRMPDEMP</th>\n",
       "      <th>RCPPDEMP</th>\n",
       "      <th>EMP</th>\n",
       "      <th>PAYANN</th>\n",
       "      <th>FIRMPDEMP_S</th>\n",
       "      <th>RCPPDEMP_S</th>\n",
       "      <th>EMP_S</th>\n",
       "      <th>PAYANN_S</th>\n",
       "    </tr>\n",
       "  </thead>\n",
       "  <tbody>\n",
       "    <tr>\n",
       "      <th>0</th>\n",
       "      <td>id</td>\n",
       "      <td>Geo Footnote</td>\n",
       "      <td>Geographic Area Name</td>\n",
       "      <td>2017 NAICS code</td>\n",
       "      <td>2017 NAICS Footnote</td>\n",
       "      <td>Meaning of NAICS code</td>\n",
       "      <td>Sex code</td>\n",
       "      <td>Meaning of Sex code</td>\n",
       "      <td>Ethnicity code</td>\n",
       "      <td>Meaning of Ethnicity code</td>\n",
       "      <td>...</td>\n",
       "      <td>Meaning of Employment size of firms code</td>\n",
       "      <td>Year</td>\n",
       "      <td>Number of employer firms</td>\n",
       "      <td>Sales, value of shipments, or revenue of emplo...</td>\n",
       "      <td>Number of employees</td>\n",
       "      <td>Annual payroll ($1,000)</td>\n",
       "      <td>Relative standard error of employer firms (%)</td>\n",
       "      <td>Relative standard error of sales, value of shi...</td>\n",
       "      <td>Relative standard error of number of employees...</td>\n",
       "      <td>Relative standard error of annual payroll (%)</td>\n",
       "    </tr>\n",
       "    <tr>\n",
       "      <th>1</th>\n",
       "      <td>0100000US</td>\n",
       "      <td>NaN</td>\n",
       "      <td>United States</td>\n",
       "      <td>0</td>\n",
       "      <td>NaN</td>\n",
       "      <td>Total for all sectors</td>\n",
       "      <td>1</td>\n",
       "      <td>Total</td>\n",
       "      <td>1</td>\n",
       "      <td>Total</td>\n",
       "      <td>...</td>\n",
       "      <td>Firms with no employees</td>\n",
       "      <td>2019</td>\n",
       "      <td>730078</td>\n",
       "      <td>298164421</td>\n",
       "      <td>0</td>\n",
       "      <td>50074562</td>\n",
       "      <td>0.8</td>\n",
       "      <td>3.6</td>\n",
       "      <td>0</td>\n",
       "      <td>2.4</td>\n",
       "    </tr>\n",
       "    <tr>\n",
       "      <th>2</th>\n",
       "      <td>0100000US</td>\n",
       "      <td>NaN</td>\n",
       "      <td>United States</td>\n",
       "      <td>0</td>\n",
       "      <td>NaN</td>\n",
       "      <td>Total for all sectors</td>\n",
       "      <td>1</td>\n",
       "      <td>Total</td>\n",
       "      <td>1</td>\n",
       "      <td>Total</td>\n",
       "      <td>...</td>\n",
       "      <td>Firms with 1 to 4 employees</td>\n",
       "      <td>2019</td>\n",
       "      <td>2826849</td>\n",
       "      <td>1266736429</td>\n",
       "      <td>5632339</td>\n",
       "      <td>233431702</td>\n",
       "      <td>0.4</td>\n",
       "      <td>1.1</td>\n",
       "      <td>0.6</td>\n",
       "      <td>1.3</td>\n",
       "    </tr>\n",
       "    <tr>\n",
       "      <th>3</th>\n",
       "      <td>0100000US</td>\n",
       "      <td>NaN</td>\n",
       "      <td>United States</td>\n",
       "      <td>0</td>\n",
       "      <td>NaN</td>\n",
       "      <td>Total for all sectors</td>\n",
       "      <td>1</td>\n",
       "      <td>Total</td>\n",
       "      <td>1</td>\n",
       "      <td>Total</td>\n",
       "      <td>...</td>\n",
       "      <td>Firms with 5 to 9 employees</td>\n",
       "      <td>2019</td>\n",
       "      <td>959641</td>\n",
       "      <td>1142368704</td>\n",
       "      <td>6329828</td>\n",
       "      <td>257601290</td>\n",
       "      <td>1</td>\n",
       "      <td>1.5</td>\n",
       "      <td>0.9</td>\n",
       "      <td>1.1</td>\n",
       "    </tr>\n",
       "    <tr>\n",
       "      <th>4</th>\n",
       "      <td>0100000US</td>\n",
       "      <td>NaN</td>\n",
       "      <td>United States</td>\n",
       "      <td>0</td>\n",
       "      <td>NaN</td>\n",
       "      <td>Total for all sectors</td>\n",
       "      <td>1</td>\n",
       "      <td>Total</td>\n",
       "      <td>1</td>\n",
       "      <td>Total</td>\n",
       "      <td>...</td>\n",
       "      <td>Firms with 10 to 19 employees</td>\n",
       "      <td>2019</td>\n",
       "      <td>609335</td>\n",
       "      <td>1440258482</td>\n",
       "      <td>8211284</td>\n",
       "      <td>347772825</td>\n",
       "      <td>0.9</td>\n",
       "      <td>2.5</td>\n",
       "      <td>1</td>\n",
       "      <td>1.6</td>\n",
       "    </tr>\n",
       "  </tbody>\n",
       "</table>\n",
       "<p>5 rows × 25 columns</p>\n",
       "</div>"
      ],
      "text/plain": [
       "      GEO_ID      GEO_ID_F                  NAME        NAICS2017  \\\n",
       "0         id  Geo Footnote  Geographic Area Name  2017 NAICS code   \n",
       "1  0100000US           NaN         United States                0   \n",
       "2  0100000US           NaN         United States                0   \n",
       "3  0100000US           NaN         United States                0   \n",
       "4  0100000US           NaN         United States                0   \n",
       "\n",
       "           NAICS2017_F        NAICS2017_LABEL       SEX            SEX_LABEL  \\\n",
       "0  2017 NAICS Footnote  Meaning of NAICS code  Sex code  Meaning of Sex code   \n",
       "1                  NaN  Total for all sectors         1                Total   \n",
       "2                  NaN  Total for all sectors         1                Total   \n",
       "3                  NaN  Total for all sectors         1                Total   \n",
       "4                  NaN  Total for all sectors         1                Total   \n",
       "\n",
       "        ETH_GROUP            ETH_GROUP_LABEL  ...  \\\n",
       "0  Ethnicity code  Meaning of Ethnicity code  ...   \n",
       "1               1                      Total  ...   \n",
       "2               1                      Total  ...   \n",
       "3               1                      Total  ...   \n",
       "4               1                      Total  ...   \n",
       "\n",
       "                              EMPSZFI_LABEL  YEAR                 FIRMPDEMP  \\\n",
       "0  Meaning of Employment size of firms code  Year  Number of employer firms   \n",
       "1                   Firms with no employees  2019                    730078   \n",
       "2               Firms with 1 to 4 employees  2019                   2826849   \n",
       "3               Firms with 5 to 9 employees  2019                    959641   \n",
       "4             Firms with 10 to 19 employees  2019                    609335   \n",
       "\n",
       "                                            RCPPDEMP                  EMP  \\\n",
       "0  Sales, value of shipments, or revenue of emplo...  Number of employees   \n",
       "1                                          298164421                    0   \n",
       "2                                         1266736429              5632339   \n",
       "3                                         1142368704              6329828   \n",
       "4                                         1440258482              8211284   \n",
       "\n",
       "                    PAYANN                                    FIRMPDEMP_S  \\\n",
       "0  Annual payroll ($1,000)  Relative standard error of employer firms (%)   \n",
       "1                 50074562                                            0.8   \n",
       "2                233431702                                            0.4   \n",
       "3                257601290                                              1   \n",
       "4                347772825                                            0.9   \n",
       "\n",
       "                                          RCPPDEMP_S  \\\n",
       "0  Relative standard error of sales, value of shi...   \n",
       "1                                                3.6   \n",
       "2                                                1.1   \n",
       "3                                                1.5   \n",
       "4                                                2.5   \n",
       "\n",
       "                                               EMP_S  \\\n",
       "0  Relative standard error of number of employees...   \n",
       "1                                                  0   \n",
       "2                                                0.6   \n",
       "3                                                0.9   \n",
       "4                                                  1   \n",
       "\n",
       "                                        PAYANN_S  \n",
       "0  Relative standard error of annual payroll (%)  \n",
       "1                                            2.4  \n",
       "2                                            1.3  \n",
       "3                                            1.1  \n",
       "4                                            1.6  \n",
       "\n",
       "[5 rows x 25 columns]"
      ]
     },
     "execution_count": 102,
     "metadata": {},
     "output_type": "execute_result"
    }
   ],
   "source": [
    "B2020=pd.read_csv(r\"C:\\Users\\nbroo\\OneDrive\\Documents\\Data Science Final Group Project\\Women In Business Before And After The Pandemic\\2020 (2019) Census Business Data-2.csv\")\n",
    "B2020.head()"
   ]
  },
  {
   "cell_type": "markdown",
   "id": "de82b195",
   "metadata": {},
   "source": [
    "# Clean & Subset Datasets"
   ]
  },
  {
   "cell_type": "markdown",
   "id": "938f67f9",
   "metadata": {},
   "source": [
    "## Drop Unwanted Columns From Datasets"
   ]
  },
  {
   "cell_type": "code",
   "execution_count": 103,
   "id": "ed472165",
   "metadata": {},
   "outputs": [
    {
     "name": "stdout",
     "output_type": "stream",
     "text": [
      "<class 'pandas.core.frame.DataFrame'>\n",
      "RangeIndex: 26444 entries, 0 to 26443\n",
      "Data columns (total 29 columns):\n",
      " #   Column            Non-Null Count  Dtype \n",
      "---  ------            --------------  ----- \n",
      " 0   GEO_ID            26444 non-null  object\n",
      " 1   GEO_ID_F          1 non-null      object\n",
      " 2   NAME              26444 non-null  object\n",
      " 3   NAICS2017         26444 non-null  object\n",
      " 4   NAICS2017_LABEL   26444 non-null  object\n",
      " 5   INDLEVEL          26444 non-null  object\n",
      " 6   INDGROUP          1 non-null      object\n",
      " 7   SUBSECTOR         1 non-null      object\n",
      " 8   NAICS2017_F       4831 non-null   object\n",
      " 9   SECTOR            26444 non-null  object\n",
      " 10  SEX               26444 non-null  object\n",
      " 11  SEX_LABEL         26444 non-null  object\n",
      " 12  ETH_GROUP         26444 non-null  object\n",
      " 13  ETH_GROUP_LABEL   26444 non-null  object\n",
      " 14  RACE_GROUP        26444 non-null  object\n",
      " 15  RACE_GROUP_LABEL  26444 non-null  object\n",
      " 16  VET_GROUP         26444 non-null  object\n",
      " 17  VET_GROUP_LABEL   26444 non-null  object\n",
      " 18  EMPSZFI           26444 non-null  object\n",
      " 19  EMPSZFI_LABEL     26444 non-null  object\n",
      " 20  YEAR              26444 non-null  object\n",
      " 21  FIRMPDEMP         26444 non-null  object\n",
      " 22  RCPPDEMP          26444 non-null  object\n",
      " 23  EMP               26444 non-null  object\n",
      " 24  PAYANN            26444 non-null  object\n",
      " 25  FIRMPDEMP_S       26444 non-null  object\n",
      " 26  RCPPDEMP_S        26444 non-null  object\n",
      " 27  EMP_S             26444 non-null  object\n",
      " 28  PAYANN_S          26444 non-null  object\n",
      "dtypes: object(29)\n",
      "memory usage: 5.9+ MB\n"
     ]
    }
   ],
   "source": [
    "B2018.info()"
   ]
  },
  {
   "cell_type": "code",
   "execution_count": 104,
   "id": "6e101725",
   "metadata": {
    "scrolled": true
   },
   "outputs": [
    {
     "data": {
      "text/html": [
       "<div>\n",
       "<style scoped>\n",
       "    .dataframe tbody tr th:only-of-type {\n",
       "        vertical-align: middle;\n",
       "    }\n",
       "\n",
       "    .dataframe tbody tr th {\n",
       "        vertical-align: top;\n",
       "    }\n",
       "\n",
       "    .dataframe thead th {\n",
       "        text-align: right;\n",
       "    }\n",
       "</style>\n",
       "<table border=\"1\" class=\"dataframe\">\n",
       "  <thead>\n",
       "    <tr style=\"text-align: right;\">\n",
       "      <th></th>\n",
       "      <th>NAICS2017</th>\n",
       "      <th>SEX</th>\n",
       "      <th>ETH_GROUP</th>\n",
       "      <th>RACE_GROUP</th>\n",
       "      <th>YEAR</th>\n",
       "      <th>RCPPDEMP</th>\n",
       "      <th>EMP</th>\n",
       "    </tr>\n",
       "  </thead>\n",
       "  <tbody>\n",
       "    <tr>\n",
       "      <th>0</th>\n",
       "      <td>2017 NAICS code</td>\n",
       "      <td>Sex code</td>\n",
       "      <td>Ethnicity code</td>\n",
       "      <td>Race code</td>\n",
       "      <td>Year</td>\n",
       "      <td>Sales, value of shipments, or revenue of emplo...</td>\n",
       "      <td>Number of employees</td>\n",
       "    </tr>\n",
       "    <tr>\n",
       "      <th>1</th>\n",
       "      <td>0</td>\n",
       "      <td>1</td>\n",
       "      <td>1</td>\n",
       "      <td>0</td>\n",
       "      <td>2017</td>\n",
       "      <td>246491573</td>\n",
       "      <td>0</td>\n",
       "    </tr>\n",
       "    <tr>\n",
       "      <th>2</th>\n",
       "      <td>0</td>\n",
       "      <td>1</td>\n",
       "      <td>1</td>\n",
       "      <td>0</td>\n",
       "      <td>2017</td>\n",
       "      <td>1246892073</td>\n",
       "      <td>5737290</td>\n",
       "    </tr>\n",
       "    <tr>\n",
       "      <th>3</th>\n",
       "      <td>0</td>\n",
       "      <td>1</td>\n",
       "      <td>1</td>\n",
       "      <td>0</td>\n",
       "      <td>2017</td>\n",
       "      <td>1227385543</td>\n",
       "      <td>6299539</td>\n",
       "    </tr>\n",
       "    <tr>\n",
       "      <th>4</th>\n",
       "      <td>0</td>\n",
       "      <td>1</td>\n",
       "      <td>1</td>\n",
       "      <td>0</td>\n",
       "      <td>2017</td>\n",
       "      <td>1526806215</td>\n",
       "      <td>8228901</td>\n",
       "    </tr>\n",
       "  </tbody>\n",
       "</table>\n",
       "</div>"
      ],
      "text/plain": [
       "         NAICS2017       SEX       ETH_GROUP RACE_GROUP  YEAR  \\\n",
       "0  2017 NAICS code  Sex code  Ethnicity code  Race code  Year   \n",
       "1                0         1               1          0  2017   \n",
       "2                0         1               1          0  2017   \n",
       "3                0         1               1          0  2017   \n",
       "4                0         1               1          0  2017   \n",
       "\n",
       "                                            RCPPDEMP                  EMP  \n",
       "0  Sales, value of shipments, or revenue of emplo...  Number of employees  \n",
       "1                                          246491573                    0  \n",
       "2                                         1246892073              5737290  \n",
       "3                                         1227385543              6299539  \n",
       "4                                         1526806215              8228901  "
      ]
     },
     "execution_count": 104,
     "metadata": {},
     "output_type": "execute_result"
    }
   ],
   "source": [
    "B2018.drop(['GEO_ID', 'GEO_ID_F', 'NAME', 'INDLEVEL', 'NAICS2017_LABEL', 'INDGROUP', 'SECTOR', 'SUBSECTOR',  'NAICS2017_F', 'SEX_LABEL', 'ETH_GROUP_LABEL', 'RACE_GROUP_LABEL', 'VET_GROUP', 'VET_GROUP_LABEL', 'EMPSZFI', 'EMPSZFI_LABEL', 'FIRMPDEMP', 'PAYANN','FIRMPDEMP_S', 'RCPPDEMP_S', 'EMP_S', 'PAYANN_S'], axis = 1, inplace = True)\n",
    "B2018.head()"
   ]
  },
  {
   "cell_type": "code",
   "execution_count": 105,
   "id": "68f064a8",
   "metadata": {},
   "outputs": [
    {
     "name": "stdout",
     "output_type": "stream",
     "text": [
      "<class 'pandas.core.frame.DataFrame'>\n",
      "RangeIndex: 26444 entries, 0 to 26443\n",
      "Data columns (total 7 columns):\n",
      " #   Column      Non-Null Count  Dtype \n",
      "---  ------      --------------  ----- \n",
      " 0   NAICS2017   26444 non-null  object\n",
      " 1   SEX         26444 non-null  object\n",
      " 2   ETH_GROUP   26444 non-null  object\n",
      " 3   RACE_GROUP  26444 non-null  object\n",
      " 4   YEAR        26444 non-null  object\n",
      " 5   RCPPDEMP    26444 non-null  object\n",
      " 6   EMP         26444 non-null  object\n",
      "dtypes: object(7)\n",
      "memory usage: 1.4+ MB\n"
     ]
    }
   ],
   "source": [
    "B2018.info()"
   ]
  },
  {
   "cell_type": "code",
   "execution_count": 106,
   "id": "3e779ba9",
   "metadata": {
    "scrolled": true
   },
   "outputs": [
    {
     "data": {
      "text/html": [
       "<div>\n",
       "<style scoped>\n",
       "    .dataframe tbody tr th:only-of-type {\n",
       "        vertical-align: middle;\n",
       "    }\n",
       "\n",
       "    .dataframe tbody tr th {\n",
       "        vertical-align: top;\n",
       "    }\n",
       "\n",
       "    .dataframe thead th {\n",
       "        text-align: right;\n",
       "    }\n",
       "</style>\n",
       "<table border=\"1\" class=\"dataframe\">\n",
       "  <thead>\n",
       "    <tr style=\"text-align: right;\">\n",
       "      <th></th>\n",
       "      <th>NAICS2017</th>\n",
       "      <th>SEX</th>\n",
       "      <th>ETH_GROUP</th>\n",
       "      <th>RACE_GROUP</th>\n",
       "      <th>YEAR</th>\n",
       "      <th>RCPPDEMP</th>\n",
       "      <th>EMP</th>\n",
       "    </tr>\n",
       "  </thead>\n",
       "  <tbody>\n",
       "    <tr>\n",
       "      <th>0</th>\n",
       "      <td>2017 NAICS code</td>\n",
       "      <td>Sex code</td>\n",
       "      <td>Ethnicity code</td>\n",
       "      <td>Race code</td>\n",
       "      <td>Year</td>\n",
       "      <td>Sales, value of shipments, or revenue of emplo...</td>\n",
       "      <td>Number of employees</td>\n",
       "    </tr>\n",
       "    <tr>\n",
       "      <th>1</th>\n",
       "      <td>0</td>\n",
       "      <td>1</td>\n",
       "      <td>1</td>\n",
       "      <td>0</td>\n",
       "      <td>2018</td>\n",
       "      <td>38405539368</td>\n",
       "      <td>128196406</td>\n",
       "    </tr>\n",
       "    <tr>\n",
       "      <th>2</th>\n",
       "      <td>0</td>\n",
       "      <td>1</td>\n",
       "      <td>1</td>\n",
       "      <td>0</td>\n",
       "      <td>2018</td>\n",
       "      <td>2270021185</td>\n",
       "      <td>10991334</td>\n",
       "    </tr>\n",
       "    <tr>\n",
       "      <th>3</th>\n",
       "      <td>0</td>\n",
       "      <td>1</td>\n",
       "      <td>1</td>\n",
       "      <td>0</td>\n",
       "      <td>2018</td>\n",
       "      <td>2462681905</td>\n",
       "      <td>11240900</td>\n",
       "    </tr>\n",
       "    <tr>\n",
       "      <th>4</th>\n",
       "      <td>0</td>\n",
       "      <td>1</td>\n",
       "      <td>1</td>\n",
       "      <td>0</td>\n",
       "      <td>2018</td>\n",
       "      <td>413777541</td>\n",
       "      <td>1423837</td>\n",
       "    </tr>\n",
       "  </tbody>\n",
       "</table>\n",
       "</div>"
      ],
      "text/plain": [
       "         NAICS2017       SEX       ETH_GROUP RACE_GROUP  YEAR  \\\n",
       "0  2017 NAICS code  Sex code  Ethnicity code  Race code  Year   \n",
       "1                0         1               1          0  2018   \n",
       "2                0         1               1          0  2018   \n",
       "3                0         1               1          0  2018   \n",
       "4                0         1               1          0  2018   \n",
       "\n",
       "                                            RCPPDEMP                  EMP  \n",
       "0  Sales, value of shipments, or revenue of emplo...  Number of employees  \n",
       "1                                        38405539368            128196406  \n",
       "2                                         2270021185             10991334  \n",
       "3                                         2462681905             11240900  \n",
       "4                                          413777541              1423837  "
      ]
     },
     "execution_count": 106,
     "metadata": {},
     "output_type": "execute_result"
    }
   ],
   "source": [
    "B2019.drop(['GEO_ID', 'GEO_ID_F', 'NAME', 'INDLEVEL', 'NAICS2017_F', 'NAICS2017_LABEL', 'INDGROUP', 'SECTOR', 'SUBSECTOR', 'SEX_LABEL', 'ETH_GROUP_LABEL', 'RACE_GROUP_LABEL', 'VET_GROUP','VET_GROUP_LABEL', 'QDESC', 'QDESC_LABEL', 'BUSCHAR', 'BUSCHAR_LABEL', 'FIRMPDEMP', 'FIRMPDEMP_PCT', 'RCPPDEMP_PCT','PAYANN', 'PAYANN_PCT', 'FIRMPDEMP_S', 'FIRMPDEMP_PCT_S', 'RCPPDEMP_S', 'RCPPDEMP_PCT_S', 'EMP_S', 'EMP_PCT', 'EMP_PCT_S', 'PAYANN_S', 'PAYANN_PCT_S'], axis = 1, inplace = True)\n",
    "B2019.head()"
   ]
  },
  {
   "cell_type": "code",
   "execution_count": 107,
   "id": "438bd300",
   "metadata": {},
   "outputs": [
    {
     "name": "stdout",
     "output_type": "stream",
     "text": [
      "<class 'pandas.core.frame.DataFrame'>\n",
      "RangeIndex: 48738 entries, 0 to 48737\n",
      "Data columns (total 7 columns):\n",
      " #   Column      Non-Null Count  Dtype \n",
      "---  ------      --------------  ----- \n",
      " 0   NAICS2017   48738 non-null  object\n",
      " 1   SEX         48738 non-null  object\n",
      " 2   ETH_GROUP   48738 non-null  object\n",
      " 3   RACE_GROUP  48738 non-null  object\n",
      " 4   YEAR        48738 non-null  object\n",
      " 5   RCPPDEMP    48738 non-null  object\n",
      " 6   EMP         48738 non-null  object\n",
      "dtypes: object(7)\n",
      "memory usage: 2.6+ MB\n"
     ]
    }
   ],
   "source": [
    "B2019.info()"
   ]
  },
  {
   "cell_type": "code",
   "execution_count": 108,
   "id": "a1989420",
   "metadata": {},
   "outputs": [
    {
     "name": "stdout",
     "output_type": "stream",
     "text": [
      "<class 'pandas.core.frame.DataFrame'>\n",
      "RangeIndex: 15312 entries, 0 to 15311\n",
      "Data columns (total 25 columns):\n",
      " #   Column            Non-Null Count  Dtype \n",
      "---  ------            --------------  ----- \n",
      " 0   GEO_ID            15312 non-null  object\n",
      " 1   GEO_ID_F          1 non-null      object\n",
      " 2   NAME              15312 non-null  object\n",
      " 3   NAICS2017         15312 non-null  object\n",
      " 4   NAICS2017_F       2838 non-null   object\n",
      " 5   NAICS2017_LABEL   15312 non-null  object\n",
      " 6   SEX               15312 non-null  object\n",
      " 7   SEX_LABEL         15312 non-null  object\n",
      " 8   ETH_GROUP         15312 non-null  object\n",
      " 9   ETH_GROUP_LABEL   15312 non-null  object\n",
      " 10  RACE_GROUP        15312 non-null  object\n",
      " 11  RACE_GROUP_LABEL  15312 non-null  object\n",
      " 12  VET_GROUP         15312 non-null  object\n",
      " 13  VET_GROUP_LABEL   15312 non-null  object\n",
      " 14  EMPSZFI           15312 non-null  object\n",
      " 15  EMPSZFI_LABEL     15312 non-null  object\n",
      " 16  YEAR              15312 non-null  object\n",
      " 17  FIRMPDEMP         15312 non-null  object\n",
      " 18  RCPPDEMP          15312 non-null  object\n",
      " 19  EMP               15312 non-null  object\n",
      " 20  PAYANN            15312 non-null  object\n",
      " 21  FIRMPDEMP_S       15312 non-null  object\n",
      " 22  RCPPDEMP_S        15312 non-null  object\n",
      " 23  EMP_S             15312 non-null  object\n",
      " 24  PAYANN_S          15312 non-null  object\n",
      "dtypes: object(25)\n",
      "memory usage: 2.9+ MB\n"
     ]
    }
   ],
   "source": [
    "B2020.info()"
   ]
  },
  {
   "cell_type": "code",
   "execution_count": 109,
   "id": "14c53a38",
   "metadata": {
    "scrolled": false
   },
   "outputs": [
    {
     "data": {
      "text/html": [
       "<div>\n",
       "<style scoped>\n",
       "    .dataframe tbody tr th:only-of-type {\n",
       "        vertical-align: middle;\n",
       "    }\n",
       "\n",
       "    .dataframe tbody tr th {\n",
       "        vertical-align: top;\n",
       "    }\n",
       "\n",
       "    .dataframe thead th {\n",
       "        text-align: right;\n",
       "    }\n",
       "</style>\n",
       "<table border=\"1\" class=\"dataframe\">\n",
       "  <thead>\n",
       "    <tr style=\"text-align: right;\">\n",
       "      <th></th>\n",
       "      <th>NAICS2017</th>\n",
       "      <th>SEX</th>\n",
       "      <th>ETH_GROUP</th>\n",
       "      <th>RACE_GROUP</th>\n",
       "      <th>YEAR</th>\n",
       "      <th>RCPPDEMP</th>\n",
       "      <th>EMP</th>\n",
       "    </tr>\n",
       "  </thead>\n",
       "  <tbody>\n",
       "    <tr>\n",
       "      <th>0</th>\n",
       "      <td>2017 NAICS code</td>\n",
       "      <td>Sex code</td>\n",
       "      <td>Ethnicity code</td>\n",
       "      <td>Race code</td>\n",
       "      <td>Year</td>\n",
       "      <td>Sales, value of shipments, or revenue of emplo...</td>\n",
       "      <td>Number of employees</td>\n",
       "    </tr>\n",
       "    <tr>\n",
       "      <th>1</th>\n",
       "      <td>0</td>\n",
       "      <td>1</td>\n",
       "      <td>1</td>\n",
       "      <td>0</td>\n",
       "      <td>2019</td>\n",
       "      <td>298164421</td>\n",
       "      <td>0</td>\n",
       "    </tr>\n",
       "    <tr>\n",
       "      <th>2</th>\n",
       "      <td>0</td>\n",
       "      <td>1</td>\n",
       "      <td>1</td>\n",
       "      <td>0</td>\n",
       "      <td>2019</td>\n",
       "      <td>1266736429</td>\n",
       "      <td>5632339</td>\n",
       "    </tr>\n",
       "    <tr>\n",
       "      <th>3</th>\n",
       "      <td>0</td>\n",
       "      <td>1</td>\n",
       "      <td>1</td>\n",
       "      <td>0</td>\n",
       "      <td>2019</td>\n",
       "      <td>1142368704</td>\n",
       "      <td>6329828</td>\n",
       "    </tr>\n",
       "    <tr>\n",
       "      <th>4</th>\n",
       "      <td>0</td>\n",
       "      <td>1</td>\n",
       "      <td>1</td>\n",
       "      <td>0</td>\n",
       "      <td>2019</td>\n",
       "      <td>1440258482</td>\n",
       "      <td>8211284</td>\n",
       "    </tr>\n",
       "  </tbody>\n",
       "</table>\n",
       "</div>"
      ],
      "text/plain": [
       "         NAICS2017       SEX       ETH_GROUP RACE_GROUP  YEAR  \\\n",
       "0  2017 NAICS code  Sex code  Ethnicity code  Race code  Year   \n",
       "1                0         1               1          0  2019   \n",
       "2                0         1               1          0  2019   \n",
       "3                0         1               1          0  2019   \n",
       "4                0         1               1          0  2019   \n",
       "\n",
       "                                            RCPPDEMP                  EMP  \n",
       "0  Sales, value of shipments, or revenue of emplo...  Number of employees  \n",
       "1                                          298164421                    0  \n",
       "2                                         1266736429              5632339  \n",
       "3                                         1142368704              6329828  \n",
       "4                                         1440258482              8211284  "
      ]
     },
     "execution_count": 109,
     "metadata": {},
     "output_type": "execute_result"
    }
   ],
   "source": [
    "B2020.drop(['GEO_ID', 'GEO_ID_F', 'NAME', 'NAICS2017_F', 'NAICS2017_LABEL', 'SEX_LABEL', 'ETH_GROUP_LABEL', 'RACE_GROUP_LABEL', 'VET_GROUP', 'VET_GROUP_LABEL', 'EMPSZFI','EMPSZFI_LABEL', 'FIRMPDEMP','FIRMPDEMP_S', 'RCPPDEMP_S', 'EMP_S', 'PAYANN','PAYANN_S'], axis = 1, inplace = True)\n",
    "B2020.head()"
   ]
  },
  {
   "cell_type": "markdown",
   "id": "5b54c857",
   "metadata": {},
   "source": [
    "# Rename Columns"
   ]
  },
  {
   "cell_type": "code",
   "execution_count": 110,
   "id": "e489db16",
   "metadata": {},
   "outputs": [],
   "source": [
    "B2018_1 = B2018.rename(columns={'NAICS2017':'NAICS',\n",
    "                                       'SEX':'Owners_Sex',\n",
    "                                       'ETH_GROUP': 'Owners_Ethnicity', \n",
    "                                       'RACE_GROUP':'Owners_Race', \n",
    "                                        'YEAR':'Year',\n",
    "                                       'RCPPDEMP':'Sales', \n",
    "                                       'EMP': 'Employees'})"
   ]
  },
  {
   "cell_type": "code",
   "execution_count": 111,
   "id": "45368e1f",
   "metadata": {
    "scrolled": true
   },
   "outputs": [
    {
     "data": {
      "text/html": [
       "<div>\n",
       "<style scoped>\n",
       "    .dataframe tbody tr th:only-of-type {\n",
       "        vertical-align: middle;\n",
       "    }\n",
       "\n",
       "    .dataframe tbody tr th {\n",
       "        vertical-align: top;\n",
       "    }\n",
       "\n",
       "    .dataframe thead th {\n",
       "        text-align: right;\n",
       "    }\n",
       "</style>\n",
       "<table border=\"1\" class=\"dataframe\">\n",
       "  <thead>\n",
       "    <tr style=\"text-align: right;\">\n",
       "      <th></th>\n",
       "      <th>NAICS</th>\n",
       "      <th>Owners_Sex</th>\n",
       "      <th>Owners_Ethnicity</th>\n",
       "      <th>Owners_Race</th>\n",
       "      <th>Year</th>\n",
       "      <th>Sales</th>\n",
       "      <th>Employees</th>\n",
       "    </tr>\n",
       "  </thead>\n",
       "  <tbody>\n",
       "    <tr>\n",
       "      <th>0</th>\n",
       "      <td>2017 NAICS code</td>\n",
       "      <td>Sex code</td>\n",
       "      <td>Ethnicity code</td>\n",
       "      <td>Race code</td>\n",
       "      <td>Year</td>\n",
       "      <td>Sales, value of shipments, or revenue of emplo...</td>\n",
       "      <td>Number of employees</td>\n",
       "    </tr>\n",
       "    <tr>\n",
       "      <th>1</th>\n",
       "      <td>0</td>\n",
       "      <td>1</td>\n",
       "      <td>1</td>\n",
       "      <td>0</td>\n",
       "      <td>2017</td>\n",
       "      <td>246491573</td>\n",
       "      <td>0</td>\n",
       "    </tr>\n",
       "    <tr>\n",
       "      <th>2</th>\n",
       "      <td>0</td>\n",
       "      <td>1</td>\n",
       "      <td>1</td>\n",
       "      <td>0</td>\n",
       "      <td>2017</td>\n",
       "      <td>1246892073</td>\n",
       "      <td>5737290</td>\n",
       "    </tr>\n",
       "    <tr>\n",
       "      <th>3</th>\n",
       "      <td>0</td>\n",
       "      <td>1</td>\n",
       "      <td>1</td>\n",
       "      <td>0</td>\n",
       "      <td>2017</td>\n",
       "      <td>1227385543</td>\n",
       "      <td>6299539</td>\n",
       "    </tr>\n",
       "    <tr>\n",
       "      <th>4</th>\n",
       "      <td>0</td>\n",
       "      <td>1</td>\n",
       "      <td>1</td>\n",
       "      <td>0</td>\n",
       "      <td>2017</td>\n",
       "      <td>1526806215</td>\n",
       "      <td>8228901</td>\n",
       "    </tr>\n",
       "  </tbody>\n",
       "</table>\n",
       "</div>"
      ],
      "text/plain": [
       "             NAICS Owners_Sex Owners_Ethnicity Owners_Race  Year  \\\n",
       "0  2017 NAICS code   Sex code   Ethnicity code   Race code  Year   \n",
       "1                0          1                1           0  2017   \n",
       "2                0          1                1           0  2017   \n",
       "3                0          1                1           0  2017   \n",
       "4                0          1                1           0  2017   \n",
       "\n",
       "                                               Sales            Employees  \n",
       "0  Sales, value of shipments, or revenue of emplo...  Number of employees  \n",
       "1                                          246491573                    0  \n",
       "2                                         1246892073              5737290  \n",
       "3                                         1227385543              6299539  \n",
       "4                                         1526806215              8228901  "
      ]
     },
     "execution_count": 111,
     "metadata": {},
     "output_type": "execute_result"
    }
   ],
   "source": [
    "B2018_1.head()"
   ]
  },
  {
   "cell_type": "code",
   "execution_count": 112,
   "id": "29748f7d",
   "metadata": {},
   "outputs": [],
   "source": [
    "B2019_1 = B2019.rename(columns={'NAICS2017':'NAICS',\n",
    "                                       'SEX':'Owners_Sex',\n",
    "                                       'ETH_GROUP': 'Owners_Ethnicity', \n",
    "                                       'RACE_GROUP':'Owners_Race', \n",
    "                                        'YEAR':'Year',\n",
    "                                       'RCPPDEMP':'Sales', \n",
    "                                       'EMP': 'Employees'})"
   ]
  },
  {
   "cell_type": "code",
   "execution_count": 113,
   "id": "523f5f41",
   "metadata": {},
   "outputs": [
    {
     "data": {
      "text/html": [
       "<div>\n",
       "<style scoped>\n",
       "    .dataframe tbody tr th:only-of-type {\n",
       "        vertical-align: middle;\n",
       "    }\n",
       "\n",
       "    .dataframe tbody tr th {\n",
       "        vertical-align: top;\n",
       "    }\n",
       "\n",
       "    .dataframe thead th {\n",
       "        text-align: right;\n",
       "    }\n",
       "</style>\n",
       "<table border=\"1\" class=\"dataframe\">\n",
       "  <thead>\n",
       "    <tr style=\"text-align: right;\">\n",
       "      <th></th>\n",
       "      <th>NAICS</th>\n",
       "      <th>Owners_Sex</th>\n",
       "      <th>Owners_Ethnicity</th>\n",
       "      <th>Owners_Race</th>\n",
       "      <th>Year</th>\n",
       "      <th>Sales</th>\n",
       "      <th>Employees</th>\n",
       "    </tr>\n",
       "  </thead>\n",
       "  <tbody>\n",
       "    <tr>\n",
       "      <th>0</th>\n",
       "      <td>2017 NAICS code</td>\n",
       "      <td>Sex code</td>\n",
       "      <td>Ethnicity code</td>\n",
       "      <td>Race code</td>\n",
       "      <td>Year</td>\n",
       "      <td>Sales, value of shipments, or revenue of emplo...</td>\n",
       "      <td>Number of employees</td>\n",
       "    </tr>\n",
       "    <tr>\n",
       "      <th>1</th>\n",
       "      <td>0</td>\n",
       "      <td>1</td>\n",
       "      <td>1</td>\n",
       "      <td>0</td>\n",
       "      <td>2018</td>\n",
       "      <td>38405539368</td>\n",
       "      <td>128196406</td>\n",
       "    </tr>\n",
       "    <tr>\n",
       "      <th>2</th>\n",
       "      <td>0</td>\n",
       "      <td>1</td>\n",
       "      <td>1</td>\n",
       "      <td>0</td>\n",
       "      <td>2018</td>\n",
       "      <td>2270021185</td>\n",
       "      <td>10991334</td>\n",
       "    </tr>\n",
       "    <tr>\n",
       "      <th>3</th>\n",
       "      <td>0</td>\n",
       "      <td>1</td>\n",
       "      <td>1</td>\n",
       "      <td>0</td>\n",
       "      <td>2018</td>\n",
       "      <td>2462681905</td>\n",
       "      <td>11240900</td>\n",
       "    </tr>\n",
       "    <tr>\n",
       "      <th>4</th>\n",
       "      <td>0</td>\n",
       "      <td>1</td>\n",
       "      <td>1</td>\n",
       "      <td>0</td>\n",
       "      <td>2018</td>\n",
       "      <td>413777541</td>\n",
       "      <td>1423837</td>\n",
       "    </tr>\n",
       "  </tbody>\n",
       "</table>\n",
       "</div>"
      ],
      "text/plain": [
       "             NAICS Owners_Sex Owners_Ethnicity Owners_Race  Year  \\\n",
       "0  2017 NAICS code   Sex code   Ethnicity code   Race code  Year   \n",
       "1                0          1                1           0  2018   \n",
       "2                0          1                1           0  2018   \n",
       "3                0          1                1           0  2018   \n",
       "4                0          1                1           0  2018   \n",
       "\n",
       "                                               Sales            Employees  \n",
       "0  Sales, value of shipments, or revenue of emplo...  Number of employees  \n",
       "1                                        38405539368            128196406  \n",
       "2                                         2270021185             10991334  \n",
       "3                                         2462681905             11240900  \n",
       "4                                          413777541              1423837  "
      ]
     },
     "execution_count": 113,
     "metadata": {},
     "output_type": "execute_result"
    }
   ],
   "source": [
    "B2019_1.head()"
   ]
  },
  {
   "cell_type": "code",
   "execution_count": 114,
   "id": "46bbef28",
   "metadata": {},
   "outputs": [],
   "source": [
    "B2020_1 = B2020.rename(columns={'NAICS2017':'NAICS',\n",
    "                                       'SEX':'Owners_Sex',\n",
    "                                       'ETH_GROUP': 'Owners_Ethnicity', \n",
    "                                       'RACE_GROUP':'Owners_Race', \n",
    "                                        'YEAR':'Year',\n",
    "                                       'RCPPDEMP':'Sales', \n",
    "                                       'EMP': 'Employees'})"
   ]
  },
  {
   "cell_type": "code",
   "execution_count": 115,
   "id": "97d67075",
   "metadata": {},
   "outputs": [
    {
     "name": "stdout",
     "output_type": "stream",
     "text": [
      "<class 'pandas.core.frame.DataFrame'>\n",
      "RangeIndex: 15312 entries, 0 to 15311\n",
      "Data columns (total 7 columns):\n",
      " #   Column            Non-Null Count  Dtype \n",
      "---  ------            --------------  ----- \n",
      " 0   NAICS             15312 non-null  object\n",
      " 1   Owners_Sex        15312 non-null  object\n",
      " 2   Owners_Ethnicity  15312 non-null  object\n",
      " 3   Owners_Race       15312 non-null  object\n",
      " 4   Year              15312 non-null  object\n",
      " 5   Sales             15312 non-null  object\n",
      " 6   Employees         15312 non-null  object\n",
      "dtypes: object(7)\n",
      "memory usage: 837.5+ KB\n"
     ]
    }
   ],
   "source": [
    "B2020_1.info()"
   ]
  },
  {
   "cell_type": "code",
   "execution_count": null,
   "id": "57b14e24",
   "metadata": {},
   "outputs": [],
   "source": []
  },
  {
   "cell_type": "markdown",
   "id": "cd1adaa8",
   "metadata": {},
   "source": [
    "## Get Unique Values & Counts of Sex Column For Datasets"
   ]
  },
  {
   "cell_type": "code",
   "execution_count": 116,
   "id": "e5d5b91f",
   "metadata": {},
   "outputs": [
    {
     "data": {
      "text/plain": [
       "array(['Sex code', '1', '2', '3', '4', '96', '98'], dtype=object)"
      ]
     },
     "execution_count": 116,
     "metadata": {},
     "output_type": "execute_result"
    }
   ],
   "source": [
    "B2018_1['Owners_Sex'].unique()"
   ]
  },
  {
   "cell_type": "code",
   "execution_count": 117,
   "id": "bc723eef",
   "metadata": {},
   "outputs": [
    {
     "data": {
      "text/plain": [
       "1           14378\n",
       "3            4555\n",
       "2            3786\n",
       "4            3349\n",
       "96            189\n",
       "98            186\n",
       "Sex code        1\n",
       "Name: Owners_Sex, dtype: int64"
      ]
     },
     "execution_count": 117,
     "metadata": {},
     "output_type": "execute_result"
    }
   ],
   "source": [
    "B2018_1.Owners_Sex.value_counts()"
   ]
  },
  {
   "cell_type": "code",
   "execution_count": 118,
   "id": "b4bff75c",
   "metadata": {
    "scrolled": true
   },
   "outputs": [
    {
     "data": {
      "text/plain": [
       "array(['Sex code', '1', '2', '3', '4', '96', '98', 2, 3, 4, 1, 96, 98],\n",
       "      dtype=object)"
      ]
     },
     "execution_count": 118,
     "metadata": {},
     "output_type": "execute_result"
    }
   ],
   "source": [
    "B2019_1['Owners_Sex'].unique()"
   ]
  },
  {
   "cell_type": "code",
   "execution_count": 119,
   "id": "473ddc3a",
   "metadata": {},
   "outputs": [
    {
     "data": {
      "text/plain": [
       "1           16380\n",
       "1            8224\n",
       "3            5285\n",
       "4            5036\n",
       "2            4564\n",
       "3            2764\n",
       "4            2587\n",
       "2            2273\n",
       "96            607\n",
       "98            482\n",
       "96            295\n",
       "98            240\n",
       "Sex code        1\n",
       "Name: Owners_Sex, dtype: int64"
      ]
     },
     "execution_count": 119,
     "metadata": {},
     "output_type": "execute_result"
    }
   ],
   "source": [
    "B2019_1.Owners_Sex.value_counts()"
   ]
  },
  {
   "cell_type": "code",
   "execution_count": 120,
   "id": "a016efc4",
   "metadata": {},
   "outputs": [
    {
     "data": {
      "text/plain": [
       "array(['Sex code', '1', '2', '3', '4', '96', '98'], dtype=object)"
      ]
     },
     "execution_count": 120,
     "metadata": {},
     "output_type": "execute_result"
    }
   ],
   "source": [
    "B2020_1['Owners_Sex'].unique()"
   ]
  },
  {
   "cell_type": "code",
   "execution_count": 121,
   "id": "0692508a",
   "metadata": {},
   "outputs": [
    {
     "data": {
      "text/plain": [
       "1           8329\n",
       "3           2490\n",
       "4           2075\n",
       "2           2044\n",
       "96           189\n",
       "98           184\n",
       "Sex code       1\n",
       "Name: Owners_Sex, dtype: int64"
      ]
     },
     "execution_count": 121,
     "metadata": {},
     "output_type": "execute_result"
    }
   ],
   "source": [
    "B2020_1.Owners_Sex.value_counts()"
   ]
  },
  {
   "cell_type": "markdown",
   "id": "472915e4",
   "metadata": {},
   "source": [
    "## Filter Male Owned Businesses Only"
   ]
  },
  {
   "cell_type": "code",
   "execution_count": 122,
   "id": "b4e5d21f",
   "metadata": {},
   "outputs": [],
   "source": [
    "MB2018 = B2018_1[(B2018_1['Owners_Sex'].isin(['3']))]"
   ]
  },
  {
   "cell_type": "code",
   "execution_count": 123,
   "id": "71e4ee28",
   "metadata": {},
   "outputs": [
    {
     "data": {
      "text/html": [
       "<div>\n",
       "<style scoped>\n",
       "    .dataframe tbody tr th:only-of-type {\n",
       "        vertical-align: middle;\n",
       "    }\n",
       "\n",
       "    .dataframe tbody tr th {\n",
       "        vertical-align: top;\n",
       "    }\n",
       "\n",
       "    .dataframe thead th {\n",
       "        text-align: right;\n",
       "    }\n",
       "</style>\n",
       "<table border=\"1\" class=\"dataframe\">\n",
       "  <thead>\n",
       "    <tr style=\"text-align: right;\">\n",
       "      <th></th>\n",
       "      <th>NAICS</th>\n",
       "      <th>Owners_Sex</th>\n",
       "      <th>Owners_Ethnicity</th>\n",
       "      <th>Owners_Race</th>\n",
       "      <th>Year</th>\n",
       "      <th>Sales</th>\n",
       "      <th>Employees</th>\n",
       "    </tr>\n",
       "  </thead>\n",
       "  <tbody>\n",
       "    <tr>\n",
       "      <th>19</th>\n",
       "      <td>0</td>\n",
       "      <td>3</td>\n",
       "      <td>1</td>\n",
       "      <td>0</td>\n",
       "      <td>2017</td>\n",
       "      <td>136735407</td>\n",
       "      <td>0</td>\n",
       "    </tr>\n",
       "    <tr>\n",
       "      <th>20</th>\n",
       "      <td>0</td>\n",
       "      <td>3</td>\n",
       "      <td>1</td>\n",
       "      <td>0</td>\n",
       "      <td>2017</td>\n",
       "      <td>820854478</td>\n",
       "      <td>3497846</td>\n",
       "    </tr>\n",
       "    <tr>\n",
       "      <th>21</th>\n",
       "      <td>0</td>\n",
       "      <td>3</td>\n",
       "      <td>1</td>\n",
       "      <td>0</td>\n",
       "      <td>2017</td>\n",
       "      <td>822912982</td>\n",
       "      <td>3832109</td>\n",
       "    </tr>\n",
       "    <tr>\n",
       "      <th>22</th>\n",
       "      <td>0</td>\n",
       "      <td>3</td>\n",
       "      <td>1</td>\n",
       "      <td>0</td>\n",
       "      <td>2017</td>\n",
       "      <td>1001888040</td>\n",
       "      <td>4938029</td>\n",
       "    </tr>\n",
       "    <tr>\n",
       "      <th>23</th>\n",
       "      <td>0</td>\n",
       "      <td>3</td>\n",
       "      <td>1</td>\n",
       "      <td>0</td>\n",
       "      <td>2017</td>\n",
       "      <td>1560974369</td>\n",
       "      <td>7453989</td>\n",
       "    </tr>\n",
       "  </tbody>\n",
       "</table>\n",
       "</div>"
      ],
      "text/plain": [
       "   NAICS Owners_Sex Owners_Ethnicity Owners_Race  Year       Sales Employees\n",
       "19     0          3                1           0  2017   136735407         0\n",
       "20     0          3                1           0  2017   820854478   3497846\n",
       "21     0          3                1           0  2017   822912982   3832109\n",
       "22     0          3                1           0  2017  1001888040   4938029\n",
       "23     0          3                1           0  2017  1560974369   7453989"
      ]
     },
     "execution_count": 123,
     "metadata": {},
     "output_type": "execute_result"
    }
   ],
   "source": [
    "MB2018.head()"
   ]
  },
  {
   "cell_type": "code",
   "execution_count": 124,
   "id": "40c5c91c",
   "metadata": {},
   "outputs": [],
   "source": [
    "MB2019 = B2019_1[(B2019_1['Owners_Sex'].isin(['3', 3]))]"
   ]
  },
  {
   "cell_type": "code",
   "execution_count": 125,
   "id": "32a8180a",
   "metadata": {},
   "outputs": [
    {
     "data": {
      "text/html": [
       "<div>\n",
       "<style scoped>\n",
       "    .dataframe tbody tr th:only-of-type {\n",
       "        vertical-align: middle;\n",
       "    }\n",
       "\n",
       "    .dataframe tbody tr th {\n",
       "        vertical-align: top;\n",
       "    }\n",
       "\n",
       "    .dataframe thead th {\n",
       "        text-align: right;\n",
       "    }\n",
       "</style>\n",
       "<table border=\"1\" class=\"dataframe\">\n",
       "  <thead>\n",
       "    <tr style=\"text-align: right;\">\n",
       "      <th></th>\n",
       "      <th>NAICS</th>\n",
       "      <th>Owners_Sex</th>\n",
       "      <th>Owners_Ethnicity</th>\n",
       "      <th>Owners_Race</th>\n",
       "      <th>Year</th>\n",
       "      <th>Sales</th>\n",
       "      <th>Employees</th>\n",
       "    </tr>\n",
       "  </thead>\n",
       "  <tbody>\n",
       "    <tr>\n",
       "      <th>17</th>\n",
       "      <td>0</td>\n",
       "      <td>3</td>\n",
       "      <td>1</td>\n",
       "      <td>0</td>\n",
       "      <td>2018</td>\n",
       "      <td>11240035485</td>\n",
       "      <td>45346405</td>\n",
       "    </tr>\n",
       "    <tr>\n",
       "      <th>18</th>\n",
       "      <td>0</td>\n",
       "      <td>3</td>\n",
       "      <td>1</td>\n",
       "      <td>0</td>\n",
       "      <td>2018</td>\n",
       "      <td>1590189106</td>\n",
       "      <td>7930369</td>\n",
       "    </tr>\n",
       "    <tr>\n",
       "      <th>19</th>\n",
       "      <td>0</td>\n",
       "      <td>3</td>\n",
       "      <td>1</td>\n",
       "      <td>0</td>\n",
       "      <td>2018</td>\n",
       "      <td>1568830784</td>\n",
       "      <td>6201858</td>\n",
       "    </tr>\n",
       "    <tr>\n",
       "      <th>20</th>\n",
       "      <td>0</td>\n",
       "      <td>3</td>\n",
       "      <td>1</td>\n",
       "      <td>0</td>\n",
       "      <td>2018</td>\n",
       "      <td>296578155</td>\n",
       "      <td>982630</td>\n",
       "    </tr>\n",
       "    <tr>\n",
       "      <th>21</th>\n",
       "      <td>0</td>\n",
       "      <td>3</td>\n",
       "      <td>1</td>\n",
       "      <td>0</td>\n",
       "      <td>2018</td>\n",
       "      <td>112737464</td>\n",
       "      <td>376769</td>\n",
       "    </tr>\n",
       "  </tbody>\n",
       "</table>\n",
       "</div>"
      ],
      "text/plain": [
       "   NAICS Owners_Sex Owners_Ethnicity Owners_Race  Year        Sales Employees\n",
       "17     0          3                1           0  2018  11240035485  45346405\n",
       "18     0          3                1           0  2018   1590189106   7930369\n",
       "19     0          3                1           0  2018   1568830784   6201858\n",
       "20     0          3                1           0  2018    296578155    982630\n",
       "21     0          3                1           0  2018    112737464    376769"
      ]
     },
     "execution_count": 125,
     "metadata": {},
     "output_type": "execute_result"
    }
   ],
   "source": [
    "MB2019.head()"
   ]
  },
  {
   "cell_type": "code",
   "execution_count": 126,
   "id": "ec438808",
   "metadata": {},
   "outputs": [],
   "source": [
    "MB2020 = B2020_1[(B2020_1['Owners_Sex'].isin(['3']))]"
   ]
  },
  {
   "cell_type": "code",
   "execution_count": 127,
   "id": "f5d3dfaa",
   "metadata": {},
   "outputs": [
    {
     "data": {
      "text/html": [
       "<div>\n",
       "<style scoped>\n",
       "    .dataframe tbody tr th:only-of-type {\n",
       "        vertical-align: middle;\n",
       "    }\n",
       "\n",
       "    .dataframe tbody tr th {\n",
       "        vertical-align: top;\n",
       "    }\n",
       "\n",
       "    .dataframe thead th {\n",
       "        text-align: right;\n",
       "    }\n",
       "</style>\n",
       "<table border=\"1\" class=\"dataframe\">\n",
       "  <thead>\n",
       "    <tr style=\"text-align: right;\">\n",
       "      <th></th>\n",
       "      <th>NAICS</th>\n",
       "      <th>Owners_Sex</th>\n",
       "      <th>Owners_Ethnicity</th>\n",
       "      <th>Owners_Race</th>\n",
       "      <th>Year</th>\n",
       "      <th>Sales</th>\n",
       "      <th>Employees</th>\n",
       "    </tr>\n",
       "  </thead>\n",
       "  <tbody>\n",
       "    <tr>\n",
       "      <th>19</th>\n",
       "      <td>0</td>\n",
       "      <td>3</td>\n",
       "      <td>1</td>\n",
       "      <td>0</td>\n",
       "      <td>2019</td>\n",
       "      <td>200198772</td>\n",
       "      <td>0</td>\n",
       "    </tr>\n",
       "    <tr>\n",
       "      <th>20</th>\n",
       "      <td>0</td>\n",
       "      <td>3</td>\n",
       "      <td>1</td>\n",
       "      <td>0</td>\n",
       "      <td>2019</td>\n",
       "      <td>838381183</td>\n",
       "      <td>3429436</td>\n",
       "    </tr>\n",
       "    <tr>\n",
       "      <th>21</th>\n",
       "      <td>0</td>\n",
       "      <td>3</td>\n",
       "      <td>1</td>\n",
       "      <td>0</td>\n",
       "      <td>2019</td>\n",
       "      <td>770585296</td>\n",
       "      <td>3831292</td>\n",
       "    </tr>\n",
       "    <tr>\n",
       "      <th>22</th>\n",
       "      <td>0</td>\n",
       "      <td>3</td>\n",
       "      <td>1</td>\n",
       "      <td>0</td>\n",
       "      <td>2019</td>\n",
       "      <td>980187676</td>\n",
       "      <td>4985473</td>\n",
       "    </tr>\n",
       "    <tr>\n",
       "      <th>23</th>\n",
       "      <td>0</td>\n",
       "      <td>3</td>\n",
       "      <td>1</td>\n",
       "      <td>0</td>\n",
       "      <td>2019</td>\n",
       "      <td>1642832706</td>\n",
       "      <td>7456450</td>\n",
       "    </tr>\n",
       "  </tbody>\n",
       "</table>\n",
       "</div>"
      ],
      "text/plain": [
       "   NAICS Owners_Sex Owners_Ethnicity Owners_Race  Year       Sales Employees\n",
       "19     0          3                1           0  2019   200198772         0\n",
       "20     0          3                1           0  2019   838381183   3429436\n",
       "21     0          3                1           0  2019   770585296   3831292\n",
       "22     0          3                1           0  2019   980187676   4985473\n",
       "23     0          3                1           0  2019  1642832706   7456450"
      ]
     },
     "execution_count": 127,
     "metadata": {},
     "output_type": "execute_result"
    }
   ],
   "source": [
    "MB2020.head()"
   ]
  },
  {
   "cell_type": "markdown",
   "id": "e56aac7a",
   "metadata": {},
   "source": [
    "# Determine which sectors were predominantly male-owned:"
   ]
  },
  {
   "cell_type": "markdown",
   "id": "9718bb40",
   "metadata": {},
   "source": [
    "## 2018"
   ]
  },
  {
   "cell_type": "code",
   "execution_count": 139,
   "id": "189e85d3",
   "metadata": {
    "scrolled": true
   },
   "outputs": [
    {
     "data": {
      "text/plain": [
       "0     265\n",
       "54    258\n",
       "72    256\n",
       "44    252\n",
       "56    252\n",
       "31    248\n",
       "48    245\n",
       "62    240\n",
       "23    239\n",
       "42    238\n",
       "51    230\n",
       "81    227\n",
       "52    224\n",
       "53    219\n",
       "55    215\n",
       "71    211\n",
       "61    200\n",
       "11    155\n",
       "21    132\n",
       "99    128\n",
       "22    121\n",
       "Name: NAICS, dtype: int64"
      ]
     },
     "execution_count": 139,
     "metadata": {},
     "output_type": "execute_result"
    }
   ],
   "source": [
    "MB2018.NAICS.value_counts()"
   ]
  },
  {
   "cell_type": "markdown",
   "id": "f4d8034c",
   "metadata": {},
   "source": [
    "### Top 5 Sectors: (1) Professional/Scientific/Technical Servicess, (2) Accommodation and Food Services, (3) Retail Trade (4)Administrative and Support and Waste Management and Remediation Services,  (5) Manufacturing"
   ]
  },
  {
   "cell_type": "markdown",
   "id": "6dce6c9a",
   "metadata": {},
   "source": [
    "## 2019"
   ]
  },
  {
   "cell_type": "code",
   "execution_count": 140,
   "id": "66a0db4a",
   "metadata": {
    "scrolled": true
   },
   "outputs": [
    {
     "data": {
      "text/plain": [
       "0     639\n",
       "54    420\n",
       "31    417\n",
       "23    406\n",
       "51    405\n",
       "56    404\n",
       "44    402\n",
       "72    401\n",
       "62    400\n",
       "48    394\n",
       "53    390\n",
       "81    385\n",
       "42    382\n",
       "52    368\n",
       "71    353\n",
       "21    337\n",
       "55    333\n",
       "61    321\n",
       "22    293\n",
       "11    290\n",
       "99    289\n",
       "42     20\n",
       "Name: NAICS, dtype: int64"
      ]
     },
     "execution_count": 140,
     "metadata": {},
     "output_type": "execute_result"
    }
   ],
   "source": [
    "MB2019.NAICS.value_counts()"
   ]
  },
  {
   "cell_type": "markdown",
   "id": "9442bae1",
   "metadata": {},
   "source": [
    "### Top 5 Sectors: (1) Professional, scientific, and Technical Services, (2) Manufacturing, (3) Construction, (4) Information, (5) Administrative and Support and Waste Management and Remediation Services"
   ]
  },
  {
   "cell_type": "markdown",
   "id": "9469da80",
   "metadata": {},
   "source": [
    "## 2020"
   ]
  },
  {
   "cell_type": "code",
   "execution_count": 141,
   "id": "fc8c3ef0",
   "metadata": {
    "scrolled": true
   },
   "outputs": [
    {
     "data": {
      "text/plain": [
       "0     135\n",
       "56    134\n",
       "54    133\n",
       "31    132\n",
       "72    131\n",
       "42    129\n",
       "23    129\n",
       "48    128\n",
       "44    128\n",
       "62    127\n",
       "51    126\n",
       "81    118\n",
       "55    115\n",
       "52    113\n",
       "53    113\n",
       "71    112\n",
       "61    109\n",
       "21    103\n",
       "11    102\n",
       "22     92\n",
       "99     81\n",
       "Name: NAICS, dtype: int64"
      ]
     },
     "execution_count": 141,
     "metadata": {},
     "output_type": "execute_result"
    }
   ],
   "source": [
    "MB2020.NAICS.value_counts()"
   ]
  },
  {
   "cell_type": "markdown",
   "id": "ba48d3d2",
   "metadata": {},
   "source": [
    "### Top 5 Sectors: (1) Administrative and Support and Waste Management and Remediation Services, (2) Professional, Scientific, and Technical Services, (3) Manufacturing, (4) Accomodation and Food Services, (5) Wholesale Trade"
   ]
  },
  {
   "cell_type": "markdown",
   "id": "7569e730",
   "metadata": {},
   "source": [
    "# Convert datatype to integer "
   ]
  },
  {
   "cell_type": "code",
   "execution_count": 150,
   "id": "45c56581",
   "metadata": {},
   "outputs": [],
   "source": [
    "MB2018_1 = MB2018.apply(pd.to_numeric, errors='coerce')"
   ]
  },
  {
   "cell_type": "code",
   "execution_count": 151,
   "id": "a3843272",
   "metadata": {},
   "outputs": [
    {
     "name": "stdout",
     "output_type": "stream",
     "text": [
      "<class 'pandas.core.frame.DataFrame'>\n",
      "Int64Index: 4555 entries, 19 to 26312\n",
      "Data columns (total 7 columns):\n",
      " #   Column            Non-Null Count  Dtype  \n",
      "---  ------            --------------  -----  \n",
      " 0   NAICS             4555 non-null   int64  \n",
      " 1   Owners_Sex        4555 non-null   int64  \n",
      " 2   Owners_Ethnicity  4555 non-null   int64  \n",
      " 3   Owners_Race       4555 non-null   int64  \n",
      " 4   Year              4555 non-null   int64  \n",
      " 5   Sales             3424 non-null   float64\n",
      " 6   Employees         3424 non-null   float64\n",
      "dtypes: float64(2), int64(5)\n",
      "memory usage: 284.7 KB\n"
     ]
    }
   ],
   "source": [
    "MB2018_1.info()"
   ]
  },
  {
   "cell_type": "code",
   "execution_count": 152,
   "id": "fdc3d114",
   "metadata": {},
   "outputs": [],
   "source": [
    "MB2019_1 = MB2019.apply(pd.to_numeric, errors='coerce')"
   ]
  },
  {
   "cell_type": "code",
   "execution_count": 153,
   "id": "dba634f1",
   "metadata": {},
   "outputs": [
    {
     "name": "stdout",
     "output_type": "stream",
     "text": [
      "<class 'pandas.core.frame.DataFrame'>\n",
      "Int64Index: 8049 entries, 17 to 48697\n",
      "Data columns (total 7 columns):\n",
      " #   Column            Non-Null Count  Dtype  \n",
      "---  ------            --------------  -----  \n",
      " 0   NAICS             8049 non-null   int64  \n",
      " 1   Owners_Sex        8049 non-null   int64  \n",
      " 2   Owners_Ethnicity  8049 non-null   int64  \n",
      " 3   Owners_Race       8049 non-null   int64  \n",
      " 4   Year              8049 non-null   int64  \n",
      " 5   Sales             424 non-null    float64\n",
      " 6   Employees         5903 non-null   float64\n",
      "dtypes: float64(2), int64(5)\n",
      "memory usage: 503.1 KB\n"
     ]
    }
   ],
   "source": [
    "MB2019_1.info()"
   ]
  },
  {
   "cell_type": "code",
   "execution_count": 154,
   "id": "06f8a1b1",
   "metadata": {},
   "outputs": [],
   "source": [
    "MB2020_1 = MB2020.apply(pd.to_numeric, errors='coerce')"
   ]
  },
  {
   "cell_type": "code",
   "execution_count": 155,
   "id": "857a2bc4",
   "metadata": {},
   "outputs": [
    {
     "name": "stdout",
     "output_type": "stream",
     "text": [
      "<class 'pandas.core.frame.DataFrame'>\n",
      "Int64Index: 2490 entries, 19 to 15229\n",
      "Data columns (total 7 columns):\n",
      " #   Column            Non-Null Count  Dtype  \n",
      "---  ------            --------------  -----  \n",
      " 0   NAICS             2490 non-null   int64  \n",
      " 1   Owners_Sex        2490 non-null   int64  \n",
      " 2   Owners_Ethnicity  2490 non-null   int64  \n",
      " 3   Owners_Race       2490 non-null   int64  \n",
      " 4   Year              2490 non-null   int64  \n",
      " 5   Sales             126 non-null    float64\n",
      " 6   Employees         1678 non-null   float64\n",
      "dtypes: float64(2), int64(5)\n",
      "memory usage: 155.6 KB\n"
     ]
    }
   ],
   "source": [
    "MB2020_1.info()"
   ]
  },
  {
   "cell_type": "markdown",
   "id": "21e1331f",
   "metadata": {},
   "source": [
    "# Total And Average Sales For Male Businesses Each Year"
   ]
  },
  {
   "cell_type": "markdown",
   "id": "46cb3c6c",
   "metadata": {},
   "source": [
    "## 2018"
   ]
  },
  {
   "cell_type": "code",
   "execution_count": 156,
   "id": "071dda4e",
   "metadata": {},
   "outputs": [],
   "source": [
    "MBSales18 = MB2018_1['Sales']"
   ]
  },
  {
   "cell_type": "code",
   "execution_count": 157,
   "id": "e33ddebc",
   "metadata": {},
   "outputs": [],
   "source": [
    "MBSales18_total = MBSales18.sum()"
   ]
  },
  {
   "cell_type": "code",
   "execution_count": 158,
   "id": "02e2a714",
   "metadata": {},
   "outputs": [
    {
     "data": {
      "text/plain": [
       "101604980775.0"
      ]
     },
     "execution_count": 158,
     "metadata": {},
     "output_type": "execute_result"
    }
   ],
   "source": [
    "MBSales18_total"
   ]
  },
  {
   "cell_type": "markdown",
   "id": "d053a135",
   "metadata": {},
   "source": [
    "### Total Sales for Men Businesses: 101,604,980,775"
   ]
  },
  {
   "cell_type": "code",
   "execution_count": 159,
   "id": "d95e4175",
   "metadata": {},
   "outputs": [],
   "source": [
    "MBSales18_avg = np.nanmean(MBSales18)"
   ]
  },
  {
   "cell_type": "code",
   "execution_count": 160,
   "id": "77f1583d",
   "metadata": {},
   "outputs": [
    {
     "data": {
      "text/plain": [
       "29674351.861857478"
      ]
     },
     "execution_count": 160,
     "metadata": {},
     "output_type": "execute_result"
    }
   ],
   "source": [
    "MBSales18_avg"
   ]
  },
  {
   "cell_type": "markdown",
   "id": "f60507c5",
   "metadata": {},
   "source": [
    "### Average Sales for Men Businesses: 29,674,352"
   ]
  },
  {
   "cell_type": "markdown",
   "id": "a71e5d97",
   "metadata": {},
   "source": [
    "## 2019"
   ]
  },
  {
   "cell_type": "code",
   "execution_count": 161,
   "id": "24a87133",
   "metadata": {},
   "outputs": [],
   "source": [
    "MBSales19 = MB2019_1['Sales']"
   ]
  },
  {
   "cell_type": "code",
   "execution_count": 162,
   "id": "ef5e17e2",
   "metadata": {},
   "outputs": [],
   "source": [
    "MBSales19_total = MBSales19.sum()"
   ]
  },
  {
   "cell_type": "code",
   "execution_count": 163,
   "id": "6bb8071a",
   "metadata": {},
   "outputs": [
    {
     "data": {
      "text/plain": [
       "534180747284.0"
      ]
     },
     "execution_count": 163,
     "metadata": {},
     "output_type": "execute_result"
    }
   ],
   "source": [
    "MBSales19_total"
   ]
  },
  {
   "cell_type": "markdown",
   "id": "2bdfa264",
   "metadata": {},
   "source": [
    "### Total Sales for Men Businesses: 534,180,747,284"
   ]
  },
  {
   "cell_type": "code",
   "execution_count": 164,
   "id": "8f18ed4a",
   "metadata": {},
   "outputs": [],
   "source": [
    "MBSales19_avg = np.nanmean(MBSales19)"
   ]
  },
  {
   "cell_type": "code",
   "execution_count": 165,
   "id": "e6d3a032",
   "metadata": {},
   "outputs": [
    {
     "data": {
      "text/plain": [
       "1259860253.028302"
      ]
     },
     "execution_count": 165,
     "metadata": {},
     "output_type": "execute_result"
    }
   ],
   "source": [
    "MBSales19_avg"
   ]
  },
  {
   "cell_type": "markdown",
   "id": "08b5488e",
   "metadata": {},
   "source": [
    "### Average Sales for Men Businesses: 1,259,860,253"
   ]
  },
  {
   "cell_type": "markdown",
   "id": "87a89c3d",
   "metadata": {},
   "source": [
    "## 2020"
   ]
  },
  {
   "cell_type": "code",
   "execution_count": 166,
   "id": "26f629b7",
   "metadata": {},
   "outputs": [],
   "source": [
    "MBSales20 = MB2020_1['Sales']"
   ]
  },
  {
   "cell_type": "code",
   "execution_count": 167,
   "id": "ad09b5da",
   "metadata": {},
   "outputs": [],
   "source": [
    "MBSales20_total = MBSales20.sum()"
   ]
  },
  {
   "cell_type": "code",
   "execution_count": 168,
   "id": "e72030f7",
   "metadata": {},
   "outputs": [
    {
     "data": {
      "text/plain": [
       "59065355954.0"
      ]
     },
     "execution_count": 168,
     "metadata": {},
     "output_type": "execute_result"
    }
   ],
   "source": [
    "MBSales20_total"
   ]
  },
  {
   "cell_type": "markdown",
   "id": "4add00e9",
   "metadata": {},
   "source": [
    "### Total Sales for Men Businesses: 59,065,355,954"
   ]
  },
  {
   "cell_type": "code",
   "execution_count": 169,
   "id": "5f003eab",
   "metadata": {},
   "outputs": [],
   "source": [
    "MBSales20_avg = np.nanmean(MBSales20)"
   ]
  },
  {
   "cell_type": "code",
   "execution_count": 170,
   "id": "8eea9d78",
   "metadata": {},
   "outputs": [
    {
     "data": {
      "text/plain": [
       "468772666.3015873"
      ]
     },
     "execution_count": 170,
     "metadata": {},
     "output_type": "execute_result"
    }
   ],
   "source": [
    "MBSales20_avg "
   ]
  },
  {
   "cell_type": "markdown",
   "id": "c6c816bf",
   "metadata": {},
   "source": [
    "### Average Sales for Men Businesses: 468,772,666"
   ]
  },
  {
   "cell_type": "markdown",
   "id": "7d42db1f",
   "metadata": {},
   "source": [
    "# Avg Growth Rate 2018 - 2020"
   ]
  },
  {
   "cell_type": "code",
   "execution_count": 1,
   "id": "1f7bb580",
   "metadata": {},
   "outputs": [],
   "source": [
    "MBSales_avgrowth = (468772666/29674352)-1**100"
   ]
  },
  {
   "cell_type": "code",
   "execution_count": 2,
   "id": "e62957fb",
   "metadata": {
    "scrolled": true
   },
   "outputs": [
    {
     "data": {
      "text/plain": [
       "14.797233449276332"
      ]
     },
     "execution_count": 2,
     "metadata": {},
     "output_type": "execute_result"
    }
   ],
   "source": [
    "MBSales_avgrowth"
   ]
  },
  {
   "cell_type": "markdown",
   "id": "b0fecbf2",
   "metadata": {},
   "source": [
    "### Average Male Business Sales Growth is 14.80%"
   ]
  },
  {
   "cell_type": "code",
   "execution_count": null,
   "id": "dcd1e95f",
   "metadata": {},
   "outputs": [],
   "source": []
  },
  {
   "cell_type": "markdown",
   "id": "09c75262",
   "metadata": {},
   "source": [
    "# Filter Female Owned Businesses Only"
   ]
  },
  {
   "cell_type": "markdown",
   "id": "f02b4295",
   "metadata": {},
   "source": [
    "## 2018"
   ]
  },
  {
   "cell_type": "code",
   "execution_count": 206,
   "id": "07ce8aab",
   "metadata": {},
   "outputs": [],
   "source": [
    "WB2018 = B2018_1[(B2018_1['Owners_Sex'].isin(['2']))]"
   ]
  },
  {
   "cell_type": "code",
   "execution_count": 207,
   "id": "c139b1ff",
   "metadata": {},
   "outputs": [
    {
     "data": {
      "text/html": [
       "<div>\n",
       "<style scoped>\n",
       "    .dataframe tbody tr th:only-of-type {\n",
       "        vertical-align: middle;\n",
       "    }\n",
       "\n",
       "    .dataframe tbody tr th {\n",
       "        vertical-align: top;\n",
       "    }\n",
       "\n",
       "    .dataframe thead th {\n",
       "        text-align: right;\n",
       "    }\n",
       "</style>\n",
       "<table border=\"1\" class=\"dataframe\">\n",
       "  <thead>\n",
       "    <tr style=\"text-align: right;\">\n",
       "      <th></th>\n",
       "      <th>NAICS</th>\n",
       "      <th>Owners_Sex</th>\n",
       "      <th>Owners_Ethnicity</th>\n",
       "      <th>Owners_Race</th>\n",
       "      <th>Year</th>\n",
       "      <th>Sales</th>\n",
       "      <th>Employees</th>\n",
       "    </tr>\n",
       "  </thead>\n",
       "  <tbody>\n",
       "    <tr>\n",
       "      <th>10</th>\n",
       "      <td>0</td>\n",
       "      <td>2</td>\n",
       "      <td>1</td>\n",
       "      <td>0</td>\n",
       "      <td>2017</td>\n",
       "      <td>36812734</td>\n",
       "      <td>0</td>\n",
       "    </tr>\n",
       "    <tr>\n",
       "      <th>11</th>\n",
       "      <td>0</td>\n",
       "      <td>2</td>\n",
       "      <td>1</td>\n",
       "      <td>0</td>\n",
       "      <td>2017</td>\n",
       "      <td>198569002</td>\n",
       "      <td>1175259</td>\n",
       "    </tr>\n",
       "    <tr>\n",
       "      <th>12</th>\n",
       "      <td>0</td>\n",
       "      <td>2</td>\n",
       "      <td>1</td>\n",
       "      <td>0</td>\n",
       "      <td>2017</td>\n",
       "      <td>171844455</td>\n",
       "      <td>1204041</td>\n",
       "    </tr>\n",
       "    <tr>\n",
       "      <th>13</th>\n",
       "      <td>0</td>\n",
       "      <td>2</td>\n",
       "      <td>1</td>\n",
       "      <td>0</td>\n",
       "      <td>2017</td>\n",
       "      <td>197197685</td>\n",
       "      <td>1491334</td>\n",
       "    </tr>\n",
       "    <tr>\n",
       "      <th>14</th>\n",
       "      <td>0</td>\n",
       "      <td>2</td>\n",
       "      <td>1</td>\n",
       "      <td>0</td>\n",
       "      <td>2017</td>\n",
       "      <td>256368241</td>\n",
       "      <td>1898285</td>\n",
       "    </tr>\n",
       "  </tbody>\n",
       "</table>\n",
       "</div>"
      ],
      "text/plain": [
       "   NAICS Owners_Sex Owners_Ethnicity Owners_Race  Year      Sales Employees\n",
       "10     0          2                1           0  2017   36812734         0\n",
       "11     0          2                1           0  2017  198569002   1175259\n",
       "12     0          2                1           0  2017  171844455   1204041\n",
       "13     0          2                1           0  2017  197197685   1491334\n",
       "14     0          2                1           0  2017  256368241   1898285"
      ]
     },
     "execution_count": 207,
     "metadata": {},
     "output_type": "execute_result"
    }
   ],
   "source": [
    "WB2018.head()"
   ]
  },
  {
   "cell_type": "markdown",
   "id": "c0a9a5f4",
   "metadata": {},
   "source": [
    "## 2019"
   ]
  },
  {
   "cell_type": "code",
   "execution_count": 208,
   "id": "1f930f80",
   "metadata": {},
   "outputs": [],
   "source": [
    "WB2019 = B2019_1[(B2019_1['Owners_Sex'].isin(['2', 2]))]"
   ]
  },
  {
   "cell_type": "code",
   "execution_count": 209,
   "id": "b38dc315",
   "metadata": {},
   "outputs": [
    {
     "data": {
      "text/html": [
       "<div>\n",
       "<style scoped>\n",
       "    .dataframe tbody tr th:only-of-type {\n",
       "        vertical-align: middle;\n",
       "    }\n",
       "\n",
       "    .dataframe tbody tr th {\n",
       "        vertical-align: top;\n",
       "    }\n",
       "\n",
       "    .dataframe thead th {\n",
       "        text-align: right;\n",
       "    }\n",
       "</style>\n",
       "<table border=\"1\" class=\"dataframe\">\n",
       "  <thead>\n",
       "    <tr style=\"text-align: right;\">\n",
       "      <th></th>\n",
       "      <th>NAICS</th>\n",
       "      <th>Owners_Sex</th>\n",
       "      <th>Owners_Ethnicity</th>\n",
       "      <th>Owners_Race</th>\n",
       "      <th>Year</th>\n",
       "      <th>Sales</th>\n",
       "      <th>Employees</th>\n",
       "    </tr>\n",
       "  </thead>\n",
       "  <tbody>\n",
       "    <tr>\n",
       "      <th>9</th>\n",
       "      <td>0</td>\n",
       "      <td>2</td>\n",
       "      <td>1</td>\n",
       "      <td>0</td>\n",
       "      <td>2018</td>\n",
       "      <td>1776835350</td>\n",
       "      <td>10149257</td>\n",
       "    </tr>\n",
       "    <tr>\n",
       "      <th>10</th>\n",
       "      <td>0</td>\n",
       "      <td>2</td>\n",
       "      <td>1</td>\n",
       "      <td>0</td>\n",
       "      <td>2018</td>\n",
       "      <td>282385501</td>\n",
       "      <td>2150147</td>\n",
       "    </tr>\n",
       "    <tr>\n",
       "      <th>11</th>\n",
       "      <td>0</td>\n",
       "      <td>2</td>\n",
       "      <td>1</td>\n",
       "      <td>0</td>\n",
       "      <td>2018</td>\n",
       "      <td>267427453</td>\n",
       "      <td>1499541</td>\n",
       "    </tr>\n",
       "    <tr>\n",
       "      <th>12</th>\n",
       "      <td>0</td>\n",
       "      <td>2</td>\n",
       "      <td>1</td>\n",
       "      <td>0</td>\n",
       "      <td>2018</td>\n",
       "      <td>31555727</td>\n",
       "      <td>127916</td>\n",
       "    </tr>\n",
       "    <tr>\n",
       "      <th>13</th>\n",
       "      <td>0</td>\n",
       "      <td>2</td>\n",
       "      <td>1</td>\n",
       "      <td>0</td>\n",
       "      <td>2018</td>\n",
       "      <td>S</td>\n",
       "      <td>25,000 to 49,999 employees</td>\n",
       "    </tr>\n",
       "  </tbody>\n",
       "</table>\n",
       "</div>"
      ],
      "text/plain": [
       "   NAICS Owners_Sex Owners_Ethnicity Owners_Race  Year       Sales  \\\n",
       "9      0          2                1           0  2018  1776835350   \n",
       "10     0          2                1           0  2018   282385501   \n",
       "11     0          2                1           0  2018   267427453   \n",
       "12     0          2                1           0  2018    31555727   \n",
       "13     0          2                1           0  2018           S   \n",
       "\n",
       "                     Employees  \n",
       "9                     10149257  \n",
       "10                     2150147  \n",
       "11                     1499541  \n",
       "12                      127916  \n",
       "13  25,000 to 49,999 employees  "
      ]
     },
     "execution_count": 209,
     "metadata": {},
     "output_type": "execute_result"
    }
   ],
   "source": [
    "WB2019.head()"
   ]
  },
  {
   "cell_type": "markdown",
   "id": "5b119c8b",
   "metadata": {},
   "source": [
    "## 2020"
   ]
  },
  {
   "cell_type": "code",
   "execution_count": 210,
   "id": "1d28ee58",
   "metadata": {},
   "outputs": [],
   "source": [
    "WB2020 = B2020_1[(B2020_1['Owners_Sex'].isin(['2']))]"
   ]
  },
  {
   "cell_type": "code",
   "execution_count": 211,
   "id": "a7fa1ec3",
   "metadata": {
    "scrolled": true
   },
   "outputs": [
    {
     "data": {
      "text/html": [
       "<div>\n",
       "<style scoped>\n",
       "    .dataframe tbody tr th:only-of-type {\n",
       "        vertical-align: middle;\n",
       "    }\n",
       "\n",
       "    .dataframe tbody tr th {\n",
       "        vertical-align: top;\n",
       "    }\n",
       "\n",
       "    .dataframe thead th {\n",
       "        text-align: right;\n",
       "    }\n",
       "</style>\n",
       "<table border=\"1\" class=\"dataframe\">\n",
       "  <thead>\n",
       "    <tr style=\"text-align: right;\">\n",
       "      <th></th>\n",
       "      <th>NAICS</th>\n",
       "      <th>Owners_Sex</th>\n",
       "      <th>Owners_Ethnicity</th>\n",
       "      <th>Owners_Race</th>\n",
       "      <th>Year</th>\n",
       "      <th>Sales</th>\n",
       "      <th>Employees</th>\n",
       "    </tr>\n",
       "  </thead>\n",
       "  <tbody>\n",
       "    <tr>\n",
       "      <th>10</th>\n",
       "      <td>0</td>\n",
       "      <td>2</td>\n",
       "      <td>1</td>\n",
       "      <td>0</td>\n",
       "      <td>2019</td>\n",
       "      <td>47463228</td>\n",
       "      <td>0</td>\n",
       "    </tr>\n",
       "    <tr>\n",
       "      <th>11</th>\n",
       "      <td>0</td>\n",
       "      <td>2</td>\n",
       "      <td>1</td>\n",
       "      <td>0</td>\n",
       "      <td>2019</td>\n",
       "      <td>222730769</td>\n",
       "      <td>1221369</td>\n",
       "    </tr>\n",
       "    <tr>\n",
       "      <th>12</th>\n",
       "      <td>0</td>\n",
       "      <td>2</td>\n",
       "      <td>1</td>\n",
       "      <td>0</td>\n",
       "      <td>2019</td>\n",
       "      <td>179280512</td>\n",
       "      <td>1318130</td>\n",
       "    </tr>\n",
       "    <tr>\n",
       "      <th>13</th>\n",
       "      <td>0</td>\n",
       "      <td>2</td>\n",
       "      <td>1</td>\n",
       "      <td>0</td>\n",
       "      <td>2019</td>\n",
       "      <td>218176483</td>\n",
       "      <td>1610482</td>\n",
       "    </tr>\n",
       "    <tr>\n",
       "      <th>14</th>\n",
       "      <td>0</td>\n",
       "      <td>2</td>\n",
       "      <td>1</td>\n",
       "      <td>0</td>\n",
       "      <td>2019</td>\n",
       "      <td>301700718</td>\n",
       "      <td>2120580</td>\n",
       "    </tr>\n",
       "  </tbody>\n",
       "</table>\n",
       "</div>"
      ],
      "text/plain": [
       "   NAICS Owners_Sex Owners_Ethnicity Owners_Race  Year      Sales Employees\n",
       "10     0          2                1           0  2019   47463228         0\n",
       "11     0          2                1           0  2019  222730769   1221369\n",
       "12     0          2                1           0  2019  179280512   1318130\n",
       "13     0          2                1           0  2019  218176483   1610482\n",
       "14     0          2                1           0  2019  301700718   2120580"
      ]
     },
     "execution_count": 211,
     "metadata": {},
     "output_type": "execute_result"
    }
   ],
   "source": [
    "WB2020.head()"
   ]
  },
  {
   "cell_type": "markdown",
   "id": "648c8edf",
   "metadata": {},
   "source": [
    "# Convert datatype to integer "
   ]
  },
  {
   "cell_type": "markdown",
   "id": "c569cace",
   "metadata": {},
   "source": [
    "## 2018"
   ]
  },
  {
   "cell_type": "code",
   "execution_count": 212,
   "id": "ec481376",
   "metadata": {},
   "outputs": [],
   "source": [
    "WB2018_1 = WB2018.apply(pd.to_numeric, errors='coerce')"
   ]
  },
  {
   "cell_type": "code",
   "execution_count": 213,
   "id": "315a5f45",
   "metadata": {},
   "outputs": [
    {
     "data": {
      "text/html": [
       "<div>\n",
       "<style scoped>\n",
       "    .dataframe tbody tr th:only-of-type {\n",
       "        vertical-align: middle;\n",
       "    }\n",
       "\n",
       "    .dataframe tbody tr th {\n",
       "        vertical-align: top;\n",
       "    }\n",
       "\n",
       "    .dataframe thead th {\n",
       "        text-align: right;\n",
       "    }\n",
       "</style>\n",
       "<table border=\"1\" class=\"dataframe\">\n",
       "  <thead>\n",
       "    <tr style=\"text-align: right;\">\n",
       "      <th></th>\n",
       "      <th>NAICS</th>\n",
       "      <th>Owners_Sex</th>\n",
       "      <th>Owners_Ethnicity</th>\n",
       "      <th>Owners_Race</th>\n",
       "      <th>Year</th>\n",
       "      <th>Sales</th>\n",
       "      <th>Employees</th>\n",
       "    </tr>\n",
       "  </thead>\n",
       "  <tbody>\n",
       "    <tr>\n",
       "      <th>10</th>\n",
       "      <td>0</td>\n",
       "      <td>2</td>\n",
       "      <td>1</td>\n",
       "      <td>0</td>\n",
       "      <td>2017</td>\n",
       "      <td>36812734.0</td>\n",
       "      <td>0.0</td>\n",
       "    </tr>\n",
       "    <tr>\n",
       "      <th>11</th>\n",
       "      <td>0</td>\n",
       "      <td>2</td>\n",
       "      <td>1</td>\n",
       "      <td>0</td>\n",
       "      <td>2017</td>\n",
       "      <td>198569002.0</td>\n",
       "      <td>1175259.0</td>\n",
       "    </tr>\n",
       "    <tr>\n",
       "      <th>12</th>\n",
       "      <td>0</td>\n",
       "      <td>2</td>\n",
       "      <td>1</td>\n",
       "      <td>0</td>\n",
       "      <td>2017</td>\n",
       "      <td>171844455.0</td>\n",
       "      <td>1204041.0</td>\n",
       "    </tr>\n",
       "    <tr>\n",
       "      <th>13</th>\n",
       "      <td>0</td>\n",
       "      <td>2</td>\n",
       "      <td>1</td>\n",
       "      <td>0</td>\n",
       "      <td>2017</td>\n",
       "      <td>197197685.0</td>\n",
       "      <td>1491334.0</td>\n",
       "    </tr>\n",
       "    <tr>\n",
       "      <th>14</th>\n",
       "      <td>0</td>\n",
       "      <td>2</td>\n",
       "      <td>1</td>\n",
       "      <td>0</td>\n",
       "      <td>2017</td>\n",
       "      <td>256368241.0</td>\n",
       "      <td>1898285.0</td>\n",
       "    </tr>\n",
       "  </tbody>\n",
       "</table>\n",
       "</div>"
      ],
      "text/plain": [
       "    NAICS  Owners_Sex  Owners_Ethnicity  Owners_Race  Year        Sales  \\\n",
       "10      0           2                 1            0  2017   36812734.0   \n",
       "11      0           2                 1            0  2017  198569002.0   \n",
       "12      0           2                 1            0  2017  171844455.0   \n",
       "13      0           2                 1            0  2017  197197685.0   \n",
       "14      0           2                 1            0  2017  256368241.0   \n",
       "\n",
       "    Employees  \n",
       "10        0.0  \n",
       "11  1175259.0  \n",
       "12  1204041.0  \n",
       "13  1491334.0  \n",
       "14  1898285.0  "
      ]
     },
     "execution_count": 213,
     "metadata": {},
     "output_type": "execute_result"
    }
   ],
   "source": [
    "WB2018_1.head()"
   ]
  },
  {
   "cell_type": "markdown",
   "id": "bb08f2e0",
   "metadata": {},
   "source": [
    "## 2019"
   ]
  },
  {
   "cell_type": "code",
   "execution_count": 214,
   "id": "076565fb",
   "metadata": {},
   "outputs": [],
   "source": [
    "WB2019_1 = WB2019.apply(pd.to_numeric, errors='coerce')"
   ]
  },
  {
   "cell_type": "code",
   "execution_count": 215,
   "id": "128cea5d",
   "metadata": {},
   "outputs": [
    {
     "name": "stdout",
     "output_type": "stream",
     "text": [
      "<class 'pandas.core.frame.DataFrame'>\n",
      "Int64Index: 6837 entries, 9 to 48692\n",
      "Data columns (total 7 columns):\n",
      " #   Column            Non-Null Count  Dtype  \n",
      "---  ------            --------------  -----  \n",
      " 0   NAICS             6837 non-null   int64  \n",
      " 1   Owners_Sex        6837 non-null   int64  \n",
      " 2   Owners_Ethnicity  6837 non-null   int64  \n",
      " 3   Owners_Race       6837 non-null   int64  \n",
      " 4   Year              6837 non-null   int64  \n",
      " 5   Sales             379 non-null    float64\n",
      " 6   Employees         4470 non-null   float64\n",
      "dtypes: float64(2), int64(5)\n",
      "memory usage: 427.3 KB\n"
     ]
    }
   ],
   "source": [
    "WB2019_1.info()"
   ]
  },
  {
   "cell_type": "markdown",
   "id": "3eb11453",
   "metadata": {},
   "source": [
    "## 2020"
   ]
  },
  {
   "cell_type": "code",
   "execution_count": 216,
   "id": "46bba9d6",
   "metadata": {},
   "outputs": [],
   "source": [
    "WB2020_1 = WB2020.apply(pd.to_numeric, errors='coerce')"
   ]
  },
  {
   "cell_type": "code",
   "execution_count": 217,
   "id": "cc519866",
   "metadata": {},
   "outputs": [
    {
     "name": "stdout",
     "output_type": "stream",
     "text": [
      "<class 'pandas.core.frame.DataFrame'>\n",
      "Int64Index: 2044 entries, 10 to 15220\n",
      "Data columns (total 7 columns):\n",
      " #   Column            Non-Null Count  Dtype  \n",
      "---  ------            --------------  -----  \n",
      " 0   NAICS             2044 non-null   int64  \n",
      " 1   Owners_Sex        2044 non-null   int64  \n",
      " 2   Owners_Ethnicity  2044 non-null   int64  \n",
      " 3   Owners_Race       2044 non-null   int64  \n",
      " 4   Year              2044 non-null   int64  \n",
      " 5   Sales             102 non-null    float64\n",
      " 6   Employees         1192 non-null   float64\n",
      "dtypes: float64(2), int64(5)\n",
      "memory usage: 127.8 KB\n"
     ]
    }
   ],
   "source": [
    "WB2020_1.info()"
   ]
  },
  {
   "cell_type": "markdown",
   "id": "cd8ec982",
   "metadata": {},
   "source": [
    "# Total And Average Sales For Women Businesses Each Year\n"
   ]
  },
  {
   "cell_type": "markdown",
   "id": "69939b64",
   "metadata": {},
   "source": [
    "## 2018"
   ]
  },
  {
   "cell_type": "code",
   "execution_count": 218,
   "id": "0083c587",
   "metadata": {},
   "outputs": [],
   "source": [
    "WBSales18 = WB2018_1['Sales']"
   ]
  },
  {
   "cell_type": "code",
   "execution_count": 222,
   "id": "72c032dc",
   "metadata": {},
   "outputs": [],
   "source": [
    "WBSales18_total = WBSales18.sum()"
   ]
  },
  {
   "cell_type": "code",
   "execution_count": 223,
   "id": "bb1523b0",
   "metadata": {},
   "outputs": [
    {
     "data": {
      "text/plain": [
       "15216198775.0"
      ]
     },
     "execution_count": 223,
     "metadata": {},
     "output_type": "execute_result"
    }
   ],
   "source": [
    "WBSales18_total"
   ]
  },
  {
   "cell_type": "markdown",
   "id": "565706e2",
   "metadata": {},
   "source": [
    "### Total Women Sales for 2018 is 15,216,198,775"
   ]
  },
  {
   "cell_type": "code",
   "execution_count": 224,
   "id": "55217bce",
   "metadata": {
    "scrolled": true
   },
   "outputs": [],
   "source": [
    "WBSales18_avg = np.nanmean(WBSales18)"
   ]
  },
  {
   "cell_type": "code",
   "execution_count": 225,
   "id": "b55e19aa",
   "metadata": {},
   "outputs": [
    {
     "data": {
      "text/plain": [
       "6282493.300990917"
      ]
     },
     "execution_count": 225,
     "metadata": {},
     "output_type": "execute_result"
    }
   ],
   "source": [
    "WBSales18_avg"
   ]
  },
  {
   "cell_type": "markdown",
   "id": "51248468",
   "metadata": {},
   "source": [
    "### Average Women Sales for 2018 is 6,282,493"
   ]
  },
  {
   "cell_type": "markdown",
   "id": "0043604f",
   "metadata": {},
   "source": [
    "## 2019"
   ]
  },
  {
   "cell_type": "code",
   "execution_count": 230,
   "id": "9c7e14ba",
   "metadata": {},
   "outputs": [],
   "source": [
    "WBSales19 = WB2019_1['Sales']"
   ]
  },
  {
   "cell_type": "code",
   "execution_count": 231,
   "id": "ca4875f5",
   "metadata": {},
   "outputs": [],
   "source": [
    "WBSales19_total = WBSales19.sum()"
   ]
  },
  {
   "cell_type": "code",
   "execution_count": 232,
   "id": "e1ea8d33",
   "metadata": {},
   "outputs": [
    {
     "data": {
      "text/plain": [
       "84848555047.0"
      ]
     },
     "execution_count": 232,
     "metadata": {},
     "output_type": "execute_result"
    }
   ],
   "source": [
    "WBSales19_total"
   ]
  },
  {
   "cell_type": "markdown",
   "id": "f2b1f790",
   "metadata": {},
   "source": [
    "### Total Women Sales for 2019 is  84,848,555,047"
   ]
  },
  {
   "cell_type": "code",
   "execution_count": 233,
   "id": "e5656a2f",
   "metadata": {},
   "outputs": [],
   "source": [
    "WBSales19_avg = np.nanmean(WBSales19)"
   ]
  },
  {
   "cell_type": "code",
   "execution_count": 234,
   "id": "9a5ce8b0",
   "metadata": {},
   "outputs": [
    {
     "data": {
      "text/plain": [
       "223874815.42744064"
      ]
     },
     "execution_count": 234,
     "metadata": {},
     "output_type": "execute_result"
    }
   ],
   "source": [
    "WBSales19_avg"
   ]
  },
  {
   "cell_type": "markdown",
   "id": "7825f526",
   "metadata": {},
   "source": [
    "### Average Women Sales for 2019  is 223,874,815"
   ]
  },
  {
   "cell_type": "markdown",
   "id": "046efecd",
   "metadata": {},
   "source": [
    "## 2020"
   ]
  },
  {
   "cell_type": "code",
   "execution_count": 236,
   "id": "1f5a7cae",
   "metadata": {},
   "outputs": [],
   "source": [
    "WBSales20 = WB2020_1['Sales']"
   ]
  },
  {
   "cell_type": "code",
   "execution_count": 238,
   "id": "9b92edbf",
   "metadata": {},
   "outputs": [],
   "source": [
    "WBSales20_total = WBSales20.sum()"
   ]
  },
  {
   "cell_type": "code",
   "execution_count": 239,
   "id": "e8e263fe",
   "metadata": {},
   "outputs": [
    {
     "data": {
      "text/plain": [
       "9025608065.0"
      ]
     },
     "execution_count": 239,
     "metadata": {},
     "output_type": "execute_result"
    }
   ],
   "source": [
    "WBSales20_total"
   ]
  },
  {
   "cell_type": "markdown",
   "id": "2ae14ace",
   "metadata": {},
   "source": [
    "### Total Women Sales for 2020 9,025,608,065"
   ]
  },
  {
   "cell_type": "code",
   "execution_count": 240,
   "id": "8a5289de",
   "metadata": {},
   "outputs": [],
   "source": [
    "WBSales20_avg = np.nanmean(WBSales20)"
   ]
  },
  {
   "cell_type": "code",
   "execution_count": 241,
   "id": "d900fc2f",
   "metadata": {},
   "outputs": [
    {
     "data": {
      "text/plain": [
       "88486353.57843137"
      ]
     },
     "execution_count": 241,
     "metadata": {},
     "output_type": "execute_result"
    }
   ],
   "source": [
    "WBSales20_avg"
   ]
  },
  {
   "cell_type": "markdown",
   "id": "36382ae2",
   "metadata": {},
   "source": [
    "### Average Women Sales for 2020  is 88,486,354"
   ]
  },
  {
   "cell_type": "markdown",
   "id": "14218f77",
   "metadata": {},
   "source": [
    "# Avg Growth Rate From 2018 -2020"
   ]
  },
  {
   "cell_type": "code",
   "execution_count": 243,
   "id": "19aaf02b",
   "metadata": {},
   "outputs": [],
   "source": [
    "WBSales_avgrowth = (88486354/6282493)-1**100"
   ]
  },
  {
   "cell_type": "code",
   "execution_count": 244,
   "id": "c32da7f6",
   "metadata": {},
   "outputs": [
    {
     "data": {
      "text/plain": [
       "13.084592533569078"
      ]
     },
     "execution_count": 244,
     "metadata": {},
     "output_type": "execute_result"
    }
   ],
   "source": [
    "WBSales_avgrowth"
   ]
  },
  {
   "cell_type": "markdown",
   "id": "734b8967",
   "metadata": {},
   "source": [
    "### Average Male Business Sales Growth is 13.08%"
   ]
  },
  {
   "cell_type": "markdown",
   "id": "f76344f8",
   "metadata": {},
   "source": [
    "## Appending Male Only Datasets"
   ]
  },
  {
   "cell_type": "code",
   "execution_count": 148,
   "id": "d2ec0d22",
   "metadata": {},
   "outputs": [],
   "source": [
    "MBOmega = pd.concat([MB2018_1, MB2019_1, MB2020_1])"
   ]
  },
  {
   "cell_type": "code",
   "execution_count": 149,
   "id": "f5ceedda",
   "metadata": {},
   "outputs": [
    {
     "data": {
      "text/html": [
       "<div>\n",
       "<style scoped>\n",
       "    .dataframe tbody tr th:only-of-type {\n",
       "        vertical-align: middle;\n",
       "    }\n",
       "\n",
       "    .dataframe tbody tr th {\n",
       "        vertical-align: top;\n",
       "    }\n",
       "\n",
       "    .dataframe thead th {\n",
       "        text-align: right;\n",
       "    }\n",
       "</style>\n",
       "<table border=\"1\" class=\"dataframe\">\n",
       "  <thead>\n",
       "    <tr style=\"text-align: right;\">\n",
       "      <th></th>\n",
       "      <th>NAICS</th>\n",
       "      <th>Owners_Sex</th>\n",
       "      <th>Owners_Ethnicity</th>\n",
       "      <th>Owners_Race</th>\n",
       "      <th>Year</th>\n",
       "      <th>Sales</th>\n",
       "      <th>Employees</th>\n",
       "    </tr>\n",
       "  </thead>\n",
       "  <tbody>\n",
       "    <tr>\n",
       "      <th>19</th>\n",
       "      <td>0</td>\n",
       "      <td>3</td>\n",
       "      <td>1</td>\n",
       "      <td>0</td>\n",
       "      <td>2017</td>\n",
       "      <td>1.367354e+08</td>\n",
       "      <td>0.0</td>\n",
       "    </tr>\n",
       "    <tr>\n",
       "      <th>20</th>\n",
       "      <td>0</td>\n",
       "      <td>3</td>\n",
       "      <td>1</td>\n",
       "      <td>0</td>\n",
       "      <td>2017</td>\n",
       "      <td>8.208545e+08</td>\n",
       "      <td>3497846.0</td>\n",
       "    </tr>\n",
       "    <tr>\n",
       "      <th>21</th>\n",
       "      <td>0</td>\n",
       "      <td>3</td>\n",
       "      <td>1</td>\n",
       "      <td>0</td>\n",
       "      <td>2017</td>\n",
       "      <td>8.229130e+08</td>\n",
       "      <td>3832109.0</td>\n",
       "    </tr>\n",
       "    <tr>\n",
       "      <th>22</th>\n",
       "      <td>0</td>\n",
       "      <td>3</td>\n",
       "      <td>1</td>\n",
       "      <td>0</td>\n",
       "      <td>2017</td>\n",
       "      <td>1.001888e+09</td>\n",
       "      <td>4938029.0</td>\n",
       "    </tr>\n",
       "    <tr>\n",
       "      <th>23</th>\n",
       "      <td>0</td>\n",
       "      <td>3</td>\n",
       "      <td>1</td>\n",
       "      <td>0</td>\n",
       "      <td>2017</td>\n",
       "      <td>1.560974e+09</td>\n",
       "      <td>7453989.0</td>\n",
       "    </tr>\n",
       "  </tbody>\n",
       "</table>\n",
       "</div>"
      ],
      "text/plain": [
       "    NAICS  Owners_Sex  Owners_Ethnicity  Owners_Race  Year         Sales  \\\n",
       "19      0           3                 1            0  2017  1.367354e+08   \n",
       "20      0           3                 1            0  2017  8.208545e+08   \n",
       "21      0           3                 1            0  2017  8.229130e+08   \n",
       "22      0           3                 1            0  2017  1.001888e+09   \n",
       "23      0           3                 1            0  2017  1.560974e+09   \n",
       "\n",
       "    Employees  \n",
       "19        0.0  \n",
       "20  3497846.0  \n",
       "21  3832109.0  \n",
       "22  4938029.0  \n",
       "23  7453989.0  "
      ]
     },
     "execution_count": 149,
     "metadata": {},
     "output_type": "execute_result"
    }
   ],
   "source": [
    "MBOmega.head()"
   ]
  },
  {
   "cell_type": "markdown",
   "id": "412f3cf1",
   "metadata": {},
   "source": [
    "## 2018 - 2020"
   ]
  },
  {
   "cell_type": "code",
   "execution_count": 408,
   "id": "e3276445",
   "metadata": {},
   "outputs": [],
   "source": [
    "MBSales = MBOmega['Sales']"
   ]
  },
  {
   "cell_type": "code",
   "execution_count": 409,
   "id": "d8511a6e",
   "metadata": {},
   "outputs": [],
   "source": [
    "MBSales_1 = MBSales.sum()"
   ]
  },
  {
   "cell_type": "code",
   "execution_count": 410,
   "id": "590d0c96",
   "metadata": {},
   "outputs": [
    {
     "data": {
      "text/plain": [
       "694851084013.0"
      ]
     },
     "execution_count": 410,
     "metadata": {},
     "output_type": "execute_result"
    }
   ],
   "source": [
    "MBSales_1"
   ]
  },
  {
   "cell_type": "markdown",
   "id": "a2d6e60c",
   "metadata": {},
   "source": [
    "### Total Sales for Men Businesses For Three Years: 694,851,084,013"
   ]
  },
  {
   "cell_type": "code",
   "execution_count": 411,
   "id": "8428af03",
   "metadata": {},
   "outputs": [],
   "source": [
    "MBSales_avg = np.nanmean(MBSales_1)"
   ]
  },
  {
   "cell_type": "code",
   "execution_count": 412,
   "id": "889d1291",
   "metadata": {},
   "outputs": [
    {
     "data": {
      "text/plain": [
       "694851084013.0"
      ]
     },
     "execution_count": 412,
     "metadata": {},
     "output_type": "execute_result"
    }
   ],
   "source": [
    "MBSales_avg"
   ]
  },
  {
   "cell_type": "markdown",
   "id": "f297c7c6",
   "metadata": {},
   "source": [
    "### The average sales from 2018-2020 are 694,851,084,013"
   ]
  },
  {
   "cell_type": "markdown",
   "id": "76b6d2d1",
   "metadata": {},
   "source": [
    "# Determine t Tests"
   ]
  },
  {
   "cell_type": "code",
   "execution_count": 171,
   "id": "c379a533",
   "metadata": {},
   "outputs": [],
   "source": [
    "from scipy import stats"
   ]
  },
  {
   "cell_type": "code",
   "execution_count": 172,
   "id": "539139fd",
   "metadata": {
    "scrolled": true
   },
   "outputs": [
    {
     "data": {
      "text/plain": [
       "<AxesSubplot:>"
      ]
     },
     "execution_count": 172,
     "metadata": {},
     "output_type": "execute_result"
    },
    {
     "data": {
      "image/png": "[encoded data removed]",
      "text/plain": [
       "<Figure size 432x288 with 1 Axes>"
      ]
     },
     "metadata": {
      "needs_background": "light"
     },
     "output_type": "display_data"
    }
   ],
   "source": [
    "MBOmega['Owners_Race'].hist()"
   ]
  },
  {
   "cell_type": "markdown",
   "id": "595300b3",
   "metadata": {},
   "source": [
    "### Not normally distributed, so does not meet assumption for t-test"
   ]
  },
  {
   "cell_type": "code",
   "execution_count": 174,
   "id": "d312b640",
   "metadata": {},
   "outputs": [
    {
     "data": {
      "text/plain": [
       "<AxesSubplot:>"
      ]
     },
     "execution_count": 174,
     "metadata": {},
     "output_type": "execute_result"
    },
    {
     "data": {
      "image/png": "[encoded data removed]",
      "text/plain": [
       "<Figure size 432x288 with 1 Axes>"
      ]
     },
     "metadata": {
      "needs_background": "light"
     },
     "output_type": "display_data"
    }
   ],
   "source": [
    "MBOmega['Owners_Ethnicity'].hist()"
   ]
  },
  {
   "cell_type": "markdown",
   "id": "167af8ee",
   "metadata": {},
   "source": [
    "### Not normally distributed, so does not meet assumption for t-test"
   ]
  },
  {
   "cell_type": "code",
   "execution_count": 205,
   "id": "d966b962",
   "metadata": {
    "scrolled": false
   },
   "outputs": [
    {
     "data": {
      "text/plain": [
       "<AxesSubplot:>"
      ]
     },
     "execution_count": 205,
     "metadata": {},
     "output_type": "execute_result"
    },
    {
     "data": {
      "image/png": "[encoded data removed]",
      "text/plain": [
       "<Figure size 432x288 with 1 Axes>"
      ]
     },
     "metadata": {
      "needs_background": "light"
     },
     "output_type": "display_data"
    }
   ],
   "source": [
    "MBOmega['Sales'].hist()"
   ]
  },
  {
   "cell_type": "markdown",
   "id": "e4938086",
   "metadata": {},
   "source": [
    "### Not normally distributed, so does not meet assumption for t-test"
   ]
  },
  {
   "cell_type": "code",
   "execution_count": 175,
   "id": "d9078fa1",
   "metadata": {
    "scrolled": true
   },
   "outputs": [
    {
     "data": {
      "text/plain": [
       "<AxesSubplot:>"
      ]
     },
     "execution_count": 175,
     "metadata": {},
     "output_type": "execute_result"
    },
    {
     "data": {
      "image/png": "[encoded data removed]",
      "text/plain": [
       "<Figure size 432x288 with 1 Axes>"
      ]
     },
     "metadata": {
      "needs_background": "light"
     },
     "output_type": "display_data"
    }
   ],
   "source": [
    "MBOmega['NAICS'].hist()"
   ]
  },
  {
   "cell_type": "markdown",
   "id": "c7c83246",
   "metadata": {},
   "source": [
    "### Is normally distributed, so does meet assumption for t-test"
   ]
  },
  {
   "cell_type": "code",
   "execution_count": null,
   "id": "6e5cba13",
   "metadata": {},
   "outputs": [],
   "source": []
  },
  {
   "cell_type": "markdown",
   "id": "bf5bb3b9",
   "metadata": {},
   "source": [
    "# Appending Datasets together"
   ]
  },
  {
   "cell_type": "code",
   "execution_count": 246,
   "id": "af057088",
   "metadata": {},
   "outputs": [],
   "source": [
    "WBOmega = pd.concat([WB2018_1, WB2019_1, WB2020_1])"
   ]
  },
  {
   "cell_type": "code",
   "execution_count": 247,
   "id": "d907fcdf",
   "metadata": {
    "scrolled": true
   },
   "outputs": [
    {
     "data": {
      "text/html": [
       "<div>\n",
       "<style scoped>\n",
       "    .dataframe tbody tr th:only-of-type {\n",
       "        vertical-align: middle;\n",
       "    }\n",
       "\n",
       "    .dataframe tbody tr th {\n",
       "        vertical-align: top;\n",
       "    }\n",
       "\n",
       "    .dataframe thead th {\n",
       "        text-align: right;\n",
       "    }\n",
       "</style>\n",
       "<table border=\"1\" class=\"dataframe\">\n",
       "  <thead>\n",
       "    <tr style=\"text-align: right;\">\n",
       "      <th></th>\n",
       "      <th>NAICS</th>\n",
       "      <th>Owners_Sex</th>\n",
       "      <th>Owners_Ethnicity</th>\n",
       "      <th>Owners_Race</th>\n",
       "      <th>Year</th>\n",
       "      <th>Sales</th>\n",
       "      <th>Employees</th>\n",
       "    </tr>\n",
       "  </thead>\n",
       "  <tbody>\n",
       "    <tr>\n",
       "      <th>10</th>\n",
       "      <td>0</td>\n",
       "      <td>2</td>\n",
       "      <td>1</td>\n",
       "      <td>0</td>\n",
       "      <td>2017</td>\n",
       "      <td>36812734.0</td>\n",
       "      <td>0.0</td>\n",
       "    </tr>\n",
       "    <tr>\n",
       "      <th>11</th>\n",
       "      <td>0</td>\n",
       "      <td>2</td>\n",
       "      <td>1</td>\n",
       "      <td>0</td>\n",
       "      <td>2017</td>\n",
       "      <td>198569002.0</td>\n",
       "      <td>1175259.0</td>\n",
       "    </tr>\n",
       "    <tr>\n",
       "      <th>12</th>\n",
       "      <td>0</td>\n",
       "      <td>2</td>\n",
       "      <td>1</td>\n",
       "      <td>0</td>\n",
       "      <td>2017</td>\n",
       "      <td>171844455.0</td>\n",
       "      <td>1204041.0</td>\n",
       "    </tr>\n",
       "    <tr>\n",
       "      <th>13</th>\n",
       "      <td>0</td>\n",
       "      <td>2</td>\n",
       "      <td>1</td>\n",
       "      <td>0</td>\n",
       "      <td>2017</td>\n",
       "      <td>197197685.0</td>\n",
       "      <td>1491334.0</td>\n",
       "    </tr>\n",
       "    <tr>\n",
       "      <th>14</th>\n",
       "      <td>0</td>\n",
       "      <td>2</td>\n",
       "      <td>1</td>\n",
       "      <td>0</td>\n",
       "      <td>2017</td>\n",
       "      <td>256368241.0</td>\n",
       "      <td>1898285.0</td>\n",
       "    </tr>\n",
       "    <tr>\n",
       "      <th>...</th>\n",
       "      <td>...</td>\n",
       "      <td>...</td>\n",
       "      <td>...</td>\n",
       "      <td>...</td>\n",
       "      <td>...</td>\n",
       "      <td>...</td>\n",
       "      <td>...</td>\n",
       "    </tr>\n",
       "    <tr>\n",
       "      <th>15216</th>\n",
       "      <td>99</td>\n",
       "      <td>2</td>\n",
       "      <td>1</td>\n",
       "      <td>0</td>\n",
       "      <td>2019</td>\n",
       "      <td>NaN</td>\n",
       "      <td>2179.0</td>\n",
       "    </tr>\n",
       "    <tr>\n",
       "      <th>15217</th>\n",
       "      <td>99</td>\n",
       "      <td>2</td>\n",
       "      <td>1</td>\n",
       "      <td>0</td>\n",
       "      <td>2019</td>\n",
       "      <td>NaN</td>\n",
       "      <td>1359.0</td>\n",
       "    </tr>\n",
       "    <tr>\n",
       "      <th>15218</th>\n",
       "      <td>99</td>\n",
       "      <td>2</td>\n",
       "      <td>1</td>\n",
       "      <td>0</td>\n",
       "      <td>2019</td>\n",
       "      <td>NaN</td>\n",
       "      <td>NaN</td>\n",
       "    </tr>\n",
       "    <tr>\n",
       "      <th>15219</th>\n",
       "      <td>99</td>\n",
       "      <td>2</td>\n",
       "      <td>1</td>\n",
       "      <td>0</td>\n",
       "      <td>2019</td>\n",
       "      <td>NaN</td>\n",
       "      <td>426.0</td>\n",
       "    </tr>\n",
       "    <tr>\n",
       "      <th>15220</th>\n",
       "      <td>99</td>\n",
       "      <td>2</td>\n",
       "      <td>1</td>\n",
       "      <td>0</td>\n",
       "      <td>2019</td>\n",
       "      <td>NaN</td>\n",
       "      <td>NaN</td>\n",
       "    </tr>\n",
       "  </tbody>\n",
       "</table>\n",
       "<p>12667 rows × 7 columns</p>\n",
       "</div>"
      ],
      "text/plain": [
       "       NAICS  Owners_Sex  Owners_Ethnicity  Owners_Race  Year        Sales  \\\n",
       "10         0           2                 1            0  2017   36812734.0   \n",
       "11         0           2                 1            0  2017  198569002.0   \n",
       "12         0           2                 1            0  2017  171844455.0   \n",
       "13         0           2                 1            0  2017  197197685.0   \n",
       "14         0           2                 1            0  2017  256368241.0   \n",
       "...      ...         ...               ...          ...   ...          ...   \n",
       "15216     99           2                 1            0  2019          NaN   \n",
       "15217     99           2                 1            0  2019          NaN   \n",
       "15218     99           2                 1            0  2019          NaN   \n",
       "15219     99           2                 1            0  2019          NaN   \n",
       "15220     99           2                 1            0  2019          NaN   \n",
       "\n",
       "       Employees  \n",
       "10           0.0  \n",
       "11     1175259.0  \n",
       "12     1204041.0  \n",
       "13     1491334.0  \n",
       "14     1898285.0  \n",
       "...          ...  \n",
       "15216     2179.0  \n",
       "15217     1359.0  \n",
       "15218        NaN  \n",
       "15219      426.0  \n",
       "15220        NaN  \n",
       "\n",
       "[12667 rows x 7 columns]"
      ]
     },
     "execution_count": 247,
     "metadata": {},
     "output_type": "execute_result"
    }
   ],
   "source": [
    "WBOmega"
   ]
  },
  {
   "cell_type": "code",
   "execution_count": 248,
   "id": "52624da7",
   "metadata": {
    "scrolled": true
   },
   "outputs": [
    {
     "name": "stdout",
     "output_type": "stream",
     "text": [
      "<class 'pandas.core.frame.DataFrame'>\n",
      "Int64Index: 12667 entries, 10 to 15220\n",
      "Data columns (total 7 columns):\n",
      " #   Column            Non-Null Count  Dtype  \n",
      "---  ------            --------------  -----  \n",
      " 0   NAICS             12667 non-null  int64  \n",
      " 1   Owners_Sex        12667 non-null  int64  \n",
      " 2   Owners_Ethnicity  12667 non-null  int64  \n",
      " 3   Owners_Race       12667 non-null  int64  \n",
      " 4   Year              12667 non-null  int64  \n",
      " 5   Sales             2903 non-null   float64\n",
      " 6   Employees         8084 non-null   float64\n",
      "dtypes: float64(2), int64(5)\n",
      "memory usage: 791.7 KB\n"
     ]
    }
   ],
   "source": [
    "WBOmega.info()"
   ]
  },
  {
   "cell_type": "markdown",
   "id": "500ed8c6",
   "metadata": {},
   "source": [
    "# Determine t Tests"
   ]
  },
  {
   "cell_type": "code",
   "execution_count": 249,
   "id": "568c6c9c",
   "metadata": {
    "scrolled": true
   },
   "outputs": [
    {
     "data": {
      "text/plain": [
       "<AxesSubplot:>"
      ]
     },
     "execution_count": 249,
     "metadata": {},
     "output_type": "execute_result"
    },
    {
     "data": {
      "image/png": "[encoded data removed]",
      "text/plain": [
       "<Figure size 432x288 with 1 Axes>"
      ]
     },
     "metadata": {
      "needs_background": "light"
     },
     "output_type": "display_data"
    }
   ],
   "source": [
    "WBOmega['Owners_Race'].hist()"
   ]
  },
  {
   "cell_type": "markdown",
   "id": "cb1f4920",
   "metadata": {},
   "source": [
    "### Is not normally distributed, so does not meet assumption for t-test"
   ]
  },
  {
   "cell_type": "code",
   "execution_count": 251,
   "id": "c5e68d47",
   "metadata": {
    "scrolled": true
   },
   "outputs": [
    {
     "data": {
      "text/plain": [
       "<AxesSubplot:>"
      ]
     },
     "execution_count": 251,
     "metadata": {},
     "output_type": "execute_result"
    },
    {
     "data": {
      "image/png": "[encoded data removed]",
      "text/plain": [
       "<Figure size 432x288 with 1 Axes>"
      ]
     },
     "metadata": {
      "needs_background": "light"
     },
     "output_type": "display_data"
    }
   ],
   "source": [
    "WBOmega['Sales'].hist()"
   ]
  },
  {
   "cell_type": "markdown",
   "id": "01d5b036",
   "metadata": {},
   "source": [
    "### Is not normally distributed, so does not meet assumption for t-test"
   ]
  },
  {
   "cell_type": "code",
   "execution_count": 250,
   "id": "56088a84",
   "metadata": {},
   "outputs": [
    {
     "data": {
      "text/plain": [
       "<AxesSubplot:>"
      ]
     },
     "execution_count": 250,
     "metadata": {},
     "output_type": "execute_result"
    },
    {
     "data": {
      "image/png": "[encoded data removed]",
      "text/plain": [
       "<Figure size 432x288 with 1 Axes>"
      ]
     },
     "metadata": {
      "needs_background": "light"
     },
     "output_type": "display_data"
    }
   ],
   "source": [
    "WBOmega['Owners_Ethnicity'].hist()"
   ]
  },
  {
   "cell_type": "markdown",
   "id": "32a069b1",
   "metadata": {},
   "source": [
    "### Is not normally distributed, so does not meet assumption for t-test"
   ]
  },
  {
   "cell_type": "code",
   "execution_count": 252,
   "id": "7464a27e",
   "metadata": {},
   "outputs": [
    {
     "data": {
      "text/plain": [
       "<AxesSubplot:>"
      ]
     },
     "execution_count": 252,
     "metadata": {},
     "output_type": "execute_result"
    },
    {
     "data": {
      "image/png": "[encoded data removed]",
      "text/plain": [
       "<Figure size 432x288 with 1 Axes>"
      ]
     },
     "metadata": {
      "needs_background": "light"
     },
     "output_type": "display_data"
    }
   ],
   "source": [
    "WBOmega['NAICS'].hist()"
   ]
  },
  {
   "cell_type": "markdown",
   "id": "432f88b6",
   "metadata": {},
   "source": [
    "### Is normally distributed, so does meet assumption for t-test"
   ]
  },
  {
   "cell_type": "code",
   "execution_count": null,
   "id": "0aa27f9e",
   "metadata": {},
   "outputs": [],
   "source": []
  },
  {
   "cell_type": "markdown",
   "id": "7c50ddae",
   "metadata": {},
   "source": [
    "# Exploratory Analyses For Combined Men Dataset"
   ]
  },
  {
   "cell_type": "markdown",
   "id": "68b70db6",
   "metadata": {},
   "source": [
    "## Use Chi-Squares to determine if Owners_Race depends on Sales"
   ]
  },
  {
   "cell_type": "code",
   "execution_count": 261,
   "id": "25c1c866",
   "metadata": {},
   "outputs": [],
   "source": [
    "MBOmega_crosstab = pd.crosstab(MBOmega['Owners_Race'], MBOmega['Sales'])"
   ]
  },
  {
   "cell_type": "code",
   "execution_count": 262,
   "id": "2f2206ca",
   "metadata": {
    "scrolled": true
   },
   "outputs": [
    {
     "data": {
      "text/plain": [
       "(72275.51360128006,\n",
       " 0.04926649222270091,\n",
       " 71649,\n",
       " array([[3.77050830e+01, 4.71313538e-01, 4.71313538e-01, ...,\n",
       "         2.82788123e+00, 2.82788123e+00, 2.82788123e+00],\n",
       "        [4.00603926e+00, 5.00754907e-02, 5.00754907e-02, ...,\n",
       "         3.00452944e-01, 3.00452944e-01, 3.00452944e-01],\n",
       "        [2.97936588e+00, 3.72420735e-02, 3.72420735e-02, ...,\n",
       "         2.23452441e-01, 2.23452441e-01, 2.23452441e-01],\n",
       "        ...,\n",
       "        [4.46904882e+00, 5.58631102e-02, 5.58631102e-02, ...,\n",
       "         3.35178661e-01, 3.35178661e-01, 3.35178661e-01],\n",
       "        [3.16054353e+00, 3.95067942e-02, 3.95067942e-02, ...,\n",
       "         2.37040765e-01, 2.37040765e-01, 2.37040765e-01],\n",
       "        [4.75088072e+00, 5.93860091e-02, 5.93860091e-02, ...,\n",
       "         3.56316054e-01, 3.56316054e-01, 3.56316054e-01]]))"
      ]
     },
     "execution_count": 262,
     "metadata": {},
     "output_type": "execute_result"
    }
   ],
   "source": [
    "stats.chi2_contingency(MBOmega_crosstab)"
   ]
  },
  {
   "cell_type": "code",
   "execution_count": null,
   "id": "c4560baa",
   "metadata": {},
   "outputs": [],
   "source": []
  },
  {
   "cell_type": "markdown",
   "id": "37366adb",
   "metadata": {},
   "source": [
    "## Determine if Owners_Race depends on NAICS"
   ]
  },
  {
   "cell_type": "code",
   "execution_count": 263,
   "id": "5f20a787",
   "metadata": {},
   "outputs": [],
   "source": [
    "MBOmega_crosstab2 = pd.crosstab(MBOmega['Owners_Race'], MBOmega['NAICS'])"
   ]
  },
  {
   "cell_type": "code",
   "execution_count": 266,
   "id": "a290e2f0",
   "metadata": {},
   "outputs": [
    {
     "data": {
      "text/plain": [
       "(72275.51360128006,\n",
       " 0.04926649222270091,\n",
       " 71649,\n",
       " array([[3.77050830e+01, 4.71313538e-01, 4.71313538e-01, ...,\n",
       "         2.82788123e+00, 2.82788123e+00, 2.82788123e+00],\n",
       "        [4.00603926e+00, 5.00754907e-02, 5.00754907e-02, ...,\n",
       "         3.00452944e-01, 3.00452944e-01, 3.00452944e-01],\n",
       "        [2.97936588e+00, 3.72420735e-02, 3.72420735e-02, ...,\n",
       "         2.23452441e-01, 2.23452441e-01, 2.23452441e-01],\n",
       "        ...,\n",
       "        [4.46904882e+00, 5.58631102e-02, 5.58631102e-02, ...,\n",
       "         3.35178661e-01, 3.35178661e-01, 3.35178661e-01],\n",
       "        [3.16054353e+00, 3.95067942e-02, 3.95067942e-02, ...,\n",
       "         2.37040765e-01, 2.37040765e-01, 2.37040765e-01],\n",
       "        [4.75088072e+00, 5.93860091e-02, 5.93860091e-02, ...,\n",
       "         3.56316054e-01, 3.56316054e-01, 3.56316054e-01]]))"
      ]
     },
     "execution_count": 266,
     "metadata": {},
     "output_type": "execute_result"
    }
   ],
   "source": [
    "stats.chi2_contingency(MBOmega_crosstab)"
   ]
  },
  {
   "cell_type": "code",
   "execution_count": null,
   "id": "968d3cd8",
   "metadata": {},
   "outputs": [],
   "source": []
  },
  {
   "cell_type": "markdown",
   "id": "8c42c978",
   "metadata": {},
   "source": [
    "## Run a correlation matrix"
   ]
  },
  {
   "cell_type": "code",
   "execution_count": 264,
   "id": "36515547",
   "metadata": {
    "scrolled": true
   },
   "outputs": [
    {
     "data": {
      "text/html": [
       "<div>\n",
       "<style scoped>\n",
       "    .dataframe tbody tr th:only-of-type {\n",
       "        vertical-align: middle;\n",
       "    }\n",
       "\n",
       "    .dataframe tbody tr th {\n",
       "        vertical-align: top;\n",
       "    }\n",
       "\n",
       "    .dataframe thead th {\n",
       "        text-align: right;\n",
       "    }\n",
       "</style>\n",
       "<table border=\"1\" class=\"dataframe\">\n",
       "  <thead>\n",
       "    <tr style=\"text-align: right;\">\n",
       "      <th></th>\n",
       "      <th>NAICS</th>\n",
       "      <th>Owners_Sex</th>\n",
       "      <th>Owners_Ethnicity</th>\n",
       "      <th>Owners_Race</th>\n",
       "      <th>Year</th>\n",
       "      <th>Sales</th>\n",
       "      <th>Employees</th>\n",
       "    </tr>\n",
       "  </thead>\n",
       "  <tbody>\n",
       "    <tr>\n",
       "      <th>NAICS</th>\n",
       "      <td>1.000000</td>\n",
       "      <td>NaN</td>\n",
       "      <td>0.013667</td>\n",
       "      <td>-0.007164</td>\n",
       "      <td>-0.016122</td>\n",
       "      <td>-0.251731</td>\n",
       "      <td>-0.189673</td>\n",
       "    </tr>\n",
       "    <tr>\n",
       "      <th>Owners_Sex</th>\n",
       "      <td>NaN</td>\n",
       "      <td>NaN</td>\n",
       "      <td>NaN</td>\n",
       "      <td>NaN</td>\n",
       "      <td>NaN</td>\n",
       "      <td>NaN</td>\n",
       "      <td>NaN</td>\n",
       "    </tr>\n",
       "    <tr>\n",
       "      <th>Owners_Ethnicity</th>\n",
       "      <td>0.013667</td>\n",
       "      <td>NaN</td>\n",
       "      <td>1.000000</td>\n",
       "      <td>-0.469034</td>\n",
       "      <td>-0.013510</td>\n",
       "      <td>0.002893</td>\n",
       "      <td>0.005437</td>\n",
       "    </tr>\n",
       "    <tr>\n",
       "      <th>Owners_Race</th>\n",
       "      <td>-0.007164</td>\n",
       "      <td>NaN</td>\n",
       "      <td>-0.469034</td>\n",
       "      <td>1.000000</td>\n",
       "      <td>-0.065684</td>\n",
       "      <td>-0.053282</td>\n",
       "      <td>-0.032274</td>\n",
       "    </tr>\n",
       "    <tr>\n",
       "      <th>Year</th>\n",
       "      <td>-0.016122</td>\n",
       "      <td>NaN</td>\n",
       "      <td>-0.013510</td>\n",
       "      <td>-0.065684</td>\n",
       "      <td>1.000000</td>\n",
       "      <td>0.299308</td>\n",
       "      <td>0.043738</td>\n",
       "    </tr>\n",
       "    <tr>\n",
       "      <th>Sales</th>\n",
       "      <td>-0.251731</td>\n",
       "      <td>NaN</td>\n",
       "      <td>0.002893</td>\n",
       "      <td>-0.053282</td>\n",
       "      <td>0.299308</td>\n",
       "      <td>1.000000</td>\n",
       "      <td>0.997849</td>\n",
       "    </tr>\n",
       "    <tr>\n",
       "      <th>Employees</th>\n",
       "      <td>-0.189673</td>\n",
       "      <td>NaN</td>\n",
       "      <td>0.005437</td>\n",
       "      <td>-0.032274</td>\n",
       "      <td>0.043738</td>\n",
       "      <td>0.997849</td>\n",
       "      <td>1.000000</td>\n",
       "    </tr>\n",
       "  </tbody>\n",
       "</table>\n",
       "</div>"
      ],
      "text/plain": [
       "                     NAICS  Owners_Sex  Owners_Ethnicity  Owners_Race  \\\n",
       "NAICS             1.000000         NaN          0.013667    -0.007164   \n",
       "Owners_Sex             NaN         NaN               NaN          NaN   \n",
       "Owners_Ethnicity  0.013667         NaN          1.000000    -0.469034   \n",
       "Owners_Race      -0.007164         NaN         -0.469034     1.000000   \n",
       "Year             -0.016122         NaN         -0.013510    -0.065684   \n",
       "Sales            -0.251731         NaN          0.002893    -0.053282   \n",
       "Employees        -0.189673         NaN          0.005437    -0.032274   \n",
       "\n",
       "                      Year     Sales  Employees  \n",
       "NAICS            -0.016122 -0.251731  -0.189673  \n",
       "Owners_Sex             NaN       NaN        NaN  \n",
       "Owners_Ethnicity -0.013510  0.002893   0.005437  \n",
       "Owners_Race      -0.065684 -0.053282  -0.032274  \n",
       "Year              1.000000  0.299308   0.043738  \n",
       "Sales             0.299308  1.000000   0.997849  \n",
       "Employees         0.043738  0.997849   1.000000  "
      ]
     },
     "execution_count": 264,
     "metadata": {},
     "output_type": "execute_result"
    }
   ],
   "source": [
    "MBOmega.corr(method='pearson')"
   ]
  },
  {
   "cell_type": "code",
   "execution_count": 265,
   "id": "7651e81c",
   "metadata": {},
   "outputs": [
    {
     "data": {
      "text/plain": [
       "<AxesSubplot:>"
      ]
     },
     "execution_count": 265,
     "metadata": {},
     "output_type": "execute_result"
    },
    {
     "data": {
      "image/png": "[encoded data removed]",
      "text/plain": [
       "<Figure size 432x288 with 2 Axes>"
      ]
     },
     "metadata": {
      "needs_background": "light"
     },
     "output_type": "display_data"
    }
   ],
   "source": [
    "sns.heatmap(MBOmega.corr(), annot=True)"
   ]
  },
  {
   "cell_type": "code",
   "execution_count": null,
   "id": "e4b92556",
   "metadata": {},
   "outputs": [],
   "source": []
  },
  {
   "cell_type": "markdown",
   "id": "18461fb3",
   "metadata": {},
   "source": [
    "# Exploratory Analyses For Combined Women Dataset"
   ]
  },
  {
   "cell_type": "markdown",
   "id": "7b14e3d6",
   "metadata": {},
   "source": [
    "## Use Chi-Squares to determine if Owners_Race depends on Sales"
   ]
  },
  {
   "cell_type": "code",
   "execution_count": 253,
   "id": "7de13b2e",
   "metadata": {},
   "outputs": [],
   "source": [
    "from scipy import stats"
   ]
  },
  {
   "cell_type": "code",
   "execution_count": 254,
   "id": "fe4d96d2",
   "metadata": {},
   "outputs": [],
   "source": [
    "WBOmega_crosstab = pd.crosstab(WBOmega['Owners_Race'], WBOmega['Sales'])"
   ]
  },
  {
   "cell_type": "code",
   "execution_count": 255,
   "id": "9e7a55de",
   "metadata": {
    "scrolled": false
   },
   "outputs": [
    {
     "data": {
      "text/plain": [
       "(52722.49728744025,\n",
       " 9.66157981034884e-12,\n",
       " 50559,\n",
       " array([[3.00482260e+01, 4.62280400e-01, 4.62280400e-01, ...,\n",
       "         2.77368240e+00, 2.77368240e+00, 2.77368240e+00],\n",
       "        [4.27661040e+00, 6.57940062e-02, 6.57940062e-02, ...,\n",
       "         3.94764037e-01, 3.94764037e-01, 3.94764037e-01],\n",
       "        [2.77643817e+00, 4.27144333e-02, 4.27144333e-02, ...,\n",
       "         2.56286600e-01, 2.56286600e-01, 2.56286600e-01],\n",
       "        ...,\n",
       "        [4.38856355e+00, 6.75163624e-02, 6.75163624e-02, ...,\n",
       "         4.05098174e-01, 4.05098174e-01, 4.05098174e-01],\n",
       "        [1.43300034e+00, 2.20461591e-02, 2.20461591e-02, ...,\n",
       "         1.32276955e-01, 1.32276955e-01, 1.32276955e-01],\n",
       "        [5.08267310e+00, 7.81949707e-02, 7.81949707e-02, ...,\n",
       "         4.69169824e-01, 4.69169824e-01, 4.69169824e-01]]))"
      ]
     },
     "execution_count": 255,
     "metadata": {},
     "output_type": "execute_result"
    }
   ],
   "source": [
    "stats.chi2_contingency(WBOmega_crosstab)"
   ]
  },
  {
   "cell_type": "code",
   "execution_count": null,
   "id": "9f234908",
   "metadata": {},
   "outputs": [],
   "source": []
  },
  {
   "cell_type": "markdown",
   "id": "4d4ab0e7",
   "metadata": {},
   "source": [
    "## Determine if Owners_Race depends on NAICS"
   ]
  },
  {
   "cell_type": "code",
   "execution_count": 256,
   "id": "dad2390e",
   "metadata": {},
   "outputs": [],
   "source": [
    "WBOmega_crosstab2 = pd.crosstab(WBOmega['Owners_Race'], WBOmega['NAICS'])"
   ]
  },
  {
   "cell_type": "code",
   "execution_count": 257,
   "id": "d38d5537",
   "metadata": {
    "scrolled": true
   },
   "outputs": [
    {
     "data": {
      "text/plain": [
       "(743.3817799282708,\n",
       " 8.709804274333177e-26,\n",
       " 380,\n",
       " array([[557.04681456, 220.2665193 , 226.36962185, 180.87376648,\n",
       "         336.22546775, 381.72132312, 357.86374043, 381.16649562,\n",
       "         347.87684535, 318.47098761, 322.35478014, 312.92271256,\n",
       "         405.02407831, 265.20754717, 397.25649325, 344.54788032,\n",
       "         407.79821584, 324.57409016, 378.3923581 , 361.74753296,\n",
       "         200.29272914],\n",
       "        [ 32.73482277,  12.94394884,  13.3025973 ,  10.62903608,\n",
       "          19.75826952,  22.43183074,  21.02984132,  22.39922634,\n",
       "          20.44296203,  18.71492855,  18.94315939,  18.3888845 ,\n",
       "          23.80121576,  15.58490566,  23.34475409,  20.2473356 ,\n",
       "          23.96423778,  19.07357701,  22.23620431,  21.25807216,\n",
       "          11.77019026],\n",
       "        [ 25.8391095 ,  10.21725744,  10.50035525,   8.38998974,\n",
       "          15.59611589,  17.70648141,  16.59982632,  17.68074524,\n",
       "          16.13657535,  14.77255862,  14.95271177,  14.51519697,\n",
       "          18.78740033,  12.30188679,  18.42709402,  15.98215836,\n",
       "          18.91608116,  15.05565643,  17.55206442,  16.77997947,\n",
       "           9.29075551],\n",
       "        [ 23.8575827 ,   9.43372543,   9.69511329,   7.74658562,\n",
       "          14.40009473,  16.3486224 ,  15.3268335 ,  16.32485987,\n",
       "          14.89910792,  13.63969369,  13.80603142,  13.40206837,\n",
       "          17.34664877,  11.35849057,  17.01397332,  14.75653272,\n",
       "          17.46546144,  13.90108155,  16.20604721,  15.49317123,\n",
       "           8.57827426],\n",
       "        [ 27.97915844,  11.06347201,  11.37001658,   9.08486619,\n",
       "          16.88781874,  19.17296913,  17.97465856,  19.14510144,\n",
       "          17.47304018,  15.99605274,  16.19112655,  15.71737586,\n",
       "          20.34341202,  13.32075472,  19.95326439,  17.30583406,\n",
       "          20.48275045,  16.3025973 ,  19.00576301,  18.16973238,\n",
       "          10.06023526],\n",
       "        [ 10.62098366,   4.19973159,   4.31609694,   3.44864609,\n",
       "           6.4106734 ,   7.27812426,   6.82324149,   7.26754559,\n",
       "           6.63282545,   6.072156  ,   6.14620668,   5.96636931,\n",
       "           7.72242836,   5.05660377,   7.57432699,   6.56935344,\n",
       "           7.7753217 ,   6.18852135,   7.21465225,   6.89729218,\n",
       "           3.8188995 ],\n",
       "        [ 11.17581116,   4.41912055,   4.5415647 ,   3.62879924,\n",
       "           6.74555933,   7.65832478,   7.17967948,   7.64719349,\n",
       "           6.97931633,   6.38935817,   6.46727718,   6.27804531,\n",
       "           8.12583879,   5.32075472,   7.97000079,   6.91252862,\n",
       "           8.18149522,   6.51180232,   7.59153706,   7.25759848,\n",
       "           4.01839425],\n",
       "        [  8.797979  ,   3.47888213,   3.57527433,   2.8567143 ,\n",
       "           5.31033394,   6.02889398,   5.6520881 ,   6.02013105,\n",
       "           5.49435541,   5.02992027,   5.09126076,   4.94229099,\n",
       "           6.39693692,   4.18867925,   6.27425594,   5.44177785,\n",
       "           6.44075156,   5.12631247,   5.97631641,   5.71342859,\n",
       "           3.16341675],\n",
       "        [  9.11502329,   3.60424726,   3.70411305,   2.95965896,\n",
       "           5.50169732,   6.24615142,   5.85576695,   6.23707271,\n",
       "           5.6923502 ,   5.21117865,   5.27472961,   5.12039157,\n",
       "           6.62745717,   4.33962264,   6.50035525,   5.63787795,\n",
       "           6.67285071,   5.31104445,   6.19167917,   5.91931791,\n",
       "           3.27741375],\n",
       "        [ 10.38320044,   4.10570774,   4.21946791,   3.37143759,\n",
       "           6.26715086,   7.11518118,   6.67048236,   7.10483935,\n",
       "           6.48432936,   5.9362122 ,   6.00860504,   5.83279387,\n",
       "           7.54953817,   4.94339623,   7.40475251,   6.42227836,\n",
       "           7.60124734,   6.04997237,   7.05313018,   6.74287519,\n",
       "           3.73340175],\n",
       "        [  8.63945686,   3.41619957,   3.51085498,   2.80524197,\n",
       "           5.21465225,   5.92026526,   5.55024868,   5.91166022,\n",
       "           5.39535802,   4.93929107,   4.99952633,   4.8532407 ,\n",
       "           6.2816768 ,   4.11320755,   6.16120628,   5.3437278 ,\n",
       "           6.32470198,   5.03394648,   5.86863504,   5.61048393,\n",
       "           3.10641825],\n",
       "        [  8.16389042,   3.22815189,   3.31759691,   2.65082498,\n",
       "           4.92760717,   5.5943791 ,   5.2447304 ,   5.58624773,\n",
       "           5.09836583,   4.66740349,   4.72432304,   4.58608984,\n",
       "           5.93589642,   3.88679245,   5.82205731,   5.04957764,\n",
       "           5.97655325,   4.7568485 ,   5.54559091,   5.30164996,\n",
       "           2.93542275],\n",
       "        [ 17.43743586,   6.89508171,   7.08612931,   5.66195626,\n",
       "          10.52498618,  11.94915923,  11.20233678,  11.93179127,\n",
       "          10.88971343,   9.96921134,  10.09078708,   9.7955317 ,\n",
       "          12.67861372,   8.30188679,  12.43546222,  10.78550564,\n",
       "          12.76545354,  10.16025894,  11.84495145,  11.32391253,\n",
       "           6.269835  ],\n",
       "        [  6.89571327,   2.7266914 ,   2.80224205,   2.23904634,\n",
       "           4.16215363,   4.72534933,   4.430015  ,   4.71848109,\n",
       "           4.30638667,   3.94236994,   3.99044762,   3.87368753,\n",
       "           5.01381543,   3.28301887,   4.91766006,   4.26517723,\n",
       "           5.04815663,   4.01792058,   4.68413989,   4.47809268,\n",
       "           2.47943475],\n",
       "        [  3.01192074,   1.19096866,   1.22396779,   0.97797426,\n",
       "           1.81795216,   2.06394569,   1.93494908,   2.06094576,\n",
       "           1.8809505 ,   1.72195469,   1.74295413,   1.69195547,\n",
       "           2.18994237,   1.43396226,   2.14794348,   1.86295097,\n",
       "           2.20494198,   1.75495382,   2.04594616,   1.95594853,\n",
       "           1.0829715 ],\n",
       "        [  2.77413752,   1.09694482,   1.12733875,   0.90076577,\n",
       "           1.67442962,   1.90100261,   1.78218994,   1.89823952,\n",
       "           1.73245441,   1.58601089,   1.60535249,   1.55838004,\n",
       "           2.01705218,   1.32075472,   1.97836899,   1.7158759 ,\n",
       "           2.03086761,   1.61640483,   1.88442409,   1.80153154,\n",
       "           0.99747375],\n",
       "        [  4.20083682,   1.66108787,   1.70711297,   1.36401674,\n",
       "           2.53556485,   2.87866109,   2.69874477,   2.87447699,\n",
       "           2.62343096,   2.40167364,   2.43096234,   2.35983264,\n",
       "           3.05439331,   2.        ,   2.9958159 ,   2.59832636,\n",
       "           3.07531381,   2.44769874,   2.85355649,   2.72803347,\n",
       "           1.51046025],\n",
       "        [ 91.62579932,  36.23052025,  37.23438857,  29.75100655,\n",
       "          55.30401832,  62.78740033,  58.86318781,  62.69613958,\n",
       "          57.2204942 ,  52.38367411,  53.02249941,  51.47106655,\n",
       "          66.6203521 ,  43.62264151,  65.34270151,  56.67292966,\n",
       "          67.07665588,  53.38754243,  62.23983579,  59.5020131 ,\n",
       "          32.94513302],\n",
       "        [ 44.78250572,  17.70782348,  18.19846846,  14.54093313,\n",
       "          27.03007816,  30.68761348,  28.76963764,  30.64300939,\n",
       "          27.96676403,  25.6027473 ,  25.91497592,  25.1567064 ,\n",
       "          32.56098524,  21.32075472,  31.93652799,  27.6991395 ,\n",
       "          32.78400568,  26.09339228,  30.41998895,  29.08186627,\n",
       "          16.10207626],\n",
       "        [ 98.91781795,  39.11391805,  40.19767901,  32.11873372,\n",
       "          59.70537617,  67.78432147,  63.54780137,  67.68579774,\n",
       "          61.77437436,  56.55261704,  57.2422831 ,  55.56737981,\n",
       "          71.92231783,  47.09433962,  70.54298571,  61.18323202,\n",
       "          72.41493645,  57.63637799,  67.19317913,  64.23746744,\n",
       "          35.56706402]]))"
      ]
     },
     "execution_count": 257,
     "metadata": {},
     "output_type": "execute_result"
    }
   ],
   "source": [
    "stats.chi2_contingency(WBOmega_crosstab2)"
   ]
  },
  {
   "cell_type": "code",
   "execution_count": null,
   "id": "71677c05",
   "metadata": {},
   "outputs": [],
   "source": []
  },
  {
   "cell_type": "markdown",
   "id": "63b624e8",
   "metadata": {},
   "source": [
    "## Run a correlation matrix"
   ]
  },
  {
   "cell_type": "code",
   "execution_count": 258,
   "id": "38f2a520",
   "metadata": {},
   "outputs": [],
   "source": [
    "import matplotlib.pyplot as plt\n",
    "import seaborn as sns"
   ]
  },
  {
   "cell_type": "code",
   "execution_count": 259,
   "id": "d8f2ae12",
   "metadata": {},
   "outputs": [
    {
     "data": {
      "text/html": [
       "<div>\n",
       "<style scoped>\n",
       "    .dataframe tbody tr th:only-of-type {\n",
       "        vertical-align: middle;\n",
       "    }\n",
       "\n",
       "    .dataframe tbody tr th {\n",
       "        vertical-align: top;\n",
       "    }\n",
       "\n",
       "    .dataframe thead th {\n",
       "        text-align: right;\n",
       "    }\n",
       "</style>\n",
       "<table border=\"1\" class=\"dataframe\">\n",
       "  <thead>\n",
       "    <tr style=\"text-align: right;\">\n",
       "      <th></th>\n",
       "      <th>NAICS</th>\n",
       "      <th>Owners_Sex</th>\n",
       "      <th>Owners_Ethnicity</th>\n",
       "      <th>Owners_Race</th>\n",
       "      <th>Year</th>\n",
       "      <th>Sales</th>\n",
       "      <th>Employees</th>\n",
       "    </tr>\n",
       "  </thead>\n",
       "  <tbody>\n",
       "    <tr>\n",
       "      <th>NAICS</th>\n",
       "      <td>1.000000</td>\n",
       "      <td>NaN</td>\n",
       "      <td>0.018202</td>\n",
       "      <td>-0.006395</td>\n",
       "      <td>-0.012907</td>\n",
       "      <td>-0.274310</td>\n",
       "      <td>-0.202149</td>\n",
       "    </tr>\n",
       "    <tr>\n",
       "      <th>Owners_Sex</th>\n",
       "      <td>NaN</td>\n",
       "      <td>NaN</td>\n",
       "      <td>NaN</td>\n",
       "      <td>NaN</td>\n",
       "      <td>NaN</td>\n",
       "      <td>NaN</td>\n",
       "      <td>NaN</td>\n",
       "    </tr>\n",
       "    <tr>\n",
       "      <th>Owners_Ethnicity</th>\n",
       "      <td>0.018202</td>\n",
       "      <td>NaN</td>\n",
       "      <td>1.000000</td>\n",
       "      <td>-0.485663</td>\n",
       "      <td>-0.018581</td>\n",
       "      <td>0.000601</td>\n",
       "      <td>-0.000957</td>\n",
       "    </tr>\n",
       "    <tr>\n",
       "      <th>Owners_Race</th>\n",
       "      <td>-0.006395</td>\n",
       "      <td>NaN</td>\n",
       "      <td>-0.485663</td>\n",
       "      <td>1.000000</td>\n",
       "      <td>-0.053751</td>\n",
       "      <td>-0.062299</td>\n",
       "      <td>-0.042768</td>\n",
       "    </tr>\n",
       "    <tr>\n",
       "      <th>Year</th>\n",
       "      <td>-0.012907</td>\n",
       "      <td>NaN</td>\n",
       "      <td>-0.018581</td>\n",
       "      <td>-0.053751</td>\n",
       "      <td>1.000000</td>\n",
       "      <td>0.321583</td>\n",
       "      <td>0.051879</td>\n",
       "    </tr>\n",
       "    <tr>\n",
       "      <th>Sales</th>\n",
       "      <td>-0.274310</td>\n",
       "      <td>NaN</td>\n",
       "      <td>0.000601</td>\n",
       "      <td>-0.062299</td>\n",
       "      <td>0.321583</td>\n",
       "      <td>1.000000</td>\n",
       "      <td>0.996275</td>\n",
       "    </tr>\n",
       "    <tr>\n",
       "      <th>Employees</th>\n",
       "      <td>-0.202149</td>\n",
       "      <td>NaN</td>\n",
       "      <td>-0.000957</td>\n",
       "      <td>-0.042768</td>\n",
       "      <td>0.051879</td>\n",
       "      <td>0.996275</td>\n",
       "      <td>1.000000</td>\n",
       "    </tr>\n",
       "  </tbody>\n",
       "</table>\n",
       "</div>"
      ],
      "text/plain": [
       "                     NAICS  Owners_Sex  Owners_Ethnicity  Owners_Race  \\\n",
       "NAICS             1.000000         NaN          0.018202    -0.006395   \n",
       "Owners_Sex             NaN         NaN               NaN          NaN   \n",
       "Owners_Ethnicity  0.018202         NaN          1.000000    -0.485663   \n",
       "Owners_Race      -0.006395         NaN         -0.485663     1.000000   \n",
       "Year             -0.012907         NaN         -0.018581    -0.053751   \n",
       "Sales            -0.274310         NaN          0.000601    -0.062299   \n",
       "Employees        -0.202149         NaN         -0.000957    -0.042768   \n",
       "\n",
       "                      Year     Sales  Employees  \n",
       "NAICS            -0.012907 -0.274310  -0.202149  \n",
       "Owners_Sex             NaN       NaN        NaN  \n",
       "Owners_Ethnicity -0.018581  0.000601  -0.000957  \n",
       "Owners_Race      -0.053751 -0.062299  -0.042768  \n",
       "Year              1.000000  0.321583   0.051879  \n",
       "Sales             0.321583  1.000000   0.996275  \n",
       "Employees         0.051879  0.996275   1.000000  "
      ]
     },
     "execution_count": 259,
     "metadata": {},
     "output_type": "execute_result"
    }
   ],
   "source": [
    "WBOmega.corr(method='pearson')"
   ]
  },
  {
   "cell_type": "code",
   "execution_count": 260,
   "id": "24cf8d5c",
   "metadata": {},
   "outputs": [
    {
     "data": {
      "text/plain": [
       "<AxesSubplot:>"
      ]
     },
     "execution_count": 260,
     "metadata": {},
     "output_type": "execute_result"
    },
    {
     "data": {
      "image/png": "[encoded data removed]",
      "text/plain": [
       "<Figure size 432x288 with 2 Axes>"
      ]
     },
     "metadata": {
      "needs_background": "light"
     },
     "output_type": "display_data"
    }
   ],
   "source": [
    "sns.heatmap(WBOmega.corr(), annot=True)"
   ]
  },
  {
   "cell_type": "code",
   "execution_count": null,
   "id": "3a42f42d",
   "metadata": {},
   "outputs": [],
   "source": []
  },
  {
   "cell_type": "code",
   "execution_count": null,
   "id": "bb127c0c",
   "metadata": {},
   "outputs": [],
   "source": []
  }
 ],
 "metadata": {
  "kernelspec": {
   "display_name": "Python 3",
   "language": "python",
   "name": "python3"
  },
  "language_info": {
   "codemirror_mode": {
    "name": "ipython",
    "version": 3
   },
   "file_extension": ".py",
   "mimetype": "text/x-python",
   "name": "python",
   "nbconvert_exporter": "python",
   "pygments_lexer": "ipython3",
   "version": "3.8.8"
  }
 },
 "nbformat": 4,
 "nbformat_minor": 5
}
