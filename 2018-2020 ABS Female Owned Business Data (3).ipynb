{
 "cells": [
  {
   "cell_type": "markdown",
   "id": "2b69e15d",
   "metadata": {},
   "source": [
    "# Load Libraries"
   ]
  },
  {
   "cell_type": "code",
   "execution_count": 49,
   "id": "48e6e50b",
   "metadata": {},
   "outputs": [],
   "source": [
    "import pandas as pd\n",
    "import matplotlib.pyplot as plt\n",
    "import numpy as np"
   ]
  },
  {
   "cell_type": "markdown",
   "id": "74419a7f",
   "metadata": {},
   "source": [
    "# Import Data"
   ]
  },
  {
   "cell_type": "code",
   "execution_count": 50,
   "id": "d6dad2e4",
   "metadata": {},
   "outputs": [
    {
     "data": {
      "text/html": [
       "<div>\n",
       "<style scoped>\n",
       "    .dataframe tbody tr th:only-of-type {\n",
       "        vertical-align: middle;\n",
       "    }\n",
       "\n",
       "    .dataframe tbody tr th {\n",
       "        vertical-align: top;\n",
       "    }\n",
       "\n",
       "    .dataframe thead th {\n",
       "        text-align: right;\n",
       "    }\n",
       "</style>\n",
       "<table border=\"1\" class=\"dataframe\">\n",
       "  <thead>\n",
       "    <tr style=\"text-align: right;\">\n",
       "      <th></th>\n",
       "      <th>GEO_ID</th>\n",
       "      <th>GEO_ID_F</th>\n",
       "      <th>NAME</th>\n",
       "      <th>NAICS2017</th>\n",
       "      <th>NAICS2017_LABEL</th>\n",
       "      <th>INDLEVEL</th>\n",
       "      <th>INDGROUP</th>\n",
       "      <th>SUBSECTOR</th>\n",
       "      <th>NAICS2017_F</th>\n",
       "      <th>SECTOR</th>\n",
       "      <th>...</th>\n",
       "      <th>EMPSZFI_LABEL</th>\n",
       "      <th>YEAR</th>\n",
       "      <th>FIRMPDEMP</th>\n",
       "      <th>RCPPDEMP</th>\n",
       "      <th>EMP</th>\n",
       "      <th>PAYANN</th>\n",
       "      <th>FIRMPDEMP_S</th>\n",
       "      <th>RCPPDEMP_S</th>\n",
       "      <th>EMP_S</th>\n",
       "      <th>PAYANN_S</th>\n",
       "    </tr>\n",
       "  </thead>\n",
       "  <tbody>\n",
       "    <tr>\n",
       "      <th>0</th>\n",
       "      <td>id</td>\n",
       "      <td>Geo Footnote</td>\n",
       "      <td>Geographic Area Name</td>\n",
       "      <td>2017 NAICS code</td>\n",
       "      <td>Meaning of NAICS code</td>\n",
       "      <td>Industry level</td>\n",
       "      <td>Industry group</td>\n",
       "      <td>SUBSECTOR</td>\n",
       "      <td>2017 NAICS Footnote</td>\n",
       "      <td>NAICS economic sector</td>\n",
       "      <td>...</td>\n",
       "      <td>Meaning of Employment size of firms code</td>\n",
       "      <td>Year</td>\n",
       "      <td>Number of employer firms</td>\n",
       "      <td>Sales, value of shipments, or revenue of emplo...</td>\n",
       "      <td>Number of employees</td>\n",
       "      <td>Annual payroll ($1,000)</td>\n",
       "      <td>Relative standard error of employer firms (%)</td>\n",
       "      <td>Relative standard error of sales, value of shi...</td>\n",
       "      <td>Relative standard error of number of employees...</td>\n",
       "      <td>Relative standard error of annual payroll (%)</td>\n",
       "    </tr>\n",
       "    <tr>\n",
       "      <th>1</th>\n",
       "      <td>0100000US</td>\n",
       "      <td>NaN</td>\n",
       "      <td>United States</td>\n",
       "      <td>0</td>\n",
       "      <td>Total for all sectors</td>\n",
       "      <td>2</td>\n",
       "      <td>NaN</td>\n",
       "      <td>NaN</td>\n",
       "      <td>NaN</td>\n",
       "      <td>0</td>\n",
       "      <td>...</td>\n",
       "      <td>Firms with no employees</td>\n",
       "      <td>2017</td>\n",
       "      <td>591329</td>\n",
       "      <td>246491573</td>\n",
       "      <td>0</td>\n",
       "      <td>32263065</td>\n",
       "      <td>0.3</td>\n",
       "      <td>11.6</td>\n",
       "      <td>0</td>\n",
       "      <td>1.9</td>\n",
       "    </tr>\n",
       "    <tr>\n",
       "      <th>2</th>\n",
       "      <td>0100000US</td>\n",
       "      <td>NaN</td>\n",
       "      <td>United States</td>\n",
       "      <td>0</td>\n",
       "      <td>Total for all sectors</td>\n",
       "      <td>2</td>\n",
       "      <td>NaN</td>\n",
       "      <td>NaN</td>\n",
       "      <td>NaN</td>\n",
       "      <td>0</td>\n",
       "      <td>...</td>\n",
       "      <td>Firms with 1 to 4 employees</td>\n",
       "      <td>2017</td>\n",
       "      <td>2934409</td>\n",
       "      <td>1246892073</td>\n",
       "      <td>5737290</td>\n",
       "      <td>210401495</td>\n",
       "      <td>0.1</td>\n",
       "      <td>1.1</td>\n",
       "      <td>0.2</td>\n",
       "      <td>0.2</td>\n",
       "    </tr>\n",
       "    <tr>\n",
       "      <th>3</th>\n",
       "      <td>0100000US</td>\n",
       "      <td>NaN</td>\n",
       "      <td>United States</td>\n",
       "      <td>0</td>\n",
       "      <td>Total for all sectors</td>\n",
       "      <td>2</td>\n",
       "      <td>NaN</td>\n",
       "      <td>NaN</td>\n",
       "      <td>NaN</td>\n",
       "      <td>0</td>\n",
       "      <td>...</td>\n",
       "      <td>Firms with 5 to 9 employees</td>\n",
       "      <td>2017</td>\n",
       "      <td>956312</td>\n",
       "      <td>1227385543</td>\n",
       "      <td>6299539</td>\n",
       "      <td>238563912</td>\n",
       "      <td>0.4</td>\n",
       "      <td>0.6</td>\n",
       "      <td>0.4</td>\n",
       "      <td>0.5</td>\n",
       "    </tr>\n",
       "    <tr>\n",
       "      <th>4</th>\n",
       "      <td>0100000US</td>\n",
       "      <td>NaN</td>\n",
       "      <td>United States</td>\n",
       "      <td>0</td>\n",
       "      <td>Total for all sectors</td>\n",
       "      <td>2</td>\n",
       "      <td>NaN</td>\n",
       "      <td>NaN</td>\n",
       "      <td>NaN</td>\n",
       "      <td>0</td>\n",
       "      <td>...</td>\n",
       "      <td>Firms with 10 to 19 employees</td>\n",
       "      <td>2017</td>\n",
       "      <td>611858</td>\n",
       "      <td>1526806215</td>\n",
       "      <td>8228901</td>\n",
       "      <td>319998091</td>\n",
       "      <td>0.4</td>\n",
       "      <td>2.3</td>\n",
       "      <td>0.4</td>\n",
       "      <td>0.4</td>\n",
       "    </tr>\n",
       "  </tbody>\n",
       "</table>\n",
       "<p>5 rows × 29 columns</p>\n",
       "</div>"
      ],
      "text/plain": [
       "      GEO_ID      GEO_ID_F                  NAME        NAICS2017  \\\n",
       "0         id  Geo Footnote  Geographic Area Name  2017 NAICS code   \n",
       "1  0100000US           NaN         United States                0   \n",
       "2  0100000US           NaN         United States                0   \n",
       "3  0100000US           NaN         United States                0   \n",
       "4  0100000US           NaN         United States                0   \n",
       "\n",
       "         NAICS2017_LABEL        INDLEVEL        INDGROUP  SUBSECTOR  \\\n",
       "0  Meaning of NAICS code  Industry level  Industry group  SUBSECTOR   \n",
       "1  Total for all sectors               2             NaN        NaN   \n",
       "2  Total for all sectors               2             NaN        NaN   \n",
       "3  Total for all sectors               2             NaN        NaN   \n",
       "4  Total for all sectors               2             NaN        NaN   \n",
       "\n",
       "           NAICS2017_F                  SECTOR  ...  \\\n",
       "0  2017 NAICS Footnote  NAICS economic sector   ...   \n",
       "1                  NaN                       0  ...   \n",
       "2                  NaN                       0  ...   \n",
       "3                  NaN                       0  ...   \n",
       "4                  NaN                       0  ...   \n",
       "\n",
       "                              EMPSZFI_LABEL  YEAR                 FIRMPDEMP  \\\n",
       "0  Meaning of Employment size of firms code  Year  Number of employer firms   \n",
       "1                   Firms with no employees  2017                    591329   \n",
       "2               Firms with 1 to 4 employees  2017                   2934409   \n",
       "3               Firms with 5 to 9 employees  2017                    956312   \n",
       "4             Firms with 10 to 19 employees  2017                    611858   \n",
       "\n",
       "                                            RCPPDEMP                  EMP  \\\n",
       "0  Sales, value of shipments, or revenue of emplo...  Number of employees   \n",
       "1                                          246491573                    0   \n",
       "2                                         1246892073              5737290   \n",
       "3                                         1227385543              6299539   \n",
       "4                                         1526806215              8228901   \n",
       "\n",
       "                    PAYANN                                    FIRMPDEMP_S  \\\n",
       "0  Annual payroll ($1,000)  Relative standard error of employer firms (%)   \n",
       "1                 32263065                                            0.3   \n",
       "2                210401495                                            0.1   \n",
       "3                238563912                                            0.4   \n",
       "4                319998091                                            0.4   \n",
       "\n",
       "                                          RCPPDEMP_S  \\\n",
       "0  Relative standard error of sales, value of shi...   \n",
       "1                                               11.6   \n",
       "2                                                1.1   \n",
       "3                                                0.6   \n",
       "4                                                2.3   \n",
       "\n",
       "                                               EMP_S  \\\n",
       "0  Relative standard error of number of employees...   \n",
       "1                                                  0   \n",
       "2                                                0.2   \n",
       "3                                                0.4   \n",
       "4                                                0.4   \n",
       "\n",
       "                                        PAYANN_S  \n",
       "0  Relative standard error of annual payroll (%)  \n",
       "1                                            1.9  \n",
       "2                                            0.2  \n",
       "3                                            0.5  \n",
       "4                                            0.4  \n",
       "\n",
       "[5 rows x 29 columns]"
      ]
     },
     "execution_count": 50,
     "metadata": {},
     "output_type": "execute_result"
    }
   ],
   "source": [
    "B2018=pd.read_csv(r\"C:\\Users\\nbroo\\OneDrive\\Documents\\Data Science Final Group Project\\Women In Business Before And After The Pandemic\\2018 (2017) Census Business Data-2.csv\")\n",
    "B2018.head()"
   ]
  },
  {
   "cell_type": "code",
   "execution_count": 51,
   "id": "d6f0d236",
   "metadata": {},
   "outputs": [
    {
     "name": "stderr",
     "output_type": "stream",
     "text": [
      "C:\\Users\\nbroo\\anaconda3\\lib\\site-packages\\IPython\\core\\interactiveshell.py:3165: DtypeWarning: Columns (1,3,4,5,7,8,9,10,12,14,16,22) have mixed types.Specify dtype option on import or set low_memory=False.\n",
      "  has_raised = await self.run_ast_nodes(code_ast.body, cell_name,\n"
     ]
    },
    {
     "data": {
      "text/html": [
       "<div>\n",
       "<style scoped>\n",
       "    .dataframe tbody tr th:only-of-type {\n",
       "        vertical-align: middle;\n",
       "    }\n",
       "\n",
       "    .dataframe tbody tr th {\n",
       "        vertical-align: top;\n",
       "    }\n",
       "\n",
       "    .dataframe thead th {\n",
       "        text-align: right;\n",
       "    }\n",
       "</style>\n",
       "<table border=\"1\" class=\"dataframe\">\n",
       "  <thead>\n",
       "    <tr style=\"text-align: right;\">\n",
       "      <th></th>\n",
       "      <th>GEO_ID</th>\n",
       "      <th>GEO_ID_F</th>\n",
       "      <th>NAME</th>\n",
       "      <th>NAICS2017</th>\n",
       "      <th>NAICS2017_F</th>\n",
       "      <th>INDLEVEL</th>\n",
       "      <th>NAICS2017_LABEL</th>\n",
       "      <th>INDGROUP</th>\n",
       "      <th>SECTOR</th>\n",
       "      <th>SUBSECTOR</th>\n",
       "      <th>...</th>\n",
       "      <th>PAYANN</th>\n",
       "      <th>PAYANN_PCT</th>\n",
       "      <th>FIRMPDEMP_S</th>\n",
       "      <th>FIRMPDEMP_PCT_S</th>\n",
       "      <th>RCPPDEMP_S</th>\n",
       "      <th>RCPPDEMP_PCT_S</th>\n",
       "      <th>EMP_S</th>\n",
       "      <th>EMP_PCT_S</th>\n",
       "      <th>PAYANN_S</th>\n",
       "      <th>PAYANN_PCT_S</th>\n",
       "    </tr>\n",
       "  </thead>\n",
       "  <tbody>\n",
       "    <tr>\n",
       "      <th>0</th>\n",
       "      <td>id</td>\n",
       "      <td>Geo Footnote</td>\n",
       "      <td>Geographic Area Name</td>\n",
       "      <td>2017 NAICS code</td>\n",
       "      <td>2017 NAICS Footnote</td>\n",
       "      <td>Industry level</td>\n",
       "      <td>Meaning of NAICS code</td>\n",
       "      <td>Industry group</td>\n",
       "      <td>NAICS economic sector</td>\n",
       "      <td>SUBSECTOR</td>\n",
       "      <td>...</td>\n",
       "      <td>Annual payroll ($1,000)</td>\n",
       "      <td>Percent of annual payroll (%)</td>\n",
       "      <td>Relative standard error of employer firms (%)</td>\n",
       "      <td>Standard error of percent of employer firms (%)</td>\n",
       "      <td>Relative standard error of sales, value of shi...</td>\n",
       "      <td>Standard error of percent of sales, value of s...</td>\n",
       "      <td>Relative standard error of number of employees...</td>\n",
       "      <td>Standard error of percent of employees (%)</td>\n",
       "      <td>Relative standard error of annual payroll (%)</td>\n",
       "      <td>Standard error of percent of annual payroll (%)</td>\n",
       "    </tr>\n",
       "    <tr>\n",
       "      <th>1</th>\n",
       "      <td>0100000US</td>\n",
       "      <td>NaN</td>\n",
       "      <td>United States</td>\n",
       "      <td>0</td>\n",
       "      <td>NaN</td>\n",
       "      <td>2</td>\n",
       "      <td>Total for all sectors</td>\n",
       "      <td>NaN</td>\n",
       "      <td>0</td>\n",
       "      <td>NaN</td>\n",
       "      <td>...</td>\n",
       "      <td>6937240308</td>\n",
       "      <td>X</td>\n",
       "      <td>0</td>\n",
       "      <td>X</td>\n",
       "      <td>1.2</td>\n",
       "      <td>X</td>\n",
       "      <td>0.5</td>\n",
       "      <td>X</td>\n",
       "      <td>0.5</td>\n",
       "      <td>X</td>\n",
       "    </tr>\n",
       "    <tr>\n",
       "      <th>2</th>\n",
       "      <td>0100000US</td>\n",
       "      <td>NaN</td>\n",
       "      <td>United States</td>\n",
       "      <td>0</td>\n",
       "      <td>NaN</td>\n",
       "      <td>2</td>\n",
       "      <td>Total for all sectors</td>\n",
       "      <td>NaN</td>\n",
       "      <td>0</td>\n",
       "      <td>NaN</td>\n",
       "      <td>...</td>\n",
       "      <td>454218390</td>\n",
       "      <td>14.2</td>\n",
       "      <td>0.4</td>\n",
       "      <td>0.6</td>\n",
       "      <td>1.3</td>\n",
       "      <td>66.8</td>\n",
       "      <td>1.1</td>\n",
       "      <td>61.6</td>\n",
       "      <td>1.3</td>\n",
       "      <td>67.2</td>\n",
       "    </tr>\n",
       "    <tr>\n",
       "      <th>3</th>\n",
       "      <td>0100000US</td>\n",
       "      <td>NaN</td>\n",
       "      <td>United States</td>\n",
       "      <td>0</td>\n",
       "      <td>NaN</td>\n",
       "      <td>2</td>\n",
       "      <td>Total for all sectors</td>\n",
       "      <td>NaN</td>\n",
       "      <td>0</td>\n",
       "      <td>NaN</td>\n",
       "      <td>...</td>\n",
       "      <td>478308387</td>\n",
       "      <td>15</td>\n",
       "      <td>0.6</td>\n",
       "      <td>0.3</td>\n",
       "      <td>3</td>\n",
       "      <td>87</td>\n",
       "      <td>1.5</td>\n",
       "      <td>68.9</td>\n",
       "      <td>2.7</td>\n",
       "      <td>77.9</td>\n",
       "    </tr>\n",
       "    <tr>\n",
       "      <th>4</th>\n",
       "      <td>0100000US</td>\n",
       "      <td>NaN</td>\n",
       "      <td>United States</td>\n",
       "      <td>0</td>\n",
       "      <td>NaN</td>\n",
       "      <td>2</td>\n",
       "      <td>Total for all sectors</td>\n",
       "      <td>NaN</td>\n",
       "      <td>0</td>\n",
       "      <td>NaN</td>\n",
       "      <td>...</td>\n",
       "      <td>75150602</td>\n",
       "      <td>2.4</td>\n",
       "      <td>2.5</td>\n",
       "      <td>0.1</td>\n",
       "      <td>7.8</td>\n",
       "      <td>12.4</td>\n",
       "      <td>4.8</td>\n",
       "      <td>7</td>\n",
       "      <td>4.2</td>\n",
       "      <td>10.1</td>\n",
       "    </tr>\n",
       "  </tbody>\n",
       "</table>\n",
       "<p>5 rows × 39 columns</p>\n",
       "</div>"
      ],
      "text/plain": [
       "      GEO_ID      GEO_ID_F                  NAME        NAICS2017  \\\n",
       "0         id  Geo Footnote  Geographic Area Name  2017 NAICS code   \n",
       "1  0100000US           NaN         United States                0   \n",
       "2  0100000US           NaN         United States                0   \n",
       "3  0100000US           NaN         United States                0   \n",
       "4  0100000US           NaN         United States                0   \n",
       "\n",
       "           NAICS2017_F        INDLEVEL        NAICS2017_LABEL        INDGROUP  \\\n",
       "0  2017 NAICS Footnote  Industry level  Meaning of NAICS code  Industry group   \n",
       "1                  NaN               2  Total for all sectors             NaN   \n",
       "2                  NaN               2  Total for all sectors             NaN   \n",
       "3                  NaN               2  Total for all sectors             NaN   \n",
       "4                  NaN               2  Total for all sectors             NaN   \n",
       "\n",
       "                   SECTOR  SUBSECTOR  ...                   PAYANN  \\\n",
       "0  NAICS economic sector   SUBSECTOR  ...  Annual payroll ($1,000)   \n",
       "1                       0        NaN  ...               6937240308   \n",
       "2                       0        NaN  ...                454218390   \n",
       "3                       0        NaN  ...                478308387   \n",
       "4                       0        NaN  ...                 75150602   \n",
       "\n",
       "                      PAYANN_PCT  \\\n",
       "0  Percent of annual payroll (%)   \n",
       "1                              X   \n",
       "2                           14.2   \n",
       "3                             15   \n",
       "4                            2.4   \n",
       "\n",
       "                                     FIRMPDEMP_S  \\\n",
       "0  Relative standard error of employer firms (%)   \n",
       "1                                              0   \n",
       "2                                            0.4   \n",
       "3                                            0.6   \n",
       "4                                            2.5   \n",
       "\n",
       "                                   FIRMPDEMP_PCT_S  \\\n",
       "0  Standard error of percent of employer firms (%)   \n",
       "1                                                X   \n",
       "2                                              0.6   \n",
       "3                                              0.3   \n",
       "4                                              0.1   \n",
       "\n",
       "                                          RCPPDEMP_S  \\\n",
       "0  Relative standard error of sales, value of shi...   \n",
       "1                                                1.2   \n",
       "2                                                1.3   \n",
       "3                                                  3   \n",
       "4                                                7.8   \n",
       "\n",
       "                                      RCPPDEMP_PCT_S  \\\n",
       "0  Standard error of percent of sales, value of s...   \n",
       "1                                                  X   \n",
       "2                                               66.8   \n",
       "3                                                 87   \n",
       "4                                               12.4   \n",
       "\n",
       "                                               EMP_S  \\\n",
       "0  Relative standard error of number of employees...   \n",
       "1                                                0.5   \n",
       "2                                                1.1   \n",
       "3                                                1.5   \n",
       "4                                                4.8   \n",
       "\n",
       "                                    EMP_PCT_S  \\\n",
       "0  Standard error of percent of employees (%)   \n",
       "1                                           X   \n",
       "2                                        61.6   \n",
       "3                                        68.9   \n",
       "4                                           7   \n",
       "\n",
       "                                        PAYANN_S  \\\n",
       "0  Relative standard error of annual payroll (%)   \n",
       "1                                            0.5   \n",
       "2                                            1.3   \n",
       "3                                            2.7   \n",
       "4                                            4.2   \n",
       "\n",
       "                                      PAYANN_PCT_S  \n",
       "0  Standard error of percent of annual payroll (%)  \n",
       "1                                                X  \n",
       "2                                             67.2  \n",
       "3                                             77.9  \n",
       "4                                             10.1  \n",
       "\n",
       "[5 rows x 39 columns]"
      ]
     },
     "execution_count": 51,
     "metadata": {},
     "output_type": "execute_result"
    }
   ],
   "source": [
    "B2019=pd.read_csv(r\"C:\\Users\\nbroo\\OneDrive\\Documents\\Data Science Final Group Project\\Women In Business Before And After The Pandemic\\2019 (2018) Census Business Data-2.csv\")\n",
    "B2019.head()"
   ]
  },
  {
   "cell_type": "code",
   "execution_count": 52,
   "id": "c33a3c3d",
   "metadata": {
    "scrolled": true
   },
   "outputs": [
    {
     "data": {
      "text/html": [
       "<div>\n",
       "<style scoped>\n",
       "    .dataframe tbody tr th:only-of-type {\n",
       "        vertical-align: middle;\n",
       "    }\n",
       "\n",
       "    .dataframe tbody tr th {\n",
       "        vertical-align: top;\n",
       "    }\n",
       "\n",
       "    .dataframe thead th {\n",
       "        text-align: right;\n",
       "    }\n",
       "</style>\n",
       "<table border=\"1\" class=\"dataframe\">\n",
       "  <thead>\n",
       "    <tr style=\"text-align: right;\">\n",
       "      <th></th>\n",
       "      <th>GEO_ID</th>\n",
       "      <th>GEO_ID_F</th>\n",
       "      <th>NAME</th>\n",
       "      <th>NAICS2017</th>\n",
       "      <th>NAICS2017_F</th>\n",
       "      <th>NAICS2017_LABEL</th>\n",
       "      <th>SEX</th>\n",
       "      <th>SEX_LABEL</th>\n",
       "      <th>ETH_GROUP</th>\n",
       "      <th>ETH_GROUP_LABEL</th>\n",
       "      <th>...</th>\n",
       "      <th>EMPSZFI_LABEL</th>\n",
       "      <th>YEAR</th>\n",
       "      <th>FIRMPDEMP</th>\n",
       "      <th>RCPPDEMP</th>\n",
       "      <th>EMP</th>\n",
       "      <th>PAYANN</th>\n",
       "      <th>FIRMPDEMP_S</th>\n",
       "      <th>RCPPDEMP_S</th>\n",
       "      <th>EMP_S</th>\n",
       "      <th>PAYANN_S</th>\n",
       "    </tr>\n",
       "  </thead>\n",
       "  <tbody>\n",
       "    <tr>\n",
       "      <th>0</th>\n",
       "      <td>id</td>\n",
       "      <td>Geo Footnote</td>\n",
       "      <td>Geographic Area Name</td>\n",
       "      <td>2017 NAICS code</td>\n",
       "      <td>2017 NAICS Footnote</td>\n",
       "      <td>Meaning of NAICS code</td>\n",
       "      <td>Sex code</td>\n",
       "      <td>Meaning of Sex code</td>\n",
       "      <td>Ethnicity code</td>\n",
       "      <td>Meaning of Ethnicity code</td>\n",
       "      <td>...</td>\n",
       "      <td>Meaning of Employment size of firms code</td>\n",
       "      <td>Year</td>\n",
       "      <td>Number of employer firms</td>\n",
       "      <td>Sales, value of shipments, or revenue of emplo...</td>\n",
       "      <td>Number of employees</td>\n",
       "      <td>Annual payroll ($1,000)</td>\n",
       "      <td>Relative standard error of employer firms (%)</td>\n",
       "      <td>Relative standard error of sales, value of shi...</td>\n",
       "      <td>Relative standard error of number of employees...</td>\n",
       "      <td>Relative standard error of annual payroll (%)</td>\n",
       "    </tr>\n",
       "    <tr>\n",
       "      <th>1</th>\n",
       "      <td>0100000US</td>\n",
       "      <td>NaN</td>\n",
       "      <td>United States</td>\n",
       "      <td>0</td>\n",
       "      <td>NaN</td>\n",
       "      <td>Total for all sectors</td>\n",
       "      <td>1</td>\n",
       "      <td>Total</td>\n",
       "      <td>1</td>\n",
       "      <td>Total</td>\n",
       "      <td>...</td>\n",
       "      <td>Firms with no employees</td>\n",
       "      <td>2019</td>\n",
       "      <td>730078</td>\n",
       "      <td>298164421</td>\n",
       "      <td>0</td>\n",
       "      <td>50074562</td>\n",
       "      <td>0.8</td>\n",
       "      <td>3.6</td>\n",
       "      <td>0</td>\n",
       "      <td>2.4</td>\n",
       "    </tr>\n",
       "    <tr>\n",
       "      <th>2</th>\n",
       "      <td>0100000US</td>\n",
       "      <td>NaN</td>\n",
       "      <td>United States</td>\n",
       "      <td>0</td>\n",
       "      <td>NaN</td>\n",
       "      <td>Total for all sectors</td>\n",
       "      <td>1</td>\n",
       "      <td>Total</td>\n",
       "      <td>1</td>\n",
       "      <td>Total</td>\n",
       "      <td>...</td>\n",
       "      <td>Firms with 1 to 4 employees</td>\n",
       "      <td>2019</td>\n",
       "      <td>2826849</td>\n",
       "      <td>1266736429</td>\n",
       "      <td>5632339</td>\n",
       "      <td>233431702</td>\n",
       "      <td>0.4</td>\n",
       "      <td>1.1</td>\n",
       "      <td>0.6</td>\n",
       "      <td>1.3</td>\n",
       "    </tr>\n",
       "    <tr>\n",
       "      <th>3</th>\n",
       "      <td>0100000US</td>\n",
       "      <td>NaN</td>\n",
       "      <td>United States</td>\n",
       "      <td>0</td>\n",
       "      <td>NaN</td>\n",
       "      <td>Total for all sectors</td>\n",
       "      <td>1</td>\n",
       "      <td>Total</td>\n",
       "      <td>1</td>\n",
       "      <td>Total</td>\n",
       "      <td>...</td>\n",
       "      <td>Firms with 5 to 9 employees</td>\n",
       "      <td>2019</td>\n",
       "      <td>959641</td>\n",
       "      <td>1142368704</td>\n",
       "      <td>6329828</td>\n",
       "      <td>257601290</td>\n",
       "      <td>1</td>\n",
       "      <td>1.5</td>\n",
       "      <td>0.9</td>\n",
       "      <td>1.1</td>\n",
       "    </tr>\n",
       "    <tr>\n",
       "      <th>4</th>\n",
       "      <td>0100000US</td>\n",
       "      <td>NaN</td>\n",
       "      <td>United States</td>\n",
       "      <td>0</td>\n",
       "      <td>NaN</td>\n",
       "      <td>Total for all sectors</td>\n",
       "      <td>1</td>\n",
       "      <td>Total</td>\n",
       "      <td>1</td>\n",
       "      <td>Total</td>\n",
       "      <td>...</td>\n",
       "      <td>Firms with 10 to 19 employees</td>\n",
       "      <td>2019</td>\n",
       "      <td>609335</td>\n",
       "      <td>1440258482</td>\n",
       "      <td>8211284</td>\n",
       "      <td>347772825</td>\n",
       "      <td>0.9</td>\n",
       "      <td>2.5</td>\n",
       "      <td>1</td>\n",
       "      <td>1.6</td>\n",
       "    </tr>\n",
       "  </tbody>\n",
       "</table>\n",
       "<p>5 rows × 25 columns</p>\n",
       "</div>"
      ],
      "text/plain": [
       "      GEO_ID      GEO_ID_F                  NAME        NAICS2017  \\\n",
       "0         id  Geo Footnote  Geographic Area Name  2017 NAICS code   \n",
       "1  0100000US           NaN         United States                0   \n",
       "2  0100000US           NaN         United States                0   \n",
       "3  0100000US           NaN         United States                0   \n",
       "4  0100000US           NaN         United States                0   \n",
       "\n",
       "           NAICS2017_F        NAICS2017_LABEL       SEX            SEX_LABEL  \\\n",
       "0  2017 NAICS Footnote  Meaning of NAICS code  Sex code  Meaning of Sex code   \n",
       "1                  NaN  Total for all sectors         1                Total   \n",
       "2                  NaN  Total for all sectors         1                Total   \n",
       "3                  NaN  Total for all sectors         1                Total   \n",
       "4                  NaN  Total for all sectors         1                Total   \n",
       "\n",
       "        ETH_GROUP            ETH_GROUP_LABEL  ...  \\\n",
       "0  Ethnicity code  Meaning of Ethnicity code  ...   \n",
       "1               1                      Total  ...   \n",
       "2               1                      Total  ...   \n",
       "3               1                      Total  ...   \n",
       "4               1                      Total  ...   \n",
       "\n",
       "                              EMPSZFI_LABEL  YEAR                 FIRMPDEMP  \\\n",
       "0  Meaning of Employment size of firms code  Year  Number of employer firms   \n",
       "1                   Firms with no employees  2019                    730078   \n",
       "2               Firms with 1 to 4 employees  2019                   2826849   \n",
       "3               Firms with 5 to 9 employees  2019                    959641   \n",
       "4             Firms with 10 to 19 employees  2019                    609335   \n",
       "\n",
       "                                            RCPPDEMP                  EMP  \\\n",
       "0  Sales, value of shipments, or revenue of emplo...  Number of employees   \n",
       "1                                          298164421                    0   \n",
       "2                                         1266736429              5632339   \n",
       "3                                         1142368704              6329828   \n",
       "4                                         1440258482              8211284   \n",
       "\n",
       "                    PAYANN                                    FIRMPDEMP_S  \\\n",
       "0  Annual payroll ($1,000)  Relative standard error of employer firms (%)   \n",
       "1                 50074562                                            0.8   \n",
       "2                233431702                                            0.4   \n",
       "3                257601290                                              1   \n",
       "4                347772825                                            0.9   \n",
       "\n",
       "                                          RCPPDEMP_S  \\\n",
       "0  Relative standard error of sales, value of shi...   \n",
       "1                                                3.6   \n",
       "2                                                1.1   \n",
       "3                                                1.5   \n",
       "4                                                2.5   \n",
       "\n",
       "                                               EMP_S  \\\n",
       "0  Relative standard error of number of employees...   \n",
       "1                                                  0   \n",
       "2                                                0.6   \n",
       "3                                                0.9   \n",
       "4                                                  1   \n",
       "\n",
       "                                        PAYANN_S  \n",
       "0  Relative standard error of annual payroll (%)  \n",
       "1                                            2.4  \n",
       "2                                            1.3  \n",
       "3                                            1.1  \n",
       "4                                            1.6  \n",
       "\n",
       "[5 rows x 25 columns]"
      ]
     },
     "execution_count": 52,
     "metadata": {},
     "output_type": "execute_result"
    }
   ],
   "source": [
    "B2020=pd.read_csv(r\"C:\\Users\\nbroo\\OneDrive\\Documents\\Data Science Final Group Project\\Women In Business Before And After The Pandemic\\2020 (2019) Census Business Data-2.csv\")\n",
    "B2020.head()"
   ]
  },
  {
   "cell_type": "markdown",
   "id": "de82b195",
   "metadata": {},
   "source": [
    "# Clean & Subset Datasets"
   ]
  },
  {
   "cell_type": "markdown",
   "id": "938f67f9",
   "metadata": {},
   "source": [
    "## Drop Unwanted Columns From Datasets"
   ]
  },
  {
   "cell_type": "code",
   "execution_count": 53,
   "id": "ed472165",
   "metadata": {},
   "outputs": [
    {
     "name": "stdout",
     "output_type": "stream",
     "text": [
      "<class 'pandas.core.frame.DataFrame'>\n",
      "RangeIndex: 26444 entries, 0 to 26443\n",
      "Data columns (total 29 columns):\n",
      " #   Column            Non-Null Count  Dtype \n",
      "---  ------            --------------  ----- \n",
      " 0   GEO_ID            26444 non-null  object\n",
      " 1   GEO_ID_F          1 non-null      object\n",
      " 2   NAME              26444 non-null  object\n",
      " 3   NAICS2017         26444 non-null  object\n",
      " 4   NAICS2017_LABEL   26444 non-null  object\n",
      " 5   INDLEVEL          26444 non-null  object\n",
      " 6   INDGROUP          1 non-null      object\n",
      " 7   SUBSECTOR         1 non-null      object\n",
      " 8   NAICS2017_F       4831 non-null   object\n",
      " 9   SECTOR            26444 non-null  object\n",
      " 10  SEX               26444 non-null  object\n",
      " 11  SEX_LABEL         26444 non-null  object\n",
      " 12  ETH_GROUP         26444 non-null  object\n",
      " 13  ETH_GROUP_LABEL   26444 non-null  object\n",
      " 14  RACE_GROUP        26444 non-null  object\n",
      " 15  RACE_GROUP_LABEL  26444 non-null  object\n",
      " 16  VET_GROUP         26444 non-null  object\n",
      " 17  VET_GROUP_LABEL   26444 non-null  object\n",
      " 18  EMPSZFI           26444 non-null  object\n",
      " 19  EMPSZFI_LABEL     26444 non-null  object\n",
      " 20  YEAR              26444 non-null  object\n",
      " 21  FIRMPDEMP         26444 non-null  object\n",
      " 22  RCPPDEMP          26444 non-null  object\n",
      " 23  EMP               26444 non-null  object\n",
      " 24  PAYANN            26444 non-null  object\n",
      " 25  FIRMPDEMP_S       26444 non-null  object\n",
      " 26  RCPPDEMP_S        26444 non-null  object\n",
      " 27  EMP_S             26444 non-null  object\n",
      " 28  PAYANN_S          26444 non-null  object\n",
      "dtypes: object(29)\n",
      "memory usage: 5.9+ MB\n"
     ]
    }
   ],
   "source": [
    "B2018.info()"
   ]
  },
  {
   "cell_type": "code",
   "execution_count": 54,
   "id": "6e101725",
   "metadata": {
    "scrolled": true
   },
   "outputs": [
    {
     "data": {
      "text/html": [
       "<div>\n",
       "<style scoped>\n",
       "    .dataframe tbody tr th:only-of-type {\n",
       "        vertical-align: middle;\n",
       "    }\n",
       "\n",
       "    .dataframe tbody tr th {\n",
       "        vertical-align: top;\n",
       "    }\n",
       "\n",
       "    .dataframe thead th {\n",
       "        text-align: right;\n",
       "    }\n",
       "</style>\n",
       "<table border=\"1\" class=\"dataframe\">\n",
       "  <thead>\n",
       "    <tr style=\"text-align: right;\">\n",
       "      <th></th>\n",
       "      <th>NAICS2017</th>\n",
       "      <th>SEX</th>\n",
       "      <th>ETH_GROUP</th>\n",
       "      <th>RACE_GROUP</th>\n",
       "      <th>YEAR</th>\n",
       "      <th>RCPPDEMP</th>\n",
       "      <th>EMP</th>\n",
       "    </tr>\n",
       "  </thead>\n",
       "  <tbody>\n",
       "    <tr>\n",
       "      <th>0</th>\n",
       "      <td>2017 NAICS code</td>\n",
       "      <td>Sex code</td>\n",
       "      <td>Ethnicity code</td>\n",
       "      <td>Race code</td>\n",
       "      <td>Year</td>\n",
       "      <td>Sales, value of shipments, or revenue of emplo...</td>\n",
       "      <td>Number of employees</td>\n",
       "    </tr>\n",
       "    <tr>\n",
       "      <th>1</th>\n",
       "      <td>0</td>\n",
       "      <td>1</td>\n",
       "      <td>1</td>\n",
       "      <td>0</td>\n",
       "      <td>2017</td>\n",
       "      <td>246491573</td>\n",
       "      <td>0</td>\n",
       "    </tr>\n",
       "    <tr>\n",
       "      <th>2</th>\n",
       "      <td>0</td>\n",
       "      <td>1</td>\n",
       "      <td>1</td>\n",
       "      <td>0</td>\n",
       "      <td>2017</td>\n",
       "      <td>1246892073</td>\n",
       "      <td>5737290</td>\n",
       "    </tr>\n",
       "    <tr>\n",
       "      <th>3</th>\n",
       "      <td>0</td>\n",
       "      <td>1</td>\n",
       "      <td>1</td>\n",
       "      <td>0</td>\n",
       "      <td>2017</td>\n",
       "      <td>1227385543</td>\n",
       "      <td>6299539</td>\n",
       "    </tr>\n",
       "    <tr>\n",
       "      <th>4</th>\n",
       "      <td>0</td>\n",
       "      <td>1</td>\n",
       "      <td>1</td>\n",
       "      <td>0</td>\n",
       "      <td>2017</td>\n",
       "      <td>1526806215</td>\n",
       "      <td>8228901</td>\n",
       "    </tr>\n",
       "  </tbody>\n",
       "</table>\n",
       "</div>"
      ],
      "text/plain": [
       "         NAICS2017       SEX       ETH_GROUP RACE_GROUP  YEAR  \\\n",
       "0  2017 NAICS code  Sex code  Ethnicity code  Race code  Year   \n",
       "1                0         1               1          0  2017   \n",
       "2                0         1               1          0  2017   \n",
       "3                0         1               1          0  2017   \n",
       "4                0         1               1          0  2017   \n",
       "\n",
       "                                            RCPPDEMP                  EMP  \n",
       "0  Sales, value of shipments, or revenue of emplo...  Number of employees  \n",
       "1                                          246491573                    0  \n",
       "2                                         1246892073              5737290  \n",
       "3                                         1227385543              6299539  \n",
       "4                                         1526806215              8228901  "
      ]
     },
     "execution_count": 54,
     "metadata": {},
     "output_type": "execute_result"
    }
   ],
   "source": [
    "B2018.drop(['GEO_ID', 'GEO_ID_F', 'NAME', 'INDLEVEL', 'NAICS2017_LABEL', 'INDGROUP', 'SECTOR', 'SUBSECTOR',  'NAICS2017_F', 'SEX_LABEL', 'ETH_GROUP_LABEL', 'RACE_GROUP_LABEL', 'VET_GROUP', 'VET_GROUP_LABEL', 'EMPSZFI', 'EMPSZFI_LABEL', 'FIRMPDEMP', 'PAYANN','FIRMPDEMP_S', 'RCPPDEMP_S', 'EMP_S', 'PAYANN_S'], axis = 1, inplace = True)\n",
    "B2018.head()"
   ]
  },
  {
   "cell_type": "code",
   "execution_count": 55,
   "id": "68f064a8",
   "metadata": {},
   "outputs": [
    {
     "name": "stdout",
     "output_type": "stream",
     "text": [
      "<class 'pandas.core.frame.DataFrame'>\n",
      "RangeIndex: 26444 entries, 0 to 26443\n",
      "Data columns (total 7 columns):\n",
      " #   Column      Non-Null Count  Dtype \n",
      "---  ------      --------------  ----- \n",
      " 0   NAICS2017   26444 non-null  object\n",
      " 1   SEX         26444 non-null  object\n",
      " 2   ETH_GROUP   26444 non-null  object\n",
      " 3   RACE_GROUP  26444 non-null  object\n",
      " 4   YEAR        26444 non-null  object\n",
      " 5   RCPPDEMP    26444 non-null  object\n",
      " 6   EMP         26444 non-null  object\n",
      "dtypes: object(7)\n",
      "memory usage: 1.4+ MB\n"
     ]
    }
   ],
   "source": [
    "B2018.info()"
   ]
  },
  {
   "cell_type": "code",
   "execution_count": 56,
   "id": "3e779ba9",
   "metadata": {
    "scrolled": true
   },
   "outputs": [
    {
     "data": {
      "text/html": [
       "<div>\n",
       "<style scoped>\n",
       "    .dataframe tbody tr th:only-of-type {\n",
       "        vertical-align: middle;\n",
       "    }\n",
       "\n",
       "    .dataframe tbody tr th {\n",
       "        vertical-align: top;\n",
       "    }\n",
       "\n",
       "    .dataframe thead th {\n",
       "        text-align: right;\n",
       "    }\n",
       "</style>\n",
       "<table border=\"1\" class=\"dataframe\">\n",
       "  <thead>\n",
       "    <tr style=\"text-align: right;\">\n",
       "      <th></th>\n",
       "      <th>NAICS2017</th>\n",
       "      <th>SEX</th>\n",
       "      <th>ETH_GROUP</th>\n",
       "      <th>RACE_GROUP</th>\n",
       "      <th>YEAR</th>\n",
       "      <th>RCPPDEMP</th>\n",
       "      <th>EMP</th>\n",
       "    </tr>\n",
       "  </thead>\n",
       "  <tbody>\n",
       "    <tr>\n",
       "      <th>0</th>\n",
       "      <td>2017 NAICS code</td>\n",
       "      <td>Sex code</td>\n",
       "      <td>Ethnicity code</td>\n",
       "      <td>Race code</td>\n",
       "      <td>Year</td>\n",
       "      <td>Sales, value of shipments, or revenue of emplo...</td>\n",
       "      <td>Number of employees</td>\n",
       "    </tr>\n",
       "    <tr>\n",
       "      <th>1</th>\n",
       "      <td>0</td>\n",
       "      <td>1</td>\n",
       "      <td>1</td>\n",
       "      <td>0</td>\n",
       "      <td>2018</td>\n",
       "      <td>38405539368</td>\n",
       "      <td>128196406</td>\n",
       "    </tr>\n",
       "    <tr>\n",
       "      <th>2</th>\n",
       "      <td>0</td>\n",
       "      <td>1</td>\n",
       "      <td>1</td>\n",
       "      <td>0</td>\n",
       "      <td>2018</td>\n",
       "      <td>2270021185</td>\n",
       "      <td>10991334</td>\n",
       "    </tr>\n",
       "    <tr>\n",
       "      <th>3</th>\n",
       "      <td>0</td>\n",
       "      <td>1</td>\n",
       "      <td>1</td>\n",
       "      <td>0</td>\n",
       "      <td>2018</td>\n",
       "      <td>2462681905</td>\n",
       "      <td>11240900</td>\n",
       "    </tr>\n",
       "    <tr>\n",
       "      <th>4</th>\n",
       "      <td>0</td>\n",
       "      <td>1</td>\n",
       "      <td>1</td>\n",
       "      <td>0</td>\n",
       "      <td>2018</td>\n",
       "      <td>413777541</td>\n",
       "      <td>1423837</td>\n",
       "    </tr>\n",
       "  </tbody>\n",
       "</table>\n",
       "</div>"
      ],
      "text/plain": [
       "         NAICS2017       SEX       ETH_GROUP RACE_GROUP  YEAR  \\\n",
       "0  2017 NAICS code  Sex code  Ethnicity code  Race code  Year   \n",
       "1                0         1               1          0  2018   \n",
       "2                0         1               1          0  2018   \n",
       "3                0         1               1          0  2018   \n",
       "4                0         1               1          0  2018   \n",
       "\n",
       "                                            RCPPDEMP                  EMP  \n",
       "0  Sales, value of shipments, or revenue of emplo...  Number of employees  \n",
       "1                                        38405539368            128196406  \n",
       "2                                         2270021185             10991334  \n",
       "3                                         2462681905             11240900  \n",
       "4                                          413777541              1423837  "
      ]
     },
     "execution_count": 56,
     "metadata": {},
     "output_type": "execute_result"
    }
   ],
   "source": [
    "B2019.drop(['GEO_ID', 'GEO_ID_F', 'NAME', 'INDLEVEL', 'NAICS2017_F', 'NAICS2017_LABEL', 'INDGROUP', 'SECTOR', 'SUBSECTOR', 'SEX_LABEL', 'ETH_GROUP_LABEL', 'RACE_GROUP_LABEL', 'VET_GROUP','VET_GROUP_LABEL', 'QDESC', 'QDESC_LABEL', 'BUSCHAR', 'BUSCHAR_LABEL', 'FIRMPDEMP', 'FIRMPDEMP_PCT', 'RCPPDEMP_PCT','PAYANN', 'PAYANN_PCT', 'FIRMPDEMP_S', 'FIRMPDEMP_PCT_S', 'RCPPDEMP_S', 'RCPPDEMP_PCT_S', 'EMP_S', 'EMP_PCT', 'EMP_PCT_S', 'PAYANN_S', 'PAYANN_PCT_S'], axis = 1, inplace = True)\n",
    "B2019.head()"
   ]
  },
  {
   "cell_type": "code",
   "execution_count": 57,
   "id": "438bd300",
   "metadata": {},
   "outputs": [
    {
     "name": "stdout",
     "output_type": "stream",
     "text": [
      "<class 'pandas.core.frame.DataFrame'>\n",
      "RangeIndex: 48738 entries, 0 to 48737\n",
      "Data columns (total 7 columns):\n",
      " #   Column      Non-Null Count  Dtype \n",
      "---  ------      --------------  ----- \n",
      " 0   NAICS2017   48738 non-null  object\n",
      " 1   SEX         48738 non-null  object\n",
      " 2   ETH_GROUP   48738 non-null  object\n",
      " 3   RACE_GROUP  48738 non-null  object\n",
      " 4   YEAR        48738 non-null  object\n",
      " 5   RCPPDEMP    48738 non-null  object\n",
      " 6   EMP         48738 non-null  object\n",
      "dtypes: object(7)\n",
      "memory usage: 2.6+ MB\n"
     ]
    }
   ],
   "source": [
    "B2019.info()"
   ]
  },
  {
   "cell_type": "code",
   "execution_count": 58,
   "id": "a1989420",
   "metadata": {},
   "outputs": [
    {
     "name": "stdout",
     "output_type": "stream",
     "text": [
      "<class 'pandas.core.frame.DataFrame'>\n",
      "RangeIndex: 15312 entries, 0 to 15311\n",
      "Data columns (total 25 columns):\n",
      " #   Column            Non-Null Count  Dtype \n",
      "---  ------            --------------  ----- \n",
      " 0   GEO_ID            15312 non-null  object\n",
      " 1   GEO_ID_F          1 non-null      object\n",
      " 2   NAME              15312 non-null  object\n",
      " 3   NAICS2017         15312 non-null  object\n",
      " 4   NAICS2017_F       2838 non-null   object\n",
      " 5   NAICS2017_LABEL   15312 non-null  object\n",
      " 6   SEX               15312 non-null  object\n",
      " 7   SEX_LABEL         15312 non-null  object\n",
      " 8   ETH_GROUP         15312 non-null  object\n",
      " 9   ETH_GROUP_LABEL   15312 non-null  object\n",
      " 10  RACE_GROUP        15312 non-null  object\n",
      " 11  RACE_GROUP_LABEL  15312 non-null  object\n",
      " 12  VET_GROUP         15312 non-null  object\n",
      " 13  VET_GROUP_LABEL   15312 non-null  object\n",
      " 14  EMPSZFI           15312 non-null  object\n",
      " 15  EMPSZFI_LABEL     15312 non-null  object\n",
      " 16  YEAR              15312 non-null  object\n",
      " 17  FIRMPDEMP         15312 non-null  object\n",
      " 18  RCPPDEMP          15312 non-null  object\n",
      " 19  EMP               15312 non-null  object\n",
      " 20  PAYANN            15312 non-null  object\n",
      " 21  FIRMPDEMP_S       15312 non-null  object\n",
      " 22  RCPPDEMP_S        15312 non-null  object\n",
      " 23  EMP_S             15312 non-null  object\n",
      " 24  PAYANN_S          15312 non-null  object\n",
      "dtypes: object(25)\n",
      "memory usage: 2.9+ MB\n"
     ]
    }
   ],
   "source": [
    "B2020.info()"
   ]
  },
  {
   "cell_type": "code",
   "execution_count": 59,
   "id": "14c53a38",
   "metadata": {
    "scrolled": false
   },
   "outputs": [
    {
     "data": {
      "text/html": [
       "<div>\n",
       "<style scoped>\n",
       "    .dataframe tbody tr th:only-of-type {\n",
       "        vertical-align: middle;\n",
       "    }\n",
       "\n",
       "    .dataframe tbody tr th {\n",
       "        vertical-align: top;\n",
       "    }\n",
       "\n",
       "    .dataframe thead th {\n",
       "        text-align: right;\n",
       "    }\n",
       "</style>\n",
       "<table border=\"1\" class=\"dataframe\">\n",
       "  <thead>\n",
       "    <tr style=\"text-align: right;\">\n",
       "      <th></th>\n",
       "      <th>NAICS2017</th>\n",
       "      <th>SEX</th>\n",
       "      <th>ETH_GROUP</th>\n",
       "      <th>RACE_GROUP</th>\n",
       "      <th>YEAR</th>\n",
       "      <th>RCPPDEMP</th>\n",
       "      <th>EMP</th>\n",
       "    </tr>\n",
       "  </thead>\n",
       "  <tbody>\n",
       "    <tr>\n",
       "      <th>0</th>\n",
       "      <td>2017 NAICS code</td>\n",
       "      <td>Sex code</td>\n",
       "      <td>Ethnicity code</td>\n",
       "      <td>Race code</td>\n",
       "      <td>Year</td>\n",
       "      <td>Sales, value of shipments, or revenue of emplo...</td>\n",
       "      <td>Number of employees</td>\n",
       "    </tr>\n",
       "    <tr>\n",
       "      <th>1</th>\n",
       "      <td>0</td>\n",
       "      <td>1</td>\n",
       "      <td>1</td>\n",
       "      <td>0</td>\n",
       "      <td>2019</td>\n",
       "      <td>298164421</td>\n",
       "      <td>0</td>\n",
       "    </tr>\n",
       "    <tr>\n",
       "      <th>2</th>\n",
       "      <td>0</td>\n",
       "      <td>1</td>\n",
       "      <td>1</td>\n",
       "      <td>0</td>\n",
       "      <td>2019</td>\n",
       "      <td>1266736429</td>\n",
       "      <td>5632339</td>\n",
       "    </tr>\n",
       "    <tr>\n",
       "      <th>3</th>\n",
       "      <td>0</td>\n",
       "      <td>1</td>\n",
       "      <td>1</td>\n",
       "      <td>0</td>\n",
       "      <td>2019</td>\n",
       "      <td>1142368704</td>\n",
       "      <td>6329828</td>\n",
       "    </tr>\n",
       "    <tr>\n",
       "      <th>4</th>\n",
       "      <td>0</td>\n",
       "      <td>1</td>\n",
       "      <td>1</td>\n",
       "      <td>0</td>\n",
       "      <td>2019</td>\n",
       "      <td>1440258482</td>\n",
       "      <td>8211284</td>\n",
       "    </tr>\n",
       "  </tbody>\n",
       "</table>\n",
       "</div>"
      ],
      "text/plain": [
       "         NAICS2017       SEX       ETH_GROUP RACE_GROUP  YEAR  \\\n",
       "0  2017 NAICS code  Sex code  Ethnicity code  Race code  Year   \n",
       "1                0         1               1          0  2019   \n",
       "2                0         1               1          0  2019   \n",
       "3                0         1               1          0  2019   \n",
       "4                0         1               1          0  2019   \n",
       "\n",
       "                                            RCPPDEMP                  EMP  \n",
       "0  Sales, value of shipments, or revenue of emplo...  Number of employees  \n",
       "1                                          298164421                    0  \n",
       "2                                         1266736429              5632339  \n",
       "3                                         1142368704              6329828  \n",
       "4                                         1440258482              8211284  "
      ]
     },
     "execution_count": 59,
     "metadata": {},
     "output_type": "execute_result"
    }
   ],
   "source": [
    "B2020.drop(['GEO_ID', 'GEO_ID_F', 'NAME', 'NAICS2017_F', 'NAICS2017_LABEL', 'SEX_LABEL', 'ETH_GROUP_LABEL', 'RACE_GROUP_LABEL', 'VET_GROUP', 'VET_GROUP_LABEL', 'EMPSZFI','EMPSZFI_LABEL', 'FIRMPDEMP','FIRMPDEMP_S', 'RCPPDEMP_S', 'EMP_S', 'PAYANN','PAYANN_S'], axis = 1, inplace = True)\n",
    "B2020.head()"
   ]
  },
  {
   "cell_type": "markdown",
   "id": "5b54c857",
   "metadata": {},
   "source": [
    "# Rename Columns"
   ]
  },
  {
   "cell_type": "code",
   "execution_count": 60,
   "id": "e489db16",
   "metadata": {},
   "outputs": [],
   "source": [
    "B2018_1 = B2018.rename(columns={'NAICS2017':'NAICS',\n",
    "                                       'SEX':'Owners_Sex',\n",
    "                                       'ETH_GROUP': 'Owners_Ethnicity', \n",
    "                                       'RACE_GROUP':'Owners_Race', \n",
    "                                        'YEAR':'Year',\n",
    "                                       'RCPPDEMP':'Sales', \n",
    "                                       'EMP': 'Employees'})"
   ]
  },
  {
   "cell_type": "code",
   "execution_count": 61,
   "id": "45368e1f",
   "metadata": {},
   "outputs": [
    {
     "data": {
      "text/html": [
       "<div>\n",
       "<style scoped>\n",
       "    .dataframe tbody tr th:only-of-type {\n",
       "        vertical-align: middle;\n",
       "    }\n",
       "\n",
       "    .dataframe tbody tr th {\n",
       "        vertical-align: top;\n",
       "    }\n",
       "\n",
       "    .dataframe thead th {\n",
       "        text-align: right;\n",
       "    }\n",
       "</style>\n",
       "<table border=\"1\" class=\"dataframe\">\n",
       "  <thead>\n",
       "    <tr style=\"text-align: right;\">\n",
       "      <th></th>\n",
       "      <th>NAICS</th>\n",
       "      <th>Owners_Sex</th>\n",
       "      <th>Owners_Ethnicity</th>\n",
       "      <th>Owners_Race</th>\n",
       "      <th>Year</th>\n",
       "      <th>Sales</th>\n",
       "      <th>Employees</th>\n",
       "    </tr>\n",
       "  </thead>\n",
       "  <tbody>\n",
       "    <tr>\n",
       "      <th>0</th>\n",
       "      <td>2017 NAICS code</td>\n",
       "      <td>Sex code</td>\n",
       "      <td>Ethnicity code</td>\n",
       "      <td>Race code</td>\n",
       "      <td>Year</td>\n",
       "      <td>Sales, value of shipments, or revenue of emplo...</td>\n",
       "      <td>Number of employees</td>\n",
       "    </tr>\n",
       "    <tr>\n",
       "      <th>1</th>\n",
       "      <td>0</td>\n",
       "      <td>1</td>\n",
       "      <td>1</td>\n",
       "      <td>0</td>\n",
       "      <td>2017</td>\n",
       "      <td>246491573</td>\n",
       "      <td>0</td>\n",
       "    </tr>\n",
       "    <tr>\n",
       "      <th>2</th>\n",
       "      <td>0</td>\n",
       "      <td>1</td>\n",
       "      <td>1</td>\n",
       "      <td>0</td>\n",
       "      <td>2017</td>\n",
       "      <td>1246892073</td>\n",
       "      <td>5737290</td>\n",
       "    </tr>\n",
       "    <tr>\n",
       "      <th>3</th>\n",
       "      <td>0</td>\n",
       "      <td>1</td>\n",
       "      <td>1</td>\n",
       "      <td>0</td>\n",
       "      <td>2017</td>\n",
       "      <td>1227385543</td>\n",
       "      <td>6299539</td>\n",
       "    </tr>\n",
       "    <tr>\n",
       "      <th>4</th>\n",
       "      <td>0</td>\n",
       "      <td>1</td>\n",
       "      <td>1</td>\n",
       "      <td>0</td>\n",
       "      <td>2017</td>\n",
       "      <td>1526806215</td>\n",
       "      <td>8228901</td>\n",
       "    </tr>\n",
       "  </tbody>\n",
       "</table>\n",
       "</div>"
      ],
      "text/plain": [
       "             NAICS Owners_Sex Owners_Ethnicity Owners_Race  Year  \\\n",
       "0  2017 NAICS code   Sex code   Ethnicity code   Race code  Year   \n",
       "1                0          1                1           0  2017   \n",
       "2                0          1                1           0  2017   \n",
       "3                0          1                1           0  2017   \n",
       "4                0          1                1           0  2017   \n",
       "\n",
       "                                               Sales            Employees  \n",
       "0  Sales, value of shipments, or revenue of emplo...  Number of employees  \n",
       "1                                          246491573                    0  \n",
       "2                                         1246892073              5737290  \n",
       "3                                         1227385543              6299539  \n",
       "4                                         1526806215              8228901  "
      ]
     },
     "execution_count": 61,
     "metadata": {},
     "output_type": "execute_result"
    }
   ],
   "source": [
    "B2018_1.head()"
   ]
  },
  {
   "cell_type": "code",
   "execution_count": 62,
   "id": "29748f7d",
   "metadata": {},
   "outputs": [],
   "source": [
    "B2019_1 = B2019.rename(columns={'NAICS2017':'NAICS',\n",
    "                                       'SEX':'Owners_Sex',\n",
    "                                       'ETH_GROUP': 'Owners_Ethnicity', \n",
    "                                       'RACE_GROUP':'Owners_Race', \n",
    "                                        'YEAR':'Year',\n",
    "                                       'RCPPDEMP':'Sales', \n",
    "                                       'EMP': 'Employees'})"
   ]
  },
  {
   "cell_type": "code",
   "execution_count": 63,
   "id": "523f5f41",
   "metadata": {},
   "outputs": [
    {
     "data": {
      "text/html": [
       "<div>\n",
       "<style scoped>\n",
       "    .dataframe tbody tr th:only-of-type {\n",
       "        vertical-align: middle;\n",
       "    }\n",
       "\n",
       "    .dataframe tbody tr th {\n",
       "        vertical-align: top;\n",
       "    }\n",
       "\n",
       "    .dataframe thead th {\n",
       "        text-align: right;\n",
       "    }\n",
       "</style>\n",
       "<table border=\"1\" class=\"dataframe\">\n",
       "  <thead>\n",
       "    <tr style=\"text-align: right;\">\n",
       "      <th></th>\n",
       "      <th>NAICS</th>\n",
       "      <th>Owners_Sex</th>\n",
       "      <th>Owners_Ethnicity</th>\n",
       "      <th>Owners_Race</th>\n",
       "      <th>Year</th>\n",
       "      <th>Sales</th>\n",
       "      <th>Employees</th>\n",
       "    </tr>\n",
       "  </thead>\n",
       "  <tbody>\n",
       "    <tr>\n",
       "      <th>0</th>\n",
       "      <td>2017 NAICS code</td>\n",
       "      <td>Sex code</td>\n",
       "      <td>Ethnicity code</td>\n",
       "      <td>Race code</td>\n",
       "      <td>Year</td>\n",
       "      <td>Sales, value of shipments, or revenue of emplo...</td>\n",
       "      <td>Number of employees</td>\n",
       "    </tr>\n",
       "    <tr>\n",
       "      <th>1</th>\n",
       "      <td>0</td>\n",
       "      <td>1</td>\n",
       "      <td>1</td>\n",
       "      <td>0</td>\n",
       "      <td>2018</td>\n",
       "      <td>38405539368</td>\n",
       "      <td>128196406</td>\n",
       "    </tr>\n",
       "    <tr>\n",
       "      <th>2</th>\n",
       "      <td>0</td>\n",
       "      <td>1</td>\n",
       "      <td>1</td>\n",
       "      <td>0</td>\n",
       "      <td>2018</td>\n",
       "      <td>2270021185</td>\n",
       "      <td>10991334</td>\n",
       "    </tr>\n",
       "    <tr>\n",
       "      <th>3</th>\n",
       "      <td>0</td>\n",
       "      <td>1</td>\n",
       "      <td>1</td>\n",
       "      <td>0</td>\n",
       "      <td>2018</td>\n",
       "      <td>2462681905</td>\n",
       "      <td>11240900</td>\n",
       "    </tr>\n",
       "    <tr>\n",
       "      <th>4</th>\n",
       "      <td>0</td>\n",
       "      <td>1</td>\n",
       "      <td>1</td>\n",
       "      <td>0</td>\n",
       "      <td>2018</td>\n",
       "      <td>413777541</td>\n",
       "      <td>1423837</td>\n",
       "    </tr>\n",
       "  </tbody>\n",
       "</table>\n",
       "</div>"
      ],
      "text/plain": [
       "             NAICS Owners_Sex Owners_Ethnicity Owners_Race  Year  \\\n",
       "0  2017 NAICS code   Sex code   Ethnicity code   Race code  Year   \n",
       "1                0          1                1           0  2018   \n",
       "2                0          1                1           0  2018   \n",
       "3                0          1                1           0  2018   \n",
       "4                0          1                1           0  2018   \n",
       "\n",
       "                                               Sales            Employees  \n",
       "0  Sales, value of shipments, or revenue of emplo...  Number of employees  \n",
       "1                                        38405539368            128196406  \n",
       "2                                         2270021185             10991334  \n",
       "3                                         2462681905             11240900  \n",
       "4                                          413777541              1423837  "
      ]
     },
     "execution_count": 63,
     "metadata": {},
     "output_type": "execute_result"
    }
   ],
   "source": [
    "B2019_1.head()"
   ]
  },
  {
   "cell_type": "code",
   "execution_count": 64,
   "id": "46bbef28",
   "metadata": {},
   "outputs": [],
   "source": [
    "B2020_1 = B2020.rename(columns={'NAICS2017':'NAICS',\n",
    "                                       'SEX':'Owners_Sex',\n",
    "                                       'ETH_GROUP': 'Owners_Ethnicity', \n",
    "                                       'RACE_GROUP':'Owners_Race', \n",
    "                                        'YEAR':'Year',\n",
    "                                       'RCPPDEMP':'Sales', \n",
    "                                       'EMP': 'Employees'})"
   ]
  },
  {
   "cell_type": "code",
   "execution_count": 65,
   "id": "97d67075",
   "metadata": {},
   "outputs": [
    {
     "name": "stdout",
     "output_type": "stream",
     "text": [
      "<class 'pandas.core.frame.DataFrame'>\n",
      "RangeIndex: 15312 entries, 0 to 15311\n",
      "Data columns (total 7 columns):\n",
      " #   Column            Non-Null Count  Dtype \n",
      "---  ------            --------------  ----- \n",
      " 0   NAICS             15312 non-null  object\n",
      " 1   Owners_Sex        15312 non-null  object\n",
      " 2   Owners_Ethnicity  15312 non-null  object\n",
      " 3   Owners_Race       15312 non-null  object\n",
      " 4   Year              15312 non-null  object\n",
      " 5   Sales             15312 non-null  object\n",
      " 6   Employees         15312 non-null  object\n",
      "dtypes: object(7)\n",
      "memory usage: 837.5+ KB\n"
     ]
    }
   ],
   "source": [
    "B2020_1.info()"
   ]
  },
  {
   "cell_type": "code",
   "execution_count": null,
   "id": "d62118d0",
   "metadata": {},
   "outputs": [],
   "source": []
  },
  {
   "cell_type": "markdown",
   "id": "cd1adaa8",
   "metadata": {},
   "source": [
    "## Get Unique Values & Counts of Sex Column For Datasets"
   ]
  },
  {
   "cell_type": "code",
   "execution_count": 66,
   "id": "e5d5b91f",
   "metadata": {},
   "outputs": [
    {
     "data": {
      "text/plain": [
       "array(['Sex code', '1', '2', '3', '4', '96', '98'], dtype=object)"
      ]
     },
     "execution_count": 66,
     "metadata": {},
     "output_type": "execute_result"
    }
   ],
   "source": [
    "B2018_1['Owners_Sex'].unique()"
   ]
  },
  {
   "cell_type": "code",
   "execution_count": 67,
   "id": "bc723eef",
   "metadata": {},
   "outputs": [
    {
     "data": {
      "text/plain": [
       "1           14378\n",
       "3            4555\n",
       "2            3786\n",
       "4            3349\n",
       "96            189\n",
       "98            186\n",
       "Sex code        1\n",
       "Name: Owners_Sex, dtype: int64"
      ]
     },
     "execution_count": 67,
     "metadata": {},
     "output_type": "execute_result"
    }
   ],
   "source": [
    "B2018_1.Owners_Sex.value_counts()"
   ]
  },
  {
   "cell_type": "code",
   "execution_count": 68,
   "id": "b4bff75c",
   "metadata": {
    "scrolled": true
   },
   "outputs": [
    {
     "data": {
      "text/plain": [
       "array(['Sex code', '1', '2', '3', '4', '96', '98', 2, 3, 4, 1, 96, 98],\n",
       "      dtype=object)"
      ]
     },
     "execution_count": 68,
     "metadata": {},
     "output_type": "execute_result"
    }
   ],
   "source": [
    "B2019_1['Owners_Sex'].unique()"
   ]
  },
  {
   "cell_type": "code",
   "execution_count": 69,
   "id": "473ddc3a",
   "metadata": {},
   "outputs": [
    {
     "data": {
      "text/plain": [
       "1           16380\n",
       "1            8224\n",
       "3            5285\n",
       "4            5036\n",
       "2            4564\n",
       "3            2764\n",
       "4            2587\n",
       "2            2273\n",
       "96            607\n",
       "98            482\n",
       "96            295\n",
       "98            240\n",
       "Sex code        1\n",
       "Name: Owners_Sex, dtype: int64"
      ]
     },
     "execution_count": 69,
     "metadata": {},
     "output_type": "execute_result"
    }
   ],
   "source": [
    "B2019_1.Owners_Sex.value_counts()"
   ]
  },
  {
   "cell_type": "code",
   "execution_count": 70,
   "id": "a016efc4",
   "metadata": {},
   "outputs": [
    {
     "data": {
      "text/plain": [
       "array(['Sex code', '1', '2', '3', '4', '96', '98'], dtype=object)"
      ]
     },
     "execution_count": 70,
     "metadata": {},
     "output_type": "execute_result"
    }
   ],
   "source": [
    "B2020_1['Owners_Sex'].unique()"
   ]
  },
  {
   "cell_type": "code",
   "execution_count": 71,
   "id": "0692508a",
   "metadata": {},
   "outputs": [
    {
     "data": {
      "text/plain": [
       "1           8329\n",
       "3           2490\n",
       "4           2075\n",
       "2           2044\n",
       "96           189\n",
       "98           184\n",
       "Sex code       1\n",
       "Name: Owners_Sex, dtype: int64"
      ]
     },
     "execution_count": 71,
     "metadata": {},
     "output_type": "execute_result"
    }
   ],
   "source": [
    "B2020_1.Owners_Sex.value_counts()"
   ]
  },
  {
   "cell_type": "markdown",
   "id": "472915e4",
   "metadata": {},
   "source": [
    "## Filter Male Owned Businesses Only"
   ]
  },
  {
   "cell_type": "code",
   "execution_count": 72,
   "id": "b4e5d21f",
   "metadata": {},
   "outputs": [],
   "source": [
    "MB2018 = B2018_1[(B2018_1['Owners_Sex'].isin(['1']))]"
   ]
  },
  {
   "cell_type": "code",
   "execution_count": 73,
   "id": "71e4ee28",
   "metadata": {},
   "outputs": [
    {
     "data": {
      "text/html": [
       "<div>\n",
       "<style scoped>\n",
       "    .dataframe tbody tr th:only-of-type {\n",
       "        vertical-align: middle;\n",
       "    }\n",
       "\n",
       "    .dataframe tbody tr th {\n",
       "        vertical-align: top;\n",
       "    }\n",
       "\n",
       "    .dataframe thead th {\n",
       "        text-align: right;\n",
       "    }\n",
       "</style>\n",
       "<table border=\"1\" class=\"dataframe\">\n",
       "  <thead>\n",
       "    <tr style=\"text-align: right;\">\n",
       "      <th></th>\n",
       "      <th>NAICS</th>\n",
       "      <th>Owners_Sex</th>\n",
       "      <th>Owners_Ethnicity</th>\n",
       "      <th>Owners_Race</th>\n",
       "      <th>Year</th>\n",
       "      <th>Sales</th>\n",
       "      <th>Employees</th>\n",
       "    </tr>\n",
       "  </thead>\n",
       "  <tbody>\n",
       "    <tr>\n",
       "      <th>1</th>\n",
       "      <td>0</td>\n",
       "      <td>1</td>\n",
       "      <td>1</td>\n",
       "      <td>0</td>\n",
       "      <td>2017</td>\n",
       "      <td>246491573</td>\n",
       "      <td>0</td>\n",
       "    </tr>\n",
       "    <tr>\n",
       "      <th>2</th>\n",
       "      <td>0</td>\n",
       "      <td>1</td>\n",
       "      <td>1</td>\n",
       "      <td>0</td>\n",
       "      <td>2017</td>\n",
       "      <td>1246892073</td>\n",
       "      <td>5737290</td>\n",
       "    </tr>\n",
       "    <tr>\n",
       "      <th>3</th>\n",
       "      <td>0</td>\n",
       "      <td>1</td>\n",
       "      <td>1</td>\n",
       "      <td>0</td>\n",
       "      <td>2017</td>\n",
       "      <td>1227385543</td>\n",
       "      <td>6299539</td>\n",
       "    </tr>\n",
       "    <tr>\n",
       "      <th>4</th>\n",
       "      <td>0</td>\n",
       "      <td>1</td>\n",
       "      <td>1</td>\n",
       "      <td>0</td>\n",
       "      <td>2017</td>\n",
       "      <td>1526806215</td>\n",
       "      <td>8228901</td>\n",
       "    </tr>\n",
       "    <tr>\n",
       "      <th>5</th>\n",
       "      <td>0</td>\n",
       "      <td>1</td>\n",
       "      <td>1</td>\n",
       "      <td>0</td>\n",
       "      <td>2017</td>\n",
       "      <td>2360974988</td>\n",
       "      <td>12314188</td>\n",
       "    </tr>\n",
       "  </tbody>\n",
       "</table>\n",
       "</div>"
      ],
      "text/plain": [
       "  NAICS Owners_Sex Owners_Ethnicity Owners_Race  Year       Sales Employees\n",
       "1     0          1                1           0  2017   246491573         0\n",
       "2     0          1                1           0  2017  1246892073   5737290\n",
       "3     0          1                1           0  2017  1227385543   6299539\n",
       "4     0          1                1           0  2017  1526806215   8228901\n",
       "5     0          1                1           0  2017  2360974988  12314188"
      ]
     },
     "execution_count": 73,
     "metadata": {},
     "output_type": "execute_result"
    }
   ],
   "source": [
    "MB2018.head()"
   ]
  },
  {
   "cell_type": "code",
   "execution_count": 74,
   "id": "40c5c91c",
   "metadata": {},
   "outputs": [],
   "source": [
    "MB2019 = B2019_1[(B2019_1['Owners_Sex'].isin(['1', 1]))]"
   ]
  },
  {
   "cell_type": "code",
   "execution_count": 75,
   "id": "32a8180a",
   "metadata": {},
   "outputs": [
    {
     "data": {
      "text/html": [
       "<div>\n",
       "<style scoped>\n",
       "    .dataframe tbody tr th:only-of-type {\n",
       "        vertical-align: middle;\n",
       "    }\n",
       "\n",
       "    .dataframe tbody tr th {\n",
       "        vertical-align: top;\n",
       "    }\n",
       "\n",
       "    .dataframe thead th {\n",
       "        text-align: right;\n",
       "    }\n",
       "</style>\n",
       "<table border=\"1\" class=\"dataframe\">\n",
       "  <thead>\n",
       "    <tr style=\"text-align: right;\">\n",
       "      <th></th>\n",
       "      <th>NAICS</th>\n",
       "      <th>Owners_Sex</th>\n",
       "      <th>Owners_Ethnicity</th>\n",
       "      <th>Owners_Race</th>\n",
       "      <th>Year</th>\n",
       "      <th>Sales</th>\n",
       "      <th>Employees</th>\n",
       "    </tr>\n",
       "  </thead>\n",
       "  <tbody>\n",
       "    <tr>\n",
       "      <th>1</th>\n",
       "      <td>0</td>\n",
       "      <td>1</td>\n",
       "      <td>1</td>\n",
       "      <td>0</td>\n",
       "      <td>2018</td>\n",
       "      <td>38405539368</td>\n",
       "      <td>128196406</td>\n",
       "    </tr>\n",
       "    <tr>\n",
       "      <th>2</th>\n",
       "      <td>0</td>\n",
       "      <td>1</td>\n",
       "      <td>1</td>\n",
       "      <td>0</td>\n",
       "      <td>2018</td>\n",
       "      <td>2270021185</td>\n",
       "      <td>10991334</td>\n",
       "    </tr>\n",
       "    <tr>\n",
       "      <th>3</th>\n",
       "      <td>0</td>\n",
       "      <td>1</td>\n",
       "      <td>1</td>\n",
       "      <td>0</td>\n",
       "      <td>2018</td>\n",
       "      <td>2462681905</td>\n",
       "      <td>11240900</td>\n",
       "    </tr>\n",
       "    <tr>\n",
       "      <th>4</th>\n",
       "      <td>0</td>\n",
       "      <td>1</td>\n",
       "      <td>1</td>\n",
       "      <td>0</td>\n",
       "      <td>2018</td>\n",
       "      <td>413777541</td>\n",
       "      <td>1423837</td>\n",
       "    </tr>\n",
       "    <tr>\n",
       "      <th>5</th>\n",
       "      <td>0</td>\n",
       "      <td>1</td>\n",
       "      <td>1</td>\n",
       "      <td>0</td>\n",
       "      <td>2018</td>\n",
       "      <td>6023549720</td>\n",
       "      <td>13448854</td>\n",
       "    </tr>\n",
       "  </tbody>\n",
       "</table>\n",
       "</div>"
      ],
      "text/plain": [
       "  NAICS Owners_Sex Owners_Ethnicity Owners_Race  Year        Sales  Employees\n",
       "1     0          1                1           0  2018  38405539368  128196406\n",
       "2     0          1                1           0  2018   2270021185   10991334\n",
       "3     0          1                1           0  2018   2462681905   11240900\n",
       "4     0          1                1           0  2018    413777541    1423837\n",
       "5     0          1                1           0  2018   6023549720   13448854"
      ]
     },
     "execution_count": 75,
     "metadata": {},
     "output_type": "execute_result"
    }
   ],
   "source": [
    "MB2019.head()"
   ]
  },
  {
   "cell_type": "code",
   "execution_count": 82,
   "id": "ec438808",
   "metadata": {},
   "outputs": [],
   "source": [
    "MB2020 = B2020_1[(B2020_1['Owners_Sex'].isin(['1']))]"
   ]
  },
  {
   "cell_type": "code",
   "execution_count": 83,
   "id": "f5d3dfaa",
   "metadata": {},
   "outputs": [
    {
     "data": {
      "text/html": [
       "<div>\n",
       "<style scoped>\n",
       "    .dataframe tbody tr th:only-of-type {\n",
       "        vertical-align: middle;\n",
       "    }\n",
       "\n",
       "    .dataframe tbody tr th {\n",
       "        vertical-align: top;\n",
       "    }\n",
       "\n",
       "    .dataframe thead th {\n",
       "        text-align: right;\n",
       "    }\n",
       "</style>\n",
       "<table border=\"1\" class=\"dataframe\">\n",
       "  <thead>\n",
       "    <tr style=\"text-align: right;\">\n",
       "      <th></th>\n",
       "      <th>NAICS</th>\n",
       "      <th>Owners_Sex</th>\n",
       "      <th>Owners_Ethnicity</th>\n",
       "      <th>Owners_Race</th>\n",
       "      <th>Year</th>\n",
       "      <th>Sales</th>\n",
       "      <th>Employees</th>\n",
       "    </tr>\n",
       "  </thead>\n",
       "  <tbody>\n",
       "    <tr>\n",
       "      <th>1</th>\n",
       "      <td>0</td>\n",
       "      <td>1</td>\n",
       "      <td>1</td>\n",
       "      <td>0</td>\n",
       "      <td>2019</td>\n",
       "      <td>298164421</td>\n",
       "      <td>0</td>\n",
       "    </tr>\n",
       "    <tr>\n",
       "      <th>2</th>\n",
       "      <td>0</td>\n",
       "      <td>1</td>\n",
       "      <td>1</td>\n",
       "      <td>0</td>\n",
       "      <td>2019</td>\n",
       "      <td>1266736429</td>\n",
       "      <td>5632339</td>\n",
       "    </tr>\n",
       "    <tr>\n",
       "      <th>3</th>\n",
       "      <td>0</td>\n",
       "      <td>1</td>\n",
       "      <td>1</td>\n",
       "      <td>0</td>\n",
       "      <td>2019</td>\n",
       "      <td>1142368704</td>\n",
       "      <td>6329828</td>\n",
       "    </tr>\n",
       "    <tr>\n",
       "      <th>4</th>\n",
       "      <td>0</td>\n",
       "      <td>1</td>\n",
       "      <td>1</td>\n",
       "      <td>0</td>\n",
       "      <td>2019</td>\n",
       "      <td>1440258482</td>\n",
       "      <td>8211284</td>\n",
       "    </tr>\n",
       "    <tr>\n",
       "      <th>5</th>\n",
       "      <td>0</td>\n",
       "      <td>1</td>\n",
       "      <td>1</td>\n",
       "      <td>0</td>\n",
       "      <td>2019</td>\n",
       "      <td>2445916742</td>\n",
       "      <td>12230321</td>\n",
       "    </tr>\n",
       "  </tbody>\n",
       "</table>\n",
       "</div>"
      ],
      "text/plain": [
       "  NAICS Owners_Sex Owners_Ethnicity Owners_Race  Year       Sales Employees\n",
       "1     0          1                1           0  2019   298164421         0\n",
       "2     0          1                1           0  2019  1266736429   5632339\n",
       "3     0          1                1           0  2019  1142368704   6329828\n",
       "4     0          1                1           0  2019  1440258482   8211284\n",
       "5     0          1                1           0  2019  2445916742  12230321"
      ]
     },
     "execution_count": 83,
     "metadata": {},
     "output_type": "execute_result"
    }
   ],
   "source": [
    "MB2020.head()"
   ]
  },
  {
   "cell_type": "markdown",
   "id": "da430646",
   "metadata": {},
   "source": [
    "\n",
    "# Convert datatype to integer "
   ]
  },
  {
   "cell_type": "code",
   "execution_count": 84,
   "id": "d5b00160",
   "metadata": {},
   "outputs": [],
   "source": [
    "MB2018_1= MB2018.apply(pd.to_numeric, errors='coerce')"
   ]
  },
  {
   "cell_type": "code",
   "execution_count": 85,
   "id": "44a56b52",
   "metadata": {},
   "outputs": [
    {
     "name": "stdout",
     "output_type": "stream",
     "text": [
      "<class 'pandas.core.frame.DataFrame'>\n",
      "Int64Index: 14378 entries, 1 to 26428\n",
      "Data columns (total 7 columns):\n",
      " #   Column            Non-Null Count  Dtype  \n",
      "---  ------            --------------  -----  \n",
      " 0   NAICS             14378 non-null  int64  \n",
      " 1   Owners_Sex        14378 non-null  int64  \n",
      " 2   Owners_Ethnicity  14378 non-null  int64  \n",
      " 3   Owners_Race       14378 non-null  int64  \n",
      " 4   Year              14378 non-null  int64  \n",
      " 5   Sales             9921 non-null   float64\n",
      " 6   Employees         9921 non-null   float64\n",
      "dtypes: float64(2), int64(5)\n",
      "memory usage: 898.6 KB\n"
     ]
    }
   ],
   "source": [
    "MB2018_1.info()"
   ]
  },
  {
   "cell_type": "code",
   "execution_count": 86,
   "id": "6500a5d3",
   "metadata": {},
   "outputs": [],
   "source": [
    "MB2019_1= MB2019.apply(pd.to_numeric, errors='coerce')"
   ]
  },
  {
   "cell_type": "code",
   "execution_count": 87,
   "id": "9dbce12f",
   "metadata": {},
   "outputs": [
    {
     "name": "stdout",
     "output_type": "stream",
     "text": [
      "<class 'pandas.core.frame.DataFrame'>\n",
      "Int64Index: 24604 entries, 1 to 48729\n",
      "Data columns (total 7 columns):\n",
      " #   Column            Non-Null Count  Dtype  \n",
      "---  ------            --------------  -----  \n",
      " 0   NAICS             24604 non-null  int64  \n",
      " 1   Owners_Sex        24604 non-null  int64  \n",
      " 2   Owners_Ethnicity  24604 non-null  int64  \n",
      " 3   Owners_Race       24604 non-null  int64  \n",
      " 4   Year              24604 non-null  int64  \n",
      " 5   Sales             1630 non-null   float64\n",
      " 6   Employees         17138 non-null  float64\n",
      "dtypes: float64(2), int64(5)\n",
      "memory usage: 1.5 MB\n"
     ]
    }
   ],
   "source": [
    "MB2019_1.info()"
   ]
  },
  {
   "cell_type": "code",
   "execution_count": 88,
   "id": "9c971527",
   "metadata": {},
   "outputs": [],
   "source": [
    "MB2020_1= MB2020.apply(pd.to_numeric, errors='coerce')"
   ]
  },
  {
   "cell_type": "code",
   "execution_count": 89,
   "id": "6fa153aa",
   "metadata": {},
   "outputs": [
    {
     "name": "stdout",
     "output_type": "stream",
     "text": [
      "<class 'pandas.core.frame.DataFrame'>\n",
      "Int64Index: 8329 entries, 1 to 15298\n",
      "Data columns (total 7 columns):\n",
      " #   Column            Non-Null Count  Dtype  \n",
      "---  ------            --------------  -----  \n",
      " 0   NAICS             8329 non-null   int64  \n",
      " 1   Owners_Sex        8329 non-null   int64  \n",
      " 2   Owners_Ethnicity  8329 non-null   int64  \n",
      " 3   Owners_Race       8329 non-null   int64  \n",
      " 4   Year              8329 non-null   int64  \n",
      " 5   Sales             421 non-null    float64\n",
      " 6   Employees         4823 non-null   float64\n",
      "dtypes: float64(2), int64(5)\n",
      "memory usage: 520.6 KB\n"
     ]
    }
   ],
   "source": [
    "MB2020_1.info()"
   ]
  },
  {
   "cell_type": "markdown",
   "id": "f76344f8",
   "metadata": {},
   "source": [
    "## Appending Male Only Datasets"
   ]
  },
  {
   "cell_type": "code",
   "execution_count": 90,
   "id": "d2ec0d22",
   "metadata": {},
   "outputs": [],
   "source": [
    "MBOmega = pd.concat([MB2018_1, MB2019_1, MB2020_1])"
   ]
  },
  {
   "cell_type": "code",
   "execution_count": 91,
   "id": "f5ceedda",
   "metadata": {},
   "outputs": [
    {
     "data": {
      "text/html": [
       "<div>\n",
       "<style scoped>\n",
       "    .dataframe tbody tr th:only-of-type {\n",
       "        vertical-align: middle;\n",
       "    }\n",
       "\n",
       "    .dataframe tbody tr th {\n",
       "        vertical-align: top;\n",
       "    }\n",
       "\n",
       "    .dataframe thead th {\n",
       "        text-align: right;\n",
       "    }\n",
       "</style>\n",
       "<table border=\"1\" class=\"dataframe\">\n",
       "  <thead>\n",
       "    <tr style=\"text-align: right;\">\n",
       "      <th></th>\n",
       "      <th>NAICS</th>\n",
       "      <th>Owners_Sex</th>\n",
       "      <th>Owners_Ethnicity</th>\n",
       "      <th>Owners_Race</th>\n",
       "      <th>Year</th>\n",
       "      <th>Sales</th>\n",
       "      <th>Employees</th>\n",
       "    </tr>\n",
       "  </thead>\n",
       "  <tbody>\n",
       "    <tr>\n",
       "      <th>1</th>\n",
       "      <td>0</td>\n",
       "      <td>1</td>\n",
       "      <td>1</td>\n",
       "      <td>0</td>\n",
       "      <td>2017</td>\n",
       "      <td>2.464916e+08</td>\n",
       "      <td>0.0</td>\n",
       "    </tr>\n",
       "    <tr>\n",
       "      <th>2</th>\n",
       "      <td>0</td>\n",
       "      <td>1</td>\n",
       "      <td>1</td>\n",
       "      <td>0</td>\n",
       "      <td>2017</td>\n",
       "      <td>1.246892e+09</td>\n",
       "      <td>5737290.0</td>\n",
       "    </tr>\n",
       "    <tr>\n",
       "      <th>3</th>\n",
       "      <td>0</td>\n",
       "      <td>1</td>\n",
       "      <td>1</td>\n",
       "      <td>0</td>\n",
       "      <td>2017</td>\n",
       "      <td>1.227386e+09</td>\n",
       "      <td>6299539.0</td>\n",
       "    </tr>\n",
       "    <tr>\n",
       "      <th>4</th>\n",
       "      <td>0</td>\n",
       "      <td>1</td>\n",
       "      <td>1</td>\n",
       "      <td>0</td>\n",
       "      <td>2017</td>\n",
       "      <td>1.526806e+09</td>\n",
       "      <td>8228901.0</td>\n",
       "    </tr>\n",
       "    <tr>\n",
       "      <th>5</th>\n",
       "      <td>0</td>\n",
       "      <td>1</td>\n",
       "      <td>1</td>\n",
       "      <td>0</td>\n",
       "      <td>2017</td>\n",
       "      <td>2.360975e+09</td>\n",
       "      <td>12314188.0</td>\n",
       "    </tr>\n",
       "  </tbody>\n",
       "</table>\n",
       "</div>"
      ],
      "text/plain": [
       "   NAICS  Owners_Sex  Owners_Ethnicity  Owners_Race  Year         Sales  \\\n",
       "1      0           1                 1            0  2017  2.464916e+08   \n",
       "2      0           1                 1            0  2017  1.246892e+09   \n",
       "3      0           1                 1            0  2017  1.227386e+09   \n",
       "4      0           1                 1            0  2017  1.526806e+09   \n",
       "5      0           1                 1            0  2017  2.360975e+09   \n",
       "\n",
       "    Employees  \n",
       "1         0.0  \n",
       "2   5737290.0  \n",
       "3   6299539.0  \n",
       "4   8228901.0  \n",
       "5  12314188.0  "
      ]
     },
     "execution_count": 91,
     "metadata": {},
     "output_type": "execute_result"
    }
   ],
   "source": [
    "MBOmega.head()"
   ]
  },
  {
   "cell_type": "code",
   "execution_count": null,
   "id": "005efddf",
   "metadata": {},
   "outputs": [],
   "source": []
  },
  {
   "cell_type": "markdown",
   "id": "e56aac7a",
   "metadata": {},
   "source": [
    "# Determine which sectors were predominantly male-owned:"
   ]
  },
  {
   "cell_type": "markdown",
   "id": "9718bb40",
   "metadata": {},
   "source": [
    "## 2018"
   ]
  },
  {
   "cell_type": "code",
   "execution_count": 93,
   "id": "189e85d3",
   "metadata": {},
   "outputs": [
    {
     "data": {
      "text/plain": [
       "0     995\n",
       "54    844\n",
       "72    841\n",
       "44    834\n",
       "56    829\n",
       "62    829\n",
       "31    781\n",
       "23    777\n",
       "48    768\n",
       "42    747\n",
       "81    732\n",
       "53    673\n",
       "51    666\n",
       "52    644\n",
       "71    634\n",
       "61    619\n",
       "55    599\n",
       "11    465\n",
       "21    397\n",
       "99    378\n",
       "22    326\n",
       "Name: NAICS, dtype: int64"
      ]
     },
     "execution_count": 93,
     "metadata": {},
     "output_type": "execute_result"
    }
   ],
   "source": [
    "MB2018_1.NAICS.value_counts()"
   ]
  },
  {
   "cell_type": "markdown",
   "id": "84f4c356",
   "metadata": {},
   "source": [
    "### (1) Professional/Scientific/Technical Servicess, (2) Accommodation and Food Services, (3) Retail Trade, (4) Administrative and Support and Waste Management and Remediation Services, (5) Healthcare and Social Assistance"
   ]
  },
  {
   "cell_type": "markdown",
   "id": "6dce6c9a",
   "metadata": {},
   "source": [
    "## 2019"
   ]
  },
  {
   "cell_type": "code",
   "execution_count": 94,
   "id": "66a0db4a",
   "metadata": {
    "scrolled": true
   },
   "outputs": [
    {
     "data": {
      "text/plain": [
       "0     1963\n",
       "54    1331\n",
       "31    1295\n",
       "62    1262\n",
       "42    1250\n",
       "44    1249\n",
       "51    1239\n",
       "48    1228\n",
       "56    1223\n",
       "23    1220\n",
       "53    1209\n",
       "72    1190\n",
       "52    1168\n",
       "81    1150\n",
       "71    1062\n",
       "99    1039\n",
       "61    1032\n",
       "21     947\n",
       "55     905\n",
       "11     834\n",
       "22     808\n",
       "Name: NAICS, dtype: int64"
      ]
     },
     "execution_count": 94,
     "metadata": {},
     "output_type": "execute_result"
    }
   ],
   "source": [
    "MB2019_1.NAICS.value_counts()"
   ]
  },
  {
   "cell_type": "markdown",
   "id": "90a05d01",
   "metadata": {},
   "source": [
    "### (1) Professional, scientific, and Technical Services, (2) Manufacturing, (3) Healthcare and Social Assistance, (4) Wholesale Trade, (5) Retail Trade"
   ]
  },
  {
   "cell_type": "markdown",
   "id": "9469da80",
   "metadata": {},
   "source": [
    "## 2020"
   ]
  },
  {
   "cell_type": "code",
   "execution_count": 95,
   "id": "fc8c3ef0",
   "metadata": {},
   "outputs": [
    {
     "data": {
      "text/plain": [
       "0     525\n",
       "54    466\n",
       "31    461\n",
       "72    460\n",
       "48    459\n",
       "56    453\n",
       "62    451\n",
       "23    442\n",
       "44    436\n",
       "42    419\n",
       "81    411\n",
       "51    401\n",
       "53    371\n",
       "55    367\n",
       "71    359\n",
       "61    355\n",
       "52    355\n",
       "11    315\n",
       "21    312\n",
       "22    259\n",
       "99    252\n",
       "Name: NAICS, dtype: int64"
      ]
     },
     "execution_count": 95,
     "metadata": {},
     "output_type": "execute_result"
    }
   ],
   "source": [
    "MB2020_1.NAICS.value_counts()"
   ]
  },
  {
   "cell_type": "markdown",
   "id": "46d64fd4",
   "metadata": {},
   "source": [
    "### (1) Professional, Scientific, and Technical Services, (2) Manufacturing, (3) Accomodation and Food Services, (4) Transportation and Warehousing, (5) Administrative and Support and Waste Management and Remediation Services"
   ]
  },
  {
   "cell_type": "markdown",
   "id": "067af145",
   "metadata": {},
   "source": [
    "## 2018 - 2020"
   ]
  },
  {
   "cell_type": "code",
   "execution_count": 96,
   "id": "dc4aa1c0",
   "metadata": {},
   "outputs": [
    {
     "data": {
      "text/plain": [
       "0     3483\n",
       "54    2641\n",
       "62    2542\n",
       "31    2537\n",
       "44    2519\n",
       "56    2505\n",
       "72    2491\n",
       "48    2455\n",
       "23    2439\n",
       "42    2416\n",
       "51    2306\n",
       "81    2293\n",
       "53    2253\n",
       "52    2167\n",
       "71    2055\n",
       "61    2006\n",
       "55    1871\n",
       "99    1669\n",
       "21    1656\n",
       "11    1614\n",
       "22    1393\n",
       "Name: NAICS, dtype: int64"
      ]
     },
     "execution_count": 96,
     "metadata": {},
     "output_type": "execute_result"
    }
   ],
   "source": [
    "MBOmega.NAICS.value_counts()"
   ]
  },
  {
   "cell_type": "markdown",
   "id": "00585be9",
   "metadata": {},
   "source": [
    "### (1) Professional, Scientific, and Technical Services, (2) Healthcare and Social Assistance, (3) Manufacturing, (4) Retail Trade, (5) Administrative and Support and Waste Management and Remediation Services"
   ]
  },
  {
   "cell_type": "markdown",
   "id": "21e1331f",
   "metadata": {},
   "source": [
    "# Total And Average Sales For Male Businesses Each Year"
   ]
  },
  {
   "cell_type": "markdown",
   "id": "46cb3c6c",
   "metadata": {},
   "source": [
    "## 2018"
   ]
  },
  {
   "cell_type": "code",
   "execution_count": 97,
   "id": "071dda4e",
   "metadata": {},
   "outputs": [],
   "source": [
    "MBSales18 = MB2018_1['Sales']"
   ]
  },
  {
   "cell_type": "code",
   "execution_count": 98,
   "id": "e33ddebc",
   "metadata": {},
   "outputs": [],
   "source": [
    "MBSales18_total = MBSales18.sum()"
   ]
  },
  {
   "cell_type": "code",
   "execution_count": 99,
   "id": "b5bc3652",
   "metadata": {},
   "outputs": [
    {
     "data": {
      "text/plain": [
       "280122182749.0"
      ]
     },
     "execution_count": 99,
     "metadata": {},
     "output_type": "execute_result"
    }
   ],
   "source": [
    "MBSales18_total"
   ]
  },
  {
   "cell_type": "code",
   "execution_count": null,
   "id": "a9fa601d",
   "metadata": {},
   "outputs": [],
   "source": []
  },
  {
   "cell_type": "code",
   "execution_count": 100,
   "id": "d95e4175",
   "metadata": {},
   "outputs": [],
   "source": [
    "MBSales18_avg = np.nanmean(MBSales18)"
   ]
  },
  {
   "cell_type": "code",
   "execution_count": 101,
   "id": "77f1583d",
   "metadata": {},
   "outputs": [
    {
     "data": {
      "text/plain": [
       "28235276.962906964"
      ]
     },
     "execution_count": 101,
     "metadata": {},
     "output_type": "execute_result"
    }
   ],
   "source": [
    "MBSales18_avg"
   ]
  },
  {
   "cell_type": "code",
   "execution_count": null,
   "id": "6223c90a",
   "metadata": {},
   "outputs": [],
   "source": []
  },
  {
   "cell_type": "markdown",
   "id": "a71e5d97",
   "metadata": {},
   "source": [
    "## 2019"
   ]
  },
  {
   "cell_type": "code",
   "execution_count": 102,
   "id": "24a87133",
   "metadata": {},
   "outputs": [],
   "source": [
    "MBSales19 = MB2019_1['Sales']"
   ]
  },
  {
   "cell_type": "code",
   "execution_count": 103,
   "id": "ef5e17e2",
   "metadata": {},
   "outputs": [],
   "source": [
    "MBSales19_total = MBSales19.sum()"
   ]
  },
  {
   "cell_type": "code",
   "execution_count": 104,
   "id": "6bb8071a",
   "metadata": {},
   "outputs": [
    {
     "data": {
      "text/plain": [
       "1543636133427.0"
      ]
     },
     "execution_count": 104,
     "metadata": {},
     "output_type": "execute_result"
    }
   ],
   "source": [
    "MBSales19_total"
   ]
  },
  {
   "cell_type": "code",
   "execution_count": null,
   "id": "90c88fe5",
   "metadata": {},
   "outputs": [],
   "source": []
  },
  {
   "cell_type": "code",
   "execution_count": 105,
   "id": "8f18ed4a",
   "metadata": {},
   "outputs": [],
   "source": [
    "MBSales19_avg = np.nanmean(MBSales19)"
   ]
  },
  {
   "cell_type": "code",
   "execution_count": 106,
   "id": "e6d3a032",
   "metadata": {},
   "outputs": [
    {
     "data": {
      "text/plain": [
       "947016032.7773006"
      ]
     },
     "execution_count": 106,
     "metadata": {},
     "output_type": "execute_result"
    }
   ],
   "source": [
    "MBSales19_avg"
   ]
  },
  {
   "cell_type": "code",
   "execution_count": null,
   "id": "9dae7cd1",
   "metadata": {},
   "outputs": [],
   "source": []
  },
  {
   "cell_type": "markdown",
   "id": "87a89c3d",
   "metadata": {},
   "source": [
    "## 2020"
   ]
  },
  {
   "cell_type": "code",
   "execution_count": 107,
   "id": "26f629b7",
   "metadata": {},
   "outputs": [],
   "source": [
    "MBSales20 = MB2020_1['Sales']"
   ]
  },
  {
   "cell_type": "code",
   "execution_count": 108,
   "id": "ad09b5da",
   "metadata": {},
   "outputs": [],
   "source": [
    "MBSales20_total = MBSales20.sum()"
   ]
  },
  {
   "cell_type": "code",
   "execution_count": 109,
   "id": "e72030f7",
   "metadata": {},
   "outputs": [
    {
     "data": {
      "text/plain": [
       "160225447869.0"
      ]
     },
     "execution_count": 109,
     "metadata": {},
     "output_type": "execute_result"
    }
   ],
   "source": [
    "MBSales20_total"
   ]
  },
  {
   "cell_type": "code",
   "execution_count": null,
   "id": "deaee787",
   "metadata": {},
   "outputs": [],
   "source": []
  },
  {
   "cell_type": "code",
   "execution_count": 110,
   "id": "5f003eab",
   "metadata": {},
   "outputs": [],
   "source": [
    "MBSales20_avg = np.nanmean(MBSales20)"
   ]
  },
  {
   "cell_type": "code",
   "execution_count": 111,
   "id": "8eea9d78",
   "metadata": {},
   "outputs": [
    {
     "data": {
      "text/plain": [
       "380583011.5653207"
      ]
     },
     "execution_count": 111,
     "metadata": {},
     "output_type": "execute_result"
    }
   ],
   "source": [
    "MBSales20_avg "
   ]
  },
  {
   "cell_type": "code",
   "execution_count": null,
   "id": "567ac36d",
   "metadata": {},
   "outputs": [],
   "source": []
  },
  {
   "cell_type": "markdown",
   "id": "412f3cf1",
   "metadata": {},
   "source": [
    "## 2018 - 2020"
   ]
  },
  {
   "cell_type": "code",
   "execution_count": 112,
   "id": "e3276445",
   "metadata": {},
   "outputs": [],
   "source": [
    "MBSales = MBOmega['Sales']"
   ]
  },
  {
   "cell_type": "code",
   "execution_count": 113,
   "id": "d8511a6e",
   "metadata": {},
   "outputs": [],
   "source": [
    "MBSales_1 = MBSales.sum()"
   ]
  },
  {
   "cell_type": "code",
   "execution_count": 114,
   "id": "590d0c96",
   "metadata": {},
   "outputs": [
    {
     "data": {
      "text/plain": [
       "1983983764045.0"
      ]
     },
     "execution_count": 114,
     "metadata": {},
     "output_type": "execute_result"
    }
   ],
   "source": [
    "MBSales_1"
   ]
  },
  {
   "cell_type": "code",
   "execution_count": null,
   "id": "0d7e483a",
   "metadata": {},
   "outputs": [],
   "source": []
  },
  {
   "cell_type": "code",
   "execution_count": 115,
   "id": "8428af03",
   "metadata": {},
   "outputs": [],
   "source": [
    "MBSales_avg = np.nanmean(MBSales_1)"
   ]
  },
  {
   "cell_type": "code",
   "execution_count": 116,
   "id": "889d1291",
   "metadata": {},
   "outputs": [
    {
     "data": {
      "text/plain": [
       "1983983764045.0"
      ]
     },
     "execution_count": 116,
     "metadata": {},
     "output_type": "execute_result"
    }
   ],
   "source": [
    "MBSales_avg"
   ]
  },
  {
   "cell_type": "code",
   "execution_count": null,
   "id": "828cae28",
   "metadata": {},
   "outputs": [],
   "source": [
    "### The average sales from 2018-2020 are "
   ]
  },
  {
   "cell_type": "markdown",
   "id": "7d42db1f",
   "metadata": {},
   "source": [
    "# Growth Rate 2018 - 2020"
   ]
  },
  {
   "cell_type": "code",
   "execution_count": 128,
   "id": "e62957fb",
   "metadata": {},
   "outputs": [],
   "source": [
    "MBSales_growth = (160225447869/280122182749)**(1/3.0)-1"
   ]
  },
  {
   "cell_type": "code",
   "execution_count": 129,
   "id": "3a6974f4",
   "metadata": {},
   "outputs": [
    {
     "name": "stdout",
     "output_type": "stream",
     "text": [
      "Male Businesses had a CAGR of -16.99% \n"
     ]
    }
   ],
   "source": [
    "print ('Male Businesses had a CAGR of {:.2%} '.format(MBSales_growth))"
   ]
  },
  {
   "cell_type": "markdown",
   "id": "76b6d2d1",
   "metadata": {},
   "source": [
    "# Determine t Tests"
   ]
  },
  {
   "cell_type": "code",
   "execution_count": 204,
   "id": "c379a533",
   "metadata": {},
   "outputs": [],
   "source": [
    "from scipy import stats"
   ]
  },
  {
   "cell_type": "code",
   "execution_count": 207,
   "id": "539139fd",
   "metadata": {},
   "outputs": [
    {
     "data": {
      "text/plain": [
       "<AxesSubplot:>"
      ]
     },
     "execution_count": 207,
     "metadata": {},
     "output_type": "execute_result"
    },
    {
     "data": {
      "image/png": "[encoded data removed]",
      "text/plain": [
       "<Figure size 432x288 with 1 Axes>"
      ]
     },
     "metadata": {
      "needs_background": "light"
     },
     "output_type": "display_data"
    }
   ],
   "source": [
    "MBOmega['Owners_Race'].hist()"
   ]
  },
  {
   "cell_type": "code",
   "execution_count": null,
   "id": "a05d5f62",
   "metadata": {},
   "outputs": [],
   "source": []
  },
  {
   "cell_type": "code",
   "execution_count": 211,
   "id": "d312b640",
   "metadata": {},
   "outputs": [
    {
     "data": {
      "text/plain": [
       "<AxesSubplot:>"
      ]
     },
     "execution_count": 211,
     "metadata": {},
     "output_type": "execute_result"
    },
    {
     "data": {
      "image/png": "[encoded data removed]",
      "text/plain": [
       "<Figure size 432x288 with 1 Axes>"
      ]
     },
     "metadata": {
      "needs_background": "light"
     },
     "output_type": "display_data"
    }
   ],
   "source": [
    "MBOmega['Owners_Ethnicity'].hist()"
   ]
  },
  {
   "cell_type": "code",
   "execution_count": null,
   "id": "1fd33257",
   "metadata": {},
   "outputs": [],
   "source": []
  },
  {
   "cell_type": "code",
   "execution_count": 210,
   "id": "d966b962",
   "metadata": {
    "scrolled": false
   },
   "outputs": [
    {
     "data": {
      "text/plain": [
       "<AxesSubplot:>"
      ]
     },
     "execution_count": 210,
     "metadata": {},
     "output_type": "execute_result"
    },
    {
     "data": {
      "image/png": "[encoded data removed]",
      "text/plain": [
       "<Figure size 432x288 with 1 Axes>"
      ]
     },
     "metadata": {
      "needs_background": "light"
     },
     "output_type": "display_data"
    }
   ],
   "source": [
    "MBOmega['Sales'].hist()"
   ]
  },
  {
   "cell_type": "code",
   "execution_count": 212,
   "id": "d9078fa1",
   "metadata": {
    "scrolled": false
   },
   "outputs": [
    {
     "data": {
      "text/plain": [
       "<AxesSubplot:>"
      ]
     },
     "execution_count": 212,
     "metadata": {},
     "output_type": "execute_result"
    },
    {
     "data": {
      "image/png": "[encoded data removed]",
      "text/plain": [
       "<Figure size 432x288 with 1 Axes>"
      ]
     },
     "metadata": {
      "needs_background": "light"
     },
     "output_type": "display_data"
    }
   ],
   "source": [
    "MBOmega['NAICS'].hist()"
   ]
  },
  {
   "cell_type": "code",
   "execution_count": null,
   "id": "9e3be861",
   "metadata": {},
   "outputs": [],
   "source": []
  },
  {
   "cell_type": "code",
   "execution_count": null,
   "id": "7a05668b",
   "metadata": {},
   "outputs": [],
   "source": []
  },
  {
   "cell_type": "markdown",
   "id": "09c75262",
   "metadata": {},
   "source": [
    "## Filter Female Owned Businesses Only"
   ]
  },
  {
   "cell_type": "code",
   "execution_count": 19,
   "id": "07ce8aab",
   "metadata": {},
   "outputs": [],
   "source": [
    "WB2018 = WB2018[(WB2018['SEX'].isin(['2']))]"
   ]
  },
  {
   "cell_type": "markdown",
   "id": "221ad9be",
   "metadata": {},
   "source": [
    "### Confirming correct number of rows"
   ]
  },
  {
   "cell_type": "code",
   "execution_count": 20,
   "id": "ed7af8e8",
   "metadata": {},
   "outputs": [
    {
     "data": {
      "text/plain": [
       "(3786, 10)"
      ]
     },
     "execution_count": 20,
     "metadata": {},
     "output_type": "execute_result"
    }
   ],
   "source": [
    "WB2018.shape"
   ]
  },
  {
   "cell_type": "code",
   "execution_count": 21,
   "id": "265b48b0",
   "metadata": {},
   "outputs": [
    {
     "data": {
      "text/html": [
       "<div>\n",
       "<style scoped>\n",
       "    .dataframe tbody tr th:only-of-type {\n",
       "        vertical-align: middle;\n",
       "    }\n",
       "\n",
       "    .dataframe tbody tr th {\n",
       "        vertical-align: top;\n",
       "    }\n",
       "\n",
       "    .dataframe thead th {\n",
       "        text-align: right;\n",
       "    }\n",
       "</style>\n",
       "<table border=\"1\" class=\"dataframe\">\n",
       "  <thead>\n",
       "    <tr style=\"text-align: right;\">\n",
       "      <th></th>\n",
       "      <th>NAICS2017</th>\n",
       "      <th>SEX</th>\n",
       "      <th>ETH_GROUP</th>\n",
       "      <th>RACE_GROUP</th>\n",
       "      <th>VET_GROUP</th>\n",
       "      <th>YEAR</th>\n",
       "      <th>RCPPDEMP</th>\n",
       "      <th>EMP</th>\n",
       "      <th>RCPPDEMP_S</th>\n",
       "      <th>EMP_S</th>\n",
       "    </tr>\n",
       "  </thead>\n",
       "  <tbody>\n",
       "    <tr>\n",
       "      <th>10</th>\n",
       "      <td>0</td>\n",
       "      <td>2</td>\n",
       "      <td>1</td>\n",
       "      <td>0</td>\n",
       "      <td>1</td>\n",
       "      <td>2017</td>\n",
       "      <td>36812734</td>\n",
       "      <td>0</td>\n",
       "      <td>3.6</td>\n",
       "      <td>0</td>\n",
       "    </tr>\n",
       "    <tr>\n",
       "      <th>11</th>\n",
       "      <td>0</td>\n",
       "      <td>2</td>\n",
       "      <td>1</td>\n",
       "      <td>0</td>\n",
       "      <td>1</td>\n",
       "      <td>2017</td>\n",
       "      <td>198569002</td>\n",
       "      <td>1175259</td>\n",
       "      <td>1.5</td>\n",
       "      <td>0.4</td>\n",
       "    </tr>\n",
       "    <tr>\n",
       "      <th>12</th>\n",
       "      <td>0</td>\n",
       "      <td>2</td>\n",
       "      <td>1</td>\n",
       "      <td>0</td>\n",
       "      <td>1</td>\n",
       "      <td>2017</td>\n",
       "      <td>171844455</td>\n",
       "      <td>1204041</td>\n",
       "      <td>1.6</td>\n",
       "      <td>1</td>\n",
       "    </tr>\n",
       "    <tr>\n",
       "      <th>13</th>\n",
       "      <td>0</td>\n",
       "      <td>2</td>\n",
       "      <td>1</td>\n",
       "      <td>0</td>\n",
       "      <td>1</td>\n",
       "      <td>2017</td>\n",
       "      <td>197197685</td>\n",
       "      <td>1491334</td>\n",
       "      <td>2</td>\n",
       "      <td>1.2</td>\n",
       "    </tr>\n",
       "    <tr>\n",
       "      <th>14</th>\n",
       "      <td>0</td>\n",
       "      <td>2</td>\n",
       "      <td>1</td>\n",
       "      <td>0</td>\n",
       "      <td>1</td>\n",
       "      <td>2017</td>\n",
       "      <td>256368241</td>\n",
       "      <td>1898285</td>\n",
       "      <td>3.7</td>\n",
       "      <td>1.2</td>\n",
       "    </tr>\n",
       "  </tbody>\n",
       "</table>\n",
       "</div>"
      ],
      "text/plain": [
       "   NAICS2017 SEX ETH_GROUP RACE_GROUP VET_GROUP  YEAR   RCPPDEMP      EMP  \\\n",
       "10         0   2         1          0         1  2017   36812734        0   \n",
       "11         0   2         1          0         1  2017  198569002  1175259   \n",
       "12         0   2         1          0         1  2017  171844455  1204041   \n",
       "13         0   2         1          0         1  2017  197197685  1491334   \n",
       "14         0   2         1          0         1  2017  256368241  1898285   \n",
       "\n",
       "   RCPPDEMP_S EMP_S  \n",
       "10        3.6     0  \n",
       "11        1.5   0.4  \n",
       "12        1.6     1  \n",
       "13          2   1.2  \n",
       "14        3.7   1.2  "
      ]
     },
     "execution_count": 21,
     "metadata": {},
     "output_type": "execute_result"
    }
   ],
   "source": [
    "WB2018.head()"
   ]
  },
  {
   "cell_type": "markdown",
   "id": "1dca5e79",
   "metadata": {},
   "source": [
    "### Since the 2019 dataset has two types of '2' (which represents women), to combine said values"
   ]
  },
  {
   "cell_type": "code",
   "execution_count": 22,
   "id": "1f930f80",
   "metadata": {},
   "outputs": [],
   "source": [
    "WB2019 = WB2019[(WB2019['SEX'].isin(['2', 2]))]"
   ]
  },
  {
   "cell_type": "markdown",
   "id": "92154283",
   "metadata": {},
   "source": [
    "### Confirming correct number of rows"
   ]
  },
  {
   "cell_type": "code",
   "execution_count": 23,
   "id": "4328f942",
   "metadata": {
    "scrolled": true
   },
   "outputs": [
    {
     "data": {
      "text/plain": [
       "(6837, 9)"
      ]
     },
     "execution_count": 23,
     "metadata": {},
     "output_type": "execute_result"
    }
   ],
   "source": [
    "WB2019.shape"
   ]
  },
  {
   "cell_type": "code",
   "execution_count": 24,
   "id": "e2ca3f9e",
   "metadata": {
    "scrolled": true
   },
   "outputs": [
    {
     "data": {
      "text/html": [
       "<div>\n",
       "<style scoped>\n",
       "    .dataframe tbody tr th:only-of-type {\n",
       "        vertical-align: middle;\n",
       "    }\n",
       "\n",
       "    .dataframe tbody tr th {\n",
       "        vertical-align: top;\n",
       "    }\n",
       "\n",
       "    .dataframe thead th {\n",
       "        text-align: right;\n",
       "    }\n",
       "</style>\n",
       "<table border=\"1\" class=\"dataframe\">\n",
       "  <thead>\n",
       "    <tr style=\"text-align: right;\">\n",
       "      <th></th>\n",
       "      <th>NAICS2017</th>\n",
       "      <th>SEX</th>\n",
       "      <th>ETH_GROUP</th>\n",
       "      <th>RACE_GROUP</th>\n",
       "      <th>VET_GROUP</th>\n",
       "      <th>RCPPDEMP</th>\n",
       "      <th>EMP</th>\n",
       "      <th>RCPPDEMP_S</th>\n",
       "      <th>EMP_S</th>\n",
       "    </tr>\n",
       "  </thead>\n",
       "  <tbody>\n",
       "    <tr>\n",
       "      <th>9</th>\n",
       "      <td>0</td>\n",
       "      <td>2</td>\n",
       "      <td>1</td>\n",
       "      <td>0</td>\n",
       "      <td>1</td>\n",
       "      <td>1776835350</td>\n",
       "      <td>10149257</td>\n",
       "      <td>4.5</td>\n",
       "      <td>1.9</td>\n",
       "    </tr>\n",
       "    <tr>\n",
       "      <th>10</th>\n",
       "      <td>0</td>\n",
       "      <td>2</td>\n",
       "      <td>1</td>\n",
       "      <td>0</td>\n",
       "      <td>1</td>\n",
       "      <td>282385501</td>\n",
       "      <td>2150147</td>\n",
       "      <td>6.1</td>\n",
       "      <td>3</td>\n",
       "    </tr>\n",
       "    <tr>\n",
       "      <th>11</th>\n",
       "      <td>0</td>\n",
       "      <td>2</td>\n",
       "      <td>1</td>\n",
       "      <td>0</td>\n",
       "      <td>1</td>\n",
       "      <td>267427453</td>\n",
       "      <td>1499541</td>\n",
       "      <td>8.2</td>\n",
       "      <td>2.8</td>\n",
       "    </tr>\n",
       "    <tr>\n",
       "      <th>12</th>\n",
       "      <td>0</td>\n",
       "      <td>2</td>\n",
       "      <td>1</td>\n",
       "      <td>0</td>\n",
       "      <td>1</td>\n",
       "      <td>31555727</td>\n",
       "      <td>127916</td>\n",
       "      <td>22.3</td>\n",
       "      <td>18.4</td>\n",
       "    </tr>\n",
       "    <tr>\n",
       "      <th>13</th>\n",
       "      <td>0</td>\n",
       "      <td>2</td>\n",
       "      <td>1</td>\n",
       "      <td>0</td>\n",
       "      <td>1</td>\n",
       "      <td>S</td>\n",
       "      <td>25,000 to 49,999 employees</td>\n",
       "      <td>S</td>\n",
       "      <td>S</td>\n",
       "    </tr>\n",
       "  </tbody>\n",
       "</table>\n",
       "</div>"
      ],
      "text/plain": [
       "   NAICS2017 SEX ETH_GROUP RACE_GROUP VET_GROUP    RCPPDEMP  \\\n",
       "9          0   2         1          0         1  1776835350   \n",
       "10         0   2         1          0         1   282385501   \n",
       "11         0   2         1          0         1   267427453   \n",
       "12         0   2         1          0         1    31555727   \n",
       "13         0   2         1          0         1           S   \n",
       "\n",
       "                           EMP RCPPDEMP_S EMP_S  \n",
       "9                     10149257        4.5   1.9  \n",
       "10                     2150147        6.1     3  \n",
       "11                     1499541        8.2   2.8  \n",
       "12                      127916       22.3  18.4  \n",
       "13  25,000 to 49,999 employees          S     S  "
      ]
     },
     "execution_count": 24,
     "metadata": {},
     "output_type": "execute_result"
    }
   ],
   "source": [
    "WB2019.head()"
   ]
  },
  {
   "cell_type": "code",
   "execution_count": 25,
   "id": "4899c1a5",
   "metadata": {},
   "outputs": [],
   "source": [
    "WB2020 = WB2020[(WB2020['SEX'].isin(['002']))]"
   ]
  },
  {
   "cell_type": "markdown",
   "id": "48d9c91a",
   "metadata": {},
   "source": [
    "### Confirming correct number of rows"
   ]
  },
  {
   "cell_type": "code",
   "execution_count": 26,
   "id": "9a904ebf",
   "metadata": {
    "scrolled": true
   },
   "outputs": [
    {
     "data": {
      "text/plain": [
       "(2044, 9)"
      ]
     },
     "execution_count": 26,
     "metadata": {},
     "output_type": "execute_result"
    }
   ],
   "source": [
    "WB2020.shape"
   ]
  },
  {
   "cell_type": "code",
   "execution_count": 27,
   "id": "8dc68968",
   "metadata": {},
   "outputs": [
    {
     "data": {
      "text/html": [
       "<div>\n",
       "<style scoped>\n",
       "    .dataframe tbody tr th:only-of-type {\n",
       "        vertical-align: middle;\n",
       "    }\n",
       "\n",
       "    .dataframe tbody tr th {\n",
       "        vertical-align: top;\n",
       "    }\n",
       "\n",
       "    .dataframe thead th {\n",
       "        text-align: right;\n",
       "    }\n",
       "</style>\n",
       "<table border=\"1\" class=\"dataframe\">\n",
       "  <thead>\n",
       "    <tr style=\"text-align: right;\">\n",
       "      <th></th>\n",
       "      <th>NAICS2017</th>\n",
       "      <th>SEX</th>\n",
       "      <th>ETH_GROUP</th>\n",
       "      <th>RACE_GROUP</th>\n",
       "      <th>VET_GROUP</th>\n",
       "      <th>RCPPDEMP</th>\n",
       "      <th>EMP</th>\n",
       "      <th>RCPPDEMP_S</th>\n",
       "      <th>EMP_S</th>\n",
       "    </tr>\n",
       "  </thead>\n",
       "  <tbody>\n",
       "    <tr>\n",
       "      <th>10</th>\n",
       "      <td>00</td>\n",
       "      <td>002</td>\n",
       "      <td>001</td>\n",
       "      <td>00</td>\n",
       "      <td>001</td>\n",
       "      <td>47463228</td>\n",
       "      <td>0</td>\n",
       "      <td>4.6</td>\n",
       "      <td>0.0</td>\n",
       "    </tr>\n",
       "    <tr>\n",
       "      <th>11</th>\n",
       "      <td>00</td>\n",
       "      <td>002</td>\n",
       "      <td>001</td>\n",
       "      <td>00</td>\n",
       "      <td>001</td>\n",
       "      <td>222730769</td>\n",
       "      <td>1221369</td>\n",
       "      <td>1.9</td>\n",
       "      <td>1.1</td>\n",
       "    </tr>\n",
       "    <tr>\n",
       "      <th>12</th>\n",
       "      <td>00</td>\n",
       "      <td>002</td>\n",
       "      <td>001</td>\n",
       "      <td>00</td>\n",
       "      <td>001</td>\n",
       "      <td>179280512</td>\n",
       "      <td>1318130</td>\n",
       "      <td>3.2</td>\n",
       "      <td>1.6</td>\n",
       "    </tr>\n",
       "    <tr>\n",
       "      <th>13</th>\n",
       "      <td>00</td>\n",
       "      <td>002</td>\n",
       "      <td>001</td>\n",
       "      <td>00</td>\n",
       "      <td>001</td>\n",
       "      <td>218176483</td>\n",
       "      <td>1610482</td>\n",
       "      <td>4.3</td>\n",
       "      <td>2.4</td>\n",
       "    </tr>\n",
       "    <tr>\n",
       "      <th>14</th>\n",
       "      <td>00</td>\n",
       "      <td>002</td>\n",
       "      <td>001</td>\n",
       "      <td>00</td>\n",
       "      <td>001</td>\n",
       "      <td>301700718</td>\n",
       "      <td>2120580</td>\n",
       "      <td>7.3</td>\n",
       "      <td>4.3</td>\n",
       "    </tr>\n",
       "  </tbody>\n",
       "</table>\n",
       "</div>"
      ],
      "text/plain": [
       "   NAICS2017  SEX ETH_GROUP RACE_GROUP VET_GROUP   RCPPDEMP      EMP  \\\n",
       "10        00  002       001         00       001   47463228        0   \n",
       "11        00  002       001         00       001  222730769  1221369   \n",
       "12        00  002       001         00       001  179280512  1318130   \n",
       "13        00  002       001         00       001  218176483  1610482   \n",
       "14        00  002       001         00       001  301700718  2120580   \n",
       "\n",
       "   RCPPDEMP_S EMP_S  \n",
       "10        4.6   0.0  \n",
       "11        1.9   1.1  \n",
       "12        3.2   1.6  \n",
       "13        4.3   2.4  \n",
       "14        7.3   4.3  "
      ]
     },
     "execution_count": 27,
     "metadata": {},
     "output_type": "execute_result"
    }
   ],
   "source": [
    "WB2020.head()"
   ]
  },
  {
   "cell_type": "markdown",
   "id": "da4c22fc",
   "metadata": {},
   "source": [
    "# Rename Columns"
   ]
  },
  {
   "cell_type": "code",
   "execution_count": 29,
   "id": "f3f2403b",
   "metadata": {
    "scrolled": true
   },
   "outputs": [
    {
     "data": {
      "text/html": [
       "<div>\n",
       "<style scoped>\n",
       "    .dataframe tbody tr th:only-of-type {\n",
       "        vertical-align: middle;\n",
       "    }\n",
       "\n",
       "    .dataframe tbody tr th {\n",
       "        vertical-align: top;\n",
       "    }\n",
       "\n",
       "    .dataframe thead th {\n",
       "        text-align: right;\n",
       "    }\n",
       "</style>\n",
       "<table border=\"1\" class=\"dataframe\">\n",
       "  <thead>\n",
       "    <tr style=\"text-align: right;\">\n",
       "      <th></th>\n",
       "      <th>NAICS</th>\n",
       "      <th>Owners_Sex</th>\n",
       "      <th>Owners_Ethnicity</th>\n",
       "      <th>Owners_Race</th>\n",
       "      <th>Vet_Status</th>\n",
       "      <th>YEAR</th>\n",
       "      <th>Sales</th>\n",
       "      <th>Employees</th>\n",
       "      <th>Sales_Std_Error</th>\n",
       "      <th>Employees_Std_Error</th>\n",
       "    </tr>\n",
       "  </thead>\n",
       "  <tbody>\n",
       "    <tr>\n",
       "      <th>10</th>\n",
       "      <td>0</td>\n",
       "      <td>2</td>\n",
       "      <td>1</td>\n",
       "      <td>0</td>\n",
       "      <td>1</td>\n",
       "      <td>2017</td>\n",
       "      <td>36812734</td>\n",
       "      <td>0</td>\n",
       "      <td>3.6</td>\n",
       "      <td>0</td>\n",
       "    </tr>\n",
       "    <tr>\n",
       "      <th>11</th>\n",
       "      <td>0</td>\n",
       "      <td>2</td>\n",
       "      <td>1</td>\n",
       "      <td>0</td>\n",
       "      <td>1</td>\n",
       "      <td>2017</td>\n",
       "      <td>198569002</td>\n",
       "      <td>1175259</td>\n",
       "      <td>1.5</td>\n",
       "      <td>0.4</td>\n",
       "    </tr>\n",
       "    <tr>\n",
       "      <th>12</th>\n",
       "      <td>0</td>\n",
       "      <td>2</td>\n",
       "      <td>1</td>\n",
       "      <td>0</td>\n",
       "      <td>1</td>\n",
       "      <td>2017</td>\n",
       "      <td>171844455</td>\n",
       "      <td>1204041</td>\n",
       "      <td>1.6</td>\n",
       "      <td>1</td>\n",
       "    </tr>\n",
       "    <tr>\n",
       "      <th>13</th>\n",
       "      <td>0</td>\n",
       "      <td>2</td>\n",
       "      <td>1</td>\n",
       "      <td>0</td>\n",
       "      <td>1</td>\n",
       "      <td>2017</td>\n",
       "      <td>197197685</td>\n",
       "      <td>1491334</td>\n",
       "      <td>2</td>\n",
       "      <td>1.2</td>\n",
       "    </tr>\n",
       "    <tr>\n",
       "      <th>14</th>\n",
       "      <td>0</td>\n",
       "      <td>2</td>\n",
       "      <td>1</td>\n",
       "      <td>0</td>\n",
       "      <td>1</td>\n",
       "      <td>2017</td>\n",
       "      <td>256368241</td>\n",
       "      <td>1898285</td>\n",
       "      <td>3.7</td>\n",
       "      <td>1.2</td>\n",
       "    </tr>\n",
       "  </tbody>\n",
       "</table>\n",
       "</div>"
      ],
      "text/plain": [
       "   NAICS Owners_Sex Owners_Ethnicity Owners_Race Vet_Status  YEAR      Sales  \\\n",
       "10     0          2                1           0          1  2017   36812734   \n",
       "11     0          2                1           0          1  2017  198569002   \n",
       "12     0          2                1           0          1  2017  171844455   \n",
       "13     0          2                1           0          1  2017  197197685   \n",
       "14     0          2                1           0          1  2017  256368241   \n",
       "\n",
       "   Employees Sales_Std_Error Employees_Std_Error  \n",
       "10         0             3.6                   0  \n",
       "11   1175259             1.5                 0.4  \n",
       "12   1204041             1.6                   1  \n",
       "13   1491334               2                 1.2  \n",
       "14   1898285             3.7                 1.2  "
      ]
     },
     "execution_count": 29,
     "metadata": {},
     "output_type": "execute_result"
    }
   ],
   "source": [
    "WB2018_1.head()"
   ]
  },
  {
   "cell_type": "code",
   "execution_count": 30,
   "id": "6fbd14c2",
   "metadata": {},
   "outputs": [
    {
     "name": "stdout",
     "output_type": "stream",
     "text": [
      "<class 'pandas.core.frame.DataFrame'>\n",
      "Int64Index: 3786 entries, 10 to 26303\n",
      "Data columns (total 10 columns):\n",
      " #   Column               Non-Null Count  Dtype \n",
      "---  ------               --------------  ----- \n",
      " 0   NAICS                3786 non-null   object\n",
      " 1   Owners_Sex           3786 non-null   object\n",
      " 2   Owners_Ethnicity     3786 non-null   object\n",
      " 3   Owners_Race          3786 non-null   object\n",
      " 4   Vet_Status           3786 non-null   object\n",
      " 5   YEAR                 3786 non-null   object\n",
      " 6   Sales                3786 non-null   object\n",
      " 7   Employees            3786 non-null   object\n",
      " 8   Sales_Std_Error      3786 non-null   object\n",
      " 9   Employees_Std_Error  3786 non-null   object\n",
      "dtypes: object(10)\n",
      "memory usage: 325.4+ KB\n"
     ]
    }
   ],
   "source": [
    "WB2018_1.info()"
   ]
  },
  {
   "cell_type": "code",
   "execution_count": 31,
   "id": "42dc8b41",
   "metadata": {},
   "outputs": [],
   "source": [
    "WB2019_1 = WB2019.rename(columns={'NAICS2017':'NAICS',\n",
    "                                       'SEX':'Owners_Sex',\n",
    "                                       'ETH_GROUP': 'Owners_Ethnicity', \n",
    "                                       'RACE_GROUP':'Owners_Race', \n",
    "                                       'VET_GROUP':'Vet_Status', \n",
    "                                       'RCPPDEMP':'Sales', \n",
    "                                       'EMP': 'Employees', \n",
    "                                       'RCPPDEMP_S':'Sales_Std_Error', \n",
    "                                       'EMP_S':'Employees_Std_Error'})"
   ]
  },
  {
   "cell_type": "code",
   "execution_count": 32,
   "id": "7eb8a45d",
   "metadata": {},
   "outputs": [
    {
     "data": {
      "text/html": [
       "<div>\n",
       "<style scoped>\n",
       "    .dataframe tbody tr th:only-of-type {\n",
       "        vertical-align: middle;\n",
       "    }\n",
       "\n",
       "    .dataframe tbody tr th {\n",
       "        vertical-align: top;\n",
       "    }\n",
       "\n",
       "    .dataframe thead th {\n",
       "        text-align: right;\n",
       "    }\n",
       "</style>\n",
       "<table border=\"1\" class=\"dataframe\">\n",
       "  <thead>\n",
       "    <tr style=\"text-align: right;\">\n",
       "      <th></th>\n",
       "      <th>NAICS</th>\n",
       "      <th>Owners_Sex</th>\n",
       "      <th>Owners_Ethnicity</th>\n",
       "      <th>Owners_Race</th>\n",
       "      <th>Vet_Status</th>\n",
       "      <th>Sales</th>\n",
       "      <th>Employees</th>\n",
       "      <th>Sales_Std_Error</th>\n",
       "      <th>Employees_Std_Error</th>\n",
       "    </tr>\n",
       "  </thead>\n",
       "  <tbody>\n",
       "    <tr>\n",
       "      <th>9</th>\n",
       "      <td>0</td>\n",
       "      <td>2</td>\n",
       "      <td>1</td>\n",
       "      <td>0</td>\n",
       "      <td>1</td>\n",
       "      <td>1776835350</td>\n",
       "      <td>10149257</td>\n",
       "      <td>4.5</td>\n",
       "      <td>1.9</td>\n",
       "    </tr>\n",
       "    <tr>\n",
       "      <th>10</th>\n",
       "      <td>0</td>\n",
       "      <td>2</td>\n",
       "      <td>1</td>\n",
       "      <td>0</td>\n",
       "      <td>1</td>\n",
       "      <td>282385501</td>\n",
       "      <td>2150147</td>\n",
       "      <td>6.1</td>\n",
       "      <td>3</td>\n",
       "    </tr>\n",
       "    <tr>\n",
       "      <th>11</th>\n",
       "      <td>0</td>\n",
       "      <td>2</td>\n",
       "      <td>1</td>\n",
       "      <td>0</td>\n",
       "      <td>1</td>\n",
       "      <td>267427453</td>\n",
       "      <td>1499541</td>\n",
       "      <td>8.2</td>\n",
       "      <td>2.8</td>\n",
       "    </tr>\n",
       "    <tr>\n",
       "      <th>12</th>\n",
       "      <td>0</td>\n",
       "      <td>2</td>\n",
       "      <td>1</td>\n",
       "      <td>0</td>\n",
       "      <td>1</td>\n",
       "      <td>31555727</td>\n",
       "      <td>127916</td>\n",
       "      <td>22.3</td>\n",
       "      <td>18.4</td>\n",
       "    </tr>\n",
       "    <tr>\n",
       "      <th>13</th>\n",
       "      <td>0</td>\n",
       "      <td>2</td>\n",
       "      <td>1</td>\n",
       "      <td>0</td>\n",
       "      <td>1</td>\n",
       "      <td>S</td>\n",
       "      <td>25,000 to 49,999 employees</td>\n",
       "      <td>S</td>\n",
       "      <td>S</td>\n",
       "    </tr>\n",
       "  </tbody>\n",
       "</table>\n",
       "</div>"
      ],
      "text/plain": [
       "   NAICS Owners_Sex Owners_Ethnicity Owners_Race Vet_Status       Sales  \\\n",
       "9      0          2                1           0          1  1776835350   \n",
       "10     0          2                1           0          1   282385501   \n",
       "11     0          2                1           0          1   267427453   \n",
       "12     0          2                1           0          1    31555727   \n",
       "13     0          2                1           0          1           S   \n",
       "\n",
       "                     Employees Sales_Std_Error Employees_Std_Error  \n",
       "9                     10149257             4.5                 1.9  \n",
       "10                     2150147             6.1                   3  \n",
       "11                     1499541             8.2                 2.8  \n",
       "12                      127916            22.3                18.4  \n",
       "13  25,000 to 49,999 employees               S                   S  "
      ]
     },
     "execution_count": 32,
     "metadata": {},
     "output_type": "execute_result"
    }
   ],
   "source": [
    "WB2019_1.head()"
   ]
  },
  {
   "cell_type": "code",
   "execution_count": 33,
   "id": "f647fb3c",
   "metadata": {},
   "outputs": [
    {
     "name": "stdout",
     "output_type": "stream",
     "text": [
      "<class 'pandas.core.frame.DataFrame'>\n",
      "Int64Index: 6837 entries, 9 to 48692\n",
      "Data columns (total 9 columns):\n",
      " #   Column               Non-Null Count  Dtype \n",
      "---  ------               --------------  ----- \n",
      " 0   NAICS                6837 non-null   object\n",
      " 1   Owners_Sex           6837 non-null   object\n",
      " 2   Owners_Ethnicity     6837 non-null   object\n",
      " 3   Owners_Race          6837 non-null   object\n",
      " 4   Vet_Status           6837 non-null   object\n",
      " 5   Sales                6837 non-null   object\n",
      " 6   Employees            6837 non-null   object\n",
      " 7   Sales_Std_Error      6837 non-null   object\n",
      " 8   Employees_Std_Error  6837 non-null   object\n",
      "dtypes: object(9)\n",
      "memory usage: 534.1+ KB\n"
     ]
    }
   ],
   "source": [
    "WB2019_1.info()"
   ]
  },
  {
   "cell_type": "code",
   "execution_count": 34,
   "id": "6ceb215c",
   "metadata": {},
   "outputs": [],
   "source": [
    "WB2020_1 = WB2020.rename(columns={'NAICS2017':'NAICS',\n",
    "                                       'SEX':'Owners_Sex',\n",
    "                                       'ETH_GROUP': 'Owners_Ethnicity', \n",
    "                                       'RACE_GROUP':'Owners_Race', \n",
    "                                       'VET_GROUP':'Vet_Status', \n",
    "                                       'RCPPDEMP':'Sales', \n",
    "                                       'EMP': 'Employees', \n",
    "                                       'RCPPDEMP_S':'Sales_Std_Error', \n",
    "                                       'EMP_S':'Employees_Std_Error'})"
   ]
  },
  {
   "cell_type": "code",
   "execution_count": 35,
   "id": "308042f7",
   "metadata": {},
   "outputs": [
    {
     "name": "stdout",
     "output_type": "stream",
     "text": [
      "<class 'pandas.core.frame.DataFrame'>\n",
      "Int64Index: 2044 entries, 10 to 15220\n",
      "Data columns (total 9 columns):\n",
      " #   Column               Non-Null Count  Dtype \n",
      "---  ------               --------------  ----- \n",
      " 0   NAICS                2044 non-null   object\n",
      " 1   Owners_Sex           2044 non-null   object\n",
      " 2   Owners_Ethnicity     2044 non-null   object\n",
      " 3   Owners_Race          2044 non-null   object\n",
      " 4   Vet_Status           2044 non-null   object\n",
      " 5   Sales                2044 non-null   object\n",
      " 6   Employees            2044 non-null   object\n",
      " 7   Sales_Std_Error      2044 non-null   object\n",
      " 8   Employees_Std_Error  2044 non-null   object\n",
      "dtypes: object(9)\n",
      "memory usage: 159.7+ KB\n"
     ]
    }
   ],
   "source": [
    "WB2020_1.info()"
   ]
  },
  {
   "cell_type": "code",
   "execution_count": 36,
   "id": "00bb58ee",
   "metadata": {
    "scrolled": true
   },
   "outputs": [
    {
     "data": {
      "text/html": [
       "<div>\n",
       "<style scoped>\n",
       "    .dataframe tbody tr th:only-of-type {\n",
       "        vertical-align: middle;\n",
       "    }\n",
       "\n",
       "    .dataframe tbody tr th {\n",
       "        vertical-align: top;\n",
       "    }\n",
       "\n",
       "    .dataframe thead th {\n",
       "        text-align: right;\n",
       "    }\n",
       "</style>\n",
       "<table border=\"1\" class=\"dataframe\">\n",
       "  <thead>\n",
       "    <tr style=\"text-align: right;\">\n",
       "      <th></th>\n",
       "      <th>NAICS</th>\n",
       "      <th>Owners_Sex</th>\n",
       "      <th>Owners_Ethnicity</th>\n",
       "      <th>Owners_Race</th>\n",
       "      <th>Vet_Status</th>\n",
       "      <th>Sales</th>\n",
       "      <th>Employees</th>\n",
       "      <th>Sales_Std_Error</th>\n",
       "      <th>Employees_Std_Error</th>\n",
       "    </tr>\n",
       "  </thead>\n",
       "  <tbody>\n",
       "    <tr>\n",
       "      <th>10</th>\n",
       "      <td>00</td>\n",
       "      <td>002</td>\n",
       "      <td>001</td>\n",
       "      <td>00</td>\n",
       "      <td>001</td>\n",
       "      <td>47463228</td>\n",
       "      <td>0</td>\n",
       "      <td>4.6</td>\n",
       "      <td>0.0</td>\n",
       "    </tr>\n",
       "    <tr>\n",
       "      <th>11</th>\n",
       "      <td>00</td>\n",
       "      <td>002</td>\n",
       "      <td>001</td>\n",
       "      <td>00</td>\n",
       "      <td>001</td>\n",
       "      <td>222730769</td>\n",
       "      <td>1221369</td>\n",
       "      <td>1.9</td>\n",
       "      <td>1.1</td>\n",
       "    </tr>\n",
       "    <tr>\n",
       "      <th>12</th>\n",
       "      <td>00</td>\n",
       "      <td>002</td>\n",
       "      <td>001</td>\n",
       "      <td>00</td>\n",
       "      <td>001</td>\n",
       "      <td>179280512</td>\n",
       "      <td>1318130</td>\n",
       "      <td>3.2</td>\n",
       "      <td>1.6</td>\n",
       "    </tr>\n",
       "    <tr>\n",
       "      <th>13</th>\n",
       "      <td>00</td>\n",
       "      <td>002</td>\n",
       "      <td>001</td>\n",
       "      <td>00</td>\n",
       "      <td>001</td>\n",
       "      <td>218176483</td>\n",
       "      <td>1610482</td>\n",
       "      <td>4.3</td>\n",
       "      <td>2.4</td>\n",
       "    </tr>\n",
       "    <tr>\n",
       "      <th>14</th>\n",
       "      <td>00</td>\n",
       "      <td>002</td>\n",
       "      <td>001</td>\n",
       "      <td>00</td>\n",
       "      <td>001</td>\n",
       "      <td>301700718</td>\n",
       "      <td>2120580</td>\n",
       "      <td>7.3</td>\n",
       "      <td>4.3</td>\n",
       "    </tr>\n",
       "  </tbody>\n",
       "</table>\n",
       "</div>"
      ],
      "text/plain": [
       "   NAICS Owners_Sex Owners_Ethnicity Owners_Race Vet_Status      Sales  \\\n",
       "10    00        002              001          00        001   47463228   \n",
       "11    00        002              001          00        001  222730769   \n",
       "12    00        002              001          00        001  179280512   \n",
       "13    00        002              001          00        001  218176483   \n",
       "14    00        002              001          00        001  301700718   \n",
       "\n",
       "   Employees Sales_Std_Error Employees_Std_Error  \n",
       "10         0             4.6                 0.0  \n",
       "11   1221369             1.9                 1.1  \n",
       "12   1318130             3.2                 1.6  \n",
       "13   1610482             4.3                 2.4  \n",
       "14   2120580             7.3                 4.3  "
      ]
     },
     "execution_count": 36,
     "metadata": {},
     "output_type": "execute_result"
    }
   ],
   "source": [
    "WB2020_1.head()"
   ]
  },
  {
   "cell_type": "code",
   "execution_count": 39,
   "id": "0d3d9662",
   "metadata": {},
   "outputs": [
    {
     "name": "stdout",
     "output_type": "stream",
     "text": [
      "<class 'pandas.core.frame.DataFrame'>\n",
      "Int64Index: 3786 entries, 10 to 26303\n",
      "Data columns (total 10 columns):\n",
      " #   Column               Non-Null Count  Dtype  \n",
      "---  ------               --------------  -----  \n",
      " 0   NAICS                2970 non-null   float64\n",
      " 1   Owners_Sex           3786 non-null   int64  \n",
      " 2   Owners_Ethnicity     3786 non-null   int64  \n",
      " 3   Owners_Race          3786 non-null   int64  \n",
      " 4   Vet_Status           3786 non-null   int64  \n",
      " 5   YEAR                 3786 non-null   int64  \n",
      " 6   Sales                2422 non-null   float64\n",
      " 7   Employees            2422 non-null   float64\n",
      " 8   Sales_Std_Error      2422 non-null   float64\n",
      " 9   Employees_Std_Error  2422 non-null   float64\n",
      "dtypes: float64(5), int64(5)\n",
      "memory usage: 325.4 KB\n"
     ]
    }
   ],
   "source": [
    "WB2018_2.info()"
   ]
  },
  {
   "cell_type": "code",
   "execution_count": 40,
   "id": "adea7e34",
   "metadata": {},
   "outputs": [
    {
     "name": "stdout",
     "output_type": "stream",
     "text": [
      "<class 'pandas.core.frame.DataFrame'>\n",
      "Int64Index: 6837 entries, 9 to 48692\n",
      "Data columns (total 9 columns):\n",
      " #   Column               Non-Null Count  Dtype \n",
      "---  ------               --------------  ----- \n",
      " 0   NAICS                6837 non-null   object\n",
      " 1   Owners_Sex           6837 non-null   object\n",
      " 2   Owners_Ethnicity     6837 non-null   object\n",
      " 3   Owners_Race          6837 non-null   object\n",
      " 4   Vet_Status           6837 non-null   object\n",
      " 5   Sales                6837 non-null   object\n",
      " 6   Employees            6837 non-null   object\n",
      " 7   Sales_Std_Error      6837 non-null   object\n",
      " 8   Employees_Std_Error  6837 non-null   object\n",
      "dtypes: object(9)\n",
      "memory usage: 534.1+ KB\n"
     ]
    }
   ],
   "source": [
    "WB2019_1.info()"
   ]
  },
  {
   "cell_type": "code",
   "execution_count": 41,
   "id": "f3696765",
   "metadata": {},
   "outputs": [],
   "source": [
    "WB2019_2 = WB2019_1.apply(pd.to_numeric, errors='coerce')"
   ]
  },
  {
   "cell_type": "code",
   "execution_count": 42,
   "id": "ba0b914a",
   "metadata": {
    "scrolled": true
   },
   "outputs": [
    {
     "name": "stdout",
     "output_type": "stream",
     "text": [
      "<class 'pandas.core.frame.DataFrame'>\n",
      "Int64Index: 6837 entries, 9 to 48692\n",
      "Data columns (total 9 columns):\n",
      " #   Column               Non-Null Count  Dtype  \n",
      "---  ------               --------------  -----  \n",
      " 0   NAICS                4912 non-null   float64\n",
      " 1   Owners_Sex           6837 non-null   int64  \n",
      " 2   Owners_Ethnicity     6837 non-null   int64  \n",
      " 3   Owners_Race          6837 non-null   int64  \n",
      " 4   Vet_Status           6837 non-null   int64  \n",
      " 5   Sales                379 non-null    float64\n",
      " 6   Employees            4470 non-null   float64\n",
      " 7   Sales_Std_Error      379 non-null    float64\n",
      " 8   Employees_Std_Error  4470 non-null   float64\n",
      "dtypes: float64(5), int64(4)\n",
      "memory usage: 534.1 KB\n"
     ]
    }
   ],
   "source": [
    "WB2019_2.info()"
   ]
  },
  {
   "cell_type": "code",
   "execution_count": 43,
   "id": "a2ee5612",
   "metadata": {},
   "outputs": [
    {
     "name": "stdout",
     "output_type": "stream",
     "text": [
      "<class 'pandas.core.frame.DataFrame'>\n",
      "Int64Index: 2044 entries, 10 to 15220\n",
      "Data columns (total 9 columns):\n",
      " #   Column               Non-Null Count  Dtype \n",
      "---  ------               --------------  ----- \n",
      " 0   NAICS                2044 non-null   object\n",
      " 1   Owners_Sex           2044 non-null   object\n",
      " 2   Owners_Ethnicity     2044 non-null   object\n",
      " 3   Owners_Race          2044 non-null   object\n",
      " 4   Vet_Status           2044 non-null   object\n",
      " 5   Sales                2044 non-null   object\n",
      " 6   Employees            2044 non-null   object\n",
      " 7   Sales_Std_Error      2044 non-null   object\n",
      " 8   Employees_Std_Error  2044 non-null   object\n",
      "dtypes: object(9)\n",
      "memory usage: 159.7+ KB\n"
     ]
    }
   ],
   "source": [
    "WB2020_1.info()"
   ]
  },
  {
   "cell_type": "code",
   "execution_count": 44,
   "id": "f672ea70",
   "metadata": {},
   "outputs": [],
   "source": [
    "WB2020_2 = WB2020_1.apply(pd.to_numeric, errors='coerce')"
   ]
  },
  {
   "cell_type": "code",
   "execution_count": 45,
   "id": "aa8f311d",
   "metadata": {},
   "outputs": [
    {
     "name": "stdout",
     "output_type": "stream",
     "text": [
      "<class 'pandas.core.frame.DataFrame'>\n",
      "Int64Index: 2044 entries, 10 to 15220\n",
      "Data columns (total 9 columns):\n",
      " #   Column               Non-Null Count  Dtype  \n",
      "---  ------               --------------  -----  \n",
      " 0   NAICS                1441 non-null   float64\n",
      " 1   Owners_Sex           2044 non-null   int64  \n",
      " 2   Owners_Ethnicity     2044 non-null   int64  \n",
      " 3   Owners_Race          2044 non-null   int64  \n",
      " 4   Vet_Status           2044 non-null   int64  \n",
      " 5   Sales                102 non-null    float64\n",
      " 6   Employees            1192 non-null   float64\n",
      " 7   Sales_Std_Error      102 non-null    float64\n",
      " 8   Employees_Std_Error  1192 non-null   float64\n",
      "dtypes: float64(5), int64(4)\n",
      "memory usage: 159.7 KB\n"
     ]
    }
   ],
   "source": [
    "WB2020_2.info()"
   ]
  },
  {
   "cell_type": "markdown",
   "id": "afe6e581",
   "metadata": {},
   "source": [
    "# Determine which sectors were predominantly female-owned:"
   ]
  },
  {
   "cell_type": "code",
   "execution_count": 46,
   "id": "a3087dea",
   "metadata": {},
   "outputs": [
    {
     "data": {
      "text/plain": [
       "0.0     261\n",
       "56.0    241\n",
       "62.0    240\n",
       "54.0    228\n",
       "72.0    222\n",
       "23.0    199\n",
       "42.0    195\n",
       "61.0    189\n",
       "71.0    178\n",
       "53.0    178\n",
       "51.0    174\n",
       "52.0    169\n",
       "55.0    143\n",
       "11.0    119\n",
       "21.0     93\n",
       "99.0     76\n",
       "22.0     65\n",
       "Name: NAICS, dtype: int64"
      ]
     },
     "execution_count": 46,
     "metadata": {},
     "output_type": "execute_result"
    }
   ],
   "source": [
    "WB2018_2.NAICS.value_counts()"
   ]
  },
  {
   "cell_type": "code",
   "execution_count": null,
   "id": "93ba046b",
   "metadata": {},
   "outputs": [],
   "source": []
  },
  {
   "cell_type": "code",
   "execution_count": 47,
   "id": "9a2066d5",
   "metadata": {},
   "outputs": [
    {
     "data": {
      "text/plain": [
       "0.0     613\n",
       "54.0    380\n",
       "62.0    374\n",
       "56.0    365\n",
       "42.0    351\n",
       "72.0    343\n",
       "61.0    336\n",
       "71.0    312\n",
       "23.0    303\n",
       "51.0    299\n",
       "53.0    299\n",
       "55.0    254\n",
       "21.0    242\n",
       "99.0    235\n",
       "22.0    206\n",
       "Name: NAICS, dtype: int64"
      ]
     },
     "execution_count": 47,
     "metadata": {},
     "output_type": "execute_result"
    }
   ],
   "source": [
    "WB2019_2.NAICS.value_counts()"
   ]
  },
  {
   "cell_type": "code",
   "execution_count": null,
   "id": "7613dafd",
   "metadata": {},
   "outputs": [],
   "source": []
  },
  {
   "cell_type": "code",
   "execution_count": 48,
   "id": "40ef2afd",
   "metadata": {},
   "outputs": [
    {
     "data": {
      "text/plain": [
       "0.0     130\n",
       "54.0    122\n",
       "62.0    121\n",
       "72.0    117\n",
       "56.0    110\n",
       "23.0    104\n",
       "51.0    101\n",
       "42.0     99\n",
       "61.0     96\n",
       "71.0     95\n",
       "53.0     87\n",
       "55.0     81\n",
       "21.0     73\n",
       "22.0     55\n",
       "99.0     50\n",
       "Name: NAICS, dtype: int64"
      ]
     },
     "execution_count": 48,
     "metadata": {},
     "output_type": "execute_result"
    }
   ],
   "source": [
    "WB2020_2.NAICS.value_counts()"
   ]
  },
  {
   "cell_type": "code",
   "execution_count": null,
   "id": "fe191221",
   "metadata": {},
   "outputs": [],
   "source": []
  },
  {
   "cell_type": "markdown",
   "id": "cd8ec982",
   "metadata": {},
   "source": [
    "# Total And Average Sales For Women Businesses Each Year\n"
   ]
  },
  {
   "cell_type": "code",
   "execution_count": 128,
   "id": "0083c587",
   "metadata": {},
   "outputs": [],
   "source": [
    "WBSales18 = WB2018_2['Sales']"
   ]
  },
  {
   "cell_type": "code",
   "execution_count": 129,
   "id": "7f0b6c88",
   "metadata": {
    "scrolled": true
   },
   "outputs": [
    {
     "data": {
      "text/plain": [
       "10        36812734.0\n",
       "11       198569002.0\n",
       "12       171844455.0\n",
       "13       197197685.0\n",
       "14       256368241.0\n",
       "            ...     \n",
       "26299          771.0\n",
       "26300            0.0\n",
       "26301            0.0\n",
       "26302            0.0\n",
       "26303            0.0\n",
       "Name: Sales, Length: 3786, dtype: float64"
      ]
     },
     "execution_count": 129,
     "metadata": {},
     "output_type": "execute_result"
    }
   ],
   "source": [
    "WBSales18"
   ]
  },
  {
   "cell_type": "code",
   "execution_count": 159,
   "id": "43e246df",
   "metadata": {},
   "outputs": [],
   "source": [
    "WBSales18_total = WBSales18.sum()"
   ]
  },
  {
   "cell_type": "code",
   "execution_count": 160,
   "id": "d6d421ae",
   "metadata": {
    "scrolled": true
   },
   "outputs": [
    {
     "data": {
      "text/plain": [
       "15216198775.0"
      ]
     },
     "execution_count": 160,
     "metadata": {},
     "output_type": "execute_result"
    }
   ],
   "source": [
    "WBSales18_total"
   ]
  },
  {
   "cell_type": "markdown",
   "id": "65df9c75",
   "metadata": {},
   "source": [
    "### Total Sales for women-owned businesses for 2018 are 15,216,198,775"
   ]
  },
  {
   "cell_type": "code",
   "execution_count": 144,
   "id": "55217bce",
   "metadata": {
    "scrolled": true
   },
   "outputs": [],
   "source": [
    "WBSales18_avg = np.nanmean(WBSales18)"
   ]
  },
  {
   "cell_type": "code",
   "execution_count": 145,
   "id": "bd4e17ef",
   "metadata": {},
   "outputs": [
    {
     "data": {
      "text/plain": [
       "6282493.300990917"
      ]
     },
     "execution_count": 145,
     "metadata": {},
     "output_type": "execute_result"
    }
   ],
   "source": [
    "WBSales18_avg"
   ]
  },
  {
   "cell_type": "markdown",
   "id": "03e654df",
   "metadata": {},
   "source": [
    "### Avg Sales for women-owned businesses for 2018 are 6,282,493"
   ]
  },
  {
   "cell_type": "code",
   "execution_count": 49,
   "id": "b27ff95b",
   "metadata": {},
   "outputs": [],
   "source": [
    "WBSales19 = WB2019_2['Sales']"
   ]
  },
  {
   "cell_type": "code",
   "execution_count": 50,
   "id": "df672d34",
   "metadata": {},
   "outputs": [
    {
     "data": {
      "text/plain": [
       "9        1.776835e+09\n",
       "10       2.823855e+08\n",
       "11       2.674275e+08\n",
       "12       3.155573e+07\n",
       "13                NaN\n",
       "             ...     \n",
       "48688             NaN\n",
       "48689             NaN\n",
       "48690             NaN\n",
       "48691             NaN\n",
       "48692             NaN\n",
       "Name: Sales, Length: 6837, dtype: float64"
      ]
     },
     "execution_count": 50,
     "metadata": {},
     "output_type": "execute_result"
    }
   ],
   "source": [
    "WBSales19"
   ]
  },
  {
   "cell_type": "code",
   "execution_count": 51,
   "id": "f4c4025c",
   "metadata": {},
   "outputs": [],
   "source": [
    "WBSales19_total = WBSales19.sum()"
   ]
  },
  {
   "cell_type": "code",
   "execution_count": 52,
   "id": "2a52cd44",
   "metadata": {},
   "outputs": [
    {
     "data": {
      "text/plain": [
       "84848555047.0"
      ]
     },
     "execution_count": 52,
     "metadata": {},
     "output_type": "execute_result"
    }
   ],
   "source": [
    "WBSales19_total"
   ]
  },
  {
   "cell_type": "markdown",
   "id": "0f202748",
   "metadata": {},
   "source": [
    "### Total Sales for women-owned businesses for 2019 are 84,848,555,047"
   ]
  },
  {
   "cell_type": "code",
   "execution_count": 151,
   "id": "1849eb91",
   "metadata": {},
   "outputs": [],
   "source": [
    "WBSales19_avg = np.nanmean(WBSales19)"
   ]
  },
  {
   "cell_type": "code",
   "execution_count": 152,
   "id": "e94ce0f7",
   "metadata": {},
   "outputs": [
    {
     "data": {
      "text/plain": [
       "223874815.42744064"
      ]
     },
     "execution_count": 152,
     "metadata": {},
     "output_type": "execute_result"
    }
   ],
   "source": [
    "WBSales19_avg"
   ]
  },
  {
   "cell_type": "markdown",
   "id": "c425363a",
   "metadata": {},
   "source": [
    "### Avg Sales for women-owned businessed for 2019 are 223,874,815\n"
   ]
  },
  {
   "cell_type": "code",
   "execution_count": 53,
   "id": "3cbc955e",
   "metadata": {},
   "outputs": [],
   "source": [
    "WBSales20 = WB2020_2['Sales']"
   ]
  },
  {
   "cell_type": "code",
   "execution_count": 54,
   "id": "441bcdc6",
   "metadata": {},
   "outputs": [],
   "source": [
    "WBSales20_total = WBSales20.sum()"
   ]
  },
  {
   "cell_type": "code",
   "execution_count": 55,
   "id": "8d3b7ae4",
   "metadata": {},
   "outputs": [
    {
     "data": {
      "text/plain": [
       "9025608065.0"
      ]
     },
     "execution_count": 55,
     "metadata": {},
     "output_type": "execute_result"
    }
   ],
   "source": [
    "WBSales20_total"
   ]
  },
  {
   "cell_type": "markdown",
   "id": "5876ddda",
   "metadata": {},
   "source": [
    "### Total Sales for women-owned businesses for 2020 are 9,025,608,065"
   ]
  },
  {
   "cell_type": "code",
   "execution_count": 163,
   "id": "78bf4ad9",
   "metadata": {},
   "outputs": [],
   "source": [
    "WBSales20_total = WBSales20.sum()"
   ]
  },
  {
   "cell_type": "code",
   "execution_count": 164,
   "id": "f8202bf3",
   "metadata": {},
   "outputs": [
    {
     "data": {
      "text/plain": [
       "9025608065.0"
      ]
     },
     "execution_count": 164,
     "metadata": {},
     "output_type": "execute_result"
    }
   ],
   "source": [
    "WBSales20_total"
   ]
  },
  {
   "cell_type": "markdown",
   "id": "138d43e3",
   "metadata": {},
   "source": [
    "### Total Sales for women-owned businessed for 2020 are 90,25,608,065"
   ]
  },
  {
   "cell_type": "code",
   "execution_count": 153,
   "id": "abda0777",
   "metadata": {},
   "outputs": [],
   "source": [
    "WBSales20_avg = np.nanmean(WBSales20)"
   ]
  },
  {
   "cell_type": "code",
   "execution_count": 154,
   "id": "1cf3e97d",
   "metadata": {},
   "outputs": [
    {
     "data": {
      "text/plain": [
       "88486353.57843137"
      ]
     },
     "execution_count": 154,
     "metadata": {},
     "output_type": "execute_result"
    }
   ],
   "source": [
    "WBSales20_avg"
   ]
  },
  {
   "cell_type": "markdown",
   "id": "ff7a4ced",
   "metadata": {},
   "source": [
    "### Avg Sales for women-owned businessed for 2020 are 88,486,354"
   ]
  },
  {
   "cell_type": "markdown",
   "id": "a48e6b4c",
   "metadata": {},
   "source": [
    "# Growth Rate From 2018 -2020"
   ]
  },
  {
   "cell_type": "code",
   "execution_count": 122,
   "id": "2083df7b",
   "metadata": {},
   "outputs": [],
   "source": [
    "WBSales_growth = (160225447869/280122182749)**(1/3.0)-1"
   ]
  },
  {
   "cell_type": "code",
   "execution_count": 123,
   "id": "48fad3d1",
   "metadata": {},
   "outputs": [
    {
     "data": {
      "text/plain": [
       "-99.40684212933463"
      ]
     },
     "execution_count": 123,
     "metadata": {},
     "output_type": "execute_result"
    }
   ],
   "source": [
    "print ('Women Businesses had a CAGR of {:.2%} '.format(MBSales_growth))"
   ]
  },
  {
   "cell_type": "code",
   "execution_count": 125,
   "id": "7952874c",
   "metadata": {},
   "outputs": [],
   "source": [
    "CAGR = (1980.0/1000)**(1/6.0)-1"
   ]
  },
  {
   "cell_type": "code",
   "execution_count": 126,
   "id": "93036296",
   "metadata": {},
   "outputs": [
    {
     "data": {
      "text/plain": [
       "0.12058343537814764"
      ]
     },
     "execution_count": 126,
     "metadata": {},
     "output_type": "execute_result"
    }
   ],
   "source": [
    "CAGR"
   ]
  },
  {
   "cell_type": "markdown",
   "id": "bf5bb3b9",
   "metadata": {},
   "source": [
    "# Appending Datasets together"
   ]
  },
  {
   "cell_type": "code",
   "execution_count": 196,
   "id": "af057088",
   "metadata": {},
   "outputs": [],
   "source": [
    "WBOmega = pd.concat([WB2018_2, WB2019_2, WB2020_2])"
   ]
  },
  {
   "cell_type": "code",
   "execution_count": 197,
   "id": "d907fcdf",
   "metadata": {
    "scrolled": true
   },
   "outputs": [
    {
     "data": {
      "text/html": [
       "<div>\n",
       "<style scoped>\n",
       "    .dataframe tbody tr th:only-of-type {\n",
       "        vertical-align: middle;\n",
       "    }\n",
       "\n",
       "    .dataframe tbody tr th {\n",
       "        vertical-align: top;\n",
       "    }\n",
       "\n",
       "    .dataframe thead th {\n",
       "        text-align: right;\n",
       "    }\n",
       "</style>\n",
       "<table border=\"1\" class=\"dataframe\">\n",
       "  <thead>\n",
       "    <tr style=\"text-align: right;\">\n",
       "      <th></th>\n",
       "      <th>NAICS</th>\n",
       "      <th>Owners_Sex</th>\n",
       "      <th>Owners_Ethnicity</th>\n",
       "      <th>Owners_Race</th>\n",
       "      <th>Vet_Status</th>\n",
       "      <th>Sales</th>\n",
       "      <th>Employees</th>\n",
       "      <th>Sales_Std_Error</th>\n",
       "      <th>Employees_Std_Error</th>\n",
       "    </tr>\n",
       "  </thead>\n",
       "  <tbody>\n",
       "    <tr>\n",
       "      <th>10</th>\n",
       "      <td>0.0</td>\n",
       "      <td>2</td>\n",
       "      <td>1</td>\n",
       "      <td>0</td>\n",
       "      <td>1</td>\n",
       "      <td>36812734.0</td>\n",
       "      <td>0.0</td>\n",
       "      <td>3.6</td>\n",
       "      <td>0.0</td>\n",
       "    </tr>\n",
       "    <tr>\n",
       "      <th>11</th>\n",
       "      <td>0.0</td>\n",
       "      <td>2</td>\n",
       "      <td>1</td>\n",
       "      <td>0</td>\n",
       "      <td>1</td>\n",
       "      <td>198569002.0</td>\n",
       "      <td>1175259.0</td>\n",
       "      <td>1.5</td>\n",
       "      <td>0.4</td>\n",
       "    </tr>\n",
       "    <tr>\n",
       "      <th>12</th>\n",
       "      <td>0.0</td>\n",
       "      <td>2</td>\n",
       "      <td>1</td>\n",
       "      <td>0</td>\n",
       "      <td>1</td>\n",
       "      <td>171844455.0</td>\n",
       "      <td>1204041.0</td>\n",
       "      <td>1.6</td>\n",
       "      <td>1.0</td>\n",
       "    </tr>\n",
       "    <tr>\n",
       "      <th>13</th>\n",
       "      <td>0.0</td>\n",
       "      <td>2</td>\n",
       "      <td>1</td>\n",
       "      <td>0</td>\n",
       "      <td>1</td>\n",
       "      <td>197197685.0</td>\n",
       "      <td>1491334.0</td>\n",
       "      <td>2.0</td>\n",
       "      <td>1.2</td>\n",
       "    </tr>\n",
       "    <tr>\n",
       "      <th>14</th>\n",
       "      <td>0.0</td>\n",
       "      <td>2</td>\n",
       "      <td>1</td>\n",
       "      <td>0</td>\n",
       "      <td>1</td>\n",
       "      <td>256368241.0</td>\n",
       "      <td>1898285.0</td>\n",
       "      <td>3.7</td>\n",
       "      <td>1.2</td>\n",
       "    </tr>\n",
       "    <tr>\n",
       "      <th>...</th>\n",
       "      <td>...</td>\n",
       "      <td>...</td>\n",
       "      <td>...</td>\n",
       "      <td>...</td>\n",
       "      <td>...</td>\n",
       "      <td>...</td>\n",
       "      <td>...</td>\n",
       "      <td>...</td>\n",
       "      <td>...</td>\n",
       "    </tr>\n",
       "    <tr>\n",
       "      <th>15216</th>\n",
       "      <td>99.0</td>\n",
       "      <td>2</td>\n",
       "      <td>1</td>\n",
       "      <td>0</td>\n",
       "      <td>4</td>\n",
       "      <td>NaN</td>\n",
       "      <td>2179.0</td>\n",
       "      <td>NaN</td>\n",
       "      <td>7.4</td>\n",
       "    </tr>\n",
       "    <tr>\n",
       "      <th>15217</th>\n",
       "      <td>99.0</td>\n",
       "      <td>2</td>\n",
       "      <td>1</td>\n",
       "      <td>0</td>\n",
       "      <td>4</td>\n",
       "      <td>NaN</td>\n",
       "      <td>1359.0</td>\n",
       "      <td>NaN</td>\n",
       "      <td>36.7</td>\n",
       "    </tr>\n",
       "    <tr>\n",
       "      <th>15218</th>\n",
       "      <td>99.0</td>\n",
       "      <td>2</td>\n",
       "      <td>1</td>\n",
       "      <td>0</td>\n",
       "      <td>4</td>\n",
       "      <td>NaN</td>\n",
       "      <td>NaN</td>\n",
       "      <td>NaN</td>\n",
       "      <td>NaN</td>\n",
       "    </tr>\n",
       "    <tr>\n",
       "      <th>15219</th>\n",
       "      <td>99.0</td>\n",
       "      <td>2</td>\n",
       "      <td>1</td>\n",
       "      <td>0</td>\n",
       "      <td>4</td>\n",
       "      <td>NaN</td>\n",
       "      <td>426.0</td>\n",
       "      <td>NaN</td>\n",
       "      <td>60.9</td>\n",
       "    </tr>\n",
       "    <tr>\n",
       "      <th>15220</th>\n",
       "      <td>99.0</td>\n",
       "      <td>2</td>\n",
       "      <td>1</td>\n",
       "      <td>0</td>\n",
       "      <td>4</td>\n",
       "      <td>NaN</td>\n",
       "      <td>NaN</td>\n",
       "      <td>NaN</td>\n",
       "      <td>NaN</td>\n",
       "    </tr>\n",
       "  </tbody>\n",
       "</table>\n",
       "<p>12667 rows × 9 columns</p>\n",
       "</div>"
      ],
      "text/plain": [
       "       NAICS  Owners_Sex  Owners_Ethnicity  Owners_Race  Vet_Status  \\\n",
       "10       0.0           2                 1            0           1   \n",
       "11       0.0           2                 1            0           1   \n",
       "12       0.0           2                 1            0           1   \n",
       "13       0.0           2                 1            0           1   \n",
       "14       0.0           2                 1            0           1   \n",
       "...      ...         ...               ...          ...         ...   \n",
       "15216   99.0           2                 1            0           4   \n",
       "15217   99.0           2                 1            0           4   \n",
       "15218   99.0           2                 1            0           4   \n",
       "15219   99.0           2                 1            0           4   \n",
       "15220   99.0           2                 1            0           4   \n",
       "\n",
       "             Sales  Employees  Sales_Std_Error  Employees_Std_Error  \n",
       "10      36812734.0        0.0              3.6                  0.0  \n",
       "11     198569002.0  1175259.0              1.5                  0.4  \n",
       "12     171844455.0  1204041.0              1.6                  1.0  \n",
       "13     197197685.0  1491334.0              2.0                  1.2  \n",
       "14     256368241.0  1898285.0              3.7                  1.2  \n",
       "...            ...        ...              ...                  ...  \n",
       "15216          NaN     2179.0              NaN                  7.4  \n",
       "15217          NaN     1359.0              NaN                 36.7  \n",
       "15218          NaN        NaN              NaN                  NaN  \n",
       "15219          NaN      426.0              NaN                 60.9  \n",
       "15220          NaN        NaN              NaN                  NaN  \n",
       "\n",
       "[12667 rows x 9 columns]"
      ]
     },
     "execution_count": 197,
     "metadata": {},
     "output_type": "execute_result"
    }
   ],
   "source": [
    "WBOmega"
   ]
  },
  {
   "cell_type": "code",
   "execution_count": 198,
   "id": "52624da7",
   "metadata": {},
   "outputs": [
    {
     "name": "stdout",
     "output_type": "stream",
     "text": [
      "<class 'pandas.core.frame.DataFrame'>\n",
      "Int64Index: 12667 entries, 10 to 15220\n",
      "Data columns (total 9 columns):\n",
      " #   Column               Non-Null Count  Dtype  \n",
      "---  ------               --------------  -----  \n",
      " 0   NAICS                9323 non-null   float64\n",
      " 1   Owners_Sex           12667 non-null  int64  \n",
      " 2   Owners_Ethnicity     12667 non-null  int64  \n",
      " 3   Owners_Race          12667 non-null  int64  \n",
      " 4   Vet_Status           12667 non-null  int64  \n",
      " 5   Sales                2903 non-null   float64\n",
      " 6   Employees            8084 non-null   float64\n",
      " 7   Sales_Std_Error      2903 non-null   float64\n",
      " 8   Employees_Std_Error  8084 non-null   float64\n",
      "dtypes: float64(5), int64(4)\n",
      "memory usage: 989.6 KB\n"
     ]
    }
   ],
   "source": [
    "WBOmega.info()"
   ]
  },
  {
   "cell_type": "markdown",
   "id": "f25ddac3",
   "metadata": {},
   "source": [
    "# Fill In Missing Values With 0"
   ]
  },
  {
   "cell_type": "code",
   "execution_count": 199,
   "id": "c6cc74d1",
   "metadata": {
    "scrolled": true
   },
   "outputs": [
    {
     "data": {
      "text/html": [
       "<div>\n",
       "<style scoped>\n",
       "    .dataframe tbody tr th:only-of-type {\n",
       "        vertical-align: middle;\n",
       "    }\n",
       "\n",
       "    .dataframe tbody tr th {\n",
       "        vertical-align: top;\n",
       "    }\n",
       "\n",
       "    .dataframe thead th {\n",
       "        text-align: right;\n",
       "    }\n",
       "</style>\n",
       "<table border=\"1\" class=\"dataframe\">\n",
       "  <thead>\n",
       "    <tr style=\"text-align: right;\">\n",
       "      <th></th>\n",
       "      <th>NAICS</th>\n",
       "      <th>Owners_Sex</th>\n",
       "      <th>Owners_Ethnicity</th>\n",
       "      <th>Owners_Race</th>\n",
       "      <th>Vet_Status</th>\n",
       "      <th>Sales</th>\n",
       "      <th>Employees</th>\n",
       "      <th>Sales_Std_Error</th>\n",
       "      <th>Employees_Std_Error</th>\n",
       "    </tr>\n",
       "  </thead>\n",
       "  <tbody>\n",
       "    <tr>\n",
       "      <th>10</th>\n",
       "      <td>0.0</td>\n",
       "      <td>2</td>\n",
       "      <td>1</td>\n",
       "      <td>0</td>\n",
       "      <td>1</td>\n",
       "      <td>36812734.0</td>\n",
       "      <td>0.0</td>\n",
       "      <td>3.6</td>\n",
       "      <td>0.0</td>\n",
       "    </tr>\n",
       "    <tr>\n",
       "      <th>11</th>\n",
       "      <td>0.0</td>\n",
       "      <td>2</td>\n",
       "      <td>1</td>\n",
       "      <td>0</td>\n",
       "      <td>1</td>\n",
       "      <td>198569002.0</td>\n",
       "      <td>1175259.0</td>\n",
       "      <td>1.5</td>\n",
       "      <td>0.4</td>\n",
       "    </tr>\n",
       "    <tr>\n",
       "      <th>12</th>\n",
       "      <td>0.0</td>\n",
       "      <td>2</td>\n",
       "      <td>1</td>\n",
       "      <td>0</td>\n",
       "      <td>1</td>\n",
       "      <td>171844455.0</td>\n",
       "      <td>1204041.0</td>\n",
       "      <td>1.6</td>\n",
       "      <td>1.0</td>\n",
       "    </tr>\n",
       "    <tr>\n",
       "      <th>13</th>\n",
       "      <td>0.0</td>\n",
       "      <td>2</td>\n",
       "      <td>1</td>\n",
       "      <td>0</td>\n",
       "      <td>1</td>\n",
       "      <td>197197685.0</td>\n",
       "      <td>1491334.0</td>\n",
       "      <td>2.0</td>\n",
       "      <td>1.2</td>\n",
       "    </tr>\n",
       "    <tr>\n",
       "      <th>14</th>\n",
       "      <td>0.0</td>\n",
       "      <td>2</td>\n",
       "      <td>1</td>\n",
       "      <td>0</td>\n",
       "      <td>1</td>\n",
       "      <td>256368241.0</td>\n",
       "      <td>1898285.0</td>\n",
       "      <td>3.7</td>\n",
       "      <td>1.2</td>\n",
       "    </tr>\n",
       "    <tr>\n",
       "      <th>...</th>\n",
       "      <td>...</td>\n",
       "      <td>...</td>\n",
       "      <td>...</td>\n",
       "      <td>...</td>\n",
       "      <td>...</td>\n",
       "      <td>...</td>\n",
       "      <td>...</td>\n",
       "      <td>...</td>\n",
       "      <td>...</td>\n",
       "    </tr>\n",
       "    <tr>\n",
       "      <th>15216</th>\n",
       "      <td>99.0</td>\n",
       "      <td>2</td>\n",
       "      <td>1</td>\n",
       "      <td>0</td>\n",
       "      <td>4</td>\n",
       "      <td>0.0</td>\n",
       "      <td>2179.0</td>\n",
       "      <td>0.0</td>\n",
       "      <td>7.4</td>\n",
       "    </tr>\n",
       "    <tr>\n",
       "      <th>15217</th>\n",
       "      <td>99.0</td>\n",
       "      <td>2</td>\n",
       "      <td>1</td>\n",
       "      <td>0</td>\n",
       "      <td>4</td>\n",
       "      <td>0.0</td>\n",
       "      <td>1359.0</td>\n",
       "      <td>0.0</td>\n",
       "      <td>36.7</td>\n",
       "    </tr>\n",
       "    <tr>\n",
       "      <th>15218</th>\n",
       "      <td>99.0</td>\n",
       "      <td>2</td>\n",
       "      <td>1</td>\n",
       "      <td>0</td>\n",
       "      <td>4</td>\n",
       "      <td>0.0</td>\n",
       "      <td>0.0</td>\n",
       "      <td>0.0</td>\n",
       "      <td>0.0</td>\n",
       "    </tr>\n",
       "    <tr>\n",
       "      <th>15219</th>\n",
       "      <td>99.0</td>\n",
       "      <td>2</td>\n",
       "      <td>1</td>\n",
       "      <td>0</td>\n",
       "      <td>4</td>\n",
       "      <td>0.0</td>\n",
       "      <td>426.0</td>\n",
       "      <td>0.0</td>\n",
       "      <td>60.9</td>\n",
       "    </tr>\n",
       "    <tr>\n",
       "      <th>15220</th>\n",
       "      <td>99.0</td>\n",
       "      <td>2</td>\n",
       "      <td>1</td>\n",
       "      <td>0</td>\n",
       "      <td>4</td>\n",
       "      <td>0.0</td>\n",
       "      <td>0.0</td>\n",
       "      <td>0.0</td>\n",
       "      <td>0.0</td>\n",
       "    </tr>\n",
       "  </tbody>\n",
       "</table>\n",
       "<p>12667 rows × 9 columns</p>\n",
       "</div>"
      ],
      "text/plain": [
       "       NAICS  Owners_Sex  Owners_Ethnicity  Owners_Race  Vet_Status  \\\n",
       "10       0.0           2                 1            0           1   \n",
       "11       0.0           2                 1            0           1   \n",
       "12       0.0           2                 1            0           1   \n",
       "13       0.0           2                 1            0           1   \n",
       "14       0.0           2                 1            0           1   \n",
       "...      ...         ...               ...          ...         ...   \n",
       "15216   99.0           2                 1            0           4   \n",
       "15217   99.0           2                 1            0           4   \n",
       "15218   99.0           2                 1            0           4   \n",
       "15219   99.0           2                 1            0           4   \n",
       "15220   99.0           2                 1            0           4   \n",
       "\n",
       "             Sales  Employees  Sales_Std_Error  Employees_Std_Error  \n",
       "10      36812734.0        0.0              3.6                  0.0  \n",
       "11     198569002.0  1175259.0              1.5                  0.4  \n",
       "12     171844455.0  1204041.0              1.6                  1.0  \n",
       "13     197197685.0  1491334.0              2.0                  1.2  \n",
       "14     256368241.0  1898285.0              3.7                  1.2  \n",
       "...            ...        ...              ...                  ...  \n",
       "15216          0.0     2179.0              0.0                  7.4  \n",
       "15217          0.0     1359.0              0.0                 36.7  \n",
       "15218          0.0        0.0              0.0                  0.0  \n",
       "15219          0.0      426.0              0.0                 60.9  \n",
       "15220          0.0        0.0              0.0                  0.0  \n",
       "\n",
       "[12667 rows x 9 columns]"
      ]
     },
     "execution_count": 199,
     "metadata": {},
     "output_type": "execute_result"
    }
   ],
   "source": [
    "WBOmega.fillna(0)"
   ]
  },
  {
   "cell_type": "code",
   "execution_count": 200,
   "id": "8c3caad9",
   "metadata": {},
   "outputs": [
    {
     "name": "stdout",
     "output_type": "stream",
     "text": [
      "<class 'pandas.core.frame.DataFrame'>\n",
      "Int64Index: 12667 entries, 10 to 15220\n",
      "Data columns (total 9 columns):\n",
      " #   Column               Non-Null Count  Dtype  \n",
      "---  ------               --------------  -----  \n",
      " 0   NAICS                9323 non-null   float64\n",
      " 1   Owners_Sex           12667 non-null  int64  \n",
      " 2   Owners_Ethnicity     12667 non-null  int64  \n",
      " 3   Owners_Race          12667 non-null  int64  \n",
      " 4   Vet_Status           12667 non-null  int64  \n",
      " 5   Sales                2903 non-null   float64\n",
      " 6   Employees            8084 non-null   float64\n",
      " 7   Sales_Std_Error      2903 non-null   float64\n",
      " 8   Employees_Std_Error  8084 non-null   float64\n",
      "dtypes: float64(5), int64(4)\n",
      "memory usage: 989.6 KB\n"
     ]
    }
   ],
   "source": [
    "WBOmega.info()"
   ]
  },
  {
   "cell_type": "markdown",
   "id": "89938a25",
   "metadata": {},
   "source": [
    "# Determine which sectors were predominantly female-owned:"
   ]
  },
  {
   "cell_type": "code",
   "execution_count": 201,
   "id": "fd08b35f",
   "metadata": {},
   "outputs": [
    {
     "data": {
      "text/plain": [
       "0.0     1004\n",
       "62.0     735\n",
       "54.0     730\n",
       "56.0     716\n",
       "72.0     682\n",
       "42.0     645\n",
       "61.0     621\n",
       "23.0     606\n",
       "71.0     585\n",
       "51.0     574\n",
       "53.0     564\n",
       "55.0     478\n",
       "21.0     408\n",
       "99.0     361\n",
       "22.0     326\n",
       "52.0     169\n",
       "11.0     119\n",
       "Name: NAICS, dtype: int64"
      ]
     },
     "execution_count": 201,
     "metadata": {},
     "output_type": "execute_result"
    }
   ],
   "source": [
    "WBOmega.NAICS.value_counts()"
   ]
  },
  {
   "cell_type": "markdown",
   "id": "69172590",
   "metadata": {},
   "source": [
    "### Top Three Sectors since 2017-2019: (1) Health Care And Social Assistance, (2) Professional, Scientific, and Technical Services, (3) Administrative and Support and Waste Management and Remediation Services "
   ]
  },
  {
   "cell_type": "markdown",
   "id": "18461fb3",
   "metadata": {},
   "source": [
    "# Exploratory Analyses"
   ]
  },
  {
   "cell_type": "markdown",
   "id": "7b14e3d6",
   "metadata": {},
   "source": [
    "## Use Chi-Squares to determine if Owners_Race depends on Sales"
   ]
  },
  {
   "cell_type": "code",
   "execution_count": 202,
   "id": "7de13b2e",
   "metadata": {},
   "outputs": [],
   "source": [
    "from scipy import stats"
   ]
  },
  {
   "cell_type": "code",
   "execution_count": 203,
   "id": "fe4d96d2",
   "metadata": {},
   "outputs": [],
   "source": [
    "WBOmega_crosstab = pd.crosstab(WBOmega['Owners_Race'], WBOmega['Sales'])"
   ]
  },
  {
   "cell_type": "code",
   "execution_count": 204,
   "id": "9e7a55de",
   "metadata": {
    "scrolled": true
   },
   "outputs": [
    {
     "data": {
      "text/plain": [
       "(52722.49728744025,\n",
       " 9.66157981034884e-12,\n",
       " 50559,\n",
       " array([[3.00482260e+01, 4.62280400e-01, 4.62280400e-01, ...,\n",
       "         2.77368240e+00, 2.77368240e+00, 2.77368240e+00],\n",
       "        [4.27661040e+00, 6.57940062e-02, 6.57940062e-02, ...,\n",
       "         3.94764037e-01, 3.94764037e-01, 3.94764037e-01],\n",
       "        [2.77643817e+00, 4.27144333e-02, 4.27144333e-02, ...,\n",
       "         2.56286600e-01, 2.56286600e-01, 2.56286600e-01],\n",
       "        ...,\n",
       "        [4.38856355e+00, 6.75163624e-02, 6.75163624e-02, ...,\n",
       "         4.05098174e-01, 4.05098174e-01, 4.05098174e-01],\n",
       "        [1.43300034e+00, 2.20461591e-02, 2.20461591e-02, ...,\n",
       "         1.32276955e-01, 1.32276955e-01, 1.32276955e-01],\n",
       "        [5.08267310e+00, 7.81949707e-02, 7.81949707e-02, ...,\n",
       "         4.69169824e-01, 4.69169824e-01, 4.69169824e-01]]))"
      ]
     },
     "execution_count": 204,
     "metadata": {},
     "output_type": "execute_result"
    }
   ],
   "source": [
    "stats.chi2_contingency(WBOmega_crosstab)"
   ]
  },
  {
   "cell_type": "code",
   "execution_count": null,
   "id": "c890e689",
   "metadata": {},
   "outputs": [],
   "source": []
  },
  {
   "cell_type": "markdown",
   "id": "4d4ab0e7",
   "metadata": {},
   "source": [
    "## Determine if Owners_Race depends on NAICS"
   ]
  },
  {
   "cell_type": "code",
   "execution_count": 205,
   "id": "dad2390e",
   "metadata": {},
   "outputs": [],
   "source": [
    "WBOmega_crosstab2 = pd.crosstab(WBOmega['Owners_Race'], WBOmega['NAICS'])"
   ]
  },
  {
   "cell_type": "code",
   "execution_count": 206,
   "id": "d38d5537",
   "metadata": {
    "scrolled": true
   },
   "outputs": [
    {
     "data": {
      "text/plain": [
       "(735.897206329478,\n",
       " 8.472331128378554e-38,\n",
       " 304,\n",
       " array([[5.50837713e+02, 6.52885337e+01, 2.23846401e+02, 1.78857664e+02,\n",
       "         3.32477743e+02, 3.53874826e+02, 3.14921163e+02, 9.27206908e+01,\n",
       "         3.09434731e+02, 4.00509493e+02, 2.62251421e+02, 3.92828489e+02,\n",
       "         3.40707390e+02, 4.03252708e+02, 3.20956237e+02, 3.74174622e+02,\n",
       "         1.98060174e+02],\n",
       "        [3.47840824e+01, 4.12281454e+00, 1.41353642e+01, 1.12944331e+01,\n",
       "         2.09951732e+01, 2.23463477e+01, 1.98865172e+01, 5.85508956e+00,\n",
       "         1.95400622e+01, 2.52912153e+01, 1.65605492e+01, 2.48061783e+01,\n",
       "         2.15148557e+01, 2.54644428e+01, 2.02676177e+01, 2.36282313e+01,\n",
       "         1.25070256e+01],\n",
       "        [2.74611177e+01, 3.25485359e+00, 1.11594980e+01, 8.91665773e+00,\n",
       "         1.65751368e+01, 1.76418535e+01, 1.56998820e+01, 4.62243913e+00,\n",
       "         1.54263649e+01, 1.99667489e+01, 1.30741178e+01, 1.95838249e+01,\n",
       "         1.69854124e+01, 2.01035075e+01, 1.60007508e+01, 1.86538668e+01,\n",
       "         9.87396761e+00],\n",
       "        [2.51996139e+01, 2.98680682e+00, 1.02404805e+01, 8.18234474e+00,\n",
       "         1.52101255e+01, 1.61889950e+01, 1.44069506e+01, 4.24176767e+00,\n",
       "         1.41559584e+01, 1.83224284e+01, 1.19974257e+01, 1.79710394e+01,\n",
       "         1.55866138e+01, 1.84479245e+01, 1.46830419e+01, 1.71176660e+01,\n",
       "         9.06081733e+00],\n",
       "        [2.96149308e+01, 3.51013622e+00, 1.20347528e+01, 9.61600343e+00,\n",
       "         1.78751475e+01, 1.90255283e+01, 1.69312453e+01, 4.98498337e+00,\n",
       "         1.66362759e+01, 2.15327684e+01, 1.40995388e+01, 2.11198112e+01,\n",
       "         1.83176016e+01, 2.16802531e+01, 1.72557117e+01, 2.01169152e+01,\n",
       "         1.06483964e+01],\n",
       "        [1.10921377e+01, 1.31470557e+00, 4.50756194e+00, 3.60163038e+00,\n",
       "         6.69505524e+00, 7.12592513e+00, 6.34152097e+00, 1.86710286e+00,\n",
       "         6.23104151e+00, 8.06500054e+00, 5.28091816e+00, 7.91032929e+00,\n",
       "         6.86077443e+00, 8.12024027e+00, 6.46304837e+00, 7.53469913e+00,\n",
       "         3.98830848e+00],\n",
       "        [1.17382817e+01, 1.39129036e+00, 4.77013837e+00, 3.81143409e+00,\n",
       "         7.08505846e+00, 7.54102757e+00, 6.71092996e+00, 1.97586614e+00,\n",
       "         6.59401480e+00, 8.53480639e+00, 5.58854446e+00, 8.37112517e+00,\n",
       "         7.26043119e+00, 8.59326397e+00, 6.83953663e+00, 7.97361364e+00,\n",
       "         4.22063713e+00],\n",
       "        [9.15370589e+00, 1.08495120e+00, 3.71983267e+00, 2.97221924e+00,\n",
       "         5.52504559e+00, 5.88061783e+00, 5.23329400e+00, 1.54081304e+00,\n",
       "         5.14212163e+00, 6.65558297e+00, 4.35803926e+00, 6.52794165e+00,\n",
       "         5.66180414e+00, 6.70116915e+00, 5.33358361e+00, 6.21795559e+00,\n",
       "         3.29132254e+00],\n",
       "        [9.47677786e+00, 1.12324359e+00, 3.85112088e+00, 3.07712110e+00,\n",
       "         5.72004720e+00, 6.08816904e+00, 5.41799850e+00, 1.59519468e+00,\n",
       "         5.32360828e+00, 6.89048590e+00, 4.51185241e+00, 6.75833959e+00,\n",
       "         5.86163252e+00, 6.93768100e+00, 5.52182774e+00, 6.43741285e+00,\n",
       "         3.40748686e+00],\n",
       "        [1.07690658e+01, 1.27641317e+00, 4.37627373e+00, 3.49672852e+00,\n",
       "         6.50005363e+00, 6.91837391e+00, 6.15681648e+00, 1.81272123e+00,\n",
       "         6.04955486e+00, 7.83009761e+00, 5.12710501e+00, 7.67993135e+00,\n",
       "         6.66094605e+00, 7.88372841e+00, 6.27480425e+00, 7.31524187e+00,\n",
       "         3.87214416e+00],\n",
       "        [9.26139655e+00, 1.09771533e+00, 3.76359541e+00, 3.00718653e+00,\n",
       "         5.59004612e+00, 5.94980157e+00, 5.29486217e+00, 1.55894026e+00,\n",
       "         5.20261718e+00, 6.73388394e+00, 4.40931031e+00, 6.60474096e+00,\n",
       "         5.72841360e+00, 6.78000644e+00, 5.39633165e+00, 6.29110801e+00,\n",
       "         3.33004398e+00],\n",
       "        [8.50756194e+00, 1.00836641e+00, 3.45725625e+00, 2.76241553e+00,\n",
       "         5.13504237e+00, 5.46551539e+00, 4.86388502e+00, 1.43204977e+00,\n",
       "         4.77914834e+00, 6.18577711e+00, 4.05041296e+00, 6.06714577e+00,\n",
       "         5.26214738e+00, 6.22814545e+00, 4.95709536e+00, 5.77904108e+00,\n",
       "         3.05899389e+00],\n",
       "        [1.86304837e+01, 2.20819479e+00, 7.57095356e+00, 6.04934034e+00,\n",
       "         1.12450928e+01, 1.19687869e+01, 1.06512925e+01, 3.13600772e+00,\n",
       "         1.04657299e+01, 1.35460689e+01, 8.86989167e+00, 1.32862812e+01,\n",
       "         1.15234367e+01, 1.36388502e+01, 1.08554113e+01, 1.26553684e+01,\n",
       "         6.69880940e+00],\n",
       "        [7.10758340e+00, 8.42432693e-01, 2.88834066e+00, 2.30784082e+00,\n",
       "         4.29003540e+00, 4.56612678e+00, 4.06349887e+00, 1.19639601e+00,\n",
       "         3.99270621e+00, 5.16786442e+00, 3.38388931e+00, 5.06875469e+00,\n",
       "         4.39622439e+00, 5.20326075e+00, 4.14137080e+00, 4.82805964e+00,\n",
       "         2.55561515e+00],\n",
       "        [3.23071973e+00, 3.82923952e-01, 1.31288212e+00, 1.04901856e+00,\n",
       "         1.95001609e+00, 2.07551217e+00, 1.84704494e+00, 5.43816368e-01,\n",
       "         1.81486646e+00, 2.34902928e+00, 1.53813150e+00, 2.30397941e+00,\n",
       "         1.99828381e+00, 2.36511852e+00, 1.88244127e+00, 2.19457256e+00,\n",
       "         1.16164325e+00],\n",
       "        [3.01533841e+00, 3.57395688e-01, 1.22535664e+00, 9.79083986e-01,\n",
       "         1.82001502e+00, 1.93714470e+00, 1.72390861e+00, 5.07561944e-01,\n",
       "         1.69387536e+00, 2.19242733e+00, 1.43558940e+00, 2.15038078e+00,\n",
       "         1.86506489e+00, 2.20744396e+00, 1.75694519e+00, 2.04826772e+00,\n",
       "         1.08420036e+00],\n",
       "        [4.52300762e+00, 5.36093532e-01, 1.83803497e+00, 1.46862598e+00,\n",
       "         2.73002252e+00, 2.90571704e+00, 2.58586292e+00, 7.61342915e-01,\n",
       "         2.54081304e+00, 3.28864100e+00, 2.15338410e+00, 3.22557117e+00,\n",
       "         2.79759734e+00, 3.31116593e+00, 2.63541778e+00, 3.07240159e+00,\n",
       "         1.62630055e+00],\n",
       "        [8.98140084e+01, 1.06452859e+01, 3.64981229e+01, 2.91627159e+01,\n",
       "         5.42104473e+01, 5.76992384e+01, 5.13478494e+01, 1.51180950e+01,\n",
       "         5.04532876e+01, 6.53030141e+01, 4.27600558e+01, 6.40506275e+01,\n",
       "         5.55522900e+01, 6.57502950e+01, 5.23318674e+01, 6.10091172e+01,\n",
       "         3.22936823e+01],\n",
       "        [4.19993564e+01, 4.97801137e+00, 1.70674676e+01, 1.36372412e+01,\n",
       "         2.53502092e+01, 2.69816583e+01, 2.40115843e+01, 7.06961279e+00,\n",
       "         2.35932640e+01, 3.05373807e+01, 1.99957095e+01, 2.99517323e+01,\n",
       "         2.59776896e+01, 3.07465408e+01, 2.44717366e+01, 2.85294433e+01,\n",
       "         1.51013622e+01],\n",
       "        [9.77831170e+01, 1.15898316e+01, 3.97365655e+01, 3.17502950e+01,\n",
       "         5.90204870e+01, 6.28188351e+01, 5.59038936e+01, 1.64595087e+01,\n",
       "         5.49299582e+01, 7.10972863e+01, 4.65541135e+01, 6.97337767e+01,\n",
       "         6.04813901e+01, 7.15842540e+01, 5.69752226e+01, 6.64223962e+01,\n",
       "         3.51590690e+01]]))"
      ]
     },
     "execution_count": 206,
     "metadata": {},
     "output_type": "execute_result"
    }
   ],
   "source": [
    "stats.chi2_contingency(WBOmega_crosstab2)"
   ]
  },
  {
   "cell_type": "markdown",
   "id": "63b624e8",
   "metadata": {},
   "source": [
    "## Run a correlation matrix"
   ]
  },
  {
   "cell_type": "code",
   "execution_count": 207,
   "id": "38f2a520",
   "metadata": {},
   "outputs": [],
   "source": [
    "import matplotlib.pyplot as plt\n",
    "import seaborn as sns"
   ]
  },
  {
   "cell_type": "code",
   "execution_count": 208,
   "id": "d8f2ae12",
   "metadata": {},
   "outputs": [
    {
     "data": {
      "text/html": [
       "<div>\n",
       "<style scoped>\n",
       "    .dataframe tbody tr th:only-of-type {\n",
       "        vertical-align: middle;\n",
       "    }\n",
       "\n",
       "    .dataframe tbody tr th {\n",
       "        vertical-align: top;\n",
       "    }\n",
       "\n",
       "    .dataframe thead th {\n",
       "        text-align: right;\n",
       "    }\n",
       "</style>\n",
       "<table border=\"1\" class=\"dataframe\">\n",
       "  <thead>\n",
       "    <tr style=\"text-align: right;\">\n",
       "      <th></th>\n",
       "      <th>NAICS</th>\n",
       "      <th>Owners_Sex</th>\n",
       "      <th>Owners_Ethnicity</th>\n",
       "      <th>Owners_Race</th>\n",
       "      <th>Vet_Status</th>\n",
       "      <th>Sales</th>\n",
       "      <th>Employees</th>\n",
       "      <th>Sales_Std_Error</th>\n",
       "      <th>Employees_Std_Error</th>\n",
       "    </tr>\n",
       "  </thead>\n",
       "  <tbody>\n",
       "    <tr>\n",
       "      <th>NAICS</th>\n",
       "      <td>1.000000</td>\n",
       "      <td>NaN</td>\n",
       "      <td>0.023286</td>\n",
       "      <td>-0.012481</td>\n",
       "      <td>0.017974</td>\n",
       "      <td>-0.274180</td>\n",
       "      <td>-0.226102</td>\n",
       "      <td>0.036458</td>\n",
       "      <td>0.087424</td>\n",
       "    </tr>\n",
       "    <tr>\n",
       "      <th>Owners_Sex</th>\n",
       "      <td>NaN</td>\n",
       "      <td>NaN</td>\n",
       "      <td>NaN</td>\n",
       "      <td>NaN</td>\n",
       "      <td>NaN</td>\n",
       "      <td>NaN</td>\n",
       "      <td>NaN</td>\n",
       "      <td>NaN</td>\n",
       "      <td>NaN</td>\n",
       "    </tr>\n",
       "    <tr>\n",
       "      <th>Owners_Ethnicity</th>\n",
       "      <td>0.023286</td>\n",
       "      <td>NaN</td>\n",
       "      <td>1.000000</td>\n",
       "      <td>-0.485663</td>\n",
       "      <td>-0.261300</td>\n",
       "      <td>0.000601</td>\n",
       "      <td>-0.000957</td>\n",
       "      <td>0.053740</td>\n",
       "      <td>0.026433</td>\n",
       "    </tr>\n",
       "    <tr>\n",
       "      <th>Owners_Race</th>\n",
       "      <td>-0.012481</td>\n",
       "      <td>NaN</td>\n",
       "      <td>-0.485663</td>\n",
       "      <td>1.000000</td>\n",
       "      <td>-0.378935</td>\n",
       "      <td>-0.062299</td>\n",
       "      <td>-0.042768</td>\n",
       "      <td>0.025810</td>\n",
       "      <td>0.001173</td>\n",
       "    </tr>\n",
       "    <tr>\n",
       "      <th>Vet_Status</th>\n",
       "      <td>0.017974</td>\n",
       "      <td>NaN</td>\n",
       "      <td>-0.261300</td>\n",
       "      <td>-0.378935</td>\n",
       "      <td>1.000000</td>\n",
       "      <td>0.082581</td>\n",
       "      <td>0.045978</td>\n",
       "      <td>-0.083428</td>\n",
       "      <td>-0.029429</td>\n",
       "    </tr>\n",
       "    <tr>\n",
       "      <th>Sales</th>\n",
       "      <td>-0.274180</td>\n",
       "      <td>NaN</td>\n",
       "      <td>0.000601</td>\n",
       "      <td>-0.062299</td>\n",
       "      <td>0.082581</td>\n",
       "      <td>1.000000</td>\n",
       "      <td>0.996275</td>\n",
       "      <td>-0.168593</td>\n",
       "      <td>-0.140795</td>\n",
       "    </tr>\n",
       "    <tr>\n",
       "      <th>Employees</th>\n",
       "      <td>-0.226102</td>\n",
       "      <td>NaN</td>\n",
       "      <td>-0.000957</td>\n",
       "      <td>-0.042768</td>\n",
       "      <td>0.045978</td>\n",
       "      <td>0.996275</td>\n",
       "      <td>1.000000</td>\n",
       "      <td>-0.179168</td>\n",
       "      <td>-0.167347</td>\n",
       "    </tr>\n",
       "    <tr>\n",
       "      <th>Sales_Std_Error</th>\n",
       "      <td>0.036458</td>\n",
       "      <td>NaN</td>\n",
       "      <td>0.053740</td>\n",
       "      <td>0.025810</td>\n",
       "      <td>-0.083428</td>\n",
       "      <td>-0.168593</td>\n",
       "      <td>-0.179168</td>\n",
       "      <td>1.000000</td>\n",
       "      <td>0.458714</td>\n",
       "    </tr>\n",
       "    <tr>\n",
       "      <th>Employees_Std_Error</th>\n",
       "      <td>0.087424</td>\n",
       "      <td>NaN</td>\n",
       "      <td>0.026433</td>\n",
       "      <td>0.001173</td>\n",
       "      <td>-0.029429</td>\n",
       "      <td>-0.140795</td>\n",
       "      <td>-0.167347</td>\n",
       "      <td>0.458714</td>\n",
       "      <td>1.000000</td>\n",
       "    </tr>\n",
       "  </tbody>\n",
       "</table>\n",
       "</div>"
      ],
      "text/plain": [
       "                        NAICS  Owners_Sex  Owners_Ethnicity  Owners_Race  \\\n",
       "NAICS                1.000000         NaN          0.023286    -0.012481   \n",
       "Owners_Sex                NaN         NaN               NaN          NaN   \n",
       "Owners_Ethnicity     0.023286         NaN          1.000000    -0.485663   \n",
       "Owners_Race         -0.012481         NaN         -0.485663     1.000000   \n",
       "Vet_Status           0.017974         NaN         -0.261300    -0.378935   \n",
       "Sales               -0.274180         NaN          0.000601    -0.062299   \n",
       "Employees           -0.226102         NaN         -0.000957    -0.042768   \n",
       "Sales_Std_Error      0.036458         NaN          0.053740     0.025810   \n",
       "Employees_Std_Error  0.087424         NaN          0.026433     0.001173   \n",
       "\n",
       "                     Vet_Status     Sales  Employees  Sales_Std_Error  \\\n",
       "NAICS                  0.017974 -0.274180  -0.226102         0.036458   \n",
       "Owners_Sex                  NaN       NaN        NaN              NaN   \n",
       "Owners_Ethnicity      -0.261300  0.000601  -0.000957         0.053740   \n",
       "Owners_Race           -0.378935 -0.062299  -0.042768         0.025810   \n",
       "Vet_Status             1.000000  0.082581   0.045978        -0.083428   \n",
       "Sales                  0.082581  1.000000   0.996275        -0.168593   \n",
       "Employees              0.045978  0.996275   1.000000        -0.179168   \n",
       "Sales_Std_Error       -0.083428 -0.168593  -0.179168         1.000000   \n",
       "Employees_Std_Error   -0.029429 -0.140795  -0.167347         0.458714   \n",
       "\n",
       "                     Employees_Std_Error  \n",
       "NAICS                           0.087424  \n",
       "Owners_Sex                           NaN  \n",
       "Owners_Ethnicity                0.026433  \n",
       "Owners_Race                     0.001173  \n",
       "Vet_Status                     -0.029429  \n",
       "Sales                          -0.140795  \n",
       "Employees                      -0.167347  \n",
       "Sales_Std_Error                 0.458714  \n",
       "Employees_Std_Error             1.000000  "
      ]
     },
     "execution_count": 208,
     "metadata": {},
     "output_type": "execute_result"
    }
   ],
   "source": [
    "WBOmega.corr(method='pearson')"
   ]
  },
  {
   "cell_type": "code",
   "execution_count": 209,
   "id": "24cf8d5c",
   "metadata": {},
   "outputs": [
    {
     "data": {
      "text/plain": [
       "<AxesSubplot:>"
      ]
     },
     "execution_count": 209,
     "metadata": {},
     "output_type": "execute_result"
    },
    {
     "data": {
      "image/png": "[encoded data removed]",
      "text/plain": [
       "<Figure size 432x288 with 2 Axes>"
      ]
     },
     "metadata": {
      "needs_background": "light"
     },
     "output_type": "display_data"
    }
   ],
   "source": [
    "sns.heatmap(WBOmega.corr(), annot=True)"
   ]
  },
  {
   "cell_type": "code",
   "execution_count": null,
   "id": "3a42f42d",
   "metadata": {},
   "outputs": [],
   "source": []
  },
  {
   "cell_type": "markdown",
   "id": "20e71c5b",
   "metadata": {},
   "source": [
    "## Determine Dependent t-Test"
   ]
  },
  {
   "cell_type": "code",
   "execution_count": 210,
   "id": "99d180b2",
   "metadata": {},
   "outputs": [],
   "source": [
    "from scipy import stats"
   ]
  },
  {
   "cell_type": "markdown",
   "id": "d01b2f50",
   "metadata": {},
   "source": [
    "### Test assumptions:"
   ]
  },
  {
   "cell_type": "code",
   "execution_count": 211,
   "id": "46b6dc8f",
   "metadata": {
    "scrolled": true
   },
   "outputs": [
    {
     "data": {
      "text/plain": [
       "<AxesSubplot:>"
      ]
     },
     "execution_count": 211,
     "metadata": {},
     "output_type": "execute_result"
    },
    {
     "data": {
      "image/png": "[encoded data removed]",
      "text/plain": [
       "<Figure size 432x288 with 1 Axes>"
      ]
     },
     "metadata": {
      "needs_background": "light"
     },
     "output_type": "display_data"
    }
   ],
   "source": [
    "WBOmega['Owners_Race'].hist()"
   ]
  },
  {
   "cell_type": "code",
   "execution_count": 212,
   "id": "e3c084aa",
   "metadata": {},
   "outputs": [
    {
     "data": {
      "text/plain": [
       "<AxesSubplot:>"
      ]
     },
     "execution_count": 212,
     "metadata": {},
     "output_type": "execute_result"
    },
    {
     "data": {
      "image/png": "[encoded data removed]",
      "text/plain": [
       "<Figure size 432x288 with 1 Axes>"
      ]
     },
     "metadata": {
      "needs_background": "light"
     },
     "output_type": "display_data"
    }
   ],
   "source": [
    "WBOmega['Owners_Ethnicity'].hist()"
   ]
  },
  {
   "cell_type": "code",
   "execution_count": 213,
   "id": "220231e6",
   "metadata": {},
   "outputs": [
    {
     "data": {
      "text/plain": [
       "<AxesSubplot:>"
      ]
     },
     "execution_count": 213,
     "metadata": {},
     "output_type": "execute_result"
    },
    {
     "data": {
      "image/png": "[encoded data removed]",
      "text/plain": [
       "<Figure size 432x288 with 1 Axes>"
      ]
     },
     "metadata": {
      "needs_background": "light"
     },
     "output_type": "display_data"
    }
   ],
   "source": [
    "WBOmega['Vet_Status'].hist()"
   ]
  },
  {
   "cell_type": "code",
   "execution_count": 214,
   "id": "26aa9a45",
   "metadata": {},
   "outputs": [
    {
     "data": {
      "text/plain": [
       "<AxesSubplot:>"
      ]
     },
     "execution_count": 214,
     "metadata": {},
     "output_type": "execute_result"
    },
    {
     "data": {
      "image/png": "[encoded data removed]",
      "text/plain": [
       "<Figure size 432x288 with 1 Axes>"
      ]
     },
     "metadata": {
      "needs_background": "light"
     },
     "output_type": "display_data"
    }
   ],
   "source": [
    "WBOmega['Sales'].hist()"
   ]
  },
  {
   "cell_type": "code",
   "execution_count": 215,
   "id": "8ebb6093",
   "metadata": {
    "scrolled": true
   },
   "outputs": [
    {
     "data": {
      "text/plain": [
       "<AxesSubplot:>"
      ]
     },
     "execution_count": 215,
     "metadata": {},
     "output_type": "execute_result"
    },
    {
     "data": {
      "image/png": "[encoded data removed]",
      "text/plain": [
       "<Figure size 432x288 with 1 Axes>"
      ]
     },
     "metadata": {
      "needs_background": "light"
     },
     "output_type": "display_data"
    }
   ],
   "source": [
    "WBOmega['NAICS'].hist()"
   ]
  },
  {
   "cell_type": "code",
   "execution_count": null,
   "id": "9066a349",
   "metadata": {},
   "outputs": [],
   "source": []
  },
  {
   "cell_type": "markdown",
   "id": "5dd25aac",
   "metadata": {},
   "source": [
    "# Sales Growth 2018-2020"
   ]
  },
  {
   "cell_type": "code",
   "execution_count": null,
   "id": "e5ec450e",
   "metadata": {},
   "outputs": [],
   "source": []
  },
  {
   "cell_type": "code",
   "execution_count": null,
   "id": "c67d471b",
   "metadata": {},
   "outputs": [],
   "source": [
    "initial = 2766000\n",
    "changed = 2814000\n",
    "(changed - initial) / initial"
   ]
  },
  {
   "cell_type": "markdown",
   "id": "c644daf9",
   "metadata": {},
   "source": [
    "## Perform Repeated Measures ANOVAs"
   ]
  },
  {
   "cell_type": "code",
   "execution_count": 11,
   "id": "974f8ae6",
   "metadata": {},
   "outputs": [
    {
     "name": "stdout",
     "output_type": "stream",
     "text": [
      "Requirement already satisfied: pandas in c:\\users\\nbroo\\anaconda3\\lib\\site-packages (1.2.4)\n",
      "Requirement already satisfied: statsmodels in c:\\users\\nbroo\\anaconda3\\lib\\site-packages (0.12.2)\n",
      "Requirement already satisfied: pytz>=2017.3 in c:\\users\\nbroo\\anaconda3\\lib\\site-packages (from pandas) (2021.1)\n",
      "Requirement already satisfied: python-dateutil>=2.7.3 in c:\\users\\nbroo\\anaconda3\\lib\\site-packages (from pandas) (2.8.1)\n",
      "Requirement already satisfied: numpy>=1.16.5 in c:\\users\\nbroo\\anaconda3\\lib\\site-packages (from pandas) (1.20.1)\n",
      "Requirement already satisfied: six>=1.5 in c:\\users\\nbroo\\anaconda3\\lib\\site-packages (from python-dateutil>=2.7.3->pandas) (1.15.0)\n",
      "Requirement already satisfied: scipy>=1.1 in c:\\users\\nbroo\\anaconda3\\lib\\site-packages (from statsmodels) (1.6.2)\n",
      "Requirement already satisfied: patsy>=0.5 in c:\\users\\nbroo\\anaconda3\\lib\\site-packages (from statsmodels) (0.5.1)\n",
      "Note: you may need to restart the kernel to use updated packages.\n"
     ]
    }
   ],
   "source": [
    "pip install pandas statsmodels"
   ]
  },
  {
   "cell_type": "code",
   "execution_count": 12,
   "id": "a9c35e15",
   "metadata": {},
   "outputs": [],
   "source": [
    "from statsmodels.stats.anova import AnovaRM"
   ]
  },
  {
   "cell_type": "code",
   "execution_count": null,
   "id": "71677c05",
   "metadata": {},
   "outputs": [],
   "source": []
  },
  {
   "cell_type": "code",
   "execution_count": null,
   "id": "bb127c0c",
   "metadata": {},
   "outputs": [],
   "source": []
  }
 ],
 "metadata": {
  "kernelspec": {
   "display_name": "Python 3",
   "language": "python",
   "name": "python3"
  },
  "language_info": {
   "codemirror_mode": {
    "name": "ipython",
    "version": 3
   },
   "file_extension": ".py",
   "mimetype": "text/x-python",
   "name": "python",
   "nbconvert_exporter": "python",
   "pygments_lexer": "ipython3",
   "version": "3.8.8"
  }
 },
 "nbformat": 4,
 "nbformat_minor": 5
}
